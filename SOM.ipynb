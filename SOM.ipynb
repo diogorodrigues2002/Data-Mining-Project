{
  "cells": [
    {
      "cell_type": "code",
      "source": [
        "pip install minisom"
      ],
      "metadata": {
        "colab": {
          "base_uri": "https://localhost:8080/"
        },
        "id": "6GIjnG2rDL0K",
        "outputId": "782e5aae-8886-4187-f271-7e4066389f38"
      },
      "id": "6GIjnG2rDL0K",
      "execution_count": 18,
      "outputs": [
        {
          "output_type": "stream",
          "name": "stdout",
          "text": [
            "Requirement already satisfied: minisom in /usr/local/lib/python3.10/dist-packages (2.3.3)\n"
          ]
        }
      ]
    },
    {
      "cell_type": "code",
      "source": [
        "from IPython.display import display, Image\n",
        "import matplotlib.pyplot as plt\n",
        "import numpy as np\n",
        "import pandas as pd\n",
        "import seaborn as sns\n",
        "from minisom import MiniSom\n",
        "import time\n",
        "from hyperopt import hp,tpe,fmin,Trials, STATUS_OK"
      ],
      "metadata": {
        "id": "JYjCUpiqCuJG"
      },
      "id": "JYjCUpiqCuJG",
      "execution_count": 1,
      "outputs": []
    },
    {
      "cell_type": "code",
      "source": [
        "df=pd.read_csv('df_PCA.csv',delimiter=',')"
      ],
      "metadata": {
        "id": "QImANJubDiXn"
      },
      "id": "QImANJubDiXn",
      "execution_count": 2,
      "outputs": []
    },
    {
      "cell_type": "code",
      "source": [
        "df.set_index('customer_id',inplace=True)"
      ],
      "metadata": {
        "id": "lrtiowJSDoF3"
      },
      "id": "lrtiowJSDoF3",
      "execution_count": 3,
      "outputs": []
    },
    {
      "cell_type": "code",
      "source": [
        "x, y = max(10, int(np.ceil(np.sqrt(df.shape[0] * df.shape[1])))), max(10, int(np.ceil(np.sqrt(df.shape[0] * df.shape[1]))))\n",
        "input_len=df.shape[1]"
      ],
      "metadata": {
        "id": "WQPkz1C7y1WP"
      },
      "id": "WQPkz1C7y1WP",
      "execution_count": 4,
      "outputs": []
    },
    {
      "cell_type": "code",
      "source": [
        "space={'sig':hp.uniform('sig',0.001,x/2.01),'learning_rate':hp.uniform('learning_rate',0.001,5)}\n",
        "def son_fn(space):\n",
        "  sig=space['sig']\n",
        "  lr=space['learning_rate']\n",
        "  val=MiniSom(x=x,y=y,input_len=input_len,sigma=sig,learning_rate=lr).quantization_error(df.values)\n",
        "  return {'loss': val,'status':STATUS_OK}\n",
        "trials = Trials()\n",
        "best=fmin(fn=son_fn,space=space,algo=tpe.suggest,max_evals=700,trials=trials)\n",
        "print('best:',format(best))"
      ],
      "metadata": {
        "colab": {
          "base_uri": "https://localhost:8080/"
        },
        "id": "kG9kHGC_8J_X",
        "outputId": "d701ab33-3777-4fc1-ef31-4d29c11017e9"
      },
      "id": "kG9kHGC_8J_X",
      "execution_count": null,
      "outputs": [
        {
          "output_type": "stream",
          "name": "stdout",
          "text": [
            "\r  0%|          | 0/700 [00:00<?, ?trial/s, best loss=?]"
          ]
        }
      ]
    },
    {
      "cell_type": "code",
      "source": [
        "sigma=best['sig']\n",
        "learning_rate=best['learning_rate']"
      ],
      "metadata": {
        "id": "GLK7eznQjGYi"
      },
      "id": "GLK7eznQjGYi",
      "execution_count": null,
      "outputs": []
    },
    {
      "cell_type": "code",
      "source": [
        "print(sigma,learning_rate)"
      ],
      "metadata": {
        "id": "h8mJ8noHjJit",
        "outputId": "356ce9a5-e8b1-48cb-eaae-88fc47253f4c",
        "colab": {
          "base_uri": "https://localhost:8080/"
        }
      },
      "id": "h8mJ8noHjJit",
      "execution_count": 40,
      "outputs": [
        {
          "output_type": "stream",
          "name": "stdout",
          "text": [
            "5.841831355518627 2.0593772582204366\n"
          ]
        }
      ]
    },
    {
      "cell_type": "code",
      "source": [
        "print(x)"
      ],
      "metadata": {
        "id": "hq6Jlklrk6_2",
        "outputId": "d0e433e9-c093-4c91-dcc5-4705a5d1311d",
        "colab": {
          "base_uri": "https://localhost:8080/",
          "height": 141
        }
      },
      "id": "hq6Jlklrk6_2",
      "execution_count": 1,
      "outputs": [
        {
          "output_type": "error",
          "ename": "NameError",
          "evalue": "name 'x' is not defined",
          "traceback": [
            "\u001b[0;31m---------------------------------------------------------------------------\u001b[0m",
            "\u001b[0;31mNameError\u001b[0m                                 Traceback (most recent call last)",
            "\u001b[0;32m<ipython-input-1-fc17d851ef81>\u001b[0m in \u001b[0;36m<cell line: 1>\u001b[0;34m()\u001b[0m\n\u001b[0;32m----> 1\u001b[0;31m \u001b[0mprint\u001b[0m\u001b[0;34m(\u001b[0m\u001b[0mx\u001b[0m\u001b[0;34m)\u001b[0m\u001b[0;34m\u001b[0m\u001b[0;34m\u001b[0m\u001b[0m\n\u001b[0m",
            "\u001b[0;31mNameError\u001b[0m: name 'x' is not defined"
          ]
        }
      ]
    },
    {
      "cell_type": "code",
      "source": [
        "\n",
        "sm=MiniSom(x=x,y=y,\n",
        "            input_len=input_len,\n",
        "            sigma=sigma,\n",
        "            learning_rate=learning_rate,\n",
        "            activation_distance='euclidean',\n",
        "            neighborhood_function='gaussian')\n",
        "sm.random_weights_init(df.values)\n",
        "print(np.round(sm.quantization_error(df.values),4),\"Starting QE\")\n",
        "sm.train_batch(df.values,10000)\n",
        "print(np.round(sm.quantization_error(df.values),4),\"Ending QE\")"
      ],
      "metadata": {
        "id": "MPDPieCZ-DqZ"
      },
      "id": "MPDPieCZ-DqZ",
      "execution_count": null,
      "outputs": []
    }
  ],
  "metadata": {
    "colab": {
      "provenance": []
    },
    "language_info": {
      "name": "python"
    },
    "kernelspec": {
      "name": "python3",
      "display_name": "Python 3"
    }
  },
  "nbformat": 4,
  "nbformat_minor": 5
}