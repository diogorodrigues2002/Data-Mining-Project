{
  "cells": [
    {
      "cell_type": "code",
      "execution_count": 2,
      "id": "a244dd9a",
      "metadata": {
        "id": "a244dd9a"
      },
      "outputs": [],
      "source": [
        "import matplotlib.pyplot as plt\n",
        "import numpy as np\n",
        "import pandas as pd\n",
        "\n",
        "from sklearn.neighbors import NearestNeighbors\n",
        "from sklearn.mixture import GaussianMixture\n",
        "from sklearn.cluster import MeanShift, DBSCAN, estimate_bandwidth\n",
        "from sklearn.metrics import silhouette_score"
      ]
    },
    {
      "cell_type": "code",
      "execution_count": 3,
      "id": "LIVZWvB3FV12",
      "metadata": {
        "id": "LIVZWvB3FV12"
      },
      "outputs": [],
      "source": [
        "np.random.seed(42)"
      ]
    },
    {
      "cell_type": "code",
      "execution_count": 4,
      "id": "mho-3GI5FYvN",
      "metadata": {
        "colab": {
          "base_uri": "https://localhost:8080/",
          "height": 226
        },
        "id": "mho-3GI5FYvN",
        "outputId": "cf18e6f9-4e1b-4701-d59d-5545d0581937"
      },
      "outputs": [],
      "source": [
        "df_b=pd.read_csv('df_behaviour.csv',delimiter=',')\n",
        "df_d=pd.read_csv('df_demo.csv',delimiter=',')\n",
        "df_p=pd.read_csv('df_psy.csv',delimiter=',')"
      ]
    },
    {
      "cell_type": "code",
      "execution_count": 5,
      "id": "6adcc959",
      "metadata": {},
      "outputs": [],
      "source": [
        "df_b.set_index(\"customer_id\", inplace=True)\n",
        "df_d.set_index(\"customer_id\", inplace=True)\n",
        "df_p.set_index(\"customer_id\", inplace=True)"
      ]
    },
    {
      "cell_type": "markdown",
      "id": "e6e035d4",
      "metadata": {},
      "source": [
        "# Behaviour Segment"
      ]
    },
    {
      "cell_type": "code",
      "execution_count": 24,
      "id": "4499f66c",
      "metadata": {},
      "outputs": [
        {
          "name": "stdout",
          "output_type": "stream",
          "text": [
            "Best configuration: quantile            0.080000\n",
            "bandwidth           0.181866\n",
            "n_clusters          3.000000\n",
            "silhouette_score    0.361326\n",
            "Name: 7, dtype: float64\n",
            "    quantile  bandwidth  n_clusters  silhouette_score\n",
            "0       0.01   0.084726          63          0.258128\n",
            "1       0.02   0.108696          25          0.264796\n",
            "2       0.03   0.126565          16          0.204330\n",
            "3       0.04   0.140672          13          0.197699\n",
            "4       0.05   0.152355           7          0.258493\n",
            "5       0.06   0.163331           7          0.208584\n",
            "6       0.07   0.172897           4          0.296025\n",
            "7       0.08   0.181866           3          0.361326\n",
            "8       0.09   0.190205           3          0.352835\n",
            "9       0.10   0.197899           3          0.349826\n",
            "10      0.11   0.205236           3          0.348965\n",
            "11      0.12   0.212398           3          0.357562\n",
            "12      0.13   0.219459           3          0.361125\n",
            "13      0.14   0.226344           2          0.264787\n",
            "14      0.15   0.233005           2          0.262522\n",
            "15      0.16   0.239506           2          0.256773\n",
            "16      0.17   0.245795           1         -1.000000\n",
            "17      0.18   0.251984           1         -1.000000\n",
            "18      0.19   0.258054           1         -1.000000\n",
            "19      0.20   0.263971           1         -1.000000\n"
          ]
        }
      ],
      "source": [
        "# Define the range of quantile values to test\n",
        "quantile_range = np.linspace(0.01, 0.2, 20)  # Adjust range and steps as needed\n",
        "results = []\n",
        "\n",
        "# Iterate over quantile values\n",
        "for quantile in quantile_range:\n",
        "    # Estimate bandwidth for the current quantile\n",
        "    bandwidth = estimate_bandwidth(df_b, quantile=quantile, random_state=42, n_jobs=-1)\n",
        "    \n",
        "    # Skip if bandwidth is too small or invalid\n",
        "    if bandwidth <= 0:\n",
        "        continue\n",
        "    \n",
        "    # Fit MeanShift with the computed bandwidth\n",
        "    ms = MeanShift(bandwidth=bandwidth, bin_seeding=True, n_jobs=-1)\n",
        "    ms_labels_b = ms.fit_predict(df_b)\n",
        "    \n",
        "    # Calculate the number of clusters\n",
        "    n_clusters = len(np.unique(ms_labels_b))\n",
        "    \n",
        "    # Calculate the silhouette score (only if more than one cluster exists)\n",
        "    if n_clusters > 1:\n",
        "        silhouette_avg = silhouette_score(df_b, ms_labels_b)\n",
        "    else:\n",
        "        silhouette_avg = -1  # Invalid silhouette score for single cluster\n",
        "    \n",
        "    # Store the results\n",
        "    results.append({\n",
        "        'quantile': quantile,\n",
        "        'bandwidth': bandwidth,\n",
        "        'n_clusters': n_clusters,\n",
        "        'silhouette_score': silhouette_avg\n",
        "    })\n",
        "\n",
        "# Convert results to a DataFrame for analysis\n",
        "results_df = pd.DataFrame(results)\n",
        "\n",
        "# Find the best configuration based on silhouette score\n",
        "best_result = results_df.loc[results_df['silhouette_score'].idxmax()]\n",
        "print(\"Best configuration:\", best_result)\n",
        "\n",
        "# Print all results for inspection\n",
        "print(results_df)\n"
      ]
    },
    {
      "cell_type": "code",
      "execution_count": 10,
      "id": "03VFzTcfFn05",
      "metadata": {
        "colab": {
          "base_uri": "https://localhost:8080/"
        },
        "id": "03VFzTcfFn05",
        "outputId": "5269a368-16fe-4539-b88d-fb8a976f6eb0"
      },
      "outputs": [
        {
          "data": {
            "text/plain": [
              "0.1728967810297375"
            ]
          },
          "execution_count": 10,
          "metadata": {},
          "output_type": "execute_result"
        }
      ],
      "source": [
        "bandwidth = estimate_bandwidth(df_b, quantile=0.07, random_state=42, n_jobs=-1)\n",
        "bandwidth"
      ]
    },
    {
      "cell_type": "code",
      "execution_count": 11,
      "id": "u8Ds3_TgGLFy",
      "metadata": {
        "colab": {
          "base_uri": "https://localhost:8080/"
        },
        "id": "u8Ds3_TgGLFy",
        "outputId": "6b3381b4-78aa-489d-823e-3f0a012f9039"
      },
      "outputs": [
        {
          "name": "stdout",
          "output_type": "stream",
          "text": [
            "Number of estimated clusters : 4\n"
          ]
        }
      ],
      "source": [
        "ms = MeanShift(bandwidth=bandwidth, bin_seeding=True, n_jobs=-1)\n",
        "ms_labels_b = ms.fit_predict(df_b)\n",
        "\n",
        "ms_n_clusters = len(np.unique(ms_labels_b))\n",
        "print(\"Number of estimated clusters : %d\" % ms_n_clusters)"
      ]
    },
    {
      "cell_type": "code",
      "execution_count": 31,
      "id": "sy0yEDVmSU5I",
      "metadata": {
        "colab": {
          "base_uri": "https://localhost:8080/"
        },
        "id": "sy0yEDVmSU5I",
        "outputId": "5e211407-4ee2-4cd6-ee70-421ffea6b551"
      },
      "outputs": [
        {
          "data": {
            "text/plain": [
              "array([3, 3, 3, ..., 3, 3, 3], dtype=int64)"
            ]
          },
          "execution_count": 31,
          "metadata": {},
          "output_type": "execute_result"
        }
      ],
      "source": [
        "ms_labels_b"
      ]
    },
    {
      "cell_type": "code",
      "execution_count": 12,
      "id": "c7f15897",
      "metadata": {},
      "outputs": [
        {
          "name": "stdout",
          "output_type": "stream",
          "text": [
            "The average silhouette score is : 0.2960251613337531\n"
          ]
        }
      ],
      "source": [
        "silhouette_avg_b = silhouette_score(df_b, ms_labels_b)\n",
        "print(\"The average silhouette score is :\", silhouette_avg_b)"
      ]
    },
    {
      "cell_type": "markdown",
      "id": "a3015673",
      "metadata": {},
      "source": [
        "# Demographic Segment"
      ]
    },
    {
      "cell_type": "code",
      "execution_count": 34,
      "id": "99ee662a",
      "metadata": {},
      "outputs": [
        {
          "name": "stdout",
          "output_type": "stream",
          "text": [
            "Best configuration: quantile             0.010000\n",
            "bandwidth            0.002448\n",
            "n_clusters          66.000000\n",
            "silhouette_score     0.999869\n",
            "Name: 0, dtype: float64\n",
            "    quantile  bandwidth  n_clusters  silhouette_score\n",
            "0       0.01   0.002448          66          0.999869\n",
            "1       0.02   0.005190          66          0.999869\n",
            "2       0.03   0.007309          66          0.999869\n",
            "3       0.04   0.010096          66          0.999869\n",
            "4       0.05   0.013577          42          0.782459\n",
            "5       0.06   0.016815          32          0.666123\n",
            "6       0.07   0.019245          27          0.612597\n",
            "7       0.08   0.024718          23          0.581784\n",
            "8       0.09   0.027530          19          0.555262\n",
            "9       0.10   0.029400          22          0.557308\n",
            "10      0.11   0.031294          15          0.562115\n",
            "11      0.12   0.032378          15          0.560617\n",
            "12      0.13   0.033650          14          0.546160\n",
            "13      0.14   0.035619          14          0.490154\n",
            "14      0.15   0.037050          14          0.543047\n",
            "15      0.16   0.038949          13          0.541364\n",
            "16      0.17   0.040559          14          0.541446\n",
            "17      0.18   0.041988          11          0.491233\n",
            "18      0.19   0.044069           6          0.627212\n",
            "19      0.20   0.045564          12          0.488480\n"
          ]
        }
      ],
      "source": [
        "# Define the range of quantile values to test\n",
        "quantile_range = np.linspace(0.01, 0.2, 20)  # Adjust range and steps as needed\n",
        "results = []\n",
        "\n",
        "# Iterate over quantile values\n",
        "for quantile in quantile_range:\n",
        "    # Estimate bandwidth for the current quantile\n",
        "    bandwidth = estimate_bandwidth(df_d, quantile=quantile, random_state=42, n_jobs=-1)\n",
        "    \n",
        "    # Skip if bandwidth is too small or invalid\n",
        "    if bandwidth <= 0:\n",
        "        continue\n",
        "    \n",
        "    # Fit MeanShift with the computed bandwidth\n",
        "    ms = MeanShift(bandwidth=bandwidth, bin_seeding=True, n_jobs=-1)\n",
        "    ms_labels_d = ms.fit_predict(df_d)\n",
        "    \n",
        "    # Calculate the number of clusters\n",
        "    n_clusters = len(np.unique(ms_labels_d))\n",
        "    \n",
        "    # Calculate the silhouette score (only if more than one cluster exists)\n",
        "    if n_clusters > 1:\n",
        "        silhouette_avg = silhouette_score(df_d, ms_labels_d)\n",
        "    else:\n",
        "        silhouette_avg = -1  # Invalid silhouette score for single cluster\n",
        "    \n",
        "    # Store the results\n",
        "    results.append({\n",
        "        'quantile': quantile,\n",
        "        'bandwidth': bandwidth,\n",
        "        'n_clusters': n_clusters,\n",
        "        'silhouette_score': silhouette_avg\n",
        "    })\n",
        "\n",
        "# Convert results to a DataFrame for analysis\n",
        "results_df = pd.DataFrame(results)\n",
        "\n",
        "# Find the best configuration based on silhouette score\n",
        "best_result = results_df.loc[results_df['silhouette_score'].idxmax()]\n",
        "print(\"Best configuration:\", best_result)\n",
        "\n",
        "# Print all results for inspection\n",
        "print(results_df)\n"
      ]
    },
    {
      "cell_type": "code",
      "execution_count": 13,
      "id": "fb5f6e52",
      "metadata": {},
      "outputs": [
        {
          "data": {
            "text/plain": [
              "0.04406926450521398"
            ]
          },
          "execution_count": 13,
          "metadata": {},
          "output_type": "execute_result"
        }
      ],
      "source": [
        "bandwidth = estimate_bandwidth(df_d, quantile=0.19, random_state=42, n_jobs=-1)\n",
        "bandwidth"
      ]
    },
    {
      "cell_type": "code",
      "execution_count": 14,
      "id": "f0ff1eb1",
      "metadata": {},
      "outputs": [
        {
          "name": "stdout",
          "output_type": "stream",
          "text": [
            "Number of estimated clusters : 6\n"
          ]
        }
      ],
      "source": [
        "ms = MeanShift(bandwidth=bandwidth, bin_seeding=True, n_jobs=-1)\n",
        "ms_labels_d = ms.fit_predict(df_d)\n",
        "\n",
        "ms_n_clusters = len(np.unique(ms_labels_d))\n",
        "print(\"Number of estimated clusters : %d\" % ms_n_clusters)"
      ]
    },
    {
      "cell_type": "code",
      "execution_count": 15,
      "id": "d9f150f0",
      "metadata": {},
      "outputs": [
        {
          "name": "stdout",
          "output_type": "stream",
          "text": [
            "The average silhouette score is : 0.6272116711478545\n"
          ]
        }
      ],
      "source": [
        "silhouette_avg_d = silhouette_score(df_d, ms_labels_d)\n",
        "print(\"The average silhouette score is :\", silhouette_avg_d)"
      ]
    },
    {
      "cell_type": "markdown",
      "id": "2ad66eb8",
      "metadata": {},
      "source": [
        "# Psychographic Segment"
      ]
    },
    {
      "cell_type": "code",
      "execution_count": 38,
      "id": "9238b0fa",
      "metadata": {},
      "outputs": [
        {
          "name": "stdout",
          "output_type": "stream",
          "text": [
            "Best configuration: quantile            0.190000\n",
            "bandwidth           0.052117\n",
            "n_clusters          3.000000\n",
            "silhouette_score    0.545880\n",
            "Name: 18, dtype: float64\n",
            "    quantile  bandwidth  n_clusters  silhouette_score\n",
            "0       0.01   0.022210        1190          0.159333\n",
            "1       0.02   0.027953         717          0.157185\n",
            "2       0.03   0.032055         450          0.178993\n",
            "3       0.04   0.035184         291          0.190812\n",
            "4       0.05   0.037720         216          0.201547\n",
            "5       0.06   0.039872         147          0.230102\n",
            "6       0.07   0.041654          93          0.268369\n",
            "7       0.08   0.043162          70          0.288685\n",
            "8       0.09   0.044414          49          0.308235\n",
            "9       0.10   0.045523          40          0.322757\n",
            "10      0.11   0.046533          27          0.354861\n",
            "11      0.12   0.047449          24          0.355714\n",
            "12      0.13   0.048276          15          0.388325\n",
            "13      0.14   0.049024           6          0.489448\n",
            "14      0.15   0.049724           5          0.503398\n",
            "15      0.16   0.050383           5          0.502009\n",
            "16      0.17   0.050999           3          0.543652\n",
            "17      0.18   0.051570           3          0.532977\n",
            "18      0.19   0.052117           3          0.545880\n",
            "19      0.20   0.052653           4          0.528277\n"
          ]
        }
      ],
      "source": [
        "# Define the range of quantile values to test\n",
        "quantile_range = np.linspace(0.01, 0.2, 20)  # Adjust range and steps as needed\n",
        "results = []\n",
        "\n",
        "# Iterate over quantile values\n",
        "for quantile in quantile_range:\n",
        "    # Estimate bandwidth for the current quantile\n",
        "    bandwidth = estimate_bandwidth(df_p, quantile=quantile, random_state=42, n_jobs=-1)\n",
        "    \n",
        "    # Skip if bandwidth is too small or invalid\n",
        "    if bandwidth <= 0:\n",
        "        continue\n",
        "    \n",
        "    # Fit MeanShift with the computed bandwidth\n",
        "    ms = MeanShift(bandwidth=bandwidth, bin_seeding=True, n_jobs=-1)\n",
        "    ms_labels_p = ms.fit_predict(df_p)\n",
        "    \n",
        "    # Calculate the number of clusters\n",
        "    n_clusters = len(np.unique(ms_labels_p))\n",
        "    \n",
        "    # Calculate the silhouette score (only if more than one cluster exists)\n",
        "    if n_clusters > 1:\n",
        "        silhouette_avg = silhouette_score(df_p, ms_labels_p)\n",
        "    else:\n",
        "        silhouette_avg = -1  # Invalid silhouette score for single cluster\n",
        "    \n",
        "    # Store the results\n",
        "    results.append({\n",
        "        'quantile': quantile,\n",
        "        'bandwidth': bandwidth,\n",
        "        'n_clusters': n_clusters,\n",
        "        'silhouette_score': silhouette_avg\n",
        "    })\n",
        "\n",
        "# Convert results to a DataFrame for analysis\n",
        "results_df = pd.DataFrame(results)\n",
        "\n",
        "# Find the best configuration based on silhouette score\n",
        "best_result = results_df.loc[results_df['silhouette_score'].idxmax()]\n",
        "print(\"Best configuration:\", best_result)\n",
        "\n",
        "# Print all results for inspection\n",
        "print(results_df)\n"
      ]
    },
    {
      "cell_type": "code",
      "execution_count": 6,
      "id": "c408e69d",
      "metadata": {},
      "outputs": [
        {
          "data": {
            "text/plain": [
              "0.04972364612900115"
            ]
          },
          "execution_count": 6,
          "metadata": {},
          "output_type": "execute_result"
        }
      ],
      "source": [
        "bandwidth = estimate_bandwidth(df_p, quantile=0.15, random_state=42, n_jobs=-1)\n",
        "bandwidth"
      ]
    },
    {
      "cell_type": "code",
      "execution_count": 7,
      "id": "ab4bec9f",
      "metadata": {},
      "outputs": [
        {
          "name": "stdout",
          "output_type": "stream",
          "text": [
            "Number of estimated clusters : 5\n"
          ]
        }
      ],
      "source": [
        "ms = MeanShift(bandwidth=bandwidth, bin_seeding=True, n_jobs=-1)\n",
        "ms_labels_p = ms.fit_predict(df_p)\n",
        "\n",
        "ms_n_clusters = len(np.unique(ms_labels_p))\n",
        "print(\"Number of estimated clusters : %d\" % ms_n_clusters)"
      ]
    },
    {
      "cell_type": "code",
      "execution_count": 8,
      "id": "a23f42c9",
      "metadata": {},
      "outputs": [
        {
          "name": "stdout",
          "output_type": "stream",
          "text": [
            "The average silhouette score is : 0.5033976800704945\n"
          ]
        }
      ],
      "source": [
        "silhouette_avg_p = silhouette_score(df_p, ms_labels_p)\n",
        "print(\"The average silhouette score is :\", silhouette_avg_p)"
      ]
    },
    {
      "cell_type": "markdown",
      "id": "3e88940b",
      "metadata": {},
      "source": [
        "# Results"
      ]
    },
    {
      "cell_type": "code",
      "execution_count": 16,
      "id": "e3885586",
      "metadata": {},
      "outputs": [
        {
          "name": "stdout",
          "output_type": "stream",
          "text": [
            "         Segment  Silhouette Score  Number of Components\n",
            "0      Behaviour          0.296025                     4\n",
            "1    Demographic          0.627212                     6\n",
            "2  Psychographic          0.503398                     5\n"
          ]
        }
      ],
      "source": [
        "silhouette_scores = [silhouette_avg_b, silhouette_avg_d, silhouette_avg_p]\n",
        "\n",
        "segments = ['Behaviour', 'Demographic', 'Psychographic']\n",
        "components =[4,6,5]\n",
        "\n",
        "table = pd.DataFrame({\n",
        "    'Segment': segments,\n",
        "    'Silhouette Score': silhouette_scores,\n",
        "    'Number of Components': components\n",
        "})\n",
        "\n",
        "print(table)"
      ]
    }
  ],
  "metadata": {
    "colab": {
      "provenance": []
    },
    "kernelspec": {
      "display_name": "base",
      "language": "python",
      "name": "python3"
    },
    "language_info": {
      "codemirror_mode": {
        "name": "ipython",
        "version": 3
      },
      "file_extension": ".py",
      "mimetype": "text/x-python",
      "name": "python",
      "nbconvert_exporter": "python",
      "pygments_lexer": "ipython3",
      "version": "3.12.4"
    }
  },
  "nbformat": 4,
  "nbformat_minor": 5
}
