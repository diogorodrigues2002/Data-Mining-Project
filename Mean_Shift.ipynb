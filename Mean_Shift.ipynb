{
  "cells": [
    {
      "cell_type": "code",
      "execution_count": 10,
      "id": "a244dd9a",
      "metadata": {
        "id": "a244dd9a"
      },
      "outputs": [],
      "source": [
        "import matplotlib.pyplot as plt\n",
        "import numpy as np\n",
        "import pandas as pd\n",
        "\n",
        "from sklearn.neighbors import NearestNeighbors\n",
        "from sklearn.mixture import GaussianMixture\n",
        "from sklearn.cluster import MeanShift, DBSCAN, estimate_bandwidth\n",
        "from sklearn.metrics import silhouette_score"
      ]
    },
    {
      "cell_type": "code",
      "execution_count": 3,
      "id": "LIVZWvB3FV12",
      "metadata": {
        "id": "LIVZWvB3FV12"
      },
      "outputs": [],
      "source": [
        "np.random.seed(42)"
      ]
    },
    {
      "cell_type": "code",
      "execution_count": 4,
      "id": "mho-3GI5FYvN",
      "metadata": {
        "colab": {
          "base_uri": "https://localhost:8080/",
          "height": 226
        },
        "id": "mho-3GI5FYvN",
        "outputId": "cf18e6f9-4e1b-4701-d59d-5545d0581937"
      },
      "outputs": [],
      "source": [
        "df_b=pd.read_csv('df_behaviour.csv',delimiter=',')\n",
        "df_d=pd.read_csv('df_demo.csv',delimiter=',')\n",
        "df_p=pd.read_csv('df_psy.csv',delimiter=',')"
      ]
    },
    {
      "cell_type": "markdown",
      "id": "e6e035d4",
      "metadata": {},
      "source": [
        "# Behaviour Segment"
      ]
    },
    {
      "cell_type": "code",
      "execution_count": 12,
      "id": "03VFzTcfFn05",
      "metadata": {
        "colab": {
          "base_uri": "https://localhost:8080/"
        },
        "id": "03VFzTcfFn05",
        "outputId": "5269a368-16fe-4539-b88d-fb8a976f6eb0"
      },
      "outputs": [
        {
          "data": {
            "text/plain": [
              "740.0607277304204"
            ]
          },
          "execution_count": 12,
          "metadata": {},
          "output_type": "execute_result"
        }
      ],
      "source": [
        "bandwidth = estimate_bandwidth(df_b, quantile=0.05, random_state=42, n_jobs=-1)\n",
        "bandwidth"
      ]
    },
    {
      "cell_type": "code",
      "execution_count": 13,
      "id": "u8Ds3_TgGLFy",
      "metadata": {
        "colab": {
          "base_uri": "https://localhost:8080/"
        },
        "id": "u8Ds3_TgGLFy",
        "outputId": "6b3381b4-78aa-489d-823e-3f0a012f9039"
      },
      "outputs": [
        {
          "name": "stdout",
          "output_type": "stream",
          "text": [
            "Number of estimated clusters : 20\n"
          ]
        }
      ],
      "source": [
        "ms = MeanShift(bandwidth=bandwidth, bin_seeding=True, n_jobs=-1)\n",
        "ms_labels_b = ms.fit_predict(df_b)\n",
        "\n",
        "ms_n_clusters = len(np.unique(ms_labels_b))\n",
        "print(\"Number of estimated clusters : %d\" % ms_n_clusters)"
      ]
    },
    {
      "cell_type": "code",
      "execution_count": 9,
      "id": "sy0yEDVmSU5I",
      "metadata": {
        "colab": {
          "base_uri": "https://localhost:8080/"
        },
        "id": "sy0yEDVmSU5I",
        "outputId": "5e211407-4ee2-4cd6-ee70-421ffea6b551"
      },
      "outputs": [
        {
          "data": {
            "text/plain": [
              "array([10, 10, 10, ...,  3,  3,  3], dtype=int64)"
            ]
          },
          "execution_count": 9,
          "metadata": {},
          "output_type": "execute_result"
        }
      ],
      "source": [
        "ms_labels_b"
      ]
    },
    {
      "cell_type": "code",
      "execution_count": 14,
      "id": "c7f15897",
      "metadata": {},
      "outputs": [
        {
          "name": "stdout",
          "output_type": "stream",
          "text": [
            "The average silhouette score is : 0.5259462986109608\n"
          ]
        }
      ],
      "source": [
        "silhouette_avg_b = silhouette_score(df_b, ms_labels_b)\n",
        "print(\"The average silhouette score is :\", silhouette_avg_b)"
      ]
    },
    {
      "cell_type": "markdown",
      "id": "a3015673",
      "metadata": {},
      "source": [
        "# Demographic Segment"
      ]
    },
    {
      "cell_type": "code",
      "execution_count": 16,
      "id": "fb5f6e52",
      "metadata": {},
      "outputs": [
        {
          "data": {
            "text/plain": [
              "0.013577474433663474"
            ]
          },
          "execution_count": 16,
          "metadata": {},
          "output_type": "execute_result"
        }
      ],
      "source": [
        "bandwidth = estimate_bandwidth(df_d[['customer_age']], quantile=0.05, random_state=42, n_jobs=-1)\n",
        "bandwidth"
      ]
    },
    {
      "cell_type": "code",
      "execution_count": 17,
      "id": "f0ff1eb1",
      "metadata": {},
      "outputs": [
        {
          "name": "stdout",
          "output_type": "stream",
          "text": [
            "Number of estimated clusters : 42\n"
          ]
        }
      ],
      "source": [
        "ms = MeanShift(bandwidth=bandwidth, bin_seeding=True, n_jobs=-1)\n",
        "ms_labels_d = ms.fit_predict(df_d[['customer_age']])\n",
        "\n",
        "ms_n_clusters = len(np.unique(ms_labels_d))\n",
        "print(\"Number of estimated clusters : %d\" % ms_n_clusters)"
      ]
    },
    {
      "cell_type": "code",
      "execution_count": 18,
      "id": "d9f150f0",
      "metadata": {},
      "outputs": [
        {
          "name": "stdout",
          "output_type": "stream",
          "text": [
            "The average silhouette score is : 0.7824587500414355\n"
          ]
        }
      ],
      "source": [
        "silhouette_avg_d = silhouette_score(df_d[['customer_age']], ms_labels_d)\n",
        "print(\"The average silhouette score is :\", silhouette_avg_d)"
      ]
    },
    {
      "cell_type": "markdown",
      "id": "2ad66eb8",
      "metadata": {},
      "source": [
        "# Psychographic Segment"
      ]
    },
    {
      "cell_type": "code",
      "execution_count": 19,
      "id": "c408e69d",
      "metadata": {},
      "outputs": [
        {
          "data": {
            "text/plain": [
              "755.3943879180619"
            ]
          },
          "execution_count": 19,
          "metadata": {},
          "output_type": "execute_result"
        }
      ],
      "source": [
        "bandwidth = estimate_bandwidth(df_p, quantile=0.05, random_state=42, n_jobs=-1)\n",
        "bandwidth"
      ]
    },
    {
      "cell_type": "code",
      "execution_count": 20,
      "id": "ab4bec9f",
      "metadata": {},
      "outputs": [
        {
          "name": "stdout",
          "output_type": "stream",
          "text": [
            "Number of estimated clusters : 24\n"
          ]
        }
      ],
      "source": [
        "ms = MeanShift(bandwidth=bandwidth, bin_seeding=True, n_jobs=-1)\n",
        "ms_labels_p = ms.fit_predict(df_p)\n",
        "\n",
        "ms_n_clusters = len(np.unique(ms_labels_p))\n",
        "print(\"Number of estimated clusters : %d\" % ms_n_clusters)"
      ]
    },
    {
      "cell_type": "code",
      "execution_count": 21,
      "id": "a23f42c9",
      "metadata": {},
      "outputs": [
        {
          "name": "stdout",
          "output_type": "stream",
          "text": [
            "The average silhouette score is : 0.5089928444376317\n"
          ]
        }
      ],
      "source": [
        "silhouette_avg_p = silhouette_score(df_p, ms_labels_p)\n",
        "print(\"The average silhouette score is :\", silhouette_avg_p)"
      ]
    },
    {
      "cell_type": "markdown",
      "id": "3e88940b",
      "metadata": {},
      "source": [
        "# Results"
      ]
    },
    {
      "cell_type": "code",
      "execution_count": 22,
      "id": "e3885586",
      "metadata": {},
      "outputs": [
        {
          "name": "stdout",
          "output_type": "stream",
          "text": [
            "         Segment  Silhouette Score  Number of Components\n",
            "0      Behaviour          0.525946                    20\n",
            "1    Demographic          0.782459                    42\n",
            "2  Psychographic          0.508993                    24\n"
          ]
        }
      ],
      "source": [
        "silhouette_scores = [silhouette_avg_b, silhouette_avg_d, silhouette_avg_p]\n",
        "\n",
        "segments = ['Behaviour', 'Demographic', 'Psychographic']\n",
        "components =[20,42,24]\n",
        "\n",
        "table = pd.DataFrame({\n",
        "    'Segment': segments,\n",
        "    'Silhouette Score': silhouette_scores,\n",
        "    'Number of Components': components\n",
        "})\n",
        "\n",
        "print(table)"
      ]
    }
  ],
  "metadata": {
    "colab": {
      "provenance": []
    },
    "kernelspec": {
      "display_name": "base",
      "language": "python",
      "name": "python3"
    },
    "language_info": {
      "codemirror_mode": {
        "name": "ipython",
        "version": 3
      },
      "file_extension": ".py",
      "mimetype": "text/x-python",
      "name": "python",
      "nbconvert_exporter": "python",
      "pygments_lexer": "ipython3",
      "version": "3.12.4"
    }
  },
  "nbformat": 4,
  "nbformat_minor": 5
}
