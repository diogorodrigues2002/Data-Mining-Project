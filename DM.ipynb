{
  "cells": [
    {
      "cell_type": "code",
      "execution_count": 1,
      "id": "85cc2d28-1283-4565-87f5-0334297c3c7d",
      "metadata": {
        "id": "85cc2d28-1283-4565-87f5-0334297c3c7d",
        "outputId": "fa28fdae-4c9b-4443-88aa-283b9b549957",
        "colab": {
          "base_uri": "https://localhost:8080/"
        }
      },
      "outputs": [
        {
          "output_type": "stream",
          "name": "stdout",
          "text": [
            "o daniinieninienvieisvnsrnirn é gay ibfiwbvoiwenviewnivwevnik gu\n"
          ]
        }
      ],
      "source": [
        "print('o daniinieninienvieisvnsrnirn é gay ibfiwbvoiwenviewnivwevnik gu')"
      ]
    },
    {
      "cell_type": "code",
      "source": [],
      "metadata": {
        "id": "jtmbX0x8tJYP"
      },
      "id": "jtmbX0x8tJYP",
      "execution_count": null,
      "outputs": []
    }
  ],
  "metadata": {
    "kernelspec": {
      "display_name": "Python 3 (ipykernel)",
      "language": "python",
      "name": "python3"
    },
    "language_info": {
      "codemirror_mode": {
        "name": "ipython",
        "version": 3
      },
      "file_extension": ".py",
      "mimetype": "text/x-python",
      "name": "python",
      "nbconvert_exporter": "python",
      "pygments_lexer": "ipython3",
      "version": "3.12.4"
    },
    "colab": {
      "provenance": []
    }
  },
  "nbformat": 4,
  "nbformat_minor": 5
}