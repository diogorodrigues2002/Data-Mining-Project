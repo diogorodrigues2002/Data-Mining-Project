{
  "cells": [
    {
      "cell_type": "code",
      "execution_count": 49,
      "id": "8db3ae52-47a4-4b00-8b30-277832f174e3",
      "metadata": {
        "id": "8db3ae52-47a4-4b00-8b30-277832f174e3"
      },
      "outputs": [],
      "source": [
        "import pandas as pd\n",
        "import numpy as np\n",
        "import matplotlib.pyplot as plt\n",
        "from sklearn.preprocessing import MinMaxScaler\n",
        "from sklearn.preprocessing import OneHotEncoder\n",
        "from sklearn.decomposition import PCA"
      ]
    },
    {
      "cell_type": "code",
      "execution_count": 50,
      "id": "Jwa5o5gK-Cu4",
      "metadata": {
        "id": "Jwa5o5gK-Cu4"
      },
      "outputs": [],
      "source": [
        "df=pd.read_csv('DM2425_ABCDEats_DATASET.csv',delimiter=',')"
      ]
    },
    {
      "cell_type": "code",
      "execution_count": 51,
      "id": "1a98d482",
      "metadata": {},
      "outputs": [
        {
          "name": "stdout",
          "output_type": "stream",
          "text": [
            "<class 'pandas.core.frame.DataFrame'>\n",
            "RangeIndex: 31888 entries, 0 to 31887\n",
            "Data columns (total 56 columns):\n",
            " #   Column                    Non-Null Count  Dtype  \n",
            "---  ------                    --------------  -----  \n",
            " 0   customer_id               31888 non-null  object \n",
            " 1   customer_region           31888 non-null  object \n",
            " 2   customer_age              31161 non-null  float64\n",
            " 3   vendor_count              31888 non-null  int64  \n",
            " 4   product_count             31888 non-null  int64  \n",
            " 5   is_chain                  31888 non-null  int64  \n",
            " 6   first_order               31782 non-null  float64\n",
            " 7   last_order                31888 non-null  int64  \n",
            " 8   last_promo                31888 non-null  object \n",
            " 9   payment_method            31888 non-null  object \n",
            " 10  CUI_American              31888 non-null  float64\n",
            " 11  CUI_Asian                 31888 non-null  float64\n",
            " 12  CUI_Beverages             31888 non-null  float64\n",
            " 13  CUI_Cafe                  31888 non-null  float64\n",
            " 14  CUI_Chicken Dishes        31888 non-null  float64\n",
            " 15  CUI_Chinese               31888 non-null  float64\n",
            " 16  CUI_Desserts              31888 non-null  float64\n",
            " 17  CUI_Healthy               31888 non-null  float64\n",
            " 18  CUI_Indian                31888 non-null  float64\n",
            " 19  CUI_Italian               31888 non-null  float64\n",
            " 20  CUI_Japanese              31888 non-null  float64\n",
            " 21  CUI_Noodle Dishes         31888 non-null  float64\n",
            " 22  CUI_OTHER                 31888 non-null  float64\n",
            " 23  CUI_Street Food / Snacks  31888 non-null  float64\n",
            " 24  CUI_Thai                  31888 non-null  float64\n",
            " 25  DOW_0                     31888 non-null  int64  \n",
            " 26  DOW_1                     31888 non-null  int64  \n",
            " 27  DOW_2                     31888 non-null  int64  \n",
            " 28  DOW_3                     31888 non-null  int64  \n",
            " 29  DOW_4                     31888 non-null  int64  \n",
            " 30  DOW_5                     31888 non-null  int64  \n",
            " 31  DOW_6                     31888 non-null  int64  \n",
            " 32  HR_0                      30723 non-null  float64\n",
            " 33  HR_1                      31888 non-null  int64  \n",
            " 34  HR_2                      31888 non-null  int64  \n",
            " 35  HR_3                      31888 non-null  int64  \n",
            " 36  HR_4                      31888 non-null  int64  \n",
            " 37  HR_5                      31888 non-null  int64  \n",
            " 38  HR_6                      31888 non-null  int64  \n",
            " 39  HR_7                      31888 non-null  int64  \n",
            " 40  HR_8                      31888 non-null  int64  \n",
            " 41  HR_9                      31888 non-null  int64  \n",
            " 42  HR_10                     31888 non-null  int64  \n",
            " 43  HR_11                     31888 non-null  int64  \n",
            " 44  HR_12                     31888 non-null  int64  \n",
            " 45  HR_13                     31888 non-null  int64  \n",
            " 46  HR_14                     31888 non-null  int64  \n",
            " 47  HR_15                     31888 non-null  int64  \n",
            " 48  HR_16                     31888 non-null  int64  \n",
            " 49  HR_17                     31888 non-null  int64  \n",
            " 50  HR_18                     31888 non-null  int64  \n",
            " 51  HR_19                     31888 non-null  int64  \n",
            " 52  HR_20                     31888 non-null  int64  \n",
            " 53  HR_21                     31888 non-null  int64  \n",
            " 54  HR_22                     31888 non-null  int64  \n",
            " 55  HR_23                     31888 non-null  int64  \n",
            "dtypes: float64(18), int64(34), object(4)\n",
            "memory usage: 13.6+ MB\n"
          ]
        }
      ],
      "source": [
        "df.info()"
      ]
    },
    {
      "cell_type": "markdown",
      "id": "40aAICTb-2fY",
      "metadata": {
        "id": "40aAICTb-2fY"
      },
      "source": [
        "# Drop Dublicates"
      ]
    },
    {
      "cell_type": "markdown",
      "id": "ND_cLsuXwu80",
      "metadata": {
        "id": "ND_cLsuXwu80"
      },
      "source": [
        "We need to eliminate duplicates to prevent further issues, especially with the index setting"
      ]
    },
    {
      "cell_type": "code",
      "execution_count": 52,
      "id": "Q791LW8I_KDA",
      "metadata": {
        "colab": {
          "base_uri": "https://localhost:8080/"
        },
        "id": "Q791LW8I_KDA",
        "outputId": "8351a951-b6e9-4aa5-93bf-4769dee63465"
      },
      "outputs": [
        {
          "data": {
            "text/plain": [
              "np.int64(13)"
            ]
          },
          "execution_count": 52,
          "metadata": {},
          "output_type": "execute_result"
        }
      ],
      "source": [
        "df.duplicated().sum()"
      ]
    },
    {
      "cell_type": "code",
      "execution_count": 53,
      "id": "LRsHlrrN-5yo",
      "metadata": {
        "colab": {
          "base_uri": "https://localhost:8080/"
        },
        "id": "LRsHlrrN-5yo",
        "outputId": "0b3ecf94-2c80-4bb6-f057-449bb05afad5"
      },
      "outputs": [
        {
          "data": {
            "text/plain": [
              "np.int64(0)"
            ]
          },
          "execution_count": 53,
          "metadata": {},
          "output_type": "execute_result"
        }
      ],
      "source": [
        "df=df.drop_duplicates()\n",
        "# Count the number of remaining duplicate rows in the DataFrame after dropping duplicates\n",
        "df.duplicated().sum()"
      ]
    },
    {
      "cell_type": "markdown",
      "id": "HdfcdmshB8Ew",
      "metadata": {
        "id": "HdfcdmshB8Ew"
      },
      "source": [
        "# Set costumer_id as the index"
      ]
    },
    {
      "cell_type": "code",
      "execution_count": 54,
      "id": "He30YSyXCAM9",
      "metadata": {
        "id": "He30YSyXCAM9"
      },
      "outputs": [],
      "source": [
        "df.set_index('customer_id', inplace=True)"
      ]
    },
    {
      "cell_type": "markdown",
      "id": "g5c9rRRu-v5i",
      "metadata": {
        "id": "g5c9rRRu-v5i"
      },
      "source": [
        "## Fixing variables"
      ]
    },
    {
      "cell_type": "markdown",
      "id": "oWSxYmKPBr9m",
      "metadata": {
        "id": "oWSxYmKPBr9m"
      },
      "source": [
        "**customer_age**"
      ]
    },
    {
      "cell_type": "markdown",
      "id": "ZBIgCxdUC2vx",
      "metadata": {
        "id": "ZBIgCxdUC2vx"
      },
      "source": [
        "Fill missing values with median"
      ]
    },
    {
      "cell_type": "code",
      "execution_count": 55,
      "id": "cWplddAcaJWO",
      "metadata": {
        "colab": {
          "base_uri": "https://localhost:8080/"
        },
        "id": "cWplddAcaJWO",
        "outputId": "b93628d6-473e-449e-94d6-674238dea8a4"
      },
      "outputs": [
        {
          "data": {
            "text/plain": [
              "np.int64(727)"
            ]
          },
          "execution_count": 55,
          "metadata": {},
          "output_type": "execute_result"
        }
      ],
      "source": [
        "df['customer_age'].isna().sum()"
      ]
    },
    {
      "cell_type": "code",
      "execution_count": 56,
      "id": "7jpJOyLrBuKC",
      "metadata": {
        "colab": {
          "base_uri": "https://localhost:8080/"
        },
        "id": "7jpJOyLrBuKC",
        "outputId": "dc0f02e8-ad0a-4e95-a5cc-a486e7f0e9f7"
      },
      "outputs": [
        {
          "data": {
            "text/plain": [
              "np.int64(0)"
            ]
          },
          "execution_count": 56,
          "metadata": {},
          "output_type": "execute_result"
        }
      ],
      "source": [
        "df['customer_age'] = df['customer_age'].fillna(df['customer_age'].median())\n",
        "df['customer_age'].isna().sum()"
      ]
    },
    {
      "cell_type": "markdown",
      "id": "5dz1pZFzC2Dz",
      "metadata": {
        "id": "5dz1pZFzC2Dz"
      },
      "source": [
        "**costumer_region**"
      ]
    },
    {
      "cell_type": "markdown",
      "id": "bBQO4mu506D2",
      "metadata": {
        "id": "bBQO4mu506D2"
      },
      "source": [
        "Replace the value of '-' with 'Unknown' to enhance the interpretation of the feature"
      ]
    },
    {
      "cell_type": "code",
      "execution_count": 57,
      "id": "23c0ef8c",
      "metadata": {},
      "outputs": [],
      "source": [
        "df.loc[:, 'customer_region'] = df['customer_region'].replace('8550', '-')"
      ]
    },
    {
      "cell_type": "code",
      "execution_count": 58,
      "id": "ksu3qKEjDPU1",
      "metadata": {
        "id": "ksu3qKEjDPU1"
      },
      "outputs": [],
      "source": [
        "df.loc[:, 'customer_region'] = df['customer_region'].replace('-', np.nan)"
      ]
    },
    {
      "cell_type": "code",
      "execution_count": 59,
      "id": "46f3385c",
      "metadata": {},
      "outputs": [],
      "source": [
        "mode_value = df['customer_region'].mode()[0]\n",
        "df['customer_region'] = df['customer_region'].fillna(mode_value)"
      ]
    },
    {
      "cell_type": "code",
      "execution_count": 60,
      "id": "3d59fe91",
      "metadata": {},
      "outputs": [
        {
          "data": {
            "text/plain": [
              "customer_region\n",
              "8670    10216\n",
              "4660     9550\n",
              "2360     8829\n",
              "2440     1483\n",
              "4140      857\n",
              "8370      495\n",
              "2490      445\n",
              "Name: count, dtype: int64"
            ]
          },
          "execution_count": 60,
          "metadata": {},
          "output_type": "execute_result"
        }
      ],
      "source": [
        "df['customer_region'].value_counts()"
      ]
    },
    {
      "cell_type": "markdown",
      "id": "4YI-NtpVzKTl",
      "metadata": {
        "id": "4YI-NtpVzKTl"
      },
      "source": [
        "**product_count**"
      ]
    },
    {
      "cell_type": "markdown",
      "id": "PzL-oIfIzN6h",
      "metadata": {
        "id": "PzL-oIfIzN6h"
      },
      "source": [
        "There is an extreme product count value with '92ced2dcb9' index, so we will transform it into a high value"
      ]
    },
    {
      "cell_type": "code",
      "execution_count": 61,
      "id": "kDFD_JZ4Db7u",
      "metadata": {
        "id": "kDFD_JZ4Db7u"
      },
      "outputs": [],
      "source": [
        "df.loc['92ced2dcb9','product_count']=100"
      ]
    },
    {
      "cell_type": "markdown",
      "id": "PgoPbHWlDmGU",
      "metadata": {
        "id": "PgoPbHWlDmGU"
      },
      "source": [
        "**first_order**"
      ]
    },
    {
      "cell_type": "markdown",
      "id": "rpaTezEn0rbV",
      "metadata": {
        "id": "rpaTezEn0rbV"
      },
      "source": [
        "Fill missing values with median"
      ]
    },
    {
      "cell_type": "code",
      "execution_count": 62,
      "id": "OPy9ew2bDpvM",
      "metadata": {
        "id": "OPy9ew2bDpvM"
      },
      "outputs": [],
      "source": [
        "df['first_order'] = df['first_order'].fillna(df['first_order'].median())"
      ]
    },
    {
      "cell_type": "markdown",
      "id": "1DVMVvKND7EO",
      "metadata": {
        "id": "1DVMVvKND7EO"
      },
      "source": [
        "**last_promo**"
      ]
    },
    {
      "cell_type": "markdown",
      "id": "0Rfb9_FF2hIx",
      "metadata": {
        "id": "0Rfb9_FF2hIx"
      },
      "source": [
        "Replace the value of '-' with 'no_promotion_used' to enhance the interpretation of the feature"
      ]
    },
    {
      "cell_type": "code",
      "execution_count": 63,
      "id": "PkgQc8pQD-Xd",
      "metadata": {
        "id": "PkgQc8pQD-Xd"
      },
      "outputs": [],
      "source": [
        "df['last_promo'] = df['last_promo'].replace('-', 'no_promotion_used')"
      ]
    },
    {
      "cell_type": "markdown",
      "id": "pHtYVInrEMg0",
      "metadata": {
        "id": "pHtYVInrEMg0"
      },
      "source": [
        "**HR_0**"
      ]
    },
    {
      "cell_type": "markdown",
      "id": "BpgcInRj2nCE",
      "metadata": {
        "id": "BpgcInRj2nCE"
      },
      "source": [
        "Drop the column labeled \"HR_0\" because it contains only zeros."
      ]
    },
    {
      "cell_type": "code",
      "execution_count": 64,
      "id": "WLvodpbJERLz",
      "metadata": {
        "id": "WLvodpbJERLz"
      },
      "outputs": [],
      "source": [
        "df.drop(columns=['HR_0'], inplace=True)"
      ]
    },
    {
      "cell_type": "markdown",
      "id": "2kiPc39hE1-p",
      "metadata": {
        "id": "2kiPc39hE1-p"
      },
      "source": [
        "#Fixing inconsistencies"
      ]
    },
    {
      "cell_type": "markdown",
      "id": "AzwOI1yBGamv",
      "metadata": {
        "id": "AzwOI1yBGamv"
      },
      "source": [
        "Eliminate rows where there are inconsistencies"
      ]
    },
    {
      "cell_type": "code",
      "execution_count": 65,
      "id": "pUPn6vpTFJNt",
      "metadata": {
        "id": "pUPn6vpTFJNt"
      },
      "outputs": [],
      "source": [
        "df['sum_HR']=df['HR_1']+df['HR_2']+df['HR_3']+df['HR_4']+df['HR_5']+df['HR_6']+df['HR_7']+df['HR_8']+df['HR_9']+df['HR_10']+df['HR_11']+df['HR_12']+df['HR_13']+df['HR_14']+df['HR_15']+df['HR_16']+df['HR_17']+df['HR_18']+df['HR_19']+df['HR_20']+df['HR_21']+df['HR_22']+df['HR_23']\n",
        "df['sum_DOW']=df['DOW_0']+df['DOW_1']+df['DOW_2']+df['DOW_3']+df['DOW_4']+df['DOW_5']+df['DOW_6']\n",
        "df['inc_0']=(df['sum_HR']!=df['sum_DOW'])\n",
        "df['inc_2']=(df['product_count']==0)\n",
        "df = df.loc[~(df['inc_0'] | df['inc_2'])]\n",
        "df = df.drop(columns=['sum_HR', 'sum_DOW', 'inc_0', 'inc_2'])"
      ]
    },
    {
      "cell_type": "markdown",
      "id": "z0T2d1erH3M8",
      "metadata": {
        "id": "z0T2d1erH3M8"
      },
      "source": [
        "# New variables"
      ]
    },
    {
      "cell_type": "markdown",
      "id": "5ADv3rbZIGBo",
      "metadata": {
        "id": "5ADv3rbZIGBo"
      },
      "source": [
        "**Total_Spent**"
      ]
    },
    {
      "cell_type": "code",
      "execution_count": 66,
      "id": "9pN7TXLzObAb",
      "metadata": {
        "id": "9pN7TXLzObAb"
      },
      "outputs": [],
      "source": [
        "cuisine = [col for col in df.columns if col.startswith('CUI_')]"
      ]
    },
    {
      "cell_type": "code",
      "execution_count": 67,
      "id": "7z1SKhRNH580",
      "metadata": {
        "id": "7z1SKhRNH580"
      },
      "outputs": [],
      "source": [
        "df['Total_Spent']=df[cuisine].sum(axis=1)"
      ]
    },
    {
      "cell_type": "markdown",
      "id": "hJFfuxU-SG83",
      "metadata": {
        "id": "hJFfuxU-SG83"
      },
      "source": [
        "Deal with extreme outliers"
      ]
    },
    {
      "cell_type": "code",
      "execution_count": 68,
      "id": "n1JL9kunMvDr",
      "metadata": {
        "id": "n1JL9kunMvDr"
      },
      "outputs": [],
      "source": [
        "df = df.drop('92ced2dcb9', axis=0)\n",
        "df.loc['249ba584d3','CUI_Asian']=500\n",
        "df.loc['8d65421423','CUI_Japanese']=590\n",
        "df['Total_Spent']=df[cuisine].sum(axis=1)"
      ]
    },
    {
      "cell_type": "markdown",
      "id": "bHTgk2OWIKXw",
      "metadata": {
        "id": "bHTgk2OWIKXw"
      },
      "source": [
        "**Order_Count**"
      ]
    },
    {
      "cell_type": "code",
      "execution_count": 69,
      "id": "2FSilF83IaRI",
      "metadata": {
        "id": "2FSilF83IaRI"
      },
      "outputs": [],
      "source": [
        "df['order_count']=df['DOW_0']+df['DOW_1']+df['DOW_2']+df['DOW_3']+df['DOW_4']+df['DOW_5']+df['DOW_6']"
      ]
    },
    {
      "cell_type": "markdown",
      "id": "mFRWalwlUeeY",
      "metadata": {
        "id": "mFRWalwlUeeY"
      },
      "source": [
        "**Diversity_Cuisine**"
      ]
    },
    {
      "cell_type": "code",
      "execution_count": 70,
      "id": "XN_13jXlUerJ",
      "metadata": {
        "id": "XN_13jXlUerJ"
      },
      "outputs": [],
      "source": [
        "df['Diversity_Cuisine'] = (df[cuisine] > 0).sum(axis=1)\n",
        "df['Diversity_Cuisine'] = df['order_count']/df['Diversity_Cuisine']"
      ]
    },
    {
      "cell_type": "markdown",
      "id": "xCsQWmOiWg8R",
      "metadata": {
        "id": "xCsQWmOiWg8R"
      },
      "source": [
        "**Costumer_time**"
      ]
    },
    {
      "cell_type": "code",
      "execution_count": 71,
      "id": "Do_Ym9HRWkcT",
      "metadata": {
        "id": "Do_Ym9HRWkcT"
      },
      "outputs": [],
      "source": [
        "df['costumer_time']=df['last_order']-df['first_order']"
      ]
    },
    {
      "cell_type": "markdown",
      "id": "51T04ERQWLym",
      "metadata": {
        "id": "51T04ERQWLym"
      },
      "source": [
        "**Intensity_of_Activity**"
      ]
    },
    {
      "cell_type": "code",
      "execution_count": 72,
      "id": "WMLet25-WOV6",
      "metadata": {
        "id": "WMLet25-WOV6"
      },
      "outputs": [],
      "source": [
        "df['Intensity_of_Activity'] = df['costumer_time'] / df['order_count']"
      ]
    },
    {
      "cell_type": "markdown",
      "id": "r4_vgo1HYcNV",
      "metadata": {
        "id": "r4_vgo1HYcNV"
      },
      "source": [
        "**Customer_Loyalty**"
      ]
    },
    {
      "cell_type": "code",
      "execution_count": 73,
      "id": "I335t7sjYh0f",
      "metadata": {
        "id": "I335t7sjYh0f"
      },
      "outputs": [],
      "source": [
        "df['Customer_loyalty'] = df['vendor_count'] / df['order_count']"
      ]
    },
    {
      "cell_type": "markdown",
      "id": "sCuKdYQCZdiv",
      "metadata": {
        "id": "sCuKdYQCZdiv"
      },
      "source": [
        "**Product_Intensity**"
      ]
    },
    {
      "cell_type": "code",
      "execution_count": 74,
      "id": "RHil6I3CZjuq",
      "metadata": {
        "id": "RHil6I3CZjuq"
      },
      "outputs": [],
      "source": [
        "df['product_intensity'] = df['product_count'] / df['order_count']"
      ]
    },
    {
      "cell_type": "markdown",
      "id": "N6fGsqWj3qe9",
      "metadata": {
        "id": "N6fGsqWj3qe9"
      },
      "source": [
        "**Day_Week_Spread**"
      ]
    },
    {
      "cell_type": "code",
      "execution_count": 75,
      "id": "PZlhd4uG6x9t",
      "metadata": {
        "id": "PZlhd4uG6x9t"
      },
      "outputs": [],
      "source": [
        "days = [col for col in df.columns if col.startswith('DOW_')]"
      ]
    },
    {
      "cell_type": "code",
      "execution_count": 76,
      "id": "ZsJoVRMm6oh2",
      "metadata": {
        "id": "ZsJoVRMm6oh2"
      },
      "outputs": [],
      "source": [
        "df['Day_Week_Spread'] = df.loc[:,days].var(axis=1)"
      ]
    },
    {
      "cell_type": "markdown",
      "id": "A0JJGlLN7ppg",
      "metadata": {
        "id": "A0JJGlLN7ppg"
      },
      "source": [
        "**hour_spread**"
      ]
    },
    {
      "cell_type": "code",
      "execution_count": 77,
      "id": "X6WUt0W-7wtu",
      "metadata": {
        "id": "X6WUt0W-7wtu"
      },
      "outputs": [],
      "source": [
        "hours=[col for col in df.columns if col.startswith('HR_')]"
      ]
    },
    {
      "cell_type": "code",
      "execution_count": 78,
      "id": "PyFgombB78Iq",
      "metadata": {
        "id": "PyFgombB78Iq"
      },
      "outputs": [],
      "source": [
        "df['hour_spread'] = df.loc[:,hours].var(axis=1)"
      ]
    },
    {
      "cell_type": "code",
      "execution_count": 79,
      "id": "01UITIar4SIp",
      "metadata": {
        "id": "01UITIar4SIp"
      },
      "outputs": [],
      "source": [
        "df.to_csv('df_Clean.csv')"
      ]
    },
    {
      "cell_type": "markdown",
      "id": "88tIVnyJDDfW",
      "metadata": {
        "id": "88tIVnyJDDfW"
      },
      "source": [
        "# Normalize data"
      ]
    },
    {
      "cell_type": "code",
      "execution_count": 80,
      "id": "-nI0DdK_DGbN",
      "metadata": {
        "id": "-nI0DdK_DGbN"
      },
      "outputs": [],
      "source": [
        "#Select numeric features\n",
        "metric_features = df.select_dtypes(include=['number']).columns.tolist()"
      ]
    },
    {
      "cell_type": "code",
      "execution_count": 81,
      "id": "RnIGC-YPFtZ2",
      "metadata": {
        "id": "RnIGC-YPFtZ2"
      },
      "outputs": [],
      "source": [
        "# Normalize numeric data with Min-Max scaler\n",
        "scaler = MinMaxScaler()\n",
        "scaled_feat = scaler.fit_transform(df[metric_features])\n",
        "df[metric_features] = scaled_feat"
      ]
    },
    {
      "cell_type": "code",
      "execution_count": 82,
      "id": "wTC9SwzMG_nA",
      "metadata": {
        "id": "wTC9SwzMG_nA"
      },
      "outputs": [],
      "source": [
        "#Select categorical features\n",
        "categorical_features = df.select_dtypes(include=['object', 'category']).columns.tolist()"
      ]
    },
    {
      "cell_type": "code",
      "execution_count": 83,
      "id": "b540dce0",
      "metadata": {},
      "outputs": [],
      "source": [
        "def encode_by_proportion(df,column_name):\n",
        "    category_proportions = df[column_name].value_counts(normalize=True)\n",
        "\n",
        "    df[column_name] = df[column_name].map(category_proportions)\n",
        "    \n",
        "    return df"
      ]
    },
    {
      "cell_type": "code",
      "execution_count": 84,
      "id": "x6pN72UYHxjJ",
      "metadata": {
        "colab": {
          "base_uri": "https://localhost:8080/",
          "height": 475
        },
        "id": "x6pN72UYHxjJ",
        "outputId": "f3a2a492-9f5f-433c-9f36-ed02614f8a24"
      },
      "outputs": [],
      "source": [
        "ohc_df = df.copy()\n",
        "ohc_df=ohc_df[categorical_features]\n",
        "for i in ohc_df.columns:\n",
        "    ohc_df=encode_by_proportion(ohc_df,i)\n",
        "df[categorical_features]=ohc_df"
      ]
    },
    {
      "cell_type": "markdown",
      "id": "85f942c7",
      "metadata": {},
      "source": [
        "# Separate data by  demographic segmentation and behaviour-based segmentation"
      ]
    },
    {
      "cell_type": "code",
      "execution_count": 85,
      "id": "4a0e5e9e",
      "metadata": {},
      "outputs": [],
      "source": [
        "df_demo=df['customer_age']"
      ]
    },
    {
      "cell_type": "code",
      "execution_count": 86,
      "id": "72b6236b",
      "metadata": {},
      "outputs": [],
      "source": [
        "df = df.drop('customer_age', axis=1)"
      ]
    },
    {
      "cell_type": "code",
      "execution_count": 87,
      "id": "ec840865",
      "metadata": {},
      "outputs": [],
      "source": [
        "df_demo.to_csv('df_demo.csv')"
      ]
    },
    {
      "cell_type": "markdown",
      "id": "D1sknH4ao9WU",
      "metadata": {
        "id": "D1sknH4ao9WU"
      },
      "source": [
        "# PCA analisys"
      ]
    },
    {
      "cell_type": "code",
      "execution_count": 88,
      "id": "b24c19de",
      "metadata": {},
      "outputs": [
        {
          "name": "stdout",
          "output_type": "stream",
          "text": [
            "<class 'pandas.core.frame.DataFrame'>\n",
            "Index: 30554 entries, 1b8f824d5e to fd40d3b0e0\n",
            "Data columns (total 62 columns):\n",
            " #   Column                    Non-Null Count  Dtype  \n",
            "---  ------                    --------------  -----  \n",
            " 0   customer_region           30554 non-null  float64\n",
            " 1   vendor_count              30554 non-null  float64\n",
            " 2   product_count             30554 non-null  float64\n",
            " 3   is_chain                  30554 non-null  float64\n",
            " 4   first_order               30554 non-null  float64\n",
            " 5   last_order                30554 non-null  float64\n",
            " 6   last_promo                30554 non-null  float64\n",
            " 7   payment_method            30554 non-null  float64\n",
            " 8   CUI_American              30554 non-null  float64\n",
            " 9   CUI_Asian                 30554 non-null  float64\n",
            " 10  CUI_Beverages             30554 non-null  float64\n",
            " 11  CUI_Cafe                  30554 non-null  float64\n",
            " 12  CUI_Chicken Dishes        30554 non-null  float64\n",
            " 13  CUI_Chinese               30554 non-null  float64\n",
            " 14  CUI_Desserts              30554 non-null  float64\n",
            " 15  CUI_Healthy               30554 non-null  float64\n",
            " 16  CUI_Indian                30554 non-null  float64\n",
            " 17  CUI_Italian               30554 non-null  float64\n",
            " 18  CUI_Japanese              30554 non-null  float64\n",
            " 19  CUI_Noodle Dishes         30554 non-null  float64\n",
            " 20  CUI_OTHER                 30554 non-null  float64\n",
            " 21  CUI_Street Food / Snacks  30554 non-null  float64\n",
            " 22  CUI_Thai                  30554 non-null  float64\n",
            " 23  DOW_0                     30554 non-null  float64\n",
            " 24  DOW_1                     30554 non-null  float64\n",
            " 25  DOW_2                     30554 non-null  float64\n",
            " 26  DOW_3                     30554 non-null  float64\n",
            " 27  DOW_4                     30554 non-null  float64\n",
            " 28  DOW_5                     30554 non-null  float64\n",
            " 29  DOW_6                     30554 non-null  float64\n",
            " 30  HR_1                      30554 non-null  float64\n",
            " 31  HR_2                      30554 non-null  float64\n",
            " 32  HR_3                      30554 non-null  float64\n",
            " 33  HR_4                      30554 non-null  float64\n",
            " 34  HR_5                      30554 non-null  float64\n",
            " 35  HR_6                      30554 non-null  float64\n",
            " 36  HR_7                      30554 non-null  float64\n",
            " 37  HR_8                      30554 non-null  float64\n",
            " 38  HR_9                      30554 non-null  float64\n",
            " 39  HR_10                     30554 non-null  float64\n",
            " 40  HR_11                     30554 non-null  float64\n",
            " 41  HR_12                     30554 non-null  float64\n",
            " 42  HR_13                     30554 non-null  float64\n",
            " 43  HR_14                     30554 non-null  float64\n",
            " 44  HR_15                     30554 non-null  float64\n",
            " 45  HR_16                     30554 non-null  float64\n",
            " 46  HR_17                     30554 non-null  float64\n",
            " 47  HR_18                     30554 non-null  float64\n",
            " 48  HR_19                     30554 non-null  float64\n",
            " 49  HR_20                     30554 non-null  float64\n",
            " 50  HR_21                     30554 non-null  float64\n",
            " 51  HR_22                     30554 non-null  float64\n",
            " 52  HR_23                     30554 non-null  float64\n",
            " 53  Total_Spent               30554 non-null  float64\n",
            " 54  order_count               30554 non-null  float64\n",
            " 55  Diversity_Cuisine         30554 non-null  float64\n",
            " 56  costumer_time             30554 non-null  float64\n",
            " 57  Intensity_of_Activity     30554 non-null  float64\n",
            " 58  Customer_loyalty          30554 non-null  float64\n",
            " 59  product_intensity         30554 non-null  float64\n",
            " 60  Day_Week_Spread           30554 non-null  float64\n",
            " 61  hour_spread               30554 non-null  float64\n",
            "dtypes: float64(62)\n",
            "memory usage: 15.7+ MB\n"
          ]
        }
      ],
      "source": [
        "df.info()"
      ]
    },
    {
      "cell_type": "code",
      "execution_count": 89,
      "id": "WQ-aHfuAo8yJ",
      "metadata": {
        "id": "WQ-aHfuAo8yJ"
      },
      "outputs": [],
      "source": [
        "metric_features = df.select_dtypes(include=['number']).columns.tolist()\n",
        "metric_features.remove('last_promo')\n",
        "metric_features.remove('payment_method')\n",
        "metric_features.remove('customer_region')\n",
        "X = df[metric_features]\n",
        "pca = PCA().fit(X)"
      ]
    },
    {
      "cell_type": "code",
      "execution_count": 90,
      "id": "sp2d7s3fvDYH",
      "metadata": {
        "colab": {
          "base_uri": "https://localhost:8080/",
          "height": 677
        },
        "id": "sp2d7s3fvDYH",
        "outputId": "ac1059cb-e826-4b2b-e4cd-a77da9a60bca"
      },
      "outputs": [
        {
          "data": {
            "text/html": [
              "<div>\n",
              "<style scoped>\n",
              "    .dataframe tbody tr th:only-of-type {\n",
              "        vertical-align: middle;\n",
              "    }\n",
              "\n",
              "    .dataframe tbody tr th {\n",
              "        vertical-align: top;\n",
              "    }\n",
              "\n",
              "    .dataframe thead th {\n",
              "        text-align: right;\n",
              "    }\n",
              "</style>\n",
              "<table border=\"1\" class=\"dataframe\">\n",
              "  <thead>\n",
              "    <tr style=\"text-align: right;\">\n",
              "      <th></th>\n",
              "      <th>Eigenvalue</th>\n",
              "      <th>Difference</th>\n",
              "      <th>Proportion</th>\n",
              "      <th>Cumulative</th>\n",
              "    </tr>\n",
              "  </thead>\n",
              "  <tbody>\n",
              "    <tr>\n",
              "      <th>1</th>\n",
              "      <td>0.158237</td>\n",
              "      <td>0.000000</td>\n",
              "      <td>0.425636</td>\n",
              "      <td>0.425636</td>\n",
              "    </tr>\n",
              "    <tr>\n",
              "      <th>2</th>\n",
              "      <td>0.085736</td>\n",
              "      <td>-0.072501</td>\n",
              "      <td>0.230617</td>\n",
              "      <td>0.656253</td>\n",
              "    </tr>\n",
              "    <tr>\n",
              "      <th>3</th>\n",
              "      <td>0.043986</td>\n",
              "      <td>-0.041749</td>\n",
              "      <td>0.118317</td>\n",
              "      <td>0.774570</td>\n",
              "    </tr>\n",
              "    <tr>\n",
              "      <th>4</th>\n",
              "      <td>0.020823</td>\n",
              "      <td>-0.023163</td>\n",
              "      <td>0.056011</td>\n",
              "      <td>0.830581</td>\n",
              "    </tr>\n",
              "    <tr>\n",
              "      <th>5</th>\n",
              "      <td>0.007863</td>\n",
              "      <td>-0.012960</td>\n",
              "      <td>0.021149</td>\n",
              "      <td>0.851731</td>\n",
              "    </tr>\n",
              "    <tr>\n",
              "      <th>6</th>\n",
              "      <td>0.004534</td>\n",
              "      <td>-0.003328</td>\n",
              "      <td>0.012197</td>\n",
              "      <td>0.863928</td>\n",
              "    </tr>\n",
              "    <tr>\n",
              "      <th>7</th>\n",
              "      <td>0.003645</td>\n",
              "      <td>-0.000890</td>\n",
              "      <td>0.009804</td>\n",
              "      <td>0.873731</td>\n",
              "    </tr>\n",
              "    <tr>\n",
              "      <th>8</th>\n",
              "      <td>0.003178</td>\n",
              "      <td>-0.000467</td>\n",
              "      <td>0.008549</td>\n",
              "      <td>0.882280</td>\n",
              "    </tr>\n",
              "    <tr>\n",
              "      <th>9</th>\n",
              "      <td>0.002890</td>\n",
              "      <td>-0.000288</td>\n",
              "      <td>0.007773</td>\n",
              "      <td>0.890053</td>\n",
              "    </tr>\n",
              "    <tr>\n",
              "      <th>10</th>\n",
              "      <td>0.002525</td>\n",
              "      <td>-0.000365</td>\n",
              "      <td>0.006791</td>\n",
              "      <td>0.896844</td>\n",
              "    </tr>\n",
              "    <tr>\n",
              "      <th>11</th>\n",
              "      <td>0.002426</td>\n",
              "      <td>-0.000099</td>\n",
              "      <td>0.006525</td>\n",
              "      <td>0.903369</td>\n",
              "    </tr>\n",
              "    <tr>\n",
              "      <th>12</th>\n",
              "      <td>0.002215</td>\n",
              "      <td>-0.000210</td>\n",
              "      <td>0.005959</td>\n",
              "      <td>0.909328</td>\n",
              "    </tr>\n",
              "    <tr>\n",
              "      <th>13</th>\n",
              "      <td>0.002179</td>\n",
              "      <td>-0.000036</td>\n",
              "      <td>0.005862</td>\n",
              "      <td>0.915190</td>\n",
              "    </tr>\n",
              "    <tr>\n",
              "      <th>14</th>\n",
              "      <td>0.002080</td>\n",
              "      <td>-0.000099</td>\n",
              "      <td>0.005594</td>\n",
              "      <td>0.920784</td>\n",
              "    </tr>\n",
              "    <tr>\n",
              "      <th>15</th>\n",
              "      <td>0.002038</td>\n",
              "      <td>-0.000042</td>\n",
              "      <td>0.005481</td>\n",
              "      <td>0.926265</td>\n",
              "    </tr>\n",
              "    <tr>\n",
              "      <th>16</th>\n",
              "      <td>0.001960</td>\n",
              "      <td>-0.000078</td>\n",
              "      <td>0.005272</td>\n",
              "      <td>0.931537</td>\n",
              "    </tr>\n",
              "    <tr>\n",
              "      <th>17</th>\n",
              "      <td>0.001751</td>\n",
              "      <td>-0.000209</td>\n",
              "      <td>0.004709</td>\n",
              "      <td>0.936247</td>\n",
              "    </tr>\n",
              "    <tr>\n",
              "      <th>18</th>\n",
              "      <td>0.001650</td>\n",
              "      <td>-0.000101</td>\n",
              "      <td>0.004439</td>\n",
              "      <td>0.940685</td>\n",
              "    </tr>\n",
              "    <tr>\n",
              "      <th>19</th>\n",
              "      <td>0.001461</td>\n",
              "      <td>-0.000189</td>\n",
              "      <td>0.003931</td>\n",
              "      <td>0.944616</td>\n",
              "    </tr>\n",
              "    <tr>\n",
              "      <th>20</th>\n",
              "      <td>0.001422</td>\n",
              "      <td>-0.000040</td>\n",
              "      <td>0.003824</td>\n",
              "      <td>0.948440</td>\n",
              "    </tr>\n",
              "  </tbody>\n",
              "</table>\n",
              "</div>"
            ],
            "text/plain": [
              "    Eigenvalue  Difference  Proportion  Cumulative\n",
              "1     0.158237    0.000000    0.425636    0.425636\n",
              "2     0.085736   -0.072501    0.230617    0.656253\n",
              "3     0.043986   -0.041749    0.118317    0.774570\n",
              "4     0.020823   -0.023163    0.056011    0.830581\n",
              "5     0.007863   -0.012960    0.021149    0.851731\n",
              "6     0.004534   -0.003328    0.012197    0.863928\n",
              "7     0.003645   -0.000890    0.009804    0.873731\n",
              "8     0.003178   -0.000467    0.008549    0.882280\n",
              "9     0.002890   -0.000288    0.007773    0.890053\n",
              "10    0.002525   -0.000365    0.006791    0.896844\n",
              "11    0.002426   -0.000099    0.006525    0.903369\n",
              "12    0.002215   -0.000210    0.005959    0.909328\n",
              "13    0.002179   -0.000036    0.005862    0.915190\n",
              "14    0.002080   -0.000099    0.005594    0.920784\n",
              "15    0.002038   -0.000042    0.005481    0.926265\n",
              "16    0.001960   -0.000078    0.005272    0.931537\n",
              "17    0.001751   -0.000209    0.004709    0.936247\n",
              "18    0.001650   -0.000101    0.004439    0.940685\n",
              "19    0.001461   -0.000189    0.003931    0.944616\n",
              "20    0.001422   -0.000040    0.003824    0.948440"
            ]
          },
          "execution_count": 90,
          "metadata": {},
          "output_type": "execute_result"
        }
      ],
      "source": [
        "PCA_s=pd.DataFrame(\n",
        "    {\"Eigenvalue\": pca.explained_variance_,\n",
        "     \"Difference\": np.insert(np.diff(pca.explained_variance_), 0, 0),\n",
        "     \"Proportion\": pca.explained_variance_ratio_,\n",
        "     \"Cumulative\": np.cumsum(pca.explained_variance_ratio_)},\n",
        "    index=range(1, pca.n_components_ + 1)\n",
        ")\n",
        "PCA_s.head(20)"
      ]
    },
    {
      "cell_type": "code",
      "execution_count": 91,
      "id": "j0BvDzCgKVjg",
      "metadata": {
        "colab": {
          "base_uri": "https://localhost:8080/"
        },
        "id": "j0BvDzCgKVjg",
        "outputId": "5e51c9d2-4b26-4d5f-a1f7-37a87d8e6b60"
      },
      "outputs": [
        {
          "name": "stdout",
          "output_type": "stream",
          "text": [
            "                               PC1       PC2       PC3       PC4       PC5  \\\n",
            "vendor_count              0.103836  0.007052  0.033605 -0.317628 -0.066511   \n",
            "product_count             0.095717  0.009165 -0.065709 -0.260967  0.046158   \n",
            "is_chain                  0.067863  0.003502 -0.039806 -0.188997 -0.088874   \n",
            "first_order              -0.446201  0.690839 -0.145256 -0.025415 -0.002715   \n",
            "last_order                0.359143  0.719291  0.202717  0.024875 -0.003153   \n",
            "CUI_American              0.029060  0.002159 -0.020634 -0.058329  0.025586   \n",
            "CUI_Asian                 0.021611  0.005562  0.001702 -0.067763  0.152612   \n",
            "CUI_Beverages             0.011955  0.000564  0.000314 -0.047124  0.046175   \n",
            "CUI_Cafe                  0.007447  0.001285 -0.009381 -0.027572 -0.001228   \n",
            "CUI_Chicken Dishes        0.006694 -0.000104 -0.002437 -0.020653 -0.013516   \n",
            "CUI_Chinese               0.006541  0.000507 -0.004086 -0.021039  0.004750   \n",
            "CUI_Desserts              0.003737  0.000718  0.002431 -0.017203  0.023284   \n",
            "CUI_Healthy               0.007409  0.001909 -0.007622 -0.017344  0.001563   \n",
            "CUI_Indian                0.009767  0.001068 -0.011062 -0.022471  0.004748   \n",
            "CUI_Italian               0.014585  0.002113 -0.024277 -0.011096 -0.001228   \n",
            "CUI_Japanese              0.007848  0.001663 -0.004606 -0.020575  0.015012   \n",
            "CUI_Noodle Dishes         0.005059 -0.000510 -0.002883 -0.017324  0.006700   \n",
            "CUI_OTHER                 0.018233  0.002258 -0.014827 -0.061052 -0.005447   \n",
            "CUI_Street Food / Snacks  0.008031  0.001430  0.005471 -0.036462  0.191115   \n",
            "CUI_Thai                  0.013498  0.001482 -0.012471 -0.029072 -0.012534   \n",
            "DOW_0                     0.071739  0.004186 -0.050424 -0.192034 -0.049841   \n",
            "DOW_1                     0.069902  0.005967 -0.051595 -0.188309 -0.043185   \n",
            "DOW_2                     0.082879  0.008712 -0.061306 -0.213333 -0.052398   \n",
            "DOW_3                     0.075020  0.011347 -0.054663 -0.187707 -0.049980   \n",
            "DOW_4                     0.080930  0.014965 -0.061998 -0.196200 -0.052163   \n",
            "DOW_5                     0.055889  0.004912 -0.034611 -0.142005 -0.032351   \n",
            "DOW_6                     0.076045 -0.000647 -0.046446 -0.187867 -0.036502   \n",
            "HR_1                      0.003531  0.000077  0.001418 -0.010196  0.014077   \n",
            "HR_2                      0.005723  0.000785  0.002414 -0.015279  0.034846   \n",
            "HR_3                      0.009956  0.004090  0.006198 -0.024582  0.075872   \n",
            "HR_4                      0.007359  0.002054  0.004143 -0.018511  0.042567   \n",
            "HR_5                      0.013005  0.002427  0.010337 -0.031346  0.077591   \n",
            "HR_6                      0.012556  0.001717  0.005111 -0.037300  0.050389   \n",
            "HR_7                      0.008664  0.001719 -0.001201 -0.028568  0.013011   \n",
            "HR_8                      0.005460  0.001034 -0.003820 -0.018818 -0.000847   \n",
            "HR_9                      0.021260  0.004539 -0.017003 -0.058249  0.006591   \n",
            "HR_10                     0.028722  0.003507 -0.021868 -0.077727 -0.000050   \n",
            "HR_11                     0.034307  0.002313 -0.022291 -0.100666 -0.033359   \n",
            "HR_12                     0.026076  0.000696 -0.015609 -0.075270 -0.036771   \n",
            "HR_13                     0.035220  0.001280 -0.024787 -0.097164 -0.035732   \n",
            "HR_14                     0.033646  0.004283 -0.031018 -0.083445 -0.017801   \n",
            "HR_15                     0.026058  0.005502 -0.028332 -0.046071 -0.012374   \n",
            "HR_16                     0.035200  0.004612 -0.037843 -0.059011 -0.030561   \n",
            "HR_17                     0.042752  0.003011 -0.041668 -0.089640 -0.068832   \n",
            "HR_18                     0.030254  0.000409 -0.023912 -0.075824 -0.060044   \n",
            "HR_19                     0.015156 -0.000203 -0.009948 -0.044167 -0.034725   \n",
            "HR_20                     0.008160 -0.000265 -0.004319 -0.024716 -0.019046   \n",
            "HR_21                     0.011829  0.000061 -0.005151 -0.031385 -0.028381   \n",
            "HR_22                     0.004855  0.000376 -0.000988 -0.013603 -0.005091   \n",
            "HR_23                     0.004546  0.000109  0.000012 -0.012631  0.000610   \n",
            "Total_Spent               0.085173  0.012506 -0.049987 -0.234862  0.265299   \n",
            "order_count               0.095112  0.009097 -0.066739 -0.242643 -0.058549   \n",
            "Diversity_Cuisine         0.042002  0.005995 -0.068522 -0.028578  0.007613   \n",
            "costumer_time             0.643168  0.029031  0.278324  0.040185 -0.000376   \n",
            "Intensity_of_Activity     0.172826  0.005522  0.292785  0.453600  0.066592   \n",
            "Customer_loyalty         -0.363781 -0.057755  0.852128 -0.342611 -0.039736   \n",
            "product_intensity        -0.009343  0.000218 -0.003360 -0.091512  0.890425   \n",
            "Day_Week_Spread           0.036536  0.003186 -0.027779 -0.089909 -0.022692   \n",
            "hour_spread               0.010479  0.001078 -0.012228 -0.038562 -0.010284   \n",
            "\n",
            "                               PC6       PC7       PC8       PC9      PC10  \\\n",
            "vendor_count              0.013683  0.038107 -0.001581 -0.029841 -0.058356   \n",
            "product_count            -0.042569 -0.052384  0.150565 -0.008758 -0.006161   \n",
            "is_chain                 -0.094875 -0.063614  0.083378 -0.066062 -0.126401   \n",
            "first_order              -0.009531 -0.052098  0.138193 -0.013485 -0.000321   \n",
            "last_order               -0.000091  0.062928 -0.146141  0.000241 -0.003319   \n",
            "CUI_American              0.046750  0.041889  0.053146  0.098032  0.142568   \n",
            "CUI_Asian                 0.306960  0.057805  0.070778  0.037950  0.061753   \n",
            "CUI_Beverages             0.119359 -0.013526  0.076036 -0.027604 -0.129657   \n",
            "CUI_Cafe                 -0.007350 -0.016671  0.044463  0.006544  0.017877   \n",
            "CUI_Chicken Dishes       -0.041310 -0.008772 -0.003568 -0.013220 -0.026334   \n",
            "CUI_Chinese              -0.014963 -0.006506  0.008085 -0.014073 -0.019704   \n",
            "CUI_Desserts              0.055470  0.010603  0.013651 -0.006263 -0.008744   \n",
            "CUI_Healthy               0.028858 -0.027282  0.001825  0.003708  0.009661   \n",
            "CUI_Indian               -0.052596 -0.023111  0.000614  0.011693  0.035962   \n",
            "CUI_Italian              -0.059685  0.011417  0.015295  0.049278  0.087706   \n",
            "CUI_Japanese              0.011567  0.002645  0.008595  0.012548  0.023196   \n",
            "CUI_Noodle Dishes        -0.036631 -0.009464 -0.003404 -0.021952 -0.037113   \n",
            "CUI_OTHER                -0.092572 -0.048430  0.035274  0.011168  0.034757   \n",
            "CUI_Street Food / Snacks  0.098283  0.024238  0.033874 -0.004299 -0.008744   \n",
            "CUI_Thai                 -0.068358 -0.016787  0.014559  0.027096  0.061994   \n",
            "DOW_0                     0.077075 -0.235037  0.035365 -0.193016 -0.430405   \n",
            "DOW_1                     0.076180 -0.256866  0.039667 -0.122259 -0.182097   \n",
            "DOW_2                     0.068047 -0.425074 -0.049356 -0.305104  0.653112   \n",
            "DOW_3                     0.025710 -0.213410 -0.007909 -0.032723 -0.102026   \n",
            "DOW_4                    -0.087675 -0.119216  0.137318  0.832540 -0.052667   \n",
            "DOW_5                    -0.096351  0.224127  0.140568  0.005280 -0.043707   \n",
            "DOW_6                    -0.196589  0.623664  0.404992 -0.256202  0.123252   \n",
            "HR_1                      0.046008  0.013201  0.001661  0.004938  0.001307   \n",
            "HR_2                      0.110145  0.025069  0.008644  0.010664  0.010525   \n",
            "HR_3                      0.323167  0.030524  0.011688  0.037321  0.051640   \n",
            "HR_4                      0.202749  0.047054  0.026437  0.000710  0.020075   \n",
            "HR_5                      0.457625  0.138695  0.113560  0.008682 -0.022682   \n",
            "HR_6                      0.318976  0.077263  0.103949  0.020104 -0.039588   \n",
            "HR_7                      0.080383  0.002234  0.040451  0.001097 -0.012729   \n",
            "HR_8                      0.015930 -0.010851  0.023928  0.001424 -0.009625   \n",
            "HR_9                      0.064173 -0.051971  0.045834  0.027863  0.026063   \n",
            "HR_10                     0.066584 -0.065368  0.054069  0.015979  0.032734   \n",
            "HR_11                    -0.027033 -0.072463  0.046681 -0.073065 -0.142209   \n",
            "HR_12                    -0.051475 -0.046728  0.016678 -0.078280 -0.138992   \n",
            "HR_13                    -0.086156 -0.039793  0.072950 -0.124575 -0.198774   \n",
            "HR_14                    -0.094533  0.005038  0.110728 -0.039508 -0.049789   \n",
            "HR_15                    -0.072775 -0.000758  0.041867  0.056806  0.095550   \n",
            "HR_16                    -0.129565 -0.007261  0.032398  0.109496  0.234433   \n",
            "HR_17                    -0.224947 -0.014486  0.018371  0.091816  0.230880   \n",
            "HR_18                    -0.161287 -0.010306 -0.001076 -0.015609 -0.009010   \n",
            "HR_19                    -0.074498 -0.006973  0.003628 -0.024377 -0.054106   \n",
            "HR_20                    -0.034430 -0.009129  0.000552 -0.021585 -0.035612   \n",
            "HR_21                    -0.050505 -0.004499 -0.012636 -0.039320 -0.072803   \n",
            "HR_22                    -0.001880  0.004394 -0.005913 -0.012221 -0.014074   \n",
            "HR_23                     0.005828  0.005276 -0.004638 -0.012386 -0.007252   \n",
            "Total_Spent               0.221329  0.016302  0.187002  0.097898  0.155910   \n",
            "order_count              -0.029842 -0.055045  0.136208 -0.013652 -0.017127   \n",
            "Diversity_Cuisine         0.047843 -0.015714  0.053717  0.006276  0.022861   \n",
            "costumer_time             0.007501  0.091967 -0.227249  0.010910 -0.002412   \n",
            "Intensity_of_Activity    -0.078874 -0.330949  0.722466 -0.040660  0.003371   \n",
            "Customer_loyalty         -0.024491 -0.004095 -0.019233  0.021516  0.029602   \n",
            "product_intensity        -0.307827 -0.067404 -0.103257 -0.048481 -0.068707   \n",
            "Day_Week_Spread          -0.033471  0.024498  0.065013  0.013614  0.002038   \n",
            "hour_spread              -0.009533 -0.034148  0.051546 -0.000629 -0.002277   \n",
            "\n",
            "                          ...      PC50      PC51      PC52      PC53  \\\n",
            "vendor_count              ...  0.071907  0.118342 -0.014914  0.066662   \n",
            "product_count             ... -0.040786  0.015043  0.004100  0.041015   \n",
            "is_chain                  ... -0.000014 -0.231004 -0.182022 -0.033564   \n",
            "first_order               ...  0.003010  0.004006 -0.001260 -0.000863   \n",
            "last_order                ... -0.003558 -0.004444  0.001383  0.000357   \n",
            "CUI_American              ...  0.002102  0.016441  0.022704  0.008842   \n",
            "CUI_Asian                 ... -0.031916 -0.043620  0.053333 -0.013108   \n",
            "CUI_Beverages             ...  0.001843  0.033496  0.020452 -0.037419   \n",
            "CUI_Cafe                  ...  0.001989  0.122871  0.032768 -0.054067   \n",
            "CUI_Chicken Dishes        ...  0.760313  0.289368  0.029365  0.052885   \n",
            "CUI_Chinese               ... -0.022386 -0.456219 -0.496061  0.137276   \n",
            "CUI_Desserts              ... -0.005280  0.034565  0.012722 -0.024305   \n",
            "CUI_Healthy               ...  0.014612  0.016066  0.014360 -0.014562   \n",
            "CUI_Indian                ... -0.009499 -0.014458 -0.040076  0.022357   \n",
            "CUI_Italian               ... -0.025875 -0.232005 -0.011678  0.023681   \n",
            "CUI_Japanese              ...  0.096951  0.107287  0.105611 -0.045565   \n",
            "CUI_Noodle Dishes         ... -0.590692  0.466743  0.150043 -0.023772   \n",
            "CUI_OTHER                 ...  0.042880  0.001752  0.009526  0.015210   \n",
            "CUI_Street Food / Snacks  ... -0.018339  0.000847  0.023771 -0.018527   \n",
            "CUI_Thai                  ... -0.020868  0.000818  0.003909 -0.000513   \n",
            "DOW_0                     ... -0.010885 -0.015137  0.055432  0.017534   \n",
            "DOW_1                     ... -0.013052 -0.011353  0.057844  0.011633   \n",
            "DOW_2                     ... -0.017688 -0.017175  0.049778  0.017288   \n",
            "DOW_3                     ... -0.018167 -0.015328  0.061382  0.021259   \n",
            "DOW_4                     ... -0.019382 -0.014582  0.053788  0.012445   \n",
            "DOW_5                     ... -0.023393 -0.017719  0.075952  0.014858   \n",
            "DOW_6                     ... -0.014383 -0.014469  0.059768  0.018124   \n",
            "HR_1                      ...  0.022900 -0.001623 -0.062110 -0.048387   \n",
            "HR_2                      ... -0.009587  0.001082 -0.041119 -0.055224   \n",
            "HR_3                      ... -0.007430 -0.000774 -0.019147 -0.031387   \n",
            "HR_4                      ... -0.005828  0.007025 -0.033086 -0.042678   \n",
            "HR_5                      ... -0.005445 -0.006848 -0.016129 -0.014075   \n",
            "HR_6                      ... -0.003441 -0.000998 -0.015236 -0.012477   \n",
            "HR_7                      ... -0.002748 -0.013474 -0.105208 -0.173109   \n",
            "HR_8                      ... -0.009924 -0.026618  0.265083  0.786511   \n",
            "HR_9                      ...  0.003985  0.031371 -0.100446 -0.149931   \n",
            "HR_10                     ... -0.009585  0.012386 -0.060861 -0.061572   \n",
            "HR_11                     ...  0.000297  0.007594 -0.039998 -0.075511   \n",
            "HR_12                     ... -0.002075  0.024119 -0.055736 -0.075488   \n",
            "HR_13                     ...  0.001449  0.011551 -0.033432 -0.026504   \n",
            "HR_14                     ... -0.016773  0.013828 -0.032212 -0.027471   \n",
            "HR_15                     ... -0.006470  0.031376 -0.062211 -0.066682   \n",
            "HR_16                     ... -0.022536  0.037763 -0.052041 -0.069931   \n",
            "HR_17                     ... -0.006714  0.023505 -0.038322 -0.064069   \n",
            "HR_18                     ...  0.010120  0.026458 -0.032328 -0.080923   \n",
            "HR_19                     ... -0.090587  0.201720 -0.316572 -0.059856   \n",
            "HR_20                     ...  0.083442 -0.350029  0.616607 -0.418176   \n",
            "HR_21                     ... -0.003320  0.059028 -0.103565  0.021319   \n",
            "HR_22                     ... -0.011492 -0.010878 -0.087134 -0.060626   \n",
            "HR_23                     ... -0.010096 -0.000295 -0.032697 -0.035874   \n",
            "Total_Spent               ...  0.042640 -0.020851 -0.077076  0.020509   \n",
            "order_count               ... -0.022141 -0.019856  0.078401  0.021149   \n",
            "Diversity_Cuisine         ...  0.166060  0.399057 -0.128155 -0.069989   \n",
            "costumer_time             ... -0.005251 -0.006755  0.002113  0.000973   \n",
            "Intensity_of_Activity     ...  0.009987  0.012178 -0.003908 -0.004686   \n",
            "Customer_loyalty          ...  0.000108  0.011287 -0.005979 -0.011033   \n",
            "product_intensity         ...  0.008757 -0.004519  0.009593 -0.005748   \n",
            "Day_Week_Spread           ...  0.044764 -0.010048 -0.001531 -0.026008   \n",
            "hour_spread               ... -0.009753 -0.039291  0.080196  0.229841   \n",
            "\n",
            "                              PC54      PC55          PC56          PC57  \\\n",
            "vendor_count             -0.042584  0.086282 -0.000000e+00 -0.000000e+00   \n",
            "product_count             0.876152  0.212158 -2.523698e-14  2.010032e-14   \n",
            "is_chain                 -0.054633  0.005199  1.636858e-15 -1.033011e-14   \n",
            "first_order              -0.001059 -0.003192 -2.572691e-03 -2.258652e-02   \n",
            "last_order                0.001456  0.003591  2.601598e-03  2.284030e-02   \n",
            "CUI_American              0.005808  0.008266 -1.692821e-01 -2.723499e-02   \n",
            "CUI_Asian                 0.008042  0.005267 -3.247115e-01 -5.224130e-02   \n",
            "CUI_Beverages            -0.006636 -0.007162 -1.384777e-01 -2.227902e-02   \n",
            "CUI_Cafe                 -0.019140  0.035025 -1.970054e-01 -3.169526e-02   \n",
            "CUI_Chicken Dishes       -0.087246 -0.015293 -1.327023e-01 -2.134984e-02   \n",
            "CUI_Chinese              -0.105377 -0.083063 -2.631813e-01 -4.234200e-02   \n",
            "CUI_Desserts              0.001784  0.012388 -1.389912e-01 -2.236164e-02   \n",
            "CUI_Healthy               0.007794  0.008146 -1.545414e-01 -2.486343e-02   \n",
            "CUI_Indian               -0.031414 -0.015578 -1.867171e-01 -3.004003e-02   \n",
            "CUI_Italian              -0.032341  0.024593 -2.829302e-01 -4.551930e-02   \n",
            "CUI_Japanese             -0.009092 -0.012411 -3.564342e-01 -5.734500e-02   \n",
            "CUI_Noodle Dishes        -0.168609 -0.032478 -1.662010e-01 -2.673929e-02   \n",
            "CUI_OTHER                -0.040903 -0.014973 -2.211583e-01 -3.558112e-02   \n",
            "CUI_Street Food / Snacks  0.015594  0.002029 -2.310116e-01 -3.716637e-02   \n",
            "CUI_Thai                  0.004610  0.002224 -8.239066e-02 -1.325544e-02   \n",
            "DOW_0                    -0.062132 -0.067996 -5.062669e-02 -5.782439e-02   \n",
            "DOW_1                    -0.068579 -0.072442 -5.379086e-02 -6.143842e-02   \n",
            "DOW_2                    -0.062766 -0.065575 -4.746252e-02 -5.421037e-02   \n",
            "DOW_3                    -0.067750 -0.071743 -5.379086e-02 -6.143842e-02   \n",
            "DOW_4                    -0.065601 -0.069298 -5.062669e-02 -5.782439e-02   \n",
            "DOW_5                    -0.083045 -0.082471 -6.328337e-02 -7.228049e-02   \n",
            "DOW_6                    -0.075751 -0.069395 -5.379086e-02 -6.143842e-02   \n",
            "HR_1                     -0.004902  0.010230  4.168991e-02 -7.344776e-02   \n",
            "HR_2                     -0.002910  0.017433  3.573421e-02 -6.295523e-02   \n",
            "HR_3                      0.001891  0.005238  3.275636e-02 -5.770896e-02   \n",
            "HR_4                      0.004941  0.013532  4.168991e-02 -7.344776e-02   \n",
            "HR_5                      0.002590  0.008186  2.084496e-02 -3.672388e-02   \n",
            "HR_6                      0.002673  0.012679  2.084496e-02 -3.672388e-02   \n",
            "HR_7                     -0.006917  0.013603  4.466776e-02 -7.869403e-02   \n",
            "HR_8                      0.017372 -0.238741  1.548482e-01 -2.728060e-01   \n",
            "HR_9                     -0.017621  0.038892  6.849057e-02 -1.206642e-01   \n",
            "HR_10                    -0.000519  0.017224  7.444627e-02 -1.311567e-01   \n",
            "HR_11                    -0.028112  0.007887  6.849057e-02 -1.206642e-01   \n",
            "HR_12                    -0.039408  0.011430  7.742412e-02 -1.364030e-01   \n",
            "HR_13                    -0.023353  0.020426  4.168991e-02 -7.344776e-02   \n",
            "HR_14                    -0.020303  0.021406  3.871206e-02 -6.820149e-02   \n",
            "HR_15                    -0.017186  0.013786  6.849057e-02 -1.206642e-01   \n",
            "HR_16                    -0.012175  0.014939  6.551272e-02 -1.154179e-01   \n",
            "HR_17                    -0.014836  0.008899  5.955702e-02 -1.049254e-01   \n",
            "HR_18                    -0.030096  0.007437  7.146842e-02 -1.259105e-01   \n",
            "HR_19                    -0.052609 -0.012950  1.042248e-01 -1.836194e-01   \n",
            "HR_20                    -0.055254 -0.007254  1.072026e-01 -1.888657e-01   \n",
            "HR_21                    -0.026727  0.013396  3.275636e-02 -5.770896e-02   \n",
            "HR_22                    -0.030421  0.003465  4.466776e-02 -7.869403e-02   \n",
            "HR_23                    -0.011913  0.013572  3.275636e-02 -5.770896e-02   \n",
            "Total_Spent              -0.214102 -0.048188  4.217462e-01  6.785275e-02   \n",
            "order_count              -0.091683 -0.094007  1.676858e-02  7.974264e-01   \n",
            "Diversity_Cuisine         0.009065 -0.033053 -6.385148e-15  1.193994e-15   \n",
            "costumer_time             0.002012  0.005422 -3.237544e-03 -2.842348e-02   \n",
            "Intensity_of_Activity    -0.003619 -0.015058  3.712041e-16  3.359898e-15   \n",
            "Customer_loyalty          0.003906 -0.011074 -6.693064e-16  3.119957e-16   \n",
            "product_intensity        -0.040058 -0.010758  1.622793e-15 -1.101560e-16   \n",
            "Day_Week_Spread          -0.011147 -0.001661  3.895394e-16 -3.093662e-15   \n",
            "hour_spread              -0.269179  0.908812  1.877023e-15  1.674478e-15   \n",
            "\n",
            "                                  PC58          PC59  \n",
            "vendor_count              0.000000e+00 -1.137678e-13  \n",
            "product_count            -2.368258e-14 -3.754073e-13  \n",
            "is_chain                  6.885034e-15  6.937710e-14  \n",
            "first_order               1.452835e-02  5.258988e-01  \n",
            "last_order               -1.469159e-02 -5.318078e-01  \n",
            "CUI_American              5.659003e-02 -3.561167e-03  \n",
            "CUI_Asian                 1.085492e-01 -6.830919e-03  \n",
            "CUI_Beverages             4.629230e-02 -2.913139e-03  \n",
            "CUI_Cafe                  6.585778e-02 -4.144380e-03  \n",
            "CUI_Chicken Dishes        4.436160e-02 -2.791642e-03  \n",
            "CUI_Chinese               8.798001e-02 -5.536515e-03  \n",
            "CUI_Desserts              4.646396e-02 -2.923942e-03  \n",
            "CUI_Healthy               5.166230e-02 -3.251070e-03  \n",
            "CUI_Indian                6.241847e-02 -3.927947e-03  \n",
            "CUI_Italian               9.458194e-02 -5.951970e-03  \n",
            "CUI_Japanese              1.191539e-01 -7.498265e-03  \n",
            "CUI_Noodle Dishes         5.556005e-02 -3.496352e-03  \n",
            "CUI_OTHER                 7.393197e-02 -4.652483e-03  \n",
            "CUI_Street Food / Snacks  7.722587e-02 -4.859765e-03  \n",
            "CUI_Thai                  2.754273e-02 -1.733243e-03  \n",
            "DOW_0                    -1.791330e-01  2.217553e-03  \n",
            "DOW_1                    -1.903288e-01  2.356150e-03  \n",
            "DOW_2                    -1.679372e-01  2.078956e-03  \n",
            "DOW_3                    -1.903288e-01  2.356150e-03  \n",
            "DOW_4                    -1.791330e-01  2.217553e-03  \n",
            "DOW_5                    -2.239162e-01  2.771941e-03  \n",
            "DOW_6                    -1.903288e-01  2.356150e-03  \n",
            "HR_1                      8.902169e-02 -5.409809e-03  \n",
            "HR_2                      7.630431e-02 -4.636979e-03  \n",
            "HR_3                      6.994562e-02 -4.250564e-03  \n",
            "HR_4                      8.902169e-02 -5.409809e-03  \n",
            "HR_5                      4.451085e-02 -2.704905e-03  \n",
            "HR_6                      4.451085e-02 -2.704905e-03  \n",
            "HR_7                      9.538038e-02 -5.796224e-03  \n",
            "HR_8                      3.306520e-01 -2.009358e-02  \n",
            "HR_9                      1.462499e-01 -8.887544e-03  \n",
            "HR_10                     1.589673e-01 -9.660373e-03  \n",
            "HR_11                     1.462499e-01 -8.887544e-03  \n",
            "HR_12                     1.653260e-01 -1.004679e-02  \n",
            "HR_13                     8.902169e-02 -5.409809e-03  \n",
            "HR_14                     8.266300e-02 -5.023394e-03  \n",
            "HR_15                     1.462499e-01 -8.887544e-03  \n",
            "HR_16                     1.398912e-01 -8.501129e-03  \n",
            "HR_17                     1.271738e-01 -7.728299e-03  \n",
            "HR_18                     1.526086e-01 -9.273958e-03  \n",
            "HR_19                     2.225542e-01 -1.352452e-02  \n",
            "HR_20                     2.289129e-01 -1.391094e-02  \n",
            "HR_21                     6.994562e-02 -4.250564e-03  \n",
            "HR_22                     9.538038e-02 -5.796224e-03  \n",
            "HR_23                     6.994562e-02 -4.250564e-03  \n",
            "Total_Spent              -1.409873e-01  8.872227e-03  \n",
            "order_count               4.353408e-01  2.230361e-02  \n",
            "Diversity_Cuisine        -8.281211e-16 -7.087276e-14  \n",
            "costumer_time             1.828287e-02  6.618052e-01  \n",
            "Intensity_of_Activity     2.061718e-15 -4.788864e-14  \n",
            "Customer_loyalty         -1.016087e-16  1.104590e-14  \n",
            "product_intensity         9.609605e-16  1.529289e-14  \n",
            "Day_Week_Spread           1.404756e-16 -5.845793e-16  \n",
            "hour_spread               1.612512e-14 -4.976434e-14  \n",
            "\n",
            "[59 rows x 59 columns]\n"
          ]
        }
      ],
      "source": [
        "loadings = pd.DataFrame(pca.components_.T, columns=[f'PC{i+1}' for i in range(pca.n_components_)], index=X.columns)\n",
        "print(loadings)"
      ]
    },
    {
      "cell_type": "code",
      "execution_count": 92,
      "id": "DzpTtqJ0rbGL",
      "metadata": {
        "colab": {
          "base_uri": "https://localhost:8080/",
          "height": 508
        },
        "id": "DzpTtqJ0rbGL",
        "outputId": "99479eef-281b-4358-a046-87a7b01f6437"
      },
      "outputs": [
        {
          "data": {
            "image/png": "[encoded data removed]",
            "text/plain": [
              "<Figure size 1500x500 with 2 Axes>"
            ]
          },
          "metadata": {},
          "output_type": "display_data"
        }
      ],
      "source": [
        "# figure and axes\n",
        "fig, (ax1, ax2) = plt.subplots(1, 2, figsize=(15, 5))\n",
        "\n",
        "# draw plots\n",
        "ax1.plot(pca.explained_variance_, marker=\".\", markersize=12)\n",
        "ax2.plot(pca.explained_variance_ratio_, marker=\".\", markersize=12, label=\"Proportion\")\n",
        "ax2.plot(np.cumsum(pca.explained_variance_ratio_), marker=\".\", markersize=12, linestyle=\"--\", label=\"Cumulative\")\n",
        "\n",
        "# customizations\n",
        "ax2.legend()\n",
        "ax1.set_title(\"Scree Plot\", fontsize=14)\n",
        "ax2.set_title(\"Variance Explained\", fontsize=14)\n",
        "ax1.set_ylabel(\"Eigenvalue\")\n",
        "ax2.set_ylabel(\"Proportion\")\n",
        "ax1.set_xlabel(\"Components\")\n",
        "ax2.set_xlabel(\"Components\")\n",
        "ax1.set_xticks(range(0, pca.n_components_, 2))\n",
        "ax1.set_xticklabels(range(1, pca.n_components_ + 1, 2))\n",
        "ax2.set_xticks(range(0, pca.n_components_, 2))\n",
        "ax2.set_xticklabels(range(1, pca.n_components_ + 1, 2))\n",
        "\n",
        "plt.show()"
      ]
    },
    {
      "cell_type": "markdown",
      "id": "hoCObxysOi9H",
      "metadata": {
        "id": "hoCObxysOi9H"
      },
      "source": [
        "We decided to establish a threshold of 85% cumulative variance, so we will retain the first 5 components"
      ]
    },
    {
      "cell_type": "code",
      "execution_count": 93,
      "id": "SkUqfjwUrzuw",
      "metadata": {
        "id": "SkUqfjwUrzuw"
      },
      "outputs": [],
      "source": [
        "#Retain the first 5 components\n",
        "pca = PCA(n_components=5)\n",
        "pca_feat = pca.fit_transform(df[metric_features])\n",
        "pca_feat_names = [f\"PC{i}\" for i in range(pca.n_components_)]\n",
        "#Create the dataframe \"df_PCA\" with the PC`s and the normalized categorical features\n",
        "df_PCA = pd.DataFrame(pca_feat, index=df.index, columns=pca_feat_names)\n",
        "#Normalize the PC features\n",
        "metric_features1 = df_PCA.select_dtypes(include=['number']).columns.tolist()\n",
        "scaled_feat = scaler.fit_transform(df_PCA[metric_features1])\n",
        "df_PCA = scaled_feat\n",
        "df_PCA = pd.DataFrame(df_PCA, index=df.index, columns=metric_features1)"
      ]
    },
    {
      "cell_type": "markdown",
      "id": "87402cde",
      "metadata": {},
      "source": [
        "# Outlier removing using DBSCAN"
      ]
    },
    {
      "cell_type": "code",
      "execution_count": 94,
      "id": "200ba41d",
      "metadata": {},
      "outputs": [
        {
          "data": {
            "image/png": "[encoded data removed]",
            "text/plain": [
              "<Figure size 800x800 with 1 Axes>"
            ]
          },
          "metadata": {},
          "output_type": "display_data"
        }
      ],
      "source": [
        "from sklearn.neighbors import NearestNeighbors\n",
        "def get_kdist_plot(X=None, k=None, radius_nbrs=1.0):\n",
        "\n",
        "    nbrs = NearestNeighbors(n_neighbors=k, radius=radius_nbrs).fit(X)\n",
        "\n",
        "    # For each point, compute distances to its k-nearest neighbors\n",
        "    distances, indices = nbrs.kneighbors(X) \n",
        "                                       \n",
        "    distances = np.sort(distances, axis=0)\n",
        "    distances = distances[:, k-1]\n",
        "\n",
        "    # Plot the sorted K-nearest neighbor distance for each point in the dataset\n",
        "    plt.figure(figsize=(8,8))\n",
        "    plt.plot(distances)\n",
        "    plt.xlabel('Points/Objects in the dataset', fontsize=12)\n",
        "    plt.ylabel('Sorted {}-nearest neighbor distance'.format(k), fontsize=12)\n",
        "    plt.grid(True, linestyle=\"--\", color='black', alpha=0.4)\n",
        "    plt.show()\n",
        "    plt.close()\n",
        "\n",
        "\n",
        "k = 2 * df_PCA.shape[-1] - 1 # k=2*{dim(dataset)} - 1\n",
        "get_kdist_plot(X=df_PCA, k=k)"
      ]
    },
    {
      "cell_type": "code",
      "execution_count": 143,
      "id": "beba0379",
      "metadata": {},
      "outputs": [],
      "source": [
        "from sklearn.cluster import DBSCAN\n",
        "epsilon = 0.08  \n",
        "min_samples = 10  \n",
        "dbscan = DBSCAN(eps=epsilon, min_samples=min_samples)\n",
        "clusters = dbscan.fit_predict(df_PCA)"
      ]
    },
    {
      "cell_type": "code",
      "execution_count": 144,
      "id": "e00c2384",
      "metadata": {},
      "outputs": [],
      "source": [
        "df_PCA['Cluster'] = clusters"
      ]
    },
    {
      "cell_type": "code",
      "execution_count": 145,
      "id": "9e72b59d",
      "metadata": {},
      "outputs": [
        {
          "data": {
            "text/plain": [
              "Cluster\n",
              " 0     28127\n",
              "-1      1197\n",
              " 4       280\n",
              " 16      113\n",
              " 19       90\n",
              " 3        85\n",
              " 31       80\n",
              " 14       44\n",
              " 21       43\n",
              " 7        34\n",
              " 18       33\n",
              " 10       32\n",
              " 24       31\n",
              " 23       28\n",
              " 15       28\n",
              " 2        27\n",
              " 13       23\n",
              " 32       23\n",
              " 12       22\n",
              " 9        22\n",
              " 5        19\n",
              " 26       19\n",
              " 6        18\n",
              " 30       17\n",
              " 11       16\n",
              " 28       14\n",
              " 17       13\n",
              " 25       13\n",
              " 27       11\n",
              " 1        11\n",
              " 20       11\n",
              " 8        10\n",
              " 22       10\n",
              " 29       10\n",
              "Name: count, dtype: int64"
            ]
          },
          "execution_count": 145,
          "metadata": {},
          "output_type": "execute_result"
        }
      ],
      "source": [
        "df_PCA['Cluster'].value_counts()"
      ]
    },
    {
      "cell_type": "code",
      "execution_count": 146,
      "id": "e331bb88",
      "metadata": {},
      "outputs": [],
      "source": [
        "df_PCA = df_PCA[df_PCA['Cluster'] != -1].reset_index(drop=True)"
      ]
    },
    {
      "cell_type": "code",
      "execution_count": 147,
      "id": "c4rR3Vg-PNO2",
      "metadata": {
        "id": "c4rR3Vg-PNO2"
      },
      "outputs": [],
      "source": [
        "df_PCA=df_PCA.drop('Cluster',axis=1)\n",
        "df_PCA.to_csv('df_behaviour.csv')"
      ]
    }
  ],
  "metadata": {
    "colab": {
      "provenance": []
    },
    "kernelspec": {
      "display_name": "Python 3",
      "language": "python",
      "name": "python3"
    },
    "language_info": {
      "codemirror_mode": {
        "name": "ipython",
        "version": 3
      },
      "file_extension": ".py",
      "mimetype": "text/x-python",
      "name": "python",
      "nbconvert_exporter": "python",
      "pygments_lexer": "ipython3",
      "version": "3.10.11"
    }
  },
  "nbformat": 4,
  "nbformat_minor": 5
}
