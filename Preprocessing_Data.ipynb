{
  "cells": [
    {
      "cell_type": "code",
      "execution_count": 72,
      "id": "8db3ae52-47a4-4b00-8b30-277832f174e3",
      "metadata": {
        "id": "8db3ae52-47a4-4b00-8b30-277832f174e3"
      },
      "outputs": [],
      "source": [
        "import pandas as pd\n",
        "import numpy as np\n",
        "import matplotlib.pyplot as plt\n",
        "import seaborn as sns\n",
        "import math\n",
        "from sklearn.preprocessing import MinMaxScaler\n",
        "from sklearn.preprocessing import OneHotEncoder\n",
        "from sklearn.decomposition import PCA"
      ]
    },
    {
      "cell_type": "code",
      "execution_count": 73,
      "id": "Jwa5o5gK-Cu4",
      "metadata": {
        "id": "Jwa5o5gK-Cu4"
      },
      "outputs": [],
      "source": [
        "df=pd.read_csv('DM2425_ABCDEats_DATASET.csv',delimiter=',')"
      ]
    },
    {
      "cell_type": "markdown",
      "id": "40aAICTb-2fY",
      "metadata": {
        "id": "40aAICTb-2fY"
      },
      "source": [
        "# Drop Dublicates"
      ]
    },
    {
      "cell_type": "markdown",
      "id": "ND_cLsuXwu80",
      "metadata": {
        "id": "ND_cLsuXwu80"
      },
      "source": [
        "We need to eliminate duplicates to prevent further issues, especially with the index setting"
      ]
    },
    {
      "cell_type": "code",
      "execution_count": 74,
      "id": "Q791LW8I_KDA",
      "metadata": {
        "colab": {
          "base_uri": "https://localhost:8080/"
        },
        "id": "Q791LW8I_KDA",
        "outputId": "8351a951-b6e9-4aa5-93bf-4769dee63465"
      },
      "outputs": [
        {
          "data": {
            "text/plain": [
              "np.int64(13)"
            ]
          },
          "execution_count": 74,
          "metadata": {},
          "output_type": "execute_result"
        }
      ],
      "source": [
        "df.duplicated().sum()"
      ]
    },
    {
      "cell_type": "code",
      "execution_count": 75,
      "id": "LRsHlrrN-5yo",
      "metadata": {
        "colab": {
          "base_uri": "https://localhost:8080/"
        },
        "id": "LRsHlrrN-5yo",
        "outputId": "0b3ecf94-2c80-4bb6-f057-449bb05afad5"
      },
      "outputs": [
        {
          "data": {
            "text/plain": [
              "np.int64(0)"
            ]
          },
          "execution_count": 75,
          "metadata": {},
          "output_type": "execute_result"
        }
      ],
      "source": [
        "df=df.drop_duplicates()\n",
        "# Count the number of remaining duplicate rows in the DataFrame after dropping duplicates\n",
        "df.duplicated().sum()"
      ]
    },
    {
      "cell_type": "markdown",
      "id": "HdfcdmshB8Ew",
      "metadata": {
        "id": "HdfcdmshB8Ew"
      },
      "source": [
        "# Set costumer_id as the index"
      ]
    },
    {
      "cell_type": "code",
      "execution_count": 76,
      "id": "He30YSyXCAM9",
      "metadata": {
        "id": "He30YSyXCAM9"
      },
      "outputs": [],
      "source": [
        "df.set_index('customer_id', inplace=True)"
      ]
    },
    {
      "cell_type": "markdown",
      "id": "g5c9rRRu-v5i",
      "metadata": {
        "id": "g5c9rRRu-v5i"
      },
      "source": [
        "## Fixing variables"
      ]
    },
    {
      "cell_type": "markdown",
      "id": "oWSxYmKPBr9m",
      "metadata": {
        "id": "oWSxYmKPBr9m"
      },
      "source": [
        "**costumer_age**"
      ]
    },
    {
      "cell_type": "markdown",
      "id": "ZBIgCxdUC2vx",
      "metadata": {
        "id": "ZBIgCxdUC2vx"
      },
      "source": [
        "Fill missing values with median"
      ]
    },
    {
      "cell_type": "code",
      "execution_count": 77,
      "id": "cWplddAcaJWO",
      "metadata": {
        "colab": {
          "base_uri": "https://localhost:8080/"
        },
        "id": "cWplddAcaJWO",
        "outputId": "b93628d6-473e-449e-94d6-674238dea8a4"
      },
      "outputs": [
        {
          "data": {
            "text/plain": [
              "np.int64(727)"
            ]
          },
          "execution_count": 77,
          "metadata": {},
          "output_type": "execute_result"
        }
      ],
      "source": [
        "df['customer_age'].isna().sum()"
      ]
    },
    {
      "cell_type": "code",
      "execution_count": 78,
      "id": "7jpJOyLrBuKC",
      "metadata": {
        "colab": {
          "base_uri": "https://localhost:8080/"
        },
        "id": "7jpJOyLrBuKC",
        "outputId": "dc0f02e8-ad0a-4e95-a5cc-a486e7f0e9f7"
      },
      "outputs": [
        {
          "data": {
            "text/plain": [
              "np.int64(0)"
            ]
          },
          "execution_count": 78,
          "metadata": {},
          "output_type": "execute_result"
        }
      ],
      "source": [
        "df['customer_age'] = df['customer_age'].fillna(df['customer_age'].median())\n",
        "df['customer_age'].isna().sum()"
      ]
    },
    {
      "cell_type": "markdown",
      "id": "5dz1pZFzC2Dz",
      "metadata": {
        "id": "5dz1pZFzC2Dz"
      },
      "source": [
        "**costumer_region**"
      ]
    },
    {
      "cell_type": "markdown",
      "id": "bBQO4mu506D2",
      "metadata": {
        "id": "bBQO4mu506D2"
      },
      "source": [
        "Replace the value of '-' with 'Unknown' to enhance the interpretation of the feature"
      ]
    },
    {
      "cell_type": "code",
      "execution_count": 79,
      "id": "ksu3qKEjDPU1",
      "metadata": {
        "id": "ksu3qKEjDPU1"
      },
      "outputs": [],
      "source": [
        "df.loc[:, 'customer_region'] = df['customer_region'].replace('-', 'Unknown')"
      ]
    },
    {
      "cell_type": "markdown",
      "id": "4YI-NtpVzKTl",
      "metadata": {
        "id": "4YI-NtpVzKTl"
      },
      "source": [
        "**product_count**"
      ]
    },
    {
      "cell_type": "markdown",
      "id": "PzL-oIfIzN6h",
      "metadata": {
        "id": "PzL-oIfIzN6h"
      },
      "source": [
        "There is an extreme product count value with '92ced2dcb9' index, so we will transform it into a high value"
      ]
    },
    {
      "cell_type": "code",
      "execution_count": 80,
      "id": "kDFD_JZ4Db7u",
      "metadata": {
        "id": "kDFD_JZ4Db7u"
      },
      "outputs": [],
      "source": [
        "df.loc['92ced2dcb9','product_count']=100"
      ]
    },
    {
      "cell_type": "markdown",
      "id": "PgoPbHWlDmGU",
      "metadata": {
        "id": "PgoPbHWlDmGU"
      },
      "source": [
        "**first_order**"
      ]
    },
    {
      "cell_type": "markdown",
      "id": "rpaTezEn0rbV",
      "metadata": {
        "id": "rpaTezEn0rbV"
      },
      "source": [
        "Fill missing values with median"
      ]
    },
    {
      "cell_type": "code",
      "execution_count": 81,
      "id": "OPy9ew2bDpvM",
      "metadata": {
        "id": "OPy9ew2bDpvM"
      },
      "outputs": [],
      "source": [
        "df['first_order'] = df['first_order'].fillna(df['first_order'].median())"
      ]
    },
    {
      "cell_type": "markdown",
      "id": "1DVMVvKND7EO",
      "metadata": {
        "id": "1DVMVvKND7EO"
      },
      "source": [
        "**last_promo**"
      ]
    },
    {
      "cell_type": "markdown",
      "id": "0Rfb9_FF2hIx",
      "metadata": {
        "id": "0Rfb9_FF2hIx"
      },
      "source": [
        "Replace the value of '-' with 'no_promotion_used' to enhance the interpretation of the feature"
      ]
    },
    {
      "cell_type": "code",
      "execution_count": 82,
      "id": "PkgQc8pQD-Xd",
      "metadata": {
        "id": "PkgQc8pQD-Xd"
      },
      "outputs": [],
      "source": [
        "df['last_promo'] = df['last_promo'].replace('-', 'no_promotion_used')"
      ]
    },
    {
      "cell_type": "markdown",
      "id": "pHtYVInrEMg0",
      "metadata": {
        "id": "pHtYVInrEMg0"
      },
      "source": [
        "**HR_0**"
      ]
    },
    {
      "cell_type": "markdown",
      "id": "BpgcInRj2nCE",
      "metadata": {
        "id": "BpgcInRj2nCE"
      },
      "source": [
        "Drop the column labeled \"HR_0\" because it contains only zeros."
      ]
    },
    {
      "cell_type": "code",
      "execution_count": 83,
      "id": "WLvodpbJERLz",
      "metadata": {
        "id": "WLvodpbJERLz"
      },
      "outputs": [],
      "source": [
        "df.drop(columns=['HR_0'], inplace=True)"
      ]
    },
    {
      "cell_type": "markdown",
      "id": "2kiPc39hE1-p",
      "metadata": {
        "id": "2kiPc39hE1-p"
      },
      "source": [
        "#Fixing inconsistencies"
      ]
    },
    {
      "cell_type": "markdown",
      "id": "AzwOI1yBGamv",
      "metadata": {
        "id": "AzwOI1yBGamv"
      },
      "source": [
        "Eliminate rows where there are inconsistencies"
      ]
    },
    {
      "cell_type": "code",
      "execution_count": 84,
      "id": "pUPn6vpTFJNt",
      "metadata": {
        "id": "pUPn6vpTFJNt"
      },
      "outputs": [],
      "source": [
        "df['sum_HR']=df['HR_1']+df['HR_2']+df['HR_3']+df['HR_4']+df['HR_5']+df['HR_6']+df['HR_7']+df['HR_8']+df['HR_9']+df['HR_10']+df['HR_11']+df['HR_12']+df['HR_13']+df['HR_14']+df['HR_15']+df['HR_16']+df['HR_17']+df['HR_18']+df['HR_19']+df['HR_20']+df['HR_21']+df['HR_22']+df['HR_23']\n",
        "df['sum_DOW']=df['DOW_0']+df['DOW_1']+df['DOW_2']+df['DOW_3']+df['DOW_4']+df['DOW_5']+df['DOW_6']\n",
        "df['inc_0']=(df['sum_HR']!=df['sum_DOW'])\n",
        "df['inc_2']=(df['product_count']==0)\n",
        "df = df.loc[~(df['inc_0'] | df['inc_2'])]\n",
        "df = df.drop(columns=['sum_HR', 'sum_DOW', 'inc_0', 'inc_2'])"
      ]
    },
    {
      "cell_type": "markdown",
      "id": "z0T2d1erH3M8",
      "metadata": {
        "id": "z0T2d1erH3M8"
      },
      "source": [
        "# New variables"
      ]
    },
    {
      "cell_type": "markdown",
      "id": "5ADv3rbZIGBo",
      "metadata": {
        "id": "5ADv3rbZIGBo"
      },
      "source": [
        "**Total_Spent**"
      ]
    },
    {
      "cell_type": "code",
      "execution_count": 85,
      "id": "9pN7TXLzObAb",
      "metadata": {
        "id": "9pN7TXLzObAb"
      },
      "outputs": [],
      "source": [
        "cuisine = [col for col in df.columns if col.startswith('CUI_')]"
      ]
    },
    {
      "cell_type": "code",
      "execution_count": 86,
      "id": "7z1SKhRNH580",
      "metadata": {
        "id": "7z1SKhRNH580"
      },
      "outputs": [],
      "source": [
        "df['Total_Spent']=df[cuisine].sum(axis=1)"
      ]
    },
    {
      "cell_type": "markdown",
      "id": "hJFfuxU-SG83",
      "metadata": {
        "id": "hJFfuxU-SG83"
      },
      "source": [
        "Deal with extreme outliers"
      ]
    },
    {
      "cell_type": "code",
      "execution_count": 87,
      "id": "n1JL9kunMvDr",
      "metadata": {
        "id": "n1JL9kunMvDr"
      },
      "outputs": [],
      "source": [
        "df = df.drop('92ced2dcb9', axis=0)\n",
        "df.loc['249ba584d3','CUI_Asian']=500\n",
        "df.loc['8d65421423','CUI_Japanese']=590\n",
        "df['Total_Spent']=df[cuisine].sum(axis=1)"
      ]
    },
    {
      "cell_type": "markdown",
      "id": "bHTgk2OWIKXw",
      "metadata": {
        "id": "bHTgk2OWIKXw"
      },
      "source": [
        "**Order_Count**"
      ]
    },
    {
      "cell_type": "code",
      "execution_count": 88,
      "id": "2FSilF83IaRI",
      "metadata": {
        "id": "2FSilF83IaRI"
      },
      "outputs": [],
      "source": [
        "df['order_count']=df['DOW_0']+df['DOW_1']+df['DOW_2']+df['DOW_3']+df['DOW_4']+df['DOW_5']+df['DOW_6']"
      ]
    },
    {
      "cell_type": "markdown",
      "id": "mFRWalwlUeeY",
      "metadata": {
        "id": "mFRWalwlUeeY"
      },
      "source": [
        "**Diversity_Cuisine**"
      ]
    },
    {
      "cell_type": "code",
      "execution_count": 89,
      "id": "XN_13jXlUerJ",
      "metadata": {
        "id": "XN_13jXlUerJ"
      },
      "outputs": [],
      "source": [
        "df['Diversity_Cuisine'] = (df[cuisine] > 0).sum(axis=1)\n",
        "df['Diversity_Cuisine'] = df['order_count']/df['Diversity_Cuisine']"
      ]
    },
    {
      "cell_type": "markdown",
      "id": "xCsQWmOiWg8R",
      "metadata": {
        "id": "xCsQWmOiWg8R"
      },
      "source": [
        "**Costumer_time**"
      ]
    },
    {
      "cell_type": "code",
      "execution_count": 90,
      "id": "Do_Ym9HRWkcT",
      "metadata": {
        "id": "Do_Ym9HRWkcT"
      },
      "outputs": [],
      "source": [
        "df['costumer_time']=df['last_order']-df['first_order']"
      ]
    },
    {
      "cell_type": "markdown",
      "id": "51T04ERQWLym",
      "metadata": {
        "id": "51T04ERQWLym"
      },
      "source": [
        "**Intensity_of_Activity**"
      ]
    },
    {
      "cell_type": "code",
      "execution_count": 91,
      "id": "WMLet25-WOV6",
      "metadata": {
        "id": "WMLet25-WOV6"
      },
      "outputs": [],
      "source": [
        "df['Intensity_of_Activity'] = df['costumer_time'] / df['order_count']"
      ]
    },
    {
      "cell_type": "markdown",
      "id": "r4_vgo1HYcNV",
      "metadata": {
        "id": "r4_vgo1HYcNV"
      },
      "source": [
        "**Customer_Loyalty**"
      ]
    },
    {
      "cell_type": "code",
      "execution_count": 92,
      "id": "I335t7sjYh0f",
      "metadata": {
        "id": "I335t7sjYh0f"
      },
      "outputs": [],
      "source": [
        "df['Customer_loyalty'] = df['vendor_count'] / df['order_count']"
      ]
    },
    {
      "cell_type": "markdown",
      "id": "sCuKdYQCZdiv",
      "metadata": {
        "id": "sCuKdYQCZdiv"
      },
      "source": [
        "**Product_Intensity**"
      ]
    },
    {
      "cell_type": "code",
      "execution_count": 93,
      "id": "RHil6I3CZjuq",
      "metadata": {
        "id": "RHil6I3CZjuq"
      },
      "outputs": [],
      "source": [
        "df['product_intensity'] = df['product_count'] / df['order_count']"
      ]
    },
    {
      "cell_type": "markdown",
      "id": "N6fGsqWj3qe9",
      "metadata": {
        "id": "N6fGsqWj3qe9"
      },
      "source": [
        "**Day_Week_Spread**"
      ]
    },
    {
      "cell_type": "code",
      "execution_count": 94,
      "id": "PZlhd4uG6x9t",
      "metadata": {
        "id": "PZlhd4uG6x9t"
      },
      "outputs": [],
      "source": [
        "days = [col for col in df.columns if col.startswith('DOW_')]"
      ]
    },
    {
      "cell_type": "code",
      "execution_count": 95,
      "id": "ZsJoVRMm6oh2",
      "metadata": {
        "id": "ZsJoVRMm6oh2"
      },
      "outputs": [],
      "source": [
        "df['Day_Week_Spread'] = df.loc[:,days].var(axis=1)"
      ]
    },
    {
      "cell_type": "markdown",
      "id": "A0JJGlLN7ppg",
      "metadata": {
        "id": "A0JJGlLN7ppg"
      },
      "source": [
        "**hour_spread**"
      ]
    },
    {
      "cell_type": "code",
      "execution_count": 96,
      "id": "X6WUt0W-7wtu",
      "metadata": {
        "id": "X6WUt0W-7wtu"
      },
      "outputs": [],
      "source": [
        "hours=[col for col in df.columns if col.startswith('HR_')]"
      ]
    },
    {
      "cell_type": "code",
      "execution_count": 97,
      "id": "PyFgombB78Iq",
      "metadata": {
        "id": "PyFgombB78Iq"
      },
      "outputs": [],
      "source": [
        "df['hour_spread'] = df.loc[:,hours].var(axis=1)"
      ]
    },
    {
      "cell_type": "code",
      "execution_count": 98,
      "id": "01UITIar4SIp",
      "metadata": {
        "id": "01UITIar4SIp"
      },
      "outputs": [],
      "source": [
        "df.to_csv('df_Clean.csv')"
      ]
    },
    {
      "cell_type": "markdown",
      "id": "88tIVnyJDDfW",
      "metadata": {
        "id": "88tIVnyJDDfW"
      },
      "source": [
        "# Normalize data"
      ]
    },
    {
      "cell_type": "code",
      "execution_count": 99,
      "id": "-nI0DdK_DGbN",
      "metadata": {
        "id": "-nI0DdK_DGbN"
      },
      "outputs": [],
      "source": [
        "#Select numeric features\n",
        "metric_features = df.select_dtypes(include=['number']).columns.tolist()"
      ]
    },
    {
      "cell_type": "code",
      "execution_count": 100,
      "id": "RnIGC-YPFtZ2",
      "metadata": {
        "id": "RnIGC-YPFtZ2"
      },
      "outputs": [],
      "source": [
        "# Normalize numeric data with Min-Max scaler\n",
        "scaler = MinMaxScaler()\n",
        "scaled_feat = scaler.fit_transform(df[metric_features])\n",
        "df[metric_features] = scaled_feat"
      ]
    },
    {
      "cell_type": "code",
      "execution_count": 101,
      "id": "wTC9SwzMG_nA",
      "metadata": {
        "id": "wTC9SwzMG_nA"
      },
      "outputs": [],
      "source": [
        "#Select categorical features\n",
        "categorical_features = df.select_dtypes(include=['object', 'category']).columns.tolist()"
      ]
    },
    {
      "cell_type": "code",
      "execution_count": 102,
      "id": "b540dce0",
      "metadata": {},
      "outputs": [],
      "source": [
        "def encode_by_proportion(df,column_name):\n",
        "    category_proportions = df[column_name].value_counts(normalize=True)\n",
        "\n",
        "    df[column_name] = df[column_name].map(category_proportions)\n",
        "    \n",
        "    return df"
      ]
    },
    {
      "cell_type": "code",
      "execution_count": 103,
      "id": "x6pN72UYHxjJ",
      "metadata": {
        "colab": {
          "base_uri": "https://localhost:8080/",
          "height": 475
        },
        "id": "x6pN72UYHxjJ",
        "outputId": "f3a2a492-9f5f-433c-9f36-ed02614f8a24"
      },
      "outputs": [
        {
          "data": {
            "text/html": [
              "<div>\n",
              "<style scoped>\n",
              "    .dataframe tbody tr th:only-of-type {\n",
              "        vertical-align: middle;\n",
              "    }\n",
              "\n",
              "    .dataframe tbody tr th {\n",
              "        vertical-align: top;\n",
              "    }\n",
              "\n",
              "    .dataframe thead th {\n",
              "        text-align: right;\n",
              "    }\n",
              "</style>\n",
              "<table border=\"1\" class=\"dataframe\">\n",
              "  <thead>\n",
              "    <tr style=\"text-align: right;\">\n",
              "      <th></th>\n",
              "      <th>customer_region</th>\n",
              "      <th>last_promo</th>\n",
              "      <th>payment_method</th>\n",
              "    </tr>\n",
              "    <tr>\n",
              "      <th>customer_id</th>\n",
              "      <th></th>\n",
              "      <th></th>\n",
              "      <th></th>\n",
              "    </tr>\n",
              "  </thead>\n",
              "  <tbody>\n",
              "    <tr>\n",
              "      <th>1b8f824d5e</th>\n",
              "      <td>0.277738</td>\n",
              "      <td>0.198337</td>\n",
              "      <td>0.191890</td>\n",
              "    </tr>\n",
              "    <tr>\n",
              "      <th>5d272b9dcb</th>\n",
              "      <td>0.296066</td>\n",
              "      <td>0.141422</td>\n",
              "      <td>0.191890</td>\n",
              "    </tr>\n",
              "    <tr>\n",
              "      <th>f6d1b2ba63</th>\n",
              "      <td>0.308961</td>\n",
              "      <td>0.141422</td>\n",
              "      <td>0.177718</td>\n",
              "    </tr>\n",
              "    <tr>\n",
              "      <th>180c632ed8</th>\n",
              "      <td>0.308961</td>\n",
              "      <td>0.198337</td>\n",
              "      <td>0.191890</td>\n",
              "    </tr>\n",
              "    <tr>\n",
              "      <th>4eb37a6705</th>\n",
              "      <td>0.308961</td>\n",
              "      <td>0.523663</td>\n",
              "      <td>0.191890</td>\n",
              "    </tr>\n",
              "    <tr>\n",
              "      <th>...</th>\n",
              "      <td>...</td>\n",
              "      <td>...</td>\n",
              "      <td>...</td>\n",
              "    </tr>\n",
              "    <tr>\n",
              "      <th>f4e366c281</th>\n",
              "      <td>0.296066</td>\n",
              "      <td>0.136578</td>\n",
              "      <td>0.191890</td>\n",
              "    </tr>\n",
              "    <tr>\n",
              "      <th>f6b6709018</th>\n",
              "      <td>0.296066</td>\n",
              "      <td>0.198337</td>\n",
              "      <td>0.191890</td>\n",
              "    </tr>\n",
              "    <tr>\n",
              "      <th>f74ad8ce3f</th>\n",
              "      <td>0.296066</td>\n",
              "      <td>0.523663</td>\n",
              "      <td>0.191890</td>\n",
              "    </tr>\n",
              "    <tr>\n",
              "      <th>f7b19c0241</th>\n",
              "      <td>0.296066</td>\n",
              "      <td>0.141422</td>\n",
              "      <td>0.191890</td>\n",
              "    </tr>\n",
              "    <tr>\n",
              "      <th>fd40d3b0e0</th>\n",
              "      <td>0.308961</td>\n",
              "      <td>0.523663</td>\n",
              "      <td>0.177718</td>\n",
              "    </tr>\n",
              "  </tbody>\n",
              "</table>\n",
              "<p>30554 rows × 3 columns</p>\n",
              "</div>"
            ],
            "text/plain": [
              "             customer_region  last_promo  payment_method\n",
              "customer_id                                             \n",
              "1b8f824d5e          0.277738    0.198337        0.191890\n",
              "5d272b9dcb          0.296066    0.141422        0.191890\n",
              "f6d1b2ba63          0.308961    0.141422        0.177718\n",
              "180c632ed8          0.308961    0.198337        0.191890\n",
              "4eb37a6705          0.308961    0.523663        0.191890\n",
              "...                      ...         ...             ...\n",
              "f4e366c281          0.296066    0.136578        0.191890\n",
              "f6b6709018          0.296066    0.198337        0.191890\n",
              "f74ad8ce3f          0.296066    0.523663        0.191890\n",
              "f7b19c0241          0.296066    0.141422        0.191890\n",
              "fd40d3b0e0          0.308961    0.523663        0.177718\n",
              "\n",
              "[30554 rows x 3 columns]"
            ]
          },
          "execution_count": 103,
          "metadata": {},
          "output_type": "execute_result"
        }
      ],
      "source": [
        "ohc_df = df.copy()\n",
        "ohc_df=ohc_df[categorical_features]\n",
        "for i in ohc_df.columns:\n",
        "    ohc_df=encode_by_proportion(ohc_df,i)\n",
        "ohc_df"
      ]
    },
    {
      "cell_type": "markdown",
      "id": "D1sknH4ao9WU",
      "metadata": {
        "id": "D1sknH4ao9WU"
      },
      "source": [
        "# PCA analisys"
      ]
    },
    {
      "cell_type": "code",
      "execution_count": 104,
      "id": "WQ-aHfuAo8yJ",
      "metadata": {
        "id": "WQ-aHfuAo8yJ"
      },
      "outputs": [],
      "source": [
        "X = df[metric_features]\n",
        "pca = PCA().fit(X)"
      ]
    },
    {
      "cell_type": "code",
      "execution_count": 105,
      "id": "sp2d7s3fvDYH",
      "metadata": {
        "colab": {
          "base_uri": "https://localhost:8080/",
          "height": 677
        },
        "id": "sp2d7s3fvDYH",
        "outputId": "ac1059cb-e826-4b2b-e4cd-a77da9a60bca"
      },
      "outputs": [
        {
          "data": {
            "text/html": [
              "<div>\n",
              "<style scoped>\n",
              "    .dataframe tbody tr th:only-of-type {\n",
              "        vertical-align: middle;\n",
              "    }\n",
              "\n",
              "    .dataframe tbody tr th {\n",
              "        vertical-align: top;\n",
              "    }\n",
              "\n",
              "    .dataframe thead th {\n",
              "        text-align: right;\n",
              "    }\n",
              "</style>\n",
              "<table border=\"1\" class=\"dataframe\">\n",
              "  <thead>\n",
              "    <tr style=\"text-align: right;\">\n",
              "      <th></th>\n",
              "      <th>Eigenvalue</th>\n",
              "      <th>Difference</th>\n",
              "      <th>Proportion</th>\n",
              "      <th>Cumulative</th>\n",
              "    </tr>\n",
              "  </thead>\n",
              "  <tbody>\n",
              "    <tr>\n",
              "      <th>1</th>\n",
              "      <td>0.158238</td>\n",
              "      <td>0.000000</td>\n",
              "      <td>0.412440</td>\n",
              "      <td>0.412440</td>\n",
              "    </tr>\n",
              "    <tr>\n",
              "      <th>2</th>\n",
              "      <td>0.085737</td>\n",
              "      <td>-0.072501</td>\n",
              "      <td>0.223470</td>\n",
              "      <td>0.635909</td>\n",
              "    </tr>\n",
              "    <tr>\n",
              "      <th>3</th>\n",
              "      <td>0.043988</td>\n",
              "      <td>-0.041749</td>\n",
              "      <td>0.114652</td>\n",
              "      <td>0.750561</td>\n",
              "    </tr>\n",
              "    <tr>\n",
              "      <th>4</th>\n",
              "      <td>0.020823</td>\n",
              "      <td>-0.023165</td>\n",
              "      <td>0.054274</td>\n",
              "      <td>0.804836</td>\n",
              "    </tr>\n",
              "    <tr>\n",
              "      <th>5</th>\n",
              "      <td>0.011896</td>\n",
              "      <td>-0.008928</td>\n",
              "      <td>0.031005</td>\n",
              "      <td>0.835841</td>\n",
              "    </tr>\n",
              "    <tr>\n",
              "      <th>6</th>\n",
              "      <td>0.007862</td>\n",
              "      <td>-0.004033</td>\n",
              "      <td>0.020492</td>\n",
              "      <td>0.856334</td>\n",
              "    </tr>\n",
              "    <tr>\n",
              "      <th>7</th>\n",
              "      <td>0.004534</td>\n",
              "      <td>-0.003328</td>\n",
              "      <td>0.011819</td>\n",
              "      <td>0.868152</td>\n",
              "    </tr>\n",
              "    <tr>\n",
              "      <th>8</th>\n",
              "      <td>0.003645</td>\n",
              "      <td>-0.000890</td>\n",
              "      <td>0.009500</td>\n",
              "      <td>0.877652</td>\n",
              "    </tr>\n",
              "    <tr>\n",
              "      <th>9</th>\n",
              "      <td>0.003178</td>\n",
              "      <td>-0.000467</td>\n",
              "      <td>0.008283</td>\n",
              "      <td>0.885935</td>\n",
              "    </tr>\n",
              "    <tr>\n",
              "      <th>10</th>\n",
              "      <td>0.002890</td>\n",
              "      <td>-0.000288</td>\n",
              "      <td>0.007532</td>\n",
              "      <td>0.893467</td>\n",
              "    </tr>\n",
              "    <tr>\n",
              "      <th>11</th>\n",
              "      <td>0.002525</td>\n",
              "      <td>-0.000365</td>\n",
              "      <td>0.006580</td>\n",
              "      <td>0.900047</td>\n",
              "    </tr>\n",
              "    <tr>\n",
              "      <th>12</th>\n",
              "      <td>0.002426</td>\n",
              "      <td>-0.000099</td>\n",
              "      <td>0.006322</td>\n",
              "      <td>0.906369</td>\n",
              "    </tr>\n",
              "    <tr>\n",
              "      <th>13</th>\n",
              "      <td>0.002215</td>\n",
              "      <td>-0.000210</td>\n",
              "      <td>0.005774</td>\n",
              "      <td>0.912144</td>\n",
              "    </tr>\n",
              "    <tr>\n",
              "      <th>14</th>\n",
              "      <td>0.002179</td>\n",
              "      <td>-0.000036</td>\n",
              "      <td>0.005680</td>\n",
              "      <td>0.917824</td>\n",
              "    </tr>\n",
              "    <tr>\n",
              "      <th>15</th>\n",
              "      <td>0.002079</td>\n",
              "      <td>-0.000100</td>\n",
              "      <td>0.005420</td>\n",
              "      <td>0.923244</td>\n",
              "    </tr>\n",
              "    <tr>\n",
              "      <th>16</th>\n",
              "      <td>0.002038</td>\n",
              "      <td>-0.000042</td>\n",
              "      <td>0.005311</td>\n",
              "      <td>0.928555</td>\n",
              "    </tr>\n",
              "    <tr>\n",
              "      <th>17</th>\n",
              "      <td>0.001960</td>\n",
              "      <td>-0.000078</td>\n",
              "      <td>0.005108</td>\n",
              "      <td>0.933663</td>\n",
              "    </tr>\n",
              "    <tr>\n",
              "      <th>18</th>\n",
              "      <td>0.001751</td>\n",
              "      <td>-0.000209</td>\n",
              "      <td>0.004563</td>\n",
              "      <td>0.938226</td>\n",
              "    </tr>\n",
              "    <tr>\n",
              "      <th>19</th>\n",
              "      <td>0.001650</td>\n",
              "      <td>-0.000100</td>\n",
              "      <td>0.004301</td>\n",
              "      <td>0.942527</td>\n",
              "    </tr>\n",
              "    <tr>\n",
              "      <th>20</th>\n",
              "      <td>0.001461</td>\n",
              "      <td>-0.000189</td>\n",
              "      <td>0.003808</td>\n",
              "      <td>0.946336</td>\n",
              "    </tr>\n",
              "  </tbody>\n",
              "</table>\n",
              "</div>"
            ],
            "text/plain": [
              "    Eigenvalue  Difference  Proportion  Cumulative\n",
              "1     0.158238    0.000000    0.412440    0.412440\n",
              "2     0.085737   -0.072501    0.223470    0.635909\n",
              "3     0.043988   -0.041749    0.114652    0.750561\n",
              "4     0.020823   -0.023165    0.054274    0.804836\n",
              "5     0.011896   -0.008928    0.031005    0.835841\n",
              "6     0.007862   -0.004033    0.020492    0.856334\n",
              "7     0.004534   -0.003328    0.011819    0.868152\n",
              "8     0.003645   -0.000890    0.009500    0.877652\n",
              "9     0.003178   -0.000467    0.008283    0.885935\n",
              "10    0.002890   -0.000288    0.007532    0.893467\n",
              "11    0.002525   -0.000365    0.006580    0.900047\n",
              "12    0.002426   -0.000099    0.006322    0.906369\n",
              "13    0.002215   -0.000210    0.005774    0.912144\n",
              "14    0.002179   -0.000036    0.005680    0.917824\n",
              "15    0.002079   -0.000100    0.005420    0.923244\n",
              "16    0.002038   -0.000042    0.005311    0.928555\n",
              "17    0.001960   -0.000078    0.005108    0.933663\n",
              "18    0.001751   -0.000209    0.004563    0.938226\n",
              "19    0.001650   -0.000100    0.004301    0.942527\n",
              "20    0.001461   -0.000189    0.003808    0.946336"
            ]
          },
          "execution_count": 105,
          "metadata": {},
          "output_type": "execute_result"
        }
      ],
      "source": [
        "PCA_s=pd.DataFrame(\n",
        "    {\"Eigenvalue\": pca.explained_variance_,\n",
        "     \"Difference\": np.insert(np.diff(pca.explained_variance_), 0, 0),\n",
        "     \"Proportion\": pca.explained_variance_ratio_,\n",
        "     \"Cumulative\": np.cumsum(pca.explained_variance_ratio_)},\n",
        "    index=range(1, pca.n_components_ + 1)\n",
        ")\n",
        "PCA_s.head(20)"
      ]
    },
    {
      "cell_type": "code",
      "execution_count": 106,
      "id": "j0BvDzCgKVjg",
      "metadata": {
        "colab": {
          "base_uri": "https://localhost:8080/"
        },
        "id": "j0BvDzCgKVjg",
        "outputId": "5e51c9d2-4b26-4d5f-a1f7-37a87d8e6b60"
      },
      "outputs": [
        {
          "name": "stdout",
          "output_type": "stream",
          "text": [
            "                               PC1       PC2       PC3       PC4       PC5  \\\n",
            "customer_age              0.001957  0.004013 -0.006751 -0.001034  0.999811   \n",
            "vendor_count              0.103836  0.007049  0.033608 -0.317627 -0.002038   \n",
            "product_count             0.095717  0.009164 -0.065706 -0.260966 -0.000830   \n",
            "is_chain                  0.067863  0.003501 -0.039801 -0.188995 -0.003187   \n",
            "first_order              -0.446194  0.690843 -0.145226 -0.025411 -0.003649   \n",
            "last_order                0.359148  0.719276  0.202752  0.024877 -0.001443   \n",
            "CUI_American              0.029061  0.002160 -0.020637 -0.058330  0.002088   \n",
            "CUI_Asian                 0.021611  0.005565  0.001693 -0.067766  0.006139   \n",
            "CUI_Beverages             0.011955  0.000563  0.000317 -0.047123 -0.001568   \n",
            "CUI_Cafe                  0.007447  0.001285 -0.009383 -0.027572  0.000715   \n",
            "CUI_Chicken Dishes        0.006694 -0.000105 -0.002437 -0.020653 -0.000323   \n",
            "CUI_Chinese               0.006541  0.000507 -0.004085 -0.021039 -0.000544   \n",
            "CUI_Desserts              0.003736  0.000717  0.002435 -0.017202 -0.002221   \n",
            "CUI_Healthy               0.007408  0.001908 -0.007619 -0.017343 -0.001980   \n",
            "CUI_Indian                0.009767  0.001068 -0.011059 -0.022470 -0.001852   \n",
            "CUI_Italian               0.014585  0.002113 -0.024276 -0.011096 -0.000731   \n",
            "CUI_Japanese              0.007848  0.001663 -0.004606 -0.020575  0.000215   \n",
            "CUI_Noodle Dishes         0.005059 -0.000511 -0.002882 -0.017324 -0.000247   \n",
            "CUI_OTHER                 0.018233  0.002259 -0.014829 -0.061052  0.000892   \n",
            "CUI_Street Food / Snacks  0.008031  0.001431  0.005466 -0.036464  0.004216   \n",
            "CUI_Thai                  0.013498  0.001480 -0.012466 -0.029070 -0.003101   \n",
            "DOW_0                     0.071740  0.004188 -0.050429 -0.192036  0.003809   \n",
            "DOW_1                     0.069902  0.005968 -0.051596 -0.188309  0.000615   \n",
            "DOW_2                     0.082879  0.008710 -0.061295 -0.213330 -0.006128   \n",
            "DOW_3                     0.075020  0.011346 -0.054657 -0.187705 -0.003272   \n",
            "DOW_4                     0.080929  0.014964 -0.061991 -0.196197 -0.003525   \n",
            "DOW_5                     0.055889  0.004911 -0.034604 -0.142002 -0.003976   \n",
            "DOW_6                     0.076045 -0.000647 -0.046441 -0.187865 -0.002647   \n",
            "HR_1                      0.003531  0.000077  0.001418 -0.010196  0.000187   \n",
            "HR_2                      0.005723  0.000784  0.002415 -0.015279 -0.000441   \n",
            "HR_3                      0.009956  0.004088  0.006203 -0.024580 -0.002065   \n",
            "HR_4                      0.007359  0.002054  0.004144 -0.018511 -0.000268   \n",
            "HR_5                      0.013005  0.002428  0.010332 -0.031348  0.003789   \n",
            "HR_6                      0.012556  0.001716  0.005111 -0.037300  0.000320   \n",
            "HR_7                      0.008664  0.001717 -0.001197 -0.028566 -0.002340   \n",
            "HR_8                      0.005460  0.001034 -0.003819 -0.018818 -0.000426   \n",
            "HR_9                      0.021260  0.004538 -0.017001 -0.058248 -0.000778   \n",
            "HR_10                     0.028722  0.003507 -0.021864 -0.077726 -0.001776   \n",
            "HR_11                     0.034306  0.002312 -0.022288 -0.100665 -0.001800   \n",
            "HR_12                     0.026077  0.000696 -0.015609 -0.075270  0.000092   \n",
            "HR_13                     0.035220  0.001280 -0.024788 -0.097164  0.000441   \n",
            "HR_14                     0.033647  0.004284 -0.031019 -0.083445  0.000454   \n",
            "HR_15                     0.026058  0.005502 -0.028332 -0.046071  0.000105   \n",
            "HR_16                     0.035200  0.004612 -0.037841 -0.059010 -0.001225   \n",
            "HR_17                     0.042752  0.003012 -0.041667 -0.089639 -0.000898   \n",
            "HR_18                     0.030254  0.000410 -0.023916 -0.075825  0.001663   \n",
            "HR_19                     0.015156 -0.000203 -0.009945 -0.044166 -0.001776   \n",
            "HR_20                     0.008160 -0.000266 -0.004318 -0.024715 -0.000994   \n",
            "HR_21                     0.011829  0.000061 -0.005152 -0.031385  0.000338   \n",
            "HR_22                     0.004855  0.000376 -0.000986 -0.013602 -0.000965   \n",
            "HR_23                     0.004546  0.000109  0.000011 -0.012632  0.000097   \n",
            "Total_Spent               0.085173  0.012507 -0.049991 -0.234864  0.004430   \n",
            "order_count               0.095112  0.009096 -0.066734 -0.242641 -0.002856   \n",
            "Diversity_Cuisine         0.042002  0.005995 -0.068519 -0.028577 -0.001150   \n",
            "costumer_time             0.643166  0.029016  0.278329  0.040183  0.001740   \n",
            "Intensity_of_Activity     0.172824  0.005511  0.292788  0.453599 -0.001248   \n",
            "Customer_loyalty         -0.363784 -0.057767  0.852099 -0.342620  0.006052   \n",
            "product_intensity        -0.009342  0.000219 -0.003364 -0.091513  0.006640   \n",
            "Day_Week_Spread           0.036536  0.003185 -0.027775 -0.089907 -0.002165   \n",
            "hour_spread               0.010479  0.001077 -0.012227 -0.038561 -0.000901   \n",
            "\n",
            "                               PC6       PC7       PC8       PC9      PC10  \\\n",
            "customer_age             -0.009948 -0.003644 -0.002111  0.003540  0.000324   \n",
            "vendor_count             -0.066489  0.013692  0.038118 -0.001608 -0.029844   \n",
            "product_count             0.046172 -0.042552 -0.052366  0.150576 -0.008752   \n",
            "is_chain                 -0.088834 -0.094853 -0.063600  0.083376 -0.066059   \n",
            "first_order              -0.002675 -0.009506 -0.052073  0.138189 -0.013481   \n",
            "last_order               -0.003146 -0.000101  0.062911 -0.146152  0.000235   \n",
            "CUI_American              0.025552  0.046728  0.041881  0.053174  0.098038   \n",
            "CUI_Asian                 0.152524  0.306925  0.057806  0.070805  0.037956   \n",
            "CUI_Beverages             0.046204  0.119395 -0.013484  0.075979 -0.027607   \n",
            "CUI_Cafe                 -0.001239 -0.007355 -0.016672  0.044479  0.006547   \n",
            "CUI_Chicken Dishes       -0.013512 -0.041309 -0.008774 -0.003564 -0.013220   \n",
            "CUI_Chinese               0.004759 -0.014957 -0.006502  0.008079 -0.014073   \n",
            "CUI_Desserts              0.023320  0.055499  0.010630  0.013604 -0.006267   \n",
            "CUI_Healthy               0.001593  0.028881 -0.027264  0.001796  0.003705   \n",
            "CUI_Indian                0.004778 -0.052578 -0.023102  0.000596  0.011691   \n",
            "CUI_Italian              -0.001217 -0.059682  0.011416  0.015295  0.049278   \n",
            "CUI_Japanese              0.015009  0.011568  0.002647  0.008594  0.012548   \n",
            "CUI_Noodle Dishes         0.006706 -0.036628 -0.009465 -0.003403 -0.021952   \n",
            "CUI_OTHER                -0.005459 -0.092582 -0.048444  0.035310  0.011173   \n",
            "CUI_Street Food / Snacks  0.191065  0.098265  0.024230  0.033907 -0.004293   \n",
            "CUI_Thai                 -0.012486 -0.068328 -0.016769  0.014525  0.027093   \n",
            "DOW_0                    -0.049919  0.077009 -0.235110  0.035614 -0.192982   \n",
            "DOW_1                    -0.043207  0.076166 -0.256890  0.039791 -0.122242   \n",
            "DOW_2                    -0.052305  0.068143 -0.425004 -0.049500 -0.305136   \n",
            "DOW_3                    -0.049937  0.025745 -0.213392 -0.007911 -0.032723   \n",
            "DOW_4                    -0.052113 -0.087637 -0.119183  0.137277  0.832541   \n",
            "DOW_5                    -0.032292 -0.096318  0.224171  0.140477  0.005276   \n",
            "DOW_6                    -0.036464 -0.196587  0.623718  0.404895 -0.256197   \n",
            "HR_1                      0.014074  0.046009  0.013206  0.001654  0.004937   \n",
            "HR_2                      0.034854  0.110159  0.025088  0.008610  0.010661   \n",
            "HR_3                      0.075907  0.323219  0.030591  0.011561  0.037308   \n",
            "HR_4                      0.042571  0.202765  0.047085  0.026385  0.000706   \n",
            "HR_5                      0.077529  0.457606  0.138726  0.113538  0.008686   \n",
            "HR_6                      0.050384  0.318994  0.077311  0.103887  0.020103   \n",
            "HR_7                      0.013047  0.080414  0.002267  0.040402  0.001094   \n",
            "HR_8                     -0.000841  0.015937 -0.010843  0.023920  0.001424   \n",
            "HR_9                      0.006602  0.064188 -0.051954  0.045823  0.027864   \n",
            "HR_10                    -0.000025  0.066609 -0.065344  0.054049  0.015979   \n",
            "HR_11                    -0.033334 -0.027015 -0.072451  0.046679 -0.073064   \n",
            "HR_12                    -0.036776 -0.051481 -0.046737  0.016706 -0.078277   \n",
            "HR_13                    -0.035744 -0.086171 -0.039809  0.073010 -0.124566   \n",
            "HR_14                    -0.017812 -0.094550  0.005024  0.110792 -0.039496   \n",
            "HR_15                    -0.012378 -0.072783 -0.000768  0.041895  0.056811   \n",
            "HR_16                    -0.030545 -0.129565 -0.007269  0.032415  0.109498   \n",
            "HR_17                    -0.068824 -0.224960 -0.014510  0.018410  0.091820   \n",
            "HR_18                    -0.060074 -0.161320 -0.010341 -0.001016 -0.015603   \n",
            "HR_19                    -0.034700 -0.074487 -0.006968  0.003616 -0.024379   \n",
            "HR_20                    -0.019032 -0.034423 -0.009126  0.000546 -0.021586   \n",
            "HR_21                    -0.028388 -0.050514 -0.004510 -0.012620 -0.039319   \n",
            "HR_22                    -0.005077 -0.001872  0.004400 -0.005927 -0.012223   \n",
            "HR_23                     0.000608  0.005827  0.005276 -0.004639 -0.012386   \n",
            "Total_Spent               0.265247  0.221327  0.016326  0.187017  0.097906   \n",
            "order_count              -0.058514 -0.029820 -0.055022  0.136205 -0.013648   \n",
            "Diversity_Cuisine         0.007627  0.047856 -0.015698  0.053705  0.006277   \n",
            "costumer_time            -0.000402  0.007472  0.091933 -0.227255  0.010902   \n",
            "Intensity_of_Activity     0.066646 -0.078787 -0.330849  0.722503 -0.040633   \n",
            "Customer_loyalty         -0.039793 -0.024515 -0.004112 -0.019208  0.021518   \n",
            "product_intensity         0.890422 -0.307775 -0.067409 -0.103274 -0.048487   \n",
            "Day_Week_Spread          -0.022662 -0.033452  0.024517  0.064986  0.013613   \n",
            "hour_spread              -0.010271 -0.009522 -0.034138  0.051544 -0.000627   \n",
            "\n",
            "                          ...      PC51      PC52      PC53      PC54  \\\n",
            "customer_age              ... -0.000153 -0.000224 -0.000365 -0.000396   \n",
            "vendor_count              ...  0.071881  0.118326 -0.014931  0.066649   \n",
            "product_count             ... -0.040776  0.015042  0.004089  0.041000   \n",
            "is_chain                  ... -0.000016 -0.231002 -0.182025 -0.033576   \n",
            "first_order               ...  0.003009  0.004006 -0.001261 -0.000863   \n",
            "last_order                ... -0.003556 -0.004443  0.001386  0.000360   \n",
            "CUI_American              ...  0.002103  0.016443  0.022709  0.008849   \n",
            "CUI_Asian                 ... -0.031907 -0.043607  0.053354 -0.013082   \n",
            "CUI_Beverages             ...  0.001843  0.033497  0.020455 -0.037418   \n",
            "CUI_Cafe                  ...  0.002012  0.122901  0.032812 -0.054030   \n",
            "CUI_Chicken Dishes        ...  0.760350  0.289403  0.029393  0.052908   \n",
            "CUI_Chinese               ... -0.022348 -0.456198 -0.496075  0.137245   \n",
            "CUI_Desserts              ... -0.005302  0.034540  0.012690 -0.024338   \n",
            "CUI_Healthy               ...  0.014601  0.016051  0.014340 -0.014582   \n",
            "CUI_Indian                ... -0.009507 -0.014469 -0.040095  0.022337   \n",
            "CUI_Italian               ... -0.025871 -0.232009 -0.011692  0.023670   \n",
            "CUI_Japanese              ...  0.096910  0.107271  0.105610 -0.045560   \n",
            "CUI_Noodle Dishes         ... -0.590666  0.466741  0.150060 -0.023752   \n",
            "CUI_OTHER                 ...  0.042882  0.001761  0.009542  0.015228   \n",
            "CUI_Street Food / Snacks  ... -0.018339  0.000849  0.023778 -0.018520   \n",
            "CUI_Thai                  ... -0.020880  0.000804  0.003891 -0.000531   \n",
            "DOW_0                     ... -0.010881 -0.015134  0.055439  0.017546   \n",
            "DOW_1                     ... -0.013051 -0.011353  0.057846  0.011639   \n",
            "DOW_2                     ... -0.017691 -0.017181  0.049770  0.017284   \n",
            "DOW_3                     ... -0.018169 -0.015332  0.061376  0.021258   \n",
            "DOW_4                     ... -0.019384 -0.014585  0.053784  0.012445   \n",
            "DOW_5                     ... -0.023395 -0.017725  0.075944  0.014855   \n",
            "DOW_6                     ... -0.014384 -0.014472  0.059764  0.018125   \n",
            "HR_1                      ...  0.022904 -0.001617 -0.062103 -0.048388   \n",
            "HR_2                      ... -0.009587  0.001080 -0.041123 -0.055234   \n",
            "HR_3                      ... -0.007431 -0.000777 -0.019153 -0.031397   \n",
            "HR_4                      ... -0.005828  0.007023 -0.033089 -0.042687   \n",
            "HR_5                      ... -0.005441 -0.006843 -0.016122 -0.014070   \n",
            "HR_6                      ... -0.003440 -0.000996 -0.015235 -0.012478   \n",
            "HR_7                      ... -0.002752 -0.013482 -0.105220 -0.173138   \n",
            "HR_8                      ... -0.009942 -0.026645  0.265030  0.786520   \n",
            "HR_9                      ...  0.003992  0.031380 -0.100433 -0.149933   \n",
            "HR_10                     ... -0.009586  0.012384 -0.060865 -0.061583   \n",
            "HR_11                     ...  0.000297  0.007596 -0.039995 -0.075515   \n",
            "HR_12                     ... -0.002065  0.024133 -0.055715 -0.075475   \n",
            "HR_13                     ...  0.001451  0.011555 -0.033426 -0.026502   \n",
            "HR_14                     ... -0.016772  0.013831 -0.032207 -0.027469   \n",
            "HR_15                     ... -0.006463  0.031385 -0.062198 -0.066678   \n",
            "HR_16                     ... -0.022535  0.037766 -0.052036 -0.069933   \n",
            "HR_17                     ... -0.006711  0.023510 -0.038314 -0.064068   \n",
            "HR_18                     ...  0.010130  0.026475 -0.032301 -0.080903   \n",
            "HR_19                     ... -0.090592  0.201724 -0.316570 -0.059878   \n",
            "HR_20                     ...  0.083449 -0.350039  0.616619 -0.418149   \n",
            "HR_21                     ... -0.003310  0.059044 -0.103545  0.021333   \n",
            "HR_22                     ... -0.011524 -0.010905 -0.087163 -0.060657   \n",
            "HR_23                     ... -0.010081 -0.000281 -0.032683 -0.035867   \n",
            "Total_Spent               ...  0.042657 -0.020834 -0.077058  0.020525   \n",
            "order_count               ... -0.022142 -0.019860  0.078397  0.021151   \n",
            "Diversity_Cuisine         ...  0.166012  0.399038 -0.128162 -0.070009   \n",
            "costumer_time             ... -0.005248 -0.006753  0.002115  0.000975   \n",
            "Intensity_of_Activity     ...  0.009982  0.012173 -0.003915 -0.004693   \n",
            "Customer_loyalty          ...  0.000107  0.011286 -0.005979 -0.011035   \n",
            "product_intensity         ...  0.008752 -0.004523  0.009588 -0.005752   \n",
            "Day_Week_Spread           ...  0.044752 -0.010059 -0.001544 -0.026021   \n",
            "hour_spread               ... -0.009758 -0.039298  0.080180  0.229845   \n",
            "\n",
            "                              PC55      PC56          PC57          PC58  \\\n",
            "customer_age             -0.000423 -0.000041 -0.000000e+00  0.000000e+00   \n",
            "vendor_count             -0.042595  0.086280  1.877950e-15 -3.964890e-15   \n",
            "product_count             0.876149  0.212182 -8.309647e-14 -3.928113e-14   \n",
            "is_chain                 -0.054637  0.005197  2.038446e-15  8.389017e-15   \n",
            "first_order              -0.001060 -0.003192  2.394162e-03  1.622738e-02   \n",
            "last_order                0.001458  0.003591 -2.421063e-03 -1.640971e-02   \n",
            "CUI_American              0.005815  0.008267 -1.544634e-01  3.857961e-02   \n",
            "CUI_Asian                 0.008064  0.005269 -2.962869e-01  7.400220e-02   \n",
            "CUI_Beverages            -0.006638 -0.007163 -1.263556e-01  3.155926e-02   \n",
            "CUI_Cafe                 -0.019118  0.035027 -1.797599e-01  4.489780e-02   \n",
            "CUI_Chicken Dishes       -0.087236 -0.015294 -1.210858e-01  3.024302e-02   \n",
            "CUI_Chinese              -0.105382 -0.083067 -2.401429e-01  5.997938e-02   \n",
            "CUI_Desserts              0.001756  0.012386 -1.268242e-01  3.167628e-02   \n",
            "CUI_Healthy               0.007776  0.008144 -1.410131e-01  3.522020e-02   \n",
            "CUI_Indian               -0.031429 -0.015580 -1.703723e-01  4.255309e-02   \n",
            "CUI_Italian              -0.032349  0.024592 -2.581630e-01  6.448018e-02   \n",
            "CUI_Japanese             -0.009090 -0.012411 -3.252326e-01  8.123183e-02   \n",
            "CUI_Noodle Dishes        -0.168604 -0.032482 -1.516521e-01  3.787744e-02   \n",
            "CUI_OTHER                -0.040886 -0.014973 -2.017986e-01  5.040229e-02   \n",
            "CUI_Street Food / Snacks  0.015600  0.002030 -2.107893e-01  5.264787e-02   \n",
            "CUI_Thai                  0.004594  0.002223 -7.517834e-02  1.877694e-02   \n",
            "DOW_0                    -0.062121 -0.067997 -8.865195e-02 -1.453360e-01   \n",
            "DOW_1                    -0.068573 -0.072444 -9.419270e-02 -1.544195e-01   \n",
            "DOW_2                    -0.062772 -0.065577 -8.311121e-02 -1.362525e-01   \n",
            "DOW_3                    -0.067752 -0.071745 -9.419270e-02 -1.544195e-01   \n",
            "DOW_4                    -0.065603 -0.069300 -8.865195e-02 -1.453360e-01   \n",
            "DOW_5                    -0.083050 -0.082474 -1.108149e-01 -1.816700e-01   \n",
            "DOW_6                    -0.075752 -0.069397 -9.419270e-02 -1.544195e-01   \n",
            "HR_1                     -0.004903  0.010230  7.356180e-03  1.161029e-01   \n",
            "HR_2                     -0.002920  0.017432  6.305298e-03  9.951675e-02   \n",
            "HR_3                      0.001881  0.005237  5.779856e-03  9.122369e-02   \n",
            "HR_4                      0.004932  0.013531  7.356180e-03  1.161029e-01   \n",
            "HR_5                      0.002595  0.008186  3.678090e-03  5.805144e-02   \n",
            "HR_6                      0.002672  0.012679  3.678090e-03  5.805144e-02   \n",
            "HR_7                     -0.006942  0.013600  7.881622e-03  1.243959e-01   \n",
            "HR_8                      0.017393 -0.238739  2.732296e-02  4.312393e-01   \n",
            "HR_9                     -0.017625  0.038891  1.208515e-02  1.907404e-01   \n",
            "HR_10                    -0.000529  0.017223  1.313604e-02  2.073266e-01   \n",
            "HR_11                    -0.028117  0.007886  1.208515e-02  1.907404e-01   \n",
            "HR_12                    -0.039399  0.011430  1.366148e-02  2.156196e-01   \n",
            "HR_13                    -0.023351  0.020425  7.356180e-03  1.161029e-01   \n",
            "HR_14                    -0.020302  0.021406  6.830739e-03  1.078098e-01   \n",
            "HR_15                    -0.017183  0.013786  1.208515e-02  1.907404e-01   \n",
            "HR_16                    -0.012177  0.014938  1.155971e-02  1.824474e-01   \n",
            "HR_17                    -0.014835  0.008899  1.050883e-02  1.658613e-01   \n",
            "HR_18                    -0.030078  0.007438  1.261060e-02  1.990335e-01   \n",
            "HR_19                    -0.052620 -0.012953  1.839045e-02  2.902572e-01   \n",
            "HR_20                    -0.055260 -0.007256  1.891589e-02  2.985503e-01   \n",
            "HR_21                    -0.026714  0.013397  5.779856e-03  9.122369e-02   \n",
            "HR_22                    -0.030440  0.003462  7.881622e-03  1.243959e-01   \n",
            "HR_23                    -0.011910  0.013572  5.779856e-03  9.122369e-02   \n",
            "Total_Spent              -0.214088 -0.048192  3.848273e-01 -9.611653e-02   \n",
            "order_count              -0.091683 -0.094010  4.513775e-01  7.113947e-02   \n",
            "Diversity_Cuisine         0.009054 -0.033054 -3.646607e-15 -4.120150e-15   \n",
            "costumer_time             0.002014  0.005422  3.012878e-03  2.042097e-02   \n",
            "Intensity_of_Activity    -0.003625 -0.015058  1.050494e-15  8.046326e-16   \n",
            "Customer_loyalty          0.003904 -0.011075 -3.751806e-16 -5.773002e-17   \n",
            "product_intensity        -0.040062 -0.010759  4.796496e-15  1.396360e-15   \n",
            "Day_Week_Spread          -0.011158 -0.001662 -1.261793e-15  1.207596e-15   \n",
            "hour_spread              -0.269201  0.908805  8.077820e-15  4.944573e-16   \n",
            "\n",
            "                                  PC59          PC60  \n",
            "customer_age             -0.000000e+00  3.246447e-15  \n",
            "vendor_count              1.043474e-14 -1.592436e-13  \n",
            "product_count            -8.192288e-15 -7.535773e-13  \n",
            "is_chain                 -4.415179e-15  6.686850e-14  \n",
            "first_order              -5.383973e-02  5.235739e-01  \n",
            "last_order                5.444467e-02 -5.294567e-01  \n",
            "CUI_American              8.484173e-02  8.234980e-03  \n",
            "CUI_Asian                 1.627407e-01  1.579608e-02  \n",
            "CUI_Beverages             6.940302e-02  6.736455e-03  \n",
            "CUI_Cafe                  9.873626e-02  9.583622e-03  \n",
            "CUI_Chicken Dishes        6.650846e-02  6.455500e-03  \n",
            "CUI_Chinese               1.319027e-01  1.280285e-02  \n",
            "CUI_Desserts              6.966039e-02  6.761435e-03  \n",
            "CUI_Healthy               7.745392e-02  7.517898e-03  \n",
            "CUI_Indian                9.357994e-02  9.083135e-03  \n",
            "CUI_Italian               1.418005e-01  1.376356e-02  \n",
            "CUI_Japanese              1.786397e-01  1.733927e-02  \n",
            "CUI_Noodle Dishes         8.329756e-02  8.085098e-03  \n",
            "CUI_OTHER                 1.108414e-01  1.075858e-02  \n",
            "CUI_Street Food / Snacks  1.157797e-01  1.123791e-02  \n",
            "CUI_Thai                  4.129301e-02  4.008017e-03  \n",
            "DOW_0                    -9.484244e-02 -4.842910e-03  \n",
            "DOW_1                    -1.007701e-01 -5.145592e-03  \n",
            "DOW_2                    -8.891479e-02 -4.540228e-03  \n",
            "DOW_3                    -1.007701e-01 -5.145592e-03  \n",
            "DOW_4                    -9.484244e-02 -4.842910e-03  \n",
            "DOW_5                    -1.185530e-01 -6.053638e-03  \n",
            "DOW_6                    -1.007701e-01 -5.145592e-03  \n",
            "HR_1                     -3.866366e-02 -7.607902e-03  \n",
            "HR_2                     -3.314028e-02 -6.521059e-03  \n",
            "HR_3                     -3.037859e-02 -5.977637e-03  \n",
            "HR_4                     -3.866366e-02 -7.607902e-03  \n",
            "HR_5                     -1.933183e-02 -3.803951e-03  \n",
            "HR_6                     -1.933183e-02 -3.803951e-03  \n",
            "HR_7                     -4.142536e-02 -8.151323e-03  \n",
            "HR_8                     -1.436079e-01 -2.825792e-02  \n",
            "HR_9                     -6.351888e-02 -1.249870e-02  \n",
            "HR_10                    -6.904226e-02 -1.358554e-02  \n",
            "HR_11                    -6.351888e-02 -1.249870e-02  \n",
            "HR_12                    -7.180395e-02 -1.412896e-02  \n",
            "HR_13                    -3.866366e-02 -7.607902e-03  \n",
            "HR_14                    -3.590197e-02 -7.064480e-03  \n",
            "HR_15                    -6.351888e-02 -1.249870e-02  \n",
            "HR_16                    -6.075719e-02 -1.195527e-02  \n",
            "HR_17                    -5.523381e-02 -1.086843e-02  \n",
            "HR_18                    -6.628057e-02 -1.304212e-02  \n",
            "HR_19                    -9.665916e-02 -1.901975e-02  \n",
            "HR_20                    -9.942085e-02 -1.956318e-02  \n",
            "HR_21                    -3.037859e-02 -5.977637e-03  \n",
            "HR_22                    -4.142536e-02 -8.151323e-03  \n",
            "HR_23                    -3.037859e-02 -5.977637e-03  \n",
            "Total_Spent              -2.113731e-01 -2.051648e-02  \n",
            "order_count               7.820409e-01  7.614931e-02  \n",
            "Diversity_Cuisine         9.514600e-15 -8.735820e-14  \n",
            "costumer_time            -6.775337e-02  6.588795e-01  \n",
            "Intensity_of_Activity     7.729737e-15 -4.891167e-14  \n",
            "Customer_loyalty         -4.956238e-16  1.511879e-14  \n",
            "product_intensity         1.276354e-15  3.211409e-14  \n",
            "Day_Week_Spread           4.751499e-16 -2.147122e-15  \n",
            "hour_spread              -3.952193e-15 -1.672606e-13  \n",
            "\n",
            "[60 rows x 60 columns]\n"
          ]
        }
      ],
      "source": [
        "loadings = pd.DataFrame(pca.components_.T, columns=[f'PC{i+1}' for i in range(pca.n_components_)], index=X.columns)\n",
        "print(loadings)"
      ]
    },
    {
      "cell_type": "code",
      "execution_count": 107,
      "id": "DzpTtqJ0rbGL",
      "metadata": {
        "colab": {
          "base_uri": "https://localhost:8080/",
          "height": 508
        },
        "id": "DzpTtqJ0rbGL",
        "outputId": "99479eef-281b-4358-a046-87a7b01f6437"
      },
      "outputs": [
        {
          "data": {
            "image/png": "[encoded data removed]",
            "text/plain": [
              "<Figure size 1500x500 with 2 Axes>"
            ]
          },
          "metadata": {},
          "output_type": "display_data"
        }
      ],
      "source": [
        "# figure and axes\n",
        "fig, (ax1, ax2) = plt.subplots(1, 2, figsize=(15, 5))\n",
        "\n",
        "# draw plots\n",
        "ax1.plot(pca.explained_variance_, marker=\".\", markersize=12)\n",
        "ax2.plot(pca.explained_variance_ratio_, marker=\".\", markersize=12, label=\"Proportion\")\n",
        "ax2.plot(np.cumsum(pca.explained_variance_ratio_), marker=\".\", markersize=12, linestyle=\"--\", label=\"Cumulative\")\n",
        "\n",
        "# customizations\n",
        "ax2.legend()\n",
        "ax1.set_title(\"Scree Plot\", fontsize=14)\n",
        "ax2.set_title(\"Variance Explained\", fontsize=14)\n",
        "ax1.set_ylabel(\"Eigenvalue\")\n",
        "ax2.set_ylabel(\"Proportion\")\n",
        "ax1.set_xlabel(\"Components\")\n",
        "ax2.set_xlabel(\"Components\")\n",
        "ax1.set_xticks(range(0, pca.n_components_, 2))\n",
        "ax1.set_xticklabels(range(1, pca.n_components_ + 1, 2))\n",
        "ax2.set_xticks(range(0, pca.n_components_, 2))\n",
        "ax2.set_xticklabels(range(1, pca.n_components_ + 1, 2))\n",
        "\n",
        "plt.show()"
      ]
    },
    {
      "cell_type": "markdown",
      "id": "hoCObxysOi9H",
      "metadata": {
        "id": "hoCObxysOi9H"
      },
      "source": [
        "We decided to establish a threshold of 85% cumulative variance, so we will retain the first 6 components"
      ]
    },
    {
      "cell_type": "code",
      "execution_count": 108,
      "id": "SkUqfjwUrzuw",
      "metadata": {
        "id": "SkUqfjwUrzuw"
      },
      "outputs": [],
      "source": [
        "#Retain the first 6 components\n",
        "pca = PCA(n_components=6)\n",
        "pca_feat = pca.fit_transform(df[metric_features])\n",
        "pca_feat_names = [f\"PC{i}\" for i in range(pca.n_components_)]\n",
        "#Create the dataframe \"df_PCA\" with the PC`s and the normalized categorical features\n",
        "df_PCA = pd.DataFrame(pca_feat, index=df.index, columns=pca_feat_names)\n",
        "df_PCA=pd.concat([df_PCA,ohc_df],axis=1)\n",
        "#Normalize the PC features\n",
        "metric_features1 = df_PCA.select_dtypes(include=['number']).columns.tolist()\n",
        "scaled_feat = scaler.fit_transform(df_PCA[metric_features1])\n",
        "df_PCA = scaled_feat\n",
        "df_PCA = pd.DataFrame(df_PCA, index=df.index, columns=metric_features1)"
      ]
    },
    {
      "cell_type": "markdown",
      "id": "87402cde",
      "metadata": {},
      "source": [
        "# Outlier removing using DBSCAN"
      ]
    },
    {
      "cell_type": "code",
      "execution_count": 109,
      "id": "200ba41d",
      "metadata": {},
      "outputs": [
        {
          "data": {
            "image/png": "[encoded data removed]",
            "text/plain": [
              "<Figure size 800x800 with 1 Axes>"
            ]
          },
          "metadata": {},
          "output_type": "display_data"
        }
      ],
      "source": [
        "from sklearn.neighbors import NearestNeighbors\n",
        "def get_kdist_plot(X=None, k=None, radius_nbrs=1.0):\n",
        "\n",
        "    nbrs = NearestNeighbors(n_neighbors=k, radius=radius_nbrs).fit(X)\n",
        "\n",
        "    # For each point, compute distances to its k-nearest neighbors\n",
        "    distances, indices = nbrs.kneighbors(X) \n",
        "                                       \n",
        "    distances = np.sort(distances, axis=0)\n",
        "    distances = distances[:, k-1]\n",
        "\n",
        "    # Plot the sorted K-nearest neighbor distance for each point in the dataset\n",
        "    plt.figure(figsize=(8,8))\n",
        "    plt.plot(distances)\n",
        "    plt.xlabel('Points/Objects in the dataset', fontsize=12)\n",
        "    plt.ylabel('Sorted {}-nearest neighbor distance'.format(k), fontsize=12)\n",
        "    plt.grid(True, linestyle=\"--\", color='black', alpha=0.4)\n",
        "    plt.show()\n",
        "    plt.close()\n",
        "\n",
        "\n",
        "k = 2 * df_PCA.shape[-1] - 1 # k=2*{dim(dataset)} - 1\n",
        "get_kdist_plot(X=df_PCA, k=k)"
      ]
    },
    {
      "cell_type": "code",
      "execution_count": 110,
      "id": "beba0379",
      "metadata": {},
      "outputs": [],
      "source": [
        "from sklearn.cluster import DBSCAN\n",
        "epsilon = 0.2  \n",
        "min_samples = 20  \n",
        "dbscan = DBSCAN(eps=epsilon, min_samples=min_samples)\n",
        "clusters = dbscan.fit_predict(df_PCA)"
      ]
    },
    {
      "cell_type": "code",
      "execution_count": 111,
      "id": "e00c2384",
      "metadata": {},
      "outputs": [],
      "source": [
        "df_PCA['Cluster'] = clusters"
      ]
    },
    {
      "cell_type": "code",
      "execution_count": 112,
      "id": "9e72b59d",
      "metadata": {},
      "outputs": [
        {
          "data": {
            "text/plain": [
              "Cluster\n",
              " 6    9604\n",
              " 3    7303\n",
              " 0    5389\n",
              " 1    4433\n",
              " 2    1193\n",
              " 7     920\n",
              " 4     634\n",
              " 5     565\n",
              "-1     513\n",
              "Name: count, dtype: int64"
            ]
          },
          "execution_count": 112,
          "metadata": {},
          "output_type": "execute_result"
        }
      ],
      "source": [
        "df_PCA['Cluster'].value_counts()"
      ]
    },
    {
      "cell_type": "code",
      "execution_count": 113,
      "id": "e331bb88",
      "metadata": {},
      "outputs": [],
      "source": [
        "df_PCA = df_PCA[df_PCA['Cluster'] != -1].reset_index(drop=True)"
      ]
    },
    {
      "cell_type": "code",
      "execution_count": 114,
      "id": "c4rR3Vg-PNO2",
      "metadata": {
        "id": "c4rR3Vg-PNO2"
      },
      "outputs": [],
      "source": [
        "df_PCA.to_csv('df_PCA.csv')"
      ]
    }
  ],
  "metadata": {
    "colab": {
      "provenance": []
    },
    "kernelspec": {
      "display_name": "Python 3",
      "language": "python",
      "name": "python3"
    },
    "language_info": {
      "codemirror_mode": {
        "name": "ipython",
        "version": 3
      },
      "file_extension": ".py",
      "mimetype": "text/x-python",
      "name": "python",
      "nbconvert_exporter": "python",
      "pygments_lexer": "ipython3",
      "version": "3.10.11"
    }
  },
  "nbformat": 4,
  "nbformat_minor": 5
}
