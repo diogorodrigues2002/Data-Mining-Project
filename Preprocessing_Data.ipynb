{
  "cells": [
    {
      "cell_type": "code",
      "execution_count": 67,
      "id": "8db3ae52-47a4-4b00-8b30-277832f174e3",
      "metadata": {
        "id": "8db3ae52-47a4-4b00-8b30-277832f174e3"
      },
      "outputs": [],
      "source": [
        "import pandas as pd\n",
        "import numpy as np\n",
        "import matplotlib.pyplot as plt\n",
        "import seaborn as sns\n",
        "import math\n",
        "from sklearn.preprocessing import MinMaxScaler\n",
        "from sklearn.preprocessing import OneHotEncoder\n",
        "from sklearn.decomposition import PCA"
      ]
    },
    {
      "cell_type": "code",
      "source": [
        "df=pd.read_csv('DM2425_ABCDEats_DATASET (1).csv',delimiter=',')"
      ],
      "metadata": {
        "id": "Jwa5o5gK-Cu4"
      },
      "id": "Jwa5o5gK-Cu4",
      "execution_count": 68,
      "outputs": []
    },
    {
      "cell_type": "markdown",
      "source": [
        "#Drop Dublicates"
      ],
      "metadata": {
        "id": "40aAICTb-2fY"
      },
      "id": "40aAICTb-2fY"
    },
    {
      "cell_type": "markdown",
      "source": [
        "We need to eliminate duplicates to prevent further issues, especially with the index setting"
      ],
      "metadata": {
        "id": "ND_cLsuXwu80"
      },
      "id": "ND_cLsuXwu80"
    },
    {
      "cell_type": "code",
      "source": [
        "df.duplicated().sum()"
      ],
      "metadata": {
        "colab": {
          "base_uri": "https://localhost:8080/"
        },
        "id": "Q791LW8I_KDA",
        "outputId": "8351a951-b6e9-4aa5-93bf-4769dee63465"
      },
      "id": "Q791LW8I_KDA",
      "execution_count": 69,
      "outputs": [
        {
          "output_type": "execute_result",
          "data": {
            "text/plain": [
              "13"
            ]
          },
          "metadata": {},
          "execution_count": 69
        }
      ]
    },
    {
      "cell_type": "code",
      "source": [
        "df=df.drop_duplicates()\n",
        "# Count the number of remaining duplicate rows in the DataFrame after dropping duplicates\n",
        "df.duplicated().sum()"
      ],
      "metadata": {
        "colab": {
          "base_uri": "https://localhost:8080/"
        },
        "id": "LRsHlrrN-5yo",
        "outputId": "0b3ecf94-2c80-4bb6-f057-449bb05afad5"
      },
      "id": "LRsHlrrN-5yo",
      "execution_count": 70,
      "outputs": [
        {
          "output_type": "execute_result",
          "data": {
            "text/plain": [
              "0"
            ]
          },
          "metadata": {},
          "execution_count": 70
        }
      ]
    },
    {
      "cell_type": "markdown",
      "source": [
        "# Set costumer_id as the index"
      ],
      "metadata": {
        "id": "HdfcdmshB8Ew"
      },
      "id": "HdfcdmshB8Ew"
    },
    {
      "cell_type": "code",
      "source": [
        "df.set_index('customer_id', inplace=True)"
      ],
      "metadata": {
        "id": "He30YSyXCAM9"
      },
      "id": "He30YSyXCAM9",
      "execution_count": 71,
      "outputs": []
    },
    {
      "cell_type": "markdown",
      "source": [
        "## Fixing variables"
      ],
      "metadata": {
        "id": "g5c9rRRu-v5i"
      },
      "id": "g5c9rRRu-v5i"
    },
    {
      "cell_type": "markdown",
      "source": [
        "**costumer_age**"
      ],
      "metadata": {
        "id": "oWSxYmKPBr9m"
      },
      "id": "oWSxYmKPBr9m"
    },
    {
      "cell_type": "markdown",
      "source": [
        "Fill missing values with median"
      ],
      "metadata": {
        "id": "ZBIgCxdUC2vx"
      },
      "id": "ZBIgCxdUC2vx"
    },
    {
      "cell_type": "code",
      "source": [
        "df['customer_age'].isna().sum()"
      ],
      "metadata": {
        "colab": {
          "base_uri": "https://localhost:8080/"
        },
        "id": "cWplddAcaJWO",
        "outputId": "b93628d6-473e-449e-94d6-674238dea8a4"
      },
      "id": "cWplddAcaJWO",
      "execution_count": 72,
      "outputs": [
        {
          "output_type": "execute_result",
          "data": {
            "text/plain": [
              "727"
            ]
          },
          "metadata": {},
          "execution_count": 72
        }
      ]
    },
    {
      "cell_type": "code",
      "source": [
        "df['customer_age'] = df['customer_age'].fillna(df['customer_age'].median())\n",
        "df['customer_age'].isna().sum()"
      ],
      "metadata": {
        "colab": {
          "base_uri": "https://localhost:8080/"
        },
        "id": "7jpJOyLrBuKC",
        "outputId": "dc0f02e8-ad0a-4e95-a5cc-a486e7f0e9f7"
      },
      "id": "7jpJOyLrBuKC",
      "execution_count": 73,
      "outputs": [
        {
          "output_type": "execute_result",
          "data": {
            "text/plain": [
              "0"
            ]
          },
          "metadata": {},
          "execution_count": 73
        }
      ]
    },
    {
      "cell_type": "markdown",
      "source": [
        "**costumer_region**"
      ],
      "metadata": {
        "id": "5dz1pZFzC2Dz"
      },
      "id": "5dz1pZFzC2Dz"
    },
    {
      "cell_type": "markdown",
      "source": [
        "Replace the value of '-' with 'Unknown' to enhance the interpretation of the feature"
      ],
      "metadata": {
        "id": "bBQO4mu506D2"
      },
      "id": "bBQO4mu506D2"
    },
    {
      "cell_type": "code",
      "source": [
        "df.loc[:, 'customer_region'] = df['customer_region'].replace('-', 'Unknown')"
      ],
      "metadata": {
        "id": "ksu3qKEjDPU1"
      },
      "id": "ksu3qKEjDPU1",
      "execution_count": 74,
      "outputs": []
    },
    {
      "cell_type": "markdown",
      "source": [
        "**product_count**"
      ],
      "metadata": {
        "id": "4YI-NtpVzKTl"
      },
      "id": "4YI-NtpVzKTl"
    },
    {
      "cell_type": "markdown",
      "source": [
        "There is an extreme product count value with '92ced2dcb9' index, so we will transform it into a high value"
      ],
      "metadata": {
        "id": "PzL-oIfIzN6h"
      },
      "id": "PzL-oIfIzN6h"
    },
    {
      "cell_type": "code",
      "source": [
        "df.loc['92ced2dcb9','product_count']=100"
      ],
      "metadata": {
        "id": "kDFD_JZ4Db7u"
      },
      "id": "kDFD_JZ4Db7u",
      "execution_count": 75,
      "outputs": []
    },
    {
      "cell_type": "markdown",
      "source": [
        "**first_order**"
      ],
      "metadata": {
        "id": "PgoPbHWlDmGU"
      },
      "id": "PgoPbHWlDmGU"
    },
    {
      "cell_type": "markdown",
      "source": [
        "Fill missing values with median"
      ],
      "metadata": {
        "id": "rpaTezEn0rbV"
      },
      "id": "rpaTezEn0rbV"
    },
    {
      "cell_type": "code",
      "source": [
        "df['first_order'] = df['first_order'].fillna(df['first_order'].median())"
      ],
      "metadata": {
        "id": "OPy9ew2bDpvM"
      },
      "id": "OPy9ew2bDpvM",
      "execution_count": 76,
      "outputs": []
    },
    {
      "cell_type": "markdown",
      "source": [
        "**last_promo**"
      ],
      "metadata": {
        "id": "1DVMVvKND7EO"
      },
      "id": "1DVMVvKND7EO"
    },
    {
      "cell_type": "markdown",
      "source": [
        "Replace the value of '-' with 'no_promotion_used' to enhance the interpretation of the feature"
      ],
      "metadata": {
        "id": "0Rfb9_FF2hIx"
      },
      "id": "0Rfb9_FF2hIx"
    },
    {
      "cell_type": "code",
      "source": [
        "df['last_promo'] = df['last_promo'].replace('-', 'no_promotion_used')"
      ],
      "metadata": {
        "id": "PkgQc8pQD-Xd"
      },
      "id": "PkgQc8pQD-Xd",
      "execution_count": 77,
      "outputs": []
    },
    {
      "cell_type": "markdown",
      "source": [
        "**HR_0**"
      ],
      "metadata": {
        "id": "pHtYVInrEMg0"
      },
      "id": "pHtYVInrEMg0"
    },
    {
      "cell_type": "markdown",
      "source": [
        "Drop the column labeled \"HR_0\" because it contains only zeros."
      ],
      "metadata": {
        "id": "BpgcInRj2nCE"
      },
      "id": "BpgcInRj2nCE"
    },
    {
      "cell_type": "code",
      "source": [
        "df.drop(columns=['HR_0'], inplace=True)"
      ],
      "metadata": {
        "id": "WLvodpbJERLz"
      },
      "id": "WLvodpbJERLz",
      "execution_count": 78,
      "outputs": []
    },
    {
      "cell_type": "markdown",
      "source": [
        "#Fixing inconsistencies"
      ],
      "metadata": {
        "id": "2kiPc39hE1-p"
      },
      "id": "2kiPc39hE1-p"
    },
    {
      "cell_type": "markdown",
      "source": [
        "Eliminate rows where there are inconsistencies"
      ],
      "metadata": {
        "id": "AzwOI1yBGamv"
      },
      "id": "AzwOI1yBGamv"
    },
    {
      "cell_type": "code",
      "source": [
        "df['sum_HR']=df['HR_1']+df['HR_2']+df['HR_3']+df['HR_4']+df['HR_5']+df['HR_6']+df['HR_7']+df['HR_8']+df['HR_9']+df['HR_10']+df['HR_11']+df['HR_12']+df['HR_13']+df['HR_14']+df['HR_15']+df['HR_16']+df['HR_17']+df['HR_18']+df['HR_19']+df['HR_20']+df['HR_21']+df['HR_22']+df['HR_23']\n",
        "df['sum_DOW']=df['DOW_0']+df['DOW_1']+df['DOW_2']+df['DOW_3']+df['DOW_4']+df['DOW_5']+df['DOW_6']\n",
        "df['inc_0']=(df['sum_HR']!=df['sum_DOW'])\n",
        "df['inc_2']=(df['product_count']==0)\n",
        "df = df.loc[~(df['inc_0'] | df['inc_2'])]\n",
        "df = df.drop(columns=['sum_HR', 'sum_DOW', 'inc_0', 'inc_2'])"
      ],
      "metadata": {
        "id": "pUPn6vpTFJNt"
      },
      "id": "pUPn6vpTFJNt",
      "execution_count": 79,
      "outputs": []
    },
    {
      "cell_type": "markdown",
      "source": [
        "# New variables"
      ],
      "metadata": {
        "id": "z0T2d1erH3M8"
      },
      "id": "z0T2d1erH3M8"
    },
    {
      "cell_type": "markdown",
      "source": [
        "**Total_Spent**"
      ],
      "metadata": {
        "id": "5ADv3rbZIGBo"
      },
      "id": "5ADv3rbZIGBo"
    },
    {
      "cell_type": "code",
      "source": [
        "cuisine = [col for col in df.columns if col.startswith('CUI_')]"
      ],
      "metadata": {
        "id": "9pN7TXLzObAb"
      },
      "id": "9pN7TXLzObAb",
      "execution_count": 80,
      "outputs": []
    },
    {
      "cell_type": "code",
      "source": [
        "df['Total_Spent']=df[cuisine].sum(axis=1)"
      ],
      "metadata": {
        "id": "7z1SKhRNH580"
      },
      "id": "7z1SKhRNH580",
      "execution_count": 81,
      "outputs": []
    },
    {
      "cell_type": "markdown",
      "source": [
        "Deal with extreme outliers"
      ],
      "metadata": {
        "id": "hJFfuxU-SG83"
      },
      "id": "hJFfuxU-SG83"
    },
    {
      "cell_type": "code",
      "source": [
        "df = df.drop('92ced2dcb9', axis=0)\n",
        "df.loc['249ba584d3','CUI_Asian']=500\n",
        "df.loc['8d65421423','CUI_Japanese']=590\n",
        "df['Total_Spent']=df[cuisine].sum(axis=1)"
      ],
      "metadata": {
        "id": "n1JL9kunMvDr"
      },
      "id": "n1JL9kunMvDr",
      "execution_count": 82,
      "outputs": []
    },
    {
      "cell_type": "markdown",
      "source": [
        "**Order_Count**"
      ],
      "metadata": {
        "id": "bHTgk2OWIKXw"
      },
      "id": "bHTgk2OWIKXw"
    },
    {
      "cell_type": "code",
      "source": [
        "df['order_count']=df['DOW_0']+df['DOW_1']+df['DOW_2']+df['DOW_3']+df['DOW_4']+df['DOW_5']+df['DOW_6']"
      ],
      "metadata": {
        "id": "2FSilF83IaRI"
      },
      "id": "2FSilF83IaRI",
      "execution_count": 83,
      "outputs": []
    },
    {
      "cell_type": "markdown",
      "source": [
        "**Diversity_Cuisine**"
      ],
      "metadata": {
        "id": "mFRWalwlUeeY"
      },
      "id": "mFRWalwlUeeY"
    },
    {
      "cell_type": "code",
      "source": [
        "df['Diversity_Cuisine'] = (df[cuisine] > 0).sum(axis=1)\n",
        "df['Diversity_Cuisine'] = df['order_count']/df['Diversity_Cuisine']"
      ],
      "metadata": {
        "id": "XN_13jXlUerJ"
      },
      "id": "XN_13jXlUerJ",
      "execution_count": 84,
      "outputs": []
    },
    {
      "cell_type": "markdown",
      "source": [
        "**Costumer_time**"
      ],
      "metadata": {
        "id": "xCsQWmOiWg8R"
      },
      "id": "xCsQWmOiWg8R"
    },
    {
      "cell_type": "code",
      "source": [
        "df['costumer_time']=df['last_order']-df['first_order']"
      ],
      "metadata": {
        "id": "Do_Ym9HRWkcT"
      },
      "id": "Do_Ym9HRWkcT",
      "execution_count": 85,
      "outputs": []
    },
    {
      "cell_type": "markdown",
      "source": [
        "**Intensity_of_Activity**"
      ],
      "metadata": {
        "id": "51T04ERQWLym"
      },
      "id": "51T04ERQWLym"
    },
    {
      "cell_type": "code",
      "source": [
        "df['Intensity_of_Activity'] = df['costumer_time'] / df['order_count']"
      ],
      "metadata": {
        "id": "WMLet25-WOV6"
      },
      "id": "WMLet25-WOV6",
      "execution_count": 86,
      "outputs": []
    },
    {
      "cell_type": "markdown",
      "source": [
        "**Customer_Loyalty**"
      ],
      "metadata": {
        "id": "r4_vgo1HYcNV"
      },
      "id": "r4_vgo1HYcNV"
    },
    {
      "cell_type": "code",
      "source": [
        "df['Customer_loyalty'] = df['vendor_count'] / df['order_count']"
      ],
      "metadata": {
        "id": "I335t7sjYh0f"
      },
      "id": "I335t7sjYh0f",
      "execution_count": 87,
      "outputs": []
    },
    {
      "cell_type": "markdown",
      "source": [
        "**Product_Intensity**"
      ],
      "metadata": {
        "id": "sCuKdYQCZdiv"
      },
      "id": "sCuKdYQCZdiv"
    },
    {
      "cell_type": "code",
      "source": [
        "df['product_intensity'] = df['product_count'] / df['order_count']"
      ],
      "metadata": {
        "id": "RHil6I3CZjuq"
      },
      "id": "RHil6I3CZjuq",
      "execution_count": 88,
      "outputs": []
    },
    {
      "cell_type": "markdown",
      "source": [
        "**Day_Week_Spread**"
      ],
      "metadata": {
        "id": "N6fGsqWj3qe9"
      },
      "id": "N6fGsqWj3qe9"
    },
    {
      "cell_type": "code",
      "source": [
        "days = [col for col in df.columns if col.startswith('DOW_')]"
      ],
      "metadata": {
        "id": "PZlhd4uG6x9t"
      },
      "id": "PZlhd4uG6x9t",
      "execution_count": 89,
      "outputs": []
    },
    {
      "cell_type": "code",
      "source": [
        "df['Day_Week_Spread'] = df.loc[:,days].var(axis=1)"
      ],
      "metadata": {
        "id": "ZsJoVRMm6oh2"
      },
      "id": "ZsJoVRMm6oh2",
      "execution_count": 90,
      "outputs": []
    },
    {
      "cell_type": "markdown",
      "source": [
        "**hour_spread**"
      ],
      "metadata": {
        "id": "A0JJGlLN7ppg"
      },
      "id": "A0JJGlLN7ppg"
    },
    {
      "cell_type": "code",
      "source": [
        "hours=[col for col in df.columns if col.startswith('HR_')]"
      ],
      "metadata": {
        "id": "X6WUt0W-7wtu"
      },
      "id": "X6WUt0W-7wtu",
      "execution_count": 91,
      "outputs": []
    },
    {
      "cell_type": "code",
      "source": [
        "df['hour_spread'] = df.loc[:,hours].var(axis=1)"
      ],
      "metadata": {
        "id": "PyFgombB78Iq"
      },
      "id": "PyFgombB78Iq",
      "execution_count": 64,
      "outputs": []
    },
    {
      "cell_type": "code",
      "source": [
        "df.to_csv('df_Clean.csv')"
      ],
      "metadata": {
        "id": "01UITIar4SIp"
      },
      "id": "01UITIar4SIp",
      "execution_count": 93,
      "outputs": []
    },
    {
      "cell_type": "markdown",
      "source": [
        "# Normalize data"
      ],
      "metadata": {
        "id": "88tIVnyJDDfW"
      },
      "id": "88tIVnyJDDfW"
    },
    {
      "cell_type": "code",
      "source": [
        "#Select numeric features\n",
        "metric_features = df.select_dtypes(include=['number']).columns.tolist()"
      ],
      "metadata": {
        "id": "-nI0DdK_DGbN"
      },
      "id": "-nI0DdK_DGbN",
      "execution_count": 94,
      "outputs": []
    },
    {
      "cell_type": "code",
      "source": [
        "# Normalize numeric data with Min-Max scaler\n",
        "scaler = MinMaxScaler()\n",
        "scaled_feat = scaler.fit_transform(df[metric_features])\n",
        "df[metric_features] = scaled_feat"
      ],
      "metadata": {
        "id": "RnIGC-YPFtZ2"
      },
      "id": "RnIGC-YPFtZ2",
      "execution_count": 95,
      "outputs": []
    },
    {
      "cell_type": "code",
      "source": [
        "#Select categorical features\n",
        "categorical_features = df.select_dtypes(include=['object', 'category']).columns.tolist()"
      ],
      "metadata": {
        "id": "wTC9SwzMG_nA"
      },
      "id": "wTC9SwzMG_nA",
      "execution_count": 96,
      "outputs": []
    },
    {
      "cell_type": "code",
      "source": [
        "# Normalize categorical features with OneHotEncoder scaler\n",
        "ohc = OneHotEncoder(sparse_output=False, drop=\"first\")\n",
        "ohc_feat = ohc.fit_transform(df[categorical_features])\n",
        "ohc_feat_names = ohc.get_feature_names_out()\n",
        "#Saving the normalized categorical features in a dataframe named ohc_df\n",
        "ohc_df = pd.DataFrame(ohc_feat, index=df.index, columns=ohc_feat_names)\n",
        "ohc_df"
      ],
      "metadata": {
        "id": "x6pN72UYHxjJ",
        "outputId": "f3a2a492-9f5f-433c-9f36-ed02614f8a24",
        "colab": {
          "base_uri": "https://localhost:8080/",
          "height": 475
        }
      },
      "id": "x6pN72UYHxjJ",
      "execution_count": 98,
      "outputs": [
        {
          "output_type": "execute_result",
          "data": {
            "text/plain": [
              "             customer_region_2440  customer_region_2490  customer_region_4140  \\\n",
              "customer_id                                                                     \n",
              "1b8f824d5e                    0.0                   0.0                   0.0   \n",
              "5d272b9dcb                    0.0                   0.0                   0.0   \n",
              "f6d1b2ba63                    0.0                   0.0                   0.0   \n",
              "180c632ed8                    0.0                   0.0                   0.0   \n",
              "4eb37a6705                    0.0                   0.0                   0.0   \n",
              "...                           ...                   ...                   ...   \n",
              "f4e366c281                    0.0                   0.0                   0.0   \n",
              "f6b6709018                    0.0                   0.0                   0.0   \n",
              "f74ad8ce3f                    0.0                   0.0                   0.0   \n",
              "f7b19c0241                    0.0                   0.0                   0.0   \n",
              "fd40d3b0e0                    0.0                   0.0                   0.0   \n",
              "\n",
              "             customer_region_4660  customer_region_8370  customer_region_8550  \\\n",
              "customer_id                                                                     \n",
              "1b8f824d5e                    0.0                   0.0                   0.0   \n",
              "5d272b9dcb                    0.0                   0.0                   0.0   \n",
              "f6d1b2ba63                    1.0                   0.0                   0.0   \n",
              "180c632ed8                    1.0                   0.0                   0.0   \n",
              "4eb37a6705                    1.0                   0.0                   0.0   \n",
              "...                           ...                   ...                   ...   \n",
              "f4e366c281                    0.0                   0.0                   0.0   \n",
              "f6b6709018                    0.0                   0.0                   0.0   \n",
              "f74ad8ce3f                    0.0                   0.0                   0.0   \n",
              "f7b19c0241                    0.0                   0.0                   0.0   \n",
              "fd40d3b0e0                    1.0                   0.0                   0.0   \n",
              "\n",
              "             customer_region_8670  customer_region_Unknown  \\\n",
              "customer_id                                                  \n",
              "1b8f824d5e                    0.0                      0.0   \n",
              "5d272b9dcb                    1.0                      0.0   \n",
              "f6d1b2ba63                    0.0                      0.0   \n",
              "180c632ed8                    0.0                      0.0   \n",
              "4eb37a6705                    0.0                      0.0   \n",
              "...                           ...                      ...   \n",
              "f4e366c281                    1.0                      0.0   \n",
              "f6b6709018                    1.0                      0.0   \n",
              "f74ad8ce3f                    1.0                      0.0   \n",
              "f7b19c0241                    1.0                      0.0   \n",
              "fd40d3b0e0                    0.0                      0.0   \n",
              "\n",
              "             last_promo_DISCOUNT  last_promo_FREEBIE  \\\n",
              "customer_id                                            \n",
              "1b8f824d5e                   0.0                 0.0   \n",
              "5d272b9dcb                   1.0                 0.0   \n",
              "f6d1b2ba63                   1.0                 0.0   \n",
              "180c632ed8                   0.0                 0.0   \n",
              "4eb37a6705                   0.0                 0.0   \n",
              "...                          ...                 ...   \n",
              "f4e366c281                   0.0                 1.0   \n",
              "f6b6709018                   0.0                 0.0   \n",
              "f74ad8ce3f                   0.0                 0.0   \n",
              "f7b19c0241                   1.0                 0.0   \n",
              "fd40d3b0e0                   0.0                 0.0   \n",
              "\n",
              "             last_promo_no_promotion_used  payment_method_CASH  \\\n",
              "customer_id                                                      \n",
              "1b8f824d5e                            0.0                  0.0   \n",
              "5d272b9dcb                            0.0                  0.0   \n",
              "f6d1b2ba63                            0.0                  1.0   \n",
              "180c632ed8                            0.0                  0.0   \n",
              "4eb37a6705                            1.0                  0.0   \n",
              "...                                   ...                  ...   \n",
              "f4e366c281                            0.0                  0.0   \n",
              "f6b6709018                            0.0                  0.0   \n",
              "f74ad8ce3f                            1.0                  0.0   \n",
              "f7b19c0241                            0.0                  0.0   \n",
              "fd40d3b0e0                            1.0                  1.0   \n",
              "\n",
              "             payment_method_DIGI  \n",
              "customer_id                       \n",
              "1b8f824d5e                   1.0  \n",
              "5d272b9dcb                   1.0  \n",
              "f6d1b2ba63                   0.0  \n",
              "180c632ed8                   1.0  \n",
              "4eb37a6705                   1.0  \n",
              "...                          ...  \n",
              "f4e366c281                   1.0  \n",
              "f6b6709018                   1.0  \n",
              "f74ad8ce3f                   1.0  \n",
              "f7b19c0241                   1.0  \n",
              "fd40d3b0e0                   0.0  \n",
              "\n",
              "[30554 rows x 13 columns]"
            ],
            "text/html": [
              "\n",
              "  <div id=\"df-ff90864a-153c-46ae-a944-1effc4cde43a\" class=\"colab-df-container\">\n",
              "    <div>\n",
              "<style scoped>\n",
              "    .dataframe tbody tr th:only-of-type {\n",
              "        vertical-align: middle;\n",
              "    }\n",
              "\n",
              "    .dataframe tbody tr th {\n",
              "        vertical-align: top;\n",
              "    }\n",
              "\n",
              "    .dataframe thead th {\n",
              "        text-align: right;\n",
              "    }\n",
              "</style>\n",
              "<table border=\"1\" class=\"dataframe\">\n",
              "  <thead>\n",
              "    <tr style=\"text-align: right;\">\n",
              "      <th></th>\n",
              "      <th>customer_region_2440</th>\n",
              "      <th>customer_region_2490</th>\n",
              "      <th>customer_region_4140</th>\n",
              "      <th>customer_region_4660</th>\n",
              "      <th>customer_region_8370</th>\n",
              "      <th>customer_region_8550</th>\n",
              "      <th>customer_region_8670</th>\n",
              "      <th>customer_region_Unknown</th>\n",
              "      <th>last_promo_DISCOUNT</th>\n",
              "      <th>last_promo_FREEBIE</th>\n",
              "      <th>last_promo_no_promotion_used</th>\n",
              "      <th>payment_method_CASH</th>\n",
              "      <th>payment_method_DIGI</th>\n",
              "    </tr>\n",
              "    <tr>\n",
              "      <th>customer_id</th>\n",
              "      <th></th>\n",
              "      <th></th>\n",
              "      <th></th>\n",
              "      <th></th>\n",
              "      <th></th>\n",
              "      <th></th>\n",
              "      <th></th>\n",
              "      <th></th>\n",
              "      <th></th>\n",
              "      <th></th>\n",
              "      <th></th>\n",
              "      <th></th>\n",
              "      <th></th>\n",
              "    </tr>\n",
              "  </thead>\n",
              "  <tbody>\n",
              "    <tr>\n",
              "      <th>1b8f824d5e</th>\n",
              "      <td>0.0</td>\n",
              "      <td>0.0</td>\n",
              "      <td>0.0</td>\n",
              "      <td>0.0</td>\n",
              "      <td>0.0</td>\n",
              "      <td>0.0</td>\n",
              "      <td>0.0</td>\n",
              "      <td>0.0</td>\n",
              "      <td>0.0</td>\n",
              "      <td>0.0</td>\n",
              "      <td>0.0</td>\n",
              "      <td>0.0</td>\n",
              "      <td>1.0</td>\n",
              "    </tr>\n",
              "    <tr>\n",
              "      <th>5d272b9dcb</th>\n",
              "      <td>0.0</td>\n",
              "      <td>0.0</td>\n",
              "      <td>0.0</td>\n",
              "      <td>0.0</td>\n",
              "      <td>0.0</td>\n",
              "      <td>0.0</td>\n",
              "      <td>1.0</td>\n",
              "      <td>0.0</td>\n",
              "      <td>1.0</td>\n",
              "      <td>0.0</td>\n",
              "      <td>0.0</td>\n",
              "      <td>0.0</td>\n",
              "      <td>1.0</td>\n",
              "    </tr>\n",
              "    <tr>\n",
              "      <th>f6d1b2ba63</th>\n",
              "      <td>0.0</td>\n",
              "      <td>0.0</td>\n",
              "      <td>0.0</td>\n",
              "      <td>1.0</td>\n",
              "      <td>0.0</td>\n",
              "      <td>0.0</td>\n",
              "      <td>0.0</td>\n",
              "      <td>0.0</td>\n",
              "      <td>1.0</td>\n",
              "      <td>0.0</td>\n",
              "      <td>0.0</td>\n",
              "      <td>1.0</td>\n",
              "      <td>0.0</td>\n",
              "    </tr>\n",
              "    <tr>\n",
              "      <th>180c632ed8</th>\n",
              "      <td>0.0</td>\n",
              "      <td>0.0</td>\n",
              "      <td>0.0</td>\n",
              "      <td>1.0</td>\n",
              "      <td>0.0</td>\n",
              "      <td>0.0</td>\n",
              "      <td>0.0</td>\n",
              "      <td>0.0</td>\n",
              "      <td>0.0</td>\n",
              "      <td>0.0</td>\n",
              "      <td>0.0</td>\n",
              "      <td>0.0</td>\n",
              "      <td>1.0</td>\n",
              "    </tr>\n",
              "    <tr>\n",
              "      <th>4eb37a6705</th>\n",
              "      <td>0.0</td>\n",
              "      <td>0.0</td>\n",
              "      <td>0.0</td>\n",
              "      <td>1.0</td>\n",
              "      <td>0.0</td>\n",
              "      <td>0.0</td>\n",
              "      <td>0.0</td>\n",
              "      <td>0.0</td>\n",
              "      <td>0.0</td>\n",
              "      <td>0.0</td>\n",
              "      <td>1.0</td>\n",
              "      <td>0.0</td>\n",
              "      <td>1.0</td>\n",
              "    </tr>\n",
              "    <tr>\n",
              "      <th>...</th>\n",
              "      <td>...</td>\n",
              "      <td>...</td>\n",
              "      <td>...</td>\n",
              "      <td>...</td>\n",
              "      <td>...</td>\n",
              "      <td>...</td>\n",
              "      <td>...</td>\n",
              "      <td>...</td>\n",
              "      <td>...</td>\n",
              "      <td>...</td>\n",
              "      <td>...</td>\n",
              "      <td>...</td>\n",
              "      <td>...</td>\n",
              "    </tr>\n",
              "    <tr>\n",
              "      <th>f4e366c281</th>\n",
              "      <td>0.0</td>\n",
              "      <td>0.0</td>\n",
              "      <td>0.0</td>\n",
              "      <td>0.0</td>\n",
              "      <td>0.0</td>\n",
              "      <td>0.0</td>\n",
              "      <td>1.0</td>\n",
              "      <td>0.0</td>\n",
              "      <td>0.0</td>\n",
              "      <td>1.0</td>\n",
              "      <td>0.0</td>\n",
              "      <td>0.0</td>\n",
              "      <td>1.0</td>\n",
              "    </tr>\n",
              "    <tr>\n",
              "      <th>f6b6709018</th>\n",
              "      <td>0.0</td>\n",
              "      <td>0.0</td>\n",
              "      <td>0.0</td>\n",
              "      <td>0.0</td>\n",
              "      <td>0.0</td>\n",
              "      <td>0.0</td>\n",
              "      <td>1.0</td>\n",
              "      <td>0.0</td>\n",
              "      <td>0.0</td>\n",
              "      <td>0.0</td>\n",
              "      <td>0.0</td>\n",
              "      <td>0.0</td>\n",
              "      <td>1.0</td>\n",
              "    </tr>\n",
              "    <tr>\n",
              "      <th>f74ad8ce3f</th>\n",
              "      <td>0.0</td>\n",
              "      <td>0.0</td>\n",
              "      <td>0.0</td>\n",
              "      <td>0.0</td>\n",
              "      <td>0.0</td>\n",
              "      <td>0.0</td>\n",
              "      <td>1.0</td>\n",
              "      <td>0.0</td>\n",
              "      <td>0.0</td>\n",
              "      <td>0.0</td>\n",
              "      <td>1.0</td>\n",
              "      <td>0.0</td>\n",
              "      <td>1.0</td>\n",
              "    </tr>\n",
              "    <tr>\n",
              "      <th>f7b19c0241</th>\n",
              "      <td>0.0</td>\n",
              "      <td>0.0</td>\n",
              "      <td>0.0</td>\n",
              "      <td>0.0</td>\n",
              "      <td>0.0</td>\n",
              "      <td>0.0</td>\n",
              "      <td>1.0</td>\n",
              "      <td>0.0</td>\n",
              "      <td>1.0</td>\n",
              "      <td>0.0</td>\n",
              "      <td>0.0</td>\n",
              "      <td>0.0</td>\n",
              "      <td>1.0</td>\n",
              "    </tr>\n",
              "    <tr>\n",
              "      <th>fd40d3b0e0</th>\n",
              "      <td>0.0</td>\n",
              "      <td>0.0</td>\n",
              "      <td>0.0</td>\n",
              "      <td>1.0</td>\n",
              "      <td>0.0</td>\n",
              "      <td>0.0</td>\n",
              "      <td>0.0</td>\n",
              "      <td>0.0</td>\n",
              "      <td>0.0</td>\n",
              "      <td>0.0</td>\n",
              "      <td>1.0</td>\n",
              "      <td>1.0</td>\n",
              "      <td>0.0</td>\n",
              "    </tr>\n",
              "  </tbody>\n",
              "</table>\n",
              "<p>30554 rows × 13 columns</p>\n",
              "</div>\n",
              "    <div class=\"colab-df-buttons\">\n",
              "\n",
              "  <div class=\"colab-df-container\">\n",
              "    <button class=\"colab-df-convert\" onclick=\"convertToInteractive('df-ff90864a-153c-46ae-a944-1effc4cde43a')\"\n",
              "            title=\"Convert this dataframe to an interactive table.\"\n",
              "            style=\"display:none;\">\n",
              "\n",
              "  <svg xmlns=\"http://www.w3.org/2000/svg\" height=\"24px\" viewBox=\"0 -960 960 960\">\n",
              "    <path d=\"M120-120v-720h720v720H120Zm60-500h600v-160H180v160Zm220 220h160v-160H400v160Zm0 220h160v-160H400v160ZM180-400h160v-160H180v160Zm440 0h160v-160H620v160ZM180-180h160v-160H180v160Zm440 0h160v-160H620v160Z\"/>\n",
              "  </svg>\n",
              "    </button>\n",
              "\n",
              "  <style>\n",
              "    .colab-df-container {\n",
              "      display:flex;\n",
              "      gap: 12px;\n",
              "    }\n",
              "\n",
              "    .colab-df-convert {\n",
              "      background-color: #E8F0FE;\n",
              "      border: none;\n",
              "      border-radius: 50%;\n",
              "      cursor: pointer;\n",
              "      display: none;\n",
              "      fill: #1967D2;\n",
              "      height: 32px;\n",
              "      padding: 0 0 0 0;\n",
              "      width: 32px;\n",
              "    }\n",
              "\n",
              "    .colab-df-convert:hover {\n",
              "      background-color: #E2EBFA;\n",
              "      box-shadow: 0px 1px 2px rgba(60, 64, 67, 0.3), 0px 1px 3px 1px rgba(60, 64, 67, 0.15);\n",
              "      fill: #174EA6;\n",
              "    }\n",
              "\n",
              "    .colab-df-buttons div {\n",
              "      margin-bottom: 4px;\n",
              "    }\n",
              "\n",
              "    [theme=dark] .colab-df-convert {\n",
              "      background-color: #3B4455;\n",
              "      fill: #D2E3FC;\n",
              "    }\n",
              "\n",
              "    [theme=dark] .colab-df-convert:hover {\n",
              "      background-color: #434B5C;\n",
              "      box-shadow: 0px 1px 3px 1px rgba(0, 0, 0, 0.15);\n",
              "      filter: drop-shadow(0px 1px 2px rgba(0, 0, 0, 0.3));\n",
              "      fill: #FFFFFF;\n",
              "    }\n",
              "  </style>\n",
              "\n",
              "    <script>\n",
              "      const buttonEl =\n",
              "        document.querySelector('#df-ff90864a-153c-46ae-a944-1effc4cde43a button.colab-df-convert');\n",
              "      buttonEl.style.display =\n",
              "        google.colab.kernel.accessAllowed ? 'block' : 'none';\n",
              "\n",
              "      async function convertToInteractive(key) {\n",
              "        const element = document.querySelector('#df-ff90864a-153c-46ae-a944-1effc4cde43a');\n",
              "        const dataTable =\n",
              "          await google.colab.kernel.invokeFunction('convertToInteractive',\n",
              "                                                    [key], {});\n",
              "        if (!dataTable) return;\n",
              "\n",
              "        const docLinkHtml = 'Like what you see? Visit the ' +\n",
              "          '<a target=\"_blank\" href=https://colab.research.google.com/notebooks/data_table.ipynb>data table notebook</a>'\n",
              "          + ' to learn more about interactive tables.';\n",
              "        element.innerHTML = '';\n",
              "        dataTable['output_type'] = 'display_data';\n",
              "        await google.colab.output.renderOutput(dataTable, element);\n",
              "        const docLink = document.createElement('div');\n",
              "        docLink.innerHTML = docLinkHtml;\n",
              "        element.appendChild(docLink);\n",
              "      }\n",
              "    </script>\n",
              "  </div>\n",
              "\n",
              "\n",
              "<div id=\"df-709e44d1-6b7d-4f6a-850f-53f5a1191e5f\">\n",
              "  <button class=\"colab-df-quickchart\" onclick=\"quickchart('df-709e44d1-6b7d-4f6a-850f-53f5a1191e5f')\"\n",
              "            title=\"Suggest charts\"\n",
              "            style=\"display:none;\">\n",
              "\n",
              "<svg xmlns=\"http://www.w3.org/2000/svg\" height=\"24px\"viewBox=\"0 0 24 24\"\n",
              "     width=\"24px\">\n",
              "    <g>\n",
              "        <path d=\"M19 3H5c-1.1 0-2 .9-2 2v14c0 1.1.9 2 2 2h14c1.1 0 2-.9 2-2V5c0-1.1-.9-2-2-2zM9 17H7v-7h2v7zm4 0h-2V7h2v10zm4 0h-2v-4h2v4z\"/>\n",
              "    </g>\n",
              "</svg>\n",
              "  </button>\n",
              "\n",
              "<style>\n",
              "  .colab-df-quickchart {\n",
              "      --bg-color: #E8F0FE;\n",
              "      --fill-color: #1967D2;\n",
              "      --hover-bg-color: #E2EBFA;\n",
              "      --hover-fill-color: #174EA6;\n",
              "      --disabled-fill-color: #AAA;\n",
              "      --disabled-bg-color: #DDD;\n",
              "  }\n",
              "\n",
              "  [theme=dark] .colab-df-quickchart {\n",
              "      --bg-color: #3B4455;\n",
              "      --fill-color: #D2E3FC;\n",
              "      --hover-bg-color: #434B5C;\n",
              "      --hover-fill-color: #FFFFFF;\n",
              "      --disabled-bg-color: #3B4455;\n",
              "      --disabled-fill-color: #666;\n",
              "  }\n",
              "\n",
              "  .colab-df-quickchart {\n",
              "    background-color: var(--bg-color);\n",
              "    border: none;\n",
              "    border-radius: 50%;\n",
              "    cursor: pointer;\n",
              "    display: none;\n",
              "    fill: var(--fill-color);\n",
              "    height: 32px;\n",
              "    padding: 0;\n",
              "    width: 32px;\n",
              "  }\n",
              "\n",
              "  .colab-df-quickchart:hover {\n",
              "    background-color: var(--hover-bg-color);\n",
              "    box-shadow: 0 1px 2px rgba(60, 64, 67, 0.3), 0 1px 3px 1px rgba(60, 64, 67, 0.15);\n",
              "    fill: var(--button-hover-fill-color);\n",
              "  }\n",
              "\n",
              "  .colab-df-quickchart-complete:disabled,\n",
              "  .colab-df-quickchart-complete:disabled:hover {\n",
              "    background-color: var(--disabled-bg-color);\n",
              "    fill: var(--disabled-fill-color);\n",
              "    box-shadow: none;\n",
              "  }\n",
              "\n",
              "  .colab-df-spinner {\n",
              "    border: 2px solid var(--fill-color);\n",
              "    border-color: transparent;\n",
              "    border-bottom-color: var(--fill-color);\n",
              "    animation:\n",
              "      spin 1s steps(1) infinite;\n",
              "  }\n",
              "\n",
              "  @keyframes spin {\n",
              "    0% {\n",
              "      border-color: transparent;\n",
              "      border-bottom-color: var(--fill-color);\n",
              "      border-left-color: var(--fill-color);\n",
              "    }\n",
              "    20% {\n",
              "      border-color: transparent;\n",
              "      border-left-color: var(--fill-color);\n",
              "      border-top-color: var(--fill-color);\n",
              "    }\n",
              "    30% {\n",
              "      border-color: transparent;\n",
              "      border-left-color: var(--fill-color);\n",
              "      border-top-color: var(--fill-color);\n",
              "      border-right-color: var(--fill-color);\n",
              "    }\n",
              "    40% {\n",
              "      border-color: transparent;\n",
              "      border-right-color: var(--fill-color);\n",
              "      border-top-color: var(--fill-color);\n",
              "    }\n",
              "    60% {\n",
              "      border-color: transparent;\n",
              "      border-right-color: var(--fill-color);\n",
              "    }\n",
              "    80% {\n",
              "      border-color: transparent;\n",
              "      border-right-color: var(--fill-color);\n",
              "      border-bottom-color: var(--fill-color);\n",
              "    }\n",
              "    90% {\n",
              "      border-color: transparent;\n",
              "      border-bottom-color: var(--fill-color);\n",
              "    }\n",
              "  }\n",
              "</style>\n",
              "\n",
              "  <script>\n",
              "    async function quickchart(key) {\n",
              "      const quickchartButtonEl =\n",
              "        document.querySelector('#' + key + ' button');\n",
              "      quickchartButtonEl.disabled = true;  // To prevent multiple clicks.\n",
              "      quickchartButtonEl.classList.add('colab-df-spinner');\n",
              "      try {\n",
              "        const charts = await google.colab.kernel.invokeFunction(\n",
              "            'suggestCharts', [key], {});\n",
              "      } catch (error) {\n",
              "        console.error('Error during call to suggestCharts:', error);\n",
              "      }\n",
              "      quickchartButtonEl.classList.remove('colab-df-spinner');\n",
              "      quickchartButtonEl.classList.add('colab-df-quickchart-complete');\n",
              "    }\n",
              "    (() => {\n",
              "      let quickchartButtonEl =\n",
              "        document.querySelector('#df-709e44d1-6b7d-4f6a-850f-53f5a1191e5f button');\n",
              "      quickchartButtonEl.style.display =\n",
              "        google.colab.kernel.accessAllowed ? 'block' : 'none';\n",
              "    })();\n",
              "  </script>\n",
              "</div>\n",
              "\n",
              "  <div id=\"id_d3cec1d7-99ad-48c2-9b29-2acfdde51695\">\n",
              "    <style>\n",
              "      .colab-df-generate {\n",
              "        background-color: #E8F0FE;\n",
              "        border: none;\n",
              "        border-radius: 50%;\n",
              "        cursor: pointer;\n",
              "        display: none;\n",
              "        fill: #1967D2;\n",
              "        height: 32px;\n",
              "        padding: 0 0 0 0;\n",
              "        width: 32px;\n",
              "      }\n",
              "\n",
              "      .colab-df-generate:hover {\n",
              "        background-color: #E2EBFA;\n",
              "        box-shadow: 0px 1px 2px rgba(60, 64, 67, 0.3), 0px 1px 3px 1px rgba(60, 64, 67, 0.15);\n",
              "        fill: #174EA6;\n",
              "      }\n",
              "\n",
              "      [theme=dark] .colab-df-generate {\n",
              "        background-color: #3B4455;\n",
              "        fill: #D2E3FC;\n",
              "      }\n",
              "\n",
              "      [theme=dark] .colab-df-generate:hover {\n",
              "        background-color: #434B5C;\n",
              "        box-shadow: 0px 1px 3px 1px rgba(0, 0, 0, 0.15);\n",
              "        filter: drop-shadow(0px 1px 2px rgba(0, 0, 0, 0.3));\n",
              "        fill: #FFFFFF;\n",
              "      }\n",
              "    </style>\n",
              "    <button class=\"colab-df-generate\" onclick=\"generateWithVariable('ohc_df')\"\n",
              "            title=\"Generate code using this dataframe.\"\n",
              "            style=\"display:none;\">\n",
              "\n",
              "  <svg xmlns=\"http://www.w3.org/2000/svg\" height=\"24px\"viewBox=\"0 0 24 24\"\n",
              "       width=\"24px\">\n",
              "    <path d=\"M7,19H8.4L18.45,9,17,7.55,7,17.6ZM5,21V16.75L18.45,3.32a2,2,0,0,1,2.83,0l1.4,1.43a1.91,1.91,0,0,1,.58,1.4,1.91,1.91,0,0,1-.58,1.4L9.25,21ZM18.45,9,17,7.55Zm-12,3A5.31,5.31,0,0,0,4.9,8.1,5.31,5.31,0,0,0,1,6.5,5.31,5.31,0,0,0,4.9,4.9,5.31,5.31,0,0,0,6.5,1,5.31,5.31,0,0,0,8.1,4.9,5.31,5.31,0,0,0,12,6.5,5.46,5.46,0,0,0,6.5,12Z\"/>\n",
              "  </svg>\n",
              "    </button>\n",
              "    <script>\n",
              "      (() => {\n",
              "      const buttonEl =\n",
              "        document.querySelector('#id_d3cec1d7-99ad-48c2-9b29-2acfdde51695 button.colab-df-generate');\n",
              "      buttonEl.style.display =\n",
              "        google.colab.kernel.accessAllowed ? 'block' : 'none';\n",
              "\n",
              "      buttonEl.onclick = () => {\n",
              "        google.colab.notebook.generateWithVariable('ohc_df');\n",
              "      }\n",
              "      })();\n",
              "    </script>\n",
              "  </div>\n",
              "\n",
              "    </div>\n",
              "  </div>\n"
            ],
            "application/vnd.google.colaboratory.intrinsic+json": {
              "type": "dataframe",
              "variable_name": "ohc_df",
              "summary": "{\n  \"name\": \"ohc_df\",\n  \"rows\": 30554,\n  \"fields\": [\n    {\n      \"column\": \"customer_id\",\n      \"properties\": {\n        \"dtype\": \"string\",\n        \"num_unique_values\": 30554,\n        \"samples\": [\n          \"afb56ca16f\",\n          \"6a5f6be04a\",\n          \"da41776eaa\"\n        ],\n        \"semantic_type\": \"\",\n        \"description\": \"\"\n      }\n    },\n    {\n      \"column\": \"customer_region_2440\",\n      \"properties\": {\n        \"dtype\": \"number\",\n        \"std\": 0.21198957463076695,\n        \"min\": 0.0,\n        \"max\": 1.0,\n        \"num_unique_values\": 2,\n        \"samples\": [\n          1.0,\n          0.0\n        ],\n        \"semantic_type\": \"\",\n        \"description\": \"\"\n      }\n    },\n    {\n      \"column\": \"customer_region_2490\",\n      \"properties\": {\n        \"dtype\": \"number\",\n        \"std\": 0.11684657562943086,\n        \"min\": 0.0,\n        \"max\": 1.0,\n        \"num_unique_values\": 2,\n        \"samples\": [\n          1.0,\n          0.0\n        ],\n        \"semantic_type\": \"\",\n        \"description\": \"\"\n      }\n    },\n    {\n      \"column\": \"customer_region_4140\",\n      \"properties\": {\n        \"dtype\": \"number\",\n        \"std\": 0.1625667431998351,\n        \"min\": 0.0,\n        \"max\": 1.0,\n        \"num_unique_values\": 2,\n        \"samples\": [\n          1.0,\n          0.0\n        ],\n        \"semantic_type\": \"\",\n        \"description\": \"\"\n      }\n    },\n    {\n      \"column\": \"customer_region_4660\",\n      \"properties\": {\n        \"dtype\": \"number\",\n        \"std\": 0.4620726767247971,\n        \"min\": 0.0,\n        \"max\": 1.0,\n        \"num_unique_values\": 2,\n        \"samples\": [\n          1.0,\n          0.0\n        ],\n        \"semantic_type\": \"\",\n        \"description\": \"\"\n      }\n    },\n    {\n      \"column\": \"customer_region_8370\",\n      \"properties\": {\n        \"dtype\": \"number\",\n        \"std\": 0.12294205328297177,\n        \"min\": 0.0,\n        \"max\": 1.0,\n        \"num_unique_values\": 2,\n        \"samples\": [\n          1.0,\n          0.0\n        ],\n        \"semantic_type\": \"\",\n        \"description\": \"\"\n      }\n    },\n    {\n      \"column\": \"customer_region_8550\",\n      \"properties\": {\n        \"dtype\": \"number\",\n        \"std\": 0.019814284400179176,\n        \"min\": 0.0,\n        \"max\": 1.0,\n        \"num_unique_values\": 2,\n        \"samples\": [\n          1.0,\n          0.0\n        ],\n        \"semantic_type\": \"\",\n        \"description\": \"\"\n      }\n    },\n    {\n      \"column\": \"customer_region_8670\",\n      \"properties\": {\n        \"dtype\": \"number\",\n        \"std\": 0.4565279152543526,\n        \"min\": 0.0,\n        \"max\": 1.0,\n        \"num_unique_values\": 2,\n        \"samples\": [\n          1.0,\n          0.0\n        ],\n        \"semantic_type\": \"\",\n        \"description\": \"\"\n      }\n    },\n    {\n      \"column\": \"customer_region_Unknown\",\n      \"properties\": {\n        \"dtype\": \"number\",\n        \"std\": 0.11464583662614818,\n        \"min\": 0.0,\n        \"max\": 1.0,\n        \"num_unique_values\": 2,\n        \"samples\": [\n          1.0,\n          0.0\n        ],\n        \"semantic_type\": \"\",\n        \"description\": \"\"\n      }\n    },\n    {\n      \"column\": \"last_promo_DISCOUNT\",\n      \"properties\": {\n        \"dtype\": \"number\",\n        \"std\": 0.34846177587977173,\n        \"min\": 0.0,\n        \"max\": 1.0,\n        \"num_unique_values\": 2,\n        \"samples\": [\n          1.0,\n          0.0\n        ],\n        \"semantic_type\": \"\",\n        \"description\": \"\"\n      }\n    },\n    {\n      \"column\": \"last_promo_FREEBIE\",\n      \"properties\": {\n        \"dtype\": \"number\",\n        \"std\": 0.3434067695644051,\n        \"min\": 0.0,\n        \"max\": 1.0,\n        \"num_unique_values\": 2,\n        \"samples\": [\n          1.0,\n          0.0\n        ],\n        \"semantic_type\": \"\",\n        \"description\": \"\"\n      }\n    },\n    {\n      \"column\": \"last_promo_no_promotion_used\",\n      \"properties\": {\n        \"dtype\": \"number\",\n        \"std\": 0.4994479207340086,\n        \"min\": 0.0,\n        \"max\": 1.0,\n        \"num_unique_values\": 2,\n        \"samples\": [\n          1.0,\n          0.0\n        ],\n        \"semantic_type\": \"\",\n        \"description\": \"\"\n      }\n    },\n    {\n      \"column\": \"payment_method_CASH\",\n      \"properties\": {\n        \"dtype\": \"number\",\n        \"std\": 0.3822815515426458,\n        \"min\": 0.0,\n        \"max\": 1.0,\n        \"num_unique_values\": 2,\n        \"samples\": [\n          1.0,\n          0.0\n        ],\n        \"semantic_type\": \"\",\n        \"description\": \"\"\n      }\n    },\n    {\n      \"column\": \"payment_method_DIGI\",\n      \"properties\": {\n        \"dtype\": \"number\",\n        \"std\": 0.39379329716519174,\n        \"min\": 0.0,\n        \"max\": 1.0,\n        \"num_unique_values\": 2,\n        \"samples\": [\n          0.0,\n          1.0\n        ],\n        \"semantic_type\": \"\",\n        \"description\": \"\"\n      }\n    }\n  ]\n}"
            }
          },
          "metadata": {},
          "execution_count": 98
        }
      ]
    },
    {
      "cell_type": "markdown",
      "source": [
        "#PCA analisys"
      ],
      "metadata": {
        "id": "D1sknH4ao9WU"
      },
      "id": "D1sknH4ao9WU"
    },
    {
      "cell_type": "code",
      "source": [
        "X = df[metric_features]\n",
        "pca = PCA().fit(X)"
      ],
      "metadata": {
        "id": "WQ-aHfuAo8yJ"
      },
      "id": "WQ-aHfuAo8yJ",
      "execution_count": 109,
      "outputs": []
    },
    {
      "cell_type": "code",
      "source": [
        "PCA_s=pd.DataFrame(\n",
        "    {\"Eigenvalue\": pca.explained_variance_,\n",
        "     \"Difference\": np.insert(np.diff(pca.explained_variance_), 0, 0),\n",
        "     \"Proportion\": pca.explained_variance_ratio_,\n",
        "     \"Cumulative\": np.cumsum(pca.explained_variance_ratio_)},\n",
        "    index=range(1, pca.n_components_ + 1)\n",
        ")\n",
        "PCA_s.head(20)"
      ],
      "metadata": {
        "id": "sp2d7s3fvDYH",
        "outputId": "ac1059cb-e826-4b2b-e4cd-a77da9a60bca",
        "colab": {
          "base_uri": "https://localhost:8080/",
          "height": 677
        }
      },
      "id": "sp2d7s3fvDYH",
      "execution_count": 110,
      "outputs": [
        {
          "output_type": "execute_result",
          "data": {
            "text/plain": [
              "    Eigenvalue  Difference  Proportion  Cumulative\n",
              "1     0.158220    0.000000    0.412539    0.412539\n",
              "2     0.085737   -0.072484    0.223547    0.636086\n",
              "3     0.043981   -0.041756    0.114675    0.750761\n",
              "4     0.020792   -0.023189    0.054213    0.804974\n",
              "5     0.011896   -0.008897    0.031016    0.835990\n",
              "6     0.007861   -0.004034    0.020497    0.856488\n",
              "7     0.004534   -0.003327    0.011822    0.868309\n",
              "8     0.003641   -0.000893    0.009492    0.877802\n",
              "9     0.003170   -0.000471    0.008265    0.886066\n",
              "10    0.002890   -0.000280    0.007535    0.893601\n",
              "11    0.002525   -0.000365    0.006582    0.900183\n",
              "12    0.002425   -0.000099    0.006324    0.906507\n",
              "13    0.002215   -0.000210    0.005776    0.912283\n",
              "14    0.002178   -0.000038    0.005678    0.917961\n",
              "15    0.002079   -0.000099    0.005421    0.923382\n",
              "16    0.002038   -0.000041    0.005313    0.928695\n",
              "17    0.001960   -0.000078    0.005110    0.933805\n",
              "18    0.001751   -0.000209    0.004565    0.938370\n",
              "19    0.001650   -0.000100    0.004303    0.942672\n",
              "20    0.001461   -0.000189    0.003809    0.946481"
            ],
            "text/html": [
              "\n",
              "  <div id=\"df-94883e32-6928-47f4-8a7a-b4a3dbc1be36\" class=\"colab-df-container\">\n",
              "    <div>\n",
              "<style scoped>\n",
              "    .dataframe tbody tr th:only-of-type {\n",
              "        vertical-align: middle;\n",
              "    }\n",
              "\n",
              "    .dataframe tbody tr th {\n",
              "        vertical-align: top;\n",
              "    }\n",
              "\n",
              "    .dataframe thead th {\n",
              "        text-align: right;\n",
              "    }\n",
              "</style>\n",
              "<table border=\"1\" class=\"dataframe\">\n",
              "  <thead>\n",
              "    <tr style=\"text-align: right;\">\n",
              "      <th></th>\n",
              "      <th>Eigenvalue</th>\n",
              "      <th>Difference</th>\n",
              "      <th>Proportion</th>\n",
              "      <th>Cumulative</th>\n",
              "    </tr>\n",
              "  </thead>\n",
              "  <tbody>\n",
              "    <tr>\n",
              "      <th>1</th>\n",
              "      <td>0.158220</td>\n",
              "      <td>0.000000</td>\n",
              "      <td>0.412539</td>\n",
              "      <td>0.412539</td>\n",
              "    </tr>\n",
              "    <tr>\n",
              "      <th>2</th>\n",
              "      <td>0.085737</td>\n",
              "      <td>-0.072484</td>\n",
              "      <td>0.223547</td>\n",
              "      <td>0.636086</td>\n",
              "    </tr>\n",
              "    <tr>\n",
              "      <th>3</th>\n",
              "      <td>0.043981</td>\n",
              "      <td>-0.041756</td>\n",
              "      <td>0.114675</td>\n",
              "      <td>0.750761</td>\n",
              "    </tr>\n",
              "    <tr>\n",
              "      <th>4</th>\n",
              "      <td>0.020792</td>\n",
              "      <td>-0.023189</td>\n",
              "      <td>0.054213</td>\n",
              "      <td>0.804974</td>\n",
              "    </tr>\n",
              "    <tr>\n",
              "      <th>5</th>\n",
              "      <td>0.011896</td>\n",
              "      <td>-0.008897</td>\n",
              "      <td>0.031016</td>\n",
              "      <td>0.835990</td>\n",
              "    </tr>\n",
              "    <tr>\n",
              "      <th>6</th>\n",
              "      <td>0.007861</td>\n",
              "      <td>-0.004034</td>\n",
              "      <td>0.020497</td>\n",
              "      <td>0.856488</td>\n",
              "    </tr>\n",
              "    <tr>\n",
              "      <th>7</th>\n",
              "      <td>0.004534</td>\n",
              "      <td>-0.003327</td>\n",
              "      <td>0.011822</td>\n",
              "      <td>0.868309</td>\n",
              "    </tr>\n",
              "    <tr>\n",
              "      <th>8</th>\n",
              "      <td>0.003641</td>\n",
              "      <td>-0.000893</td>\n",
              "      <td>0.009492</td>\n",
              "      <td>0.877802</td>\n",
              "    </tr>\n",
              "    <tr>\n",
              "      <th>9</th>\n",
              "      <td>0.003170</td>\n",
              "      <td>-0.000471</td>\n",
              "      <td>0.008265</td>\n",
              "      <td>0.886066</td>\n",
              "    </tr>\n",
              "    <tr>\n",
              "      <th>10</th>\n",
              "      <td>0.002890</td>\n",
              "      <td>-0.000280</td>\n",
              "      <td>0.007535</td>\n",
              "      <td>0.893601</td>\n",
              "    </tr>\n",
              "    <tr>\n",
              "      <th>11</th>\n",
              "      <td>0.002525</td>\n",
              "      <td>-0.000365</td>\n",
              "      <td>0.006582</td>\n",
              "      <td>0.900183</td>\n",
              "    </tr>\n",
              "    <tr>\n",
              "      <th>12</th>\n",
              "      <td>0.002425</td>\n",
              "      <td>-0.000099</td>\n",
              "      <td>0.006324</td>\n",
              "      <td>0.906507</td>\n",
              "    </tr>\n",
              "    <tr>\n",
              "      <th>13</th>\n",
              "      <td>0.002215</td>\n",
              "      <td>-0.000210</td>\n",
              "      <td>0.005776</td>\n",
              "      <td>0.912283</td>\n",
              "    </tr>\n",
              "    <tr>\n",
              "      <th>14</th>\n",
              "      <td>0.002178</td>\n",
              "      <td>-0.000038</td>\n",
              "      <td>0.005678</td>\n",
              "      <td>0.917961</td>\n",
              "    </tr>\n",
              "    <tr>\n",
              "      <th>15</th>\n",
              "      <td>0.002079</td>\n",
              "      <td>-0.000099</td>\n",
              "      <td>0.005421</td>\n",
              "      <td>0.923382</td>\n",
              "    </tr>\n",
              "    <tr>\n",
              "      <th>16</th>\n",
              "      <td>0.002038</td>\n",
              "      <td>-0.000041</td>\n",
              "      <td>0.005313</td>\n",
              "      <td>0.928695</td>\n",
              "    </tr>\n",
              "    <tr>\n",
              "      <th>17</th>\n",
              "      <td>0.001960</td>\n",
              "      <td>-0.000078</td>\n",
              "      <td>0.005110</td>\n",
              "      <td>0.933805</td>\n",
              "    </tr>\n",
              "    <tr>\n",
              "      <th>18</th>\n",
              "      <td>0.001751</td>\n",
              "      <td>-0.000209</td>\n",
              "      <td>0.004565</td>\n",
              "      <td>0.938370</td>\n",
              "    </tr>\n",
              "    <tr>\n",
              "      <th>19</th>\n",
              "      <td>0.001650</td>\n",
              "      <td>-0.000100</td>\n",
              "      <td>0.004303</td>\n",
              "      <td>0.942672</td>\n",
              "    </tr>\n",
              "    <tr>\n",
              "      <th>20</th>\n",
              "      <td>0.001461</td>\n",
              "      <td>-0.000189</td>\n",
              "      <td>0.003809</td>\n",
              "      <td>0.946481</td>\n",
              "    </tr>\n",
              "  </tbody>\n",
              "</table>\n",
              "</div>\n",
              "    <div class=\"colab-df-buttons\">\n",
              "\n",
              "  <div class=\"colab-df-container\">\n",
              "    <button class=\"colab-df-convert\" onclick=\"convertToInteractive('df-94883e32-6928-47f4-8a7a-b4a3dbc1be36')\"\n",
              "            title=\"Convert this dataframe to an interactive table.\"\n",
              "            style=\"display:none;\">\n",
              "\n",
              "  <svg xmlns=\"http://www.w3.org/2000/svg\" height=\"24px\" viewBox=\"0 -960 960 960\">\n",
              "    <path d=\"M120-120v-720h720v720H120Zm60-500h600v-160H180v160Zm220 220h160v-160H400v160Zm0 220h160v-160H400v160ZM180-400h160v-160H180v160Zm440 0h160v-160H620v160ZM180-180h160v-160H180v160Zm440 0h160v-160H620v160Z\"/>\n",
              "  </svg>\n",
              "    </button>\n",
              "\n",
              "  <style>\n",
              "    .colab-df-container {\n",
              "      display:flex;\n",
              "      gap: 12px;\n",
              "    }\n",
              "\n",
              "    .colab-df-convert {\n",
              "      background-color: #E8F0FE;\n",
              "      border: none;\n",
              "      border-radius: 50%;\n",
              "      cursor: pointer;\n",
              "      display: none;\n",
              "      fill: #1967D2;\n",
              "      height: 32px;\n",
              "      padding: 0 0 0 0;\n",
              "      width: 32px;\n",
              "    }\n",
              "\n",
              "    .colab-df-convert:hover {\n",
              "      background-color: #E2EBFA;\n",
              "      box-shadow: 0px 1px 2px rgba(60, 64, 67, 0.3), 0px 1px 3px 1px rgba(60, 64, 67, 0.15);\n",
              "      fill: #174EA6;\n",
              "    }\n",
              "\n",
              "    .colab-df-buttons div {\n",
              "      margin-bottom: 4px;\n",
              "    }\n",
              "\n",
              "    [theme=dark] .colab-df-convert {\n",
              "      background-color: #3B4455;\n",
              "      fill: #D2E3FC;\n",
              "    }\n",
              "\n",
              "    [theme=dark] .colab-df-convert:hover {\n",
              "      background-color: #434B5C;\n",
              "      box-shadow: 0px 1px 3px 1px rgba(0, 0, 0, 0.15);\n",
              "      filter: drop-shadow(0px 1px 2px rgba(0, 0, 0, 0.3));\n",
              "      fill: #FFFFFF;\n",
              "    }\n",
              "  </style>\n",
              "\n",
              "    <script>\n",
              "      const buttonEl =\n",
              "        document.querySelector('#df-94883e32-6928-47f4-8a7a-b4a3dbc1be36 button.colab-df-convert');\n",
              "      buttonEl.style.display =\n",
              "        google.colab.kernel.accessAllowed ? 'block' : 'none';\n",
              "\n",
              "      async function convertToInteractive(key) {\n",
              "        const element = document.querySelector('#df-94883e32-6928-47f4-8a7a-b4a3dbc1be36');\n",
              "        const dataTable =\n",
              "          await google.colab.kernel.invokeFunction('convertToInteractive',\n",
              "                                                    [key], {});\n",
              "        if (!dataTable) return;\n",
              "\n",
              "        const docLinkHtml = 'Like what you see? Visit the ' +\n",
              "          '<a target=\"_blank\" href=https://colab.research.google.com/notebooks/data_table.ipynb>data table notebook</a>'\n",
              "          + ' to learn more about interactive tables.';\n",
              "        element.innerHTML = '';\n",
              "        dataTable['output_type'] = 'display_data';\n",
              "        await google.colab.output.renderOutput(dataTable, element);\n",
              "        const docLink = document.createElement('div');\n",
              "        docLink.innerHTML = docLinkHtml;\n",
              "        element.appendChild(docLink);\n",
              "      }\n",
              "    </script>\n",
              "  </div>\n",
              "\n",
              "\n",
              "<div id=\"df-51b6ab87-2911-4cce-b944-e7320c152322\">\n",
              "  <button class=\"colab-df-quickchart\" onclick=\"quickchart('df-51b6ab87-2911-4cce-b944-e7320c152322')\"\n",
              "            title=\"Suggest charts\"\n",
              "            style=\"display:none;\">\n",
              "\n",
              "<svg xmlns=\"http://www.w3.org/2000/svg\" height=\"24px\"viewBox=\"0 0 24 24\"\n",
              "     width=\"24px\">\n",
              "    <g>\n",
              "        <path d=\"M19 3H5c-1.1 0-2 .9-2 2v14c0 1.1.9 2 2 2h14c1.1 0 2-.9 2-2V5c0-1.1-.9-2-2-2zM9 17H7v-7h2v7zm4 0h-2V7h2v10zm4 0h-2v-4h2v4z\"/>\n",
              "    </g>\n",
              "</svg>\n",
              "  </button>\n",
              "\n",
              "<style>\n",
              "  .colab-df-quickchart {\n",
              "      --bg-color: #E8F0FE;\n",
              "      --fill-color: #1967D2;\n",
              "      --hover-bg-color: #E2EBFA;\n",
              "      --hover-fill-color: #174EA6;\n",
              "      --disabled-fill-color: #AAA;\n",
              "      --disabled-bg-color: #DDD;\n",
              "  }\n",
              "\n",
              "  [theme=dark] .colab-df-quickchart {\n",
              "      --bg-color: #3B4455;\n",
              "      --fill-color: #D2E3FC;\n",
              "      --hover-bg-color: #434B5C;\n",
              "      --hover-fill-color: #FFFFFF;\n",
              "      --disabled-bg-color: #3B4455;\n",
              "      --disabled-fill-color: #666;\n",
              "  }\n",
              "\n",
              "  .colab-df-quickchart {\n",
              "    background-color: var(--bg-color);\n",
              "    border: none;\n",
              "    border-radius: 50%;\n",
              "    cursor: pointer;\n",
              "    display: none;\n",
              "    fill: var(--fill-color);\n",
              "    height: 32px;\n",
              "    padding: 0;\n",
              "    width: 32px;\n",
              "  }\n",
              "\n",
              "  .colab-df-quickchart:hover {\n",
              "    background-color: var(--hover-bg-color);\n",
              "    box-shadow: 0 1px 2px rgba(60, 64, 67, 0.3), 0 1px 3px 1px rgba(60, 64, 67, 0.15);\n",
              "    fill: var(--button-hover-fill-color);\n",
              "  }\n",
              "\n",
              "  .colab-df-quickchart-complete:disabled,\n",
              "  .colab-df-quickchart-complete:disabled:hover {\n",
              "    background-color: var(--disabled-bg-color);\n",
              "    fill: var(--disabled-fill-color);\n",
              "    box-shadow: none;\n",
              "  }\n",
              "\n",
              "  .colab-df-spinner {\n",
              "    border: 2px solid var(--fill-color);\n",
              "    border-color: transparent;\n",
              "    border-bottom-color: var(--fill-color);\n",
              "    animation:\n",
              "      spin 1s steps(1) infinite;\n",
              "  }\n",
              "\n",
              "  @keyframes spin {\n",
              "    0% {\n",
              "      border-color: transparent;\n",
              "      border-bottom-color: var(--fill-color);\n",
              "      border-left-color: var(--fill-color);\n",
              "    }\n",
              "    20% {\n",
              "      border-color: transparent;\n",
              "      border-left-color: var(--fill-color);\n",
              "      border-top-color: var(--fill-color);\n",
              "    }\n",
              "    30% {\n",
              "      border-color: transparent;\n",
              "      border-left-color: var(--fill-color);\n",
              "      border-top-color: var(--fill-color);\n",
              "      border-right-color: var(--fill-color);\n",
              "    }\n",
              "    40% {\n",
              "      border-color: transparent;\n",
              "      border-right-color: var(--fill-color);\n",
              "      border-top-color: var(--fill-color);\n",
              "    }\n",
              "    60% {\n",
              "      border-color: transparent;\n",
              "      border-right-color: var(--fill-color);\n",
              "    }\n",
              "    80% {\n",
              "      border-color: transparent;\n",
              "      border-right-color: var(--fill-color);\n",
              "      border-bottom-color: var(--fill-color);\n",
              "    }\n",
              "    90% {\n",
              "      border-color: transparent;\n",
              "      border-bottom-color: var(--fill-color);\n",
              "    }\n",
              "  }\n",
              "</style>\n",
              "\n",
              "  <script>\n",
              "    async function quickchart(key) {\n",
              "      const quickchartButtonEl =\n",
              "        document.querySelector('#' + key + ' button');\n",
              "      quickchartButtonEl.disabled = true;  // To prevent multiple clicks.\n",
              "      quickchartButtonEl.classList.add('colab-df-spinner');\n",
              "      try {\n",
              "        const charts = await google.colab.kernel.invokeFunction(\n",
              "            'suggestCharts', [key], {});\n",
              "      } catch (error) {\n",
              "        console.error('Error during call to suggestCharts:', error);\n",
              "      }\n",
              "      quickchartButtonEl.classList.remove('colab-df-spinner');\n",
              "      quickchartButtonEl.classList.add('colab-df-quickchart-complete');\n",
              "    }\n",
              "    (() => {\n",
              "      let quickchartButtonEl =\n",
              "        document.querySelector('#df-51b6ab87-2911-4cce-b944-e7320c152322 button');\n",
              "      quickchartButtonEl.style.display =\n",
              "        google.colab.kernel.accessAllowed ? 'block' : 'none';\n",
              "    })();\n",
              "  </script>\n",
              "</div>\n",
              "\n",
              "    </div>\n",
              "  </div>\n"
            ],
            "application/vnd.google.colaboratory.intrinsic+json": {
              "type": "dataframe",
              "variable_name": "PCA_s",
              "summary": "{\n  \"name\": \"PCA_s\",\n  \"rows\": 59,\n  \"fields\": [\n    {\n      \"column\": \"Eigenvalue\",\n      \"properties\": {\n        \"dtype\": \"number\",\n        \"std\": 0.02369788861423678,\n        \"min\": 0.0,\n        \"max\": 0.15822034004076044,\n        \"num_unique_values\": 57,\n        \"samples\": [\n          0.15822034004076044,\n          0.007861372783822325,\n          0.0007064655964212353\n        ],\n        \"semantic_type\": \"\",\n        \"description\": \"\"\n      }\n    },\n    {\n      \"column\": \"Difference\",\n      \"properties\": {\n        \"dtype\": \"number\",\n        \"std\": 0.01115626382387486,\n        \"min\": -0.07248352645391214,\n        \"max\": 0.0,\n        \"num_unique_values\": 57,\n        \"samples\": [\n          0.0,\n          -0.0040341922856478776,\n          -3.113019502979785e-05\n        ],\n        \"semantic_type\": \"\",\n        \"description\": \"\"\n      }\n    },\n    {\n      \"column\": \"Proportion\",\n      \"properties\": {\n        \"dtype\": \"number\",\n        \"std\": 0.061789121076515546,\n        \"min\": 0.0,\n        \"max\": 0.41253868252519293,\n        \"num_unique_values\": 57,\n        \"samples\": [\n          0.41253868252519293,\n          0.02049749337058676,\n          0.0018420159274206444\n        ],\n        \"semantic_type\": \"\",\n        \"description\": \"\"\n      }\n    },\n    {\n      \"column\": \"Cumulative\",\n      \"properties\": {\n        \"dtype\": \"number\",\n        \"std\": 0.09720511148657215,\n        \"min\": 0.41253868252519293,\n        \"max\": 0.9999999999999999,\n        \"num_unique_values\": 55,\n        \"samples\": [\n          0.9779390095203723,\n          0.8564877728706872,\n          0.9796966128648603\n        ],\n        \"semantic_type\": \"\",\n        \"description\": \"\"\n      }\n    }\n  ]\n}"
            }
          },
          "metadata": {},
          "execution_count": 110
        }
      ]
    },
    {
      "cell_type": "code",
      "source": [
        "loadings = pd.DataFrame(pca.components_.T, columns=[f'PC{i+1}' for i in range(pca.n_components_)], index=X.columns)\n",
        "print(loadings)"
      ],
      "metadata": {
        "id": "j0BvDzCgKVjg",
        "outputId": "5e51c9d2-4b26-4d5f-a1f7-37a87d8e6b60",
        "colab": {
          "base_uri": "https://localhost:8080/"
        }
      },
      "id": "j0BvDzCgKVjg",
      "execution_count": 111,
      "outputs": [
        {
          "output_type": "stream",
          "name": "stdout",
          "text": [
            "                               PC1       PC2       PC3       PC4       PC5  \\\n",
            "customer_age              0.001958  0.004013 -0.006755 -0.001083  0.999812   \n",
            "vendor_count              0.103828  0.007049  0.033708 -0.317998 -0.002069   \n",
            "product_count             0.095700  0.009162 -0.065607 -0.261185 -0.000849   \n",
            "is_chain                  0.067850  0.003499 -0.039724 -0.189114 -0.003199   \n",
            "first_order              -0.446238  0.690830 -0.145157 -0.025329 -0.003646   \n",
            "last_order                0.359171  0.719288  0.202665  0.024806 -0.001446   \n",
            "CUI_American              0.029059  0.002160 -0.020624 -0.058444  0.002081   \n",
            "CUI_Asian                 0.021610  0.005565  0.001709 -0.067894  0.006129   \n",
            "CUI_Beverages             0.011951  0.000563  0.000340 -0.047126 -0.001571   \n",
            "CUI_Cafe                  0.007446  0.001285 -0.009373 -0.027600  0.000713   \n",
            "CUI_Chicken Dishes        0.006693 -0.000105 -0.002429 -0.020669 -0.000324   \n",
            "CUI_Chinese               0.006539  0.000507 -0.004073 -0.021029 -0.000544   \n",
            "CUI_Desserts              0.003737  0.000717  0.002438 -0.017240 -0.002224   \n",
            "CUI_Healthy               0.007407  0.001907 -0.007613 -0.017364 -0.001981   \n",
            "CUI_Indian                0.009764  0.001067 -0.011048 -0.022476 -0.001853   \n",
            "CUI_Italian               0.014584  0.002113 -0.024275 -0.011131 -0.000733   \n",
            "CUI_Japanese              0.007847  0.001663 -0.004599 -0.020602  0.000213   \n",
            "CUI_Noodle Dishes         0.005058 -0.000511 -0.002876 -0.017340 -0.000249   \n",
            "CUI_OTHER                 0.018229  0.002258 -0.014804 -0.061092  0.000888   \n",
            "CUI_Street Food / Snacks  0.008032  0.001431  0.005471 -0.036560  0.004208   \n",
            "CUI_Thai                  0.013496  0.001480 -0.012456 -0.029103 -0.003103   \n",
            "DOW_0                     0.071726  0.004186 -0.050350 -0.192149  0.003797   \n",
            "DOW_1                     0.069888  0.005965 -0.051517 -0.188414  0.000604   \n",
            "DOW_2                     0.082864  0.008708 -0.061211 -0.213477 -0.006142   \n",
            "DOW_3                     0.075006  0.011344 -0.054581 -0.187824 -0.003283   \n",
            "DOW_4                     0.080915  0.014961 -0.061913 -0.196327 -0.003537   \n",
            "DOW_5                     0.055880  0.004909 -0.034548 -0.142109 -0.003986   \n",
            "DOW_6                     0.076035 -0.000649 -0.046374 -0.188052 -0.002662   \n",
            "HR_1                      0.003531  0.000077  0.001421 -0.010216  0.000185   \n",
            "HR_2                      0.005723  0.000784  0.002418 -0.015311 -0.000444   \n",
            "HR_3                      0.009956  0.004089  0.006209 -0.024625 -0.002069   \n",
            "HR_4                      0.007359  0.002054  0.004148 -0.018549 -0.000271   \n",
            "HR_5                      0.013006  0.002428  0.010336 -0.031431  0.003783   \n",
            "HR_6                      0.012556  0.001717  0.005118 -0.037378  0.000314   \n",
            "HR_7                      0.008661  0.001717 -0.001181 -0.028560 -0.002341   \n",
            "HR_8                      0.005457  0.001033 -0.003801 -0.018763 -0.000424   \n",
            "HR_9                      0.021256  0.004538 -0.016978 -0.058292 -0.000782   \n",
            "HR_10                     0.028717  0.003506 -0.021834 -0.077785 -0.001781   \n",
            "HR_11                     0.034300  0.002311 -0.022248 -0.100730 -0.001806   \n",
            "HR_12                     0.026072  0.000696 -0.015580 -0.075324  0.000087   \n",
            "HR_13                     0.035216  0.001280 -0.024760 -0.097304  0.000432   \n",
            "HR_14                     0.033644  0.004284 -0.031000 -0.083603  0.000444   \n",
            "HR_15                     0.026055  0.005502 -0.028319 -0.046142  0.000101   \n",
            "HR_16                     0.035196  0.004612 -0.037824 -0.059089 -0.001229   \n",
            "HR_17                     0.042746  0.003011 -0.041633 -0.089705 -0.000903   \n",
            "HR_18                     0.030248  0.000409 -0.023882 -0.075854  0.001659   \n",
            "HR_19                     0.015152 -0.000204 -0.009923 -0.044167 -0.001777   \n",
            "HR_20                     0.008158 -0.000266 -0.004305 -0.024709 -0.000995   \n",
            "HR_21                     0.011827  0.000061 -0.005141 -0.031417  0.000336   \n",
            "HR_22                     0.004854  0.000376 -0.000982 -0.013617 -0.000966   \n",
            "HR_23                     0.004546  0.000109  0.000014 -0.012654  0.000095   \n",
            "Total_Spent               0.085162  0.012506 -0.049917 -0.235178  0.004405   \n",
            "order_count               0.095096  0.009093 -0.066638 -0.242810 -0.002872   \n",
            "Diversity_Cuisine         0.041996  0.005994 -0.068506 -0.028585 -0.001150   \n",
            "costumer_time             0.643220  0.029036  0.278204  0.040061  0.001736   \n",
            "Intensity_of_Activity     0.172866  0.005523  0.292632  0.454446 -0.001194   \n",
            "Customer_loyalty         -0.363783 -0.057769  0.852376 -0.341919  0.006043   \n",
            "product_intensity        -0.009345  0.000218 -0.003345 -0.091767  0.006618   \n",
            "Day_Week_Spread           0.036529  0.003184 -0.027740 -0.089976 -0.002171   \n",
            "\n",
            "                               PC6       PC7       PC8       PC9      PC10  \\\n",
            "customer_age             -0.009921 -0.003626 -0.002039  0.003521  0.000323   \n",
            "vendor_count             -0.066803  0.013326  0.036920 -0.000132 -0.029865   \n",
            "product_count             0.046076 -0.042420 -0.051017  0.151939 -0.008817   \n",
            "is_chain                 -0.088902 -0.094778 -0.063070  0.084757 -0.066100   \n",
            "first_order              -0.002609 -0.009281 -0.050485  0.139029 -0.013536   \n",
            "last_order               -0.003216 -0.000349  0.061225 -0.147147  0.000294   \n",
            "CUI_American              0.025482  0.046655  0.042229  0.053298  0.098014   \n",
            "CUI_Asian                 0.152447  0.306932  0.059089  0.069719  0.037941   \n",
            "CUI_Beverages             0.046214  0.119537 -0.012222  0.075652 -0.027627   \n",
            "CUI_Cafe                 -0.001249 -0.007318 -0.016306  0.044991  0.006526   \n",
            "CUI_Chicken Dishes       -0.013523 -0.041322 -0.008950 -0.003288 -0.013222   \n",
            "CUI_Chinese               0.004771 -0.014915 -0.006303  0.007932 -0.014073   \n",
            "CUI_Desserts              0.023292  0.055476  0.010752  0.013645 -0.006274   \n",
            "CUI_Healthy               0.001583  0.028908 -0.027243  0.002150  0.003702   \n",
            "CUI_Indian                0.004786 -0.052542 -0.023138  0.000875  0.011689   \n",
            "CUI_Italian              -0.001225 -0.059702  0.011417  0.015434  0.049270   \n",
            "CUI_Japanese              0.014995  0.011565  0.002729  0.008610  0.012545   \n",
            "CUI_Noodle Dishes         0.006700 -0.036628 -0.009579 -0.003230 -0.021952   \n",
            "CUI_OTHER                -0.005470 -0.092526 -0.048350  0.036358  0.011151   \n",
            "CUI_Street Food / Snacks  0.191025  0.098256  0.024581  0.034040 -0.004312   \n",
            "CUI_Thai                 -0.012500 -0.068331 -0.016870  0.015139  0.027082   \n",
            "DOW_0                    -0.049965  0.077288 -0.234803  0.038578 -0.193013   \n",
            "DOW_1                    -0.043244  0.076472 -0.256615  0.043303 -0.122283   \n",
            "DOW_2                    -0.052365  0.068496 -0.426257 -0.042893 -0.305183   \n",
            "DOW_3                    -0.049986  0.025966 -0.213558 -0.005397 -0.032733   \n",
            "DOW_4                    -0.052160 -0.087454 -0.118250  0.140156  0.832467   \n",
            "DOW_5                    -0.032361 -0.096467  0.225846  0.137506  0.005254   \n",
            "DOW_6                    -0.036596 -0.197019  0.628271  0.397475 -0.256283   \n",
            "HR_1                      0.014058  0.045993  0.013295  0.001419  0.004939   \n",
            "HR_2                      0.034830  0.110148  0.025416  0.008016  0.010664   \n",
            "HR_3                      0.075872  0.323264  0.031552  0.010012  0.037323   \n",
            "HR_4                      0.042538  0.202760  0.047823  0.025288  0.000707   \n",
            "HR_5                      0.077451  0.457575  0.140848  0.111085  0.008667   \n",
            "HR_6                      0.050318  0.318986  0.078880  0.102845  0.020073   \n",
            "HR_7                      0.013054  0.080489  0.003018  0.039997  0.001085   \n",
            "HR_8                     -0.000797  0.016048 -0.010210  0.023442  0.001423   \n",
            "HR_9                      0.006587  0.064290 -0.051377  0.046468  0.027844   \n",
            "HR_10                    -0.000048  0.066726 -0.064700  0.054881  0.015955   \n",
            "HR_11                    -0.033365 -0.026919 -0.072083  0.047739 -0.073087   \n",
            "HR_12                    -0.036807 -0.051457 -0.046827  0.017711 -0.078293   \n",
            "HR_13                    -0.035835 -0.086247 -0.040113  0.075835 -0.124633   \n",
            "HR_14                    -0.017914 -0.094680  0.004900  0.113758 -0.039584   \n",
            "HR_15                    -0.012411 -0.072816 -0.000773  0.042872  0.056782   \n",
            "HR_16                    -0.030579 -0.129598 -0.007403  0.033307  0.109477   \n",
            "HR_17                    -0.068844 -0.224962 -0.014632  0.018640  0.091819   \n",
            "HR_18                    -0.060081 -0.161308 -0.010433 -0.001190 -0.015595   \n",
            "HR_19                    -0.034697 -0.074465 -0.006933  0.003547 -0.024377   \n",
            "HR_20                    -0.019026 -0.034401 -0.009104  0.000563 -0.021585   \n",
            "HR_21                    -0.028413 -0.050555 -0.004844 -0.012331 -0.039319   \n",
            "HR_22                    -0.005089 -0.001891  0.004309 -0.005964 -0.012221   \n",
            "HR_23                     0.000591  0.005801  0.005177 -0.004628 -0.012385   \n",
            "Total_Spent               0.265103  0.221416  0.018387  0.187540  0.097833   \n",
            "order_count              -0.058597 -0.029694 -0.053757  0.137422 -0.013705   \n",
            "Diversity_Cuisine         0.007669  0.048014 -0.014628  0.053185  0.006267   \n",
            "costumer_time            -0.000511  0.007094  0.089316 -0.228722  0.010992   \n",
            "Intensity_of_Activity     0.067320 -0.077313 -0.321895  0.726652 -0.040913   \n",
            "Customer_loyalty         -0.039830 -0.024534 -0.004342 -0.019220  0.021525   \n",
            "product_intensity         0.890446 -0.307632 -0.068581 -0.102872 -0.048450   \n",
            "Day_Week_Spread          -0.022696 -0.033443  0.025178  0.064805  0.013593   \n",
            "\n",
            "                          ...      PC50      PC51      PC52      PC53  \\\n",
            "customer_age              ... -0.000437 -0.000157 -0.000242 -0.000327   \n",
            "vendor_count              ... -0.111253  0.073241  0.125229 -0.030324   \n",
            "product_count             ...  0.182889 -0.040453  0.014205  0.005003   \n",
            "is_chain                  ...  0.053909  0.004174 -0.227012 -0.182451   \n",
            "first_order               ... -0.003849  0.002993  0.003962 -0.001150   \n",
            "last_order                ...  0.005085 -0.003531 -0.004395  0.001300   \n",
            "CUI_American              ... -0.004407  0.002080  0.017044  0.021383   \n",
            "CUI_Asian                 ... -0.035317 -0.031784 -0.043043  0.054266   \n",
            "CUI_Beverages             ... -0.022249  0.001128  0.032175  0.023521   \n",
            "CUI_Cafe                  ... -0.030896  0.000995  0.123233  0.032040   \n",
            "CUI_Chicken Dishes        ...  0.490850  0.761786  0.296009  0.018573   \n",
            "CUI_Chinese               ...  0.281549 -0.021942 -0.464004 -0.493264   \n",
            "CUI_Desserts              ... -0.058956 -0.005753  0.034148  0.013598   \n",
            "CUI_Healthy               ... -0.000917  0.014471  0.016077  0.014826   \n",
            "CUI_Indian                ...  0.033745 -0.008649 -0.013326 -0.042162   \n",
            "CUI_Italian               ...  0.113400 -0.021660 -0.224801 -0.017950   \n",
            "CUI_Japanese              ... -0.419957  0.094505  0.104979  0.110079   \n",
            "CUI_Noodle Dishes         ...  0.521698 -0.588824  0.470194  0.143611   \n",
            "CUI_OTHER                 ... -0.028975  0.043327  0.002949  0.007958   \n",
            "CUI_Street Food / Snacks  ... -0.040126 -0.018634  0.000337  0.025516   \n",
            "CUI_Thai                  ... -0.022417 -0.020720  0.001081  0.003700   \n",
            "DOW_0                     ... -0.034825 -0.011774 -0.016867  0.058176   \n",
            "DOW_1                     ... -0.033650 -0.014037 -0.013357  0.061223   \n",
            "DOW_2                     ... -0.025441 -0.018488 -0.018812  0.052324   \n",
            "DOW_3                     ... -0.032218 -0.019011 -0.016934  0.063909   \n",
            "DOW_4                     ... -0.034277 -0.020361 -0.016608  0.057047   \n",
            "DOW_5                     ... -0.033709 -0.024582 -0.020095  0.079886   \n",
            "DOW_6                     ... -0.036363 -0.015343 -0.016259  0.062460   \n",
            "HR_1                      ...  0.004048  0.022421 -0.003573 -0.058470   \n",
            "HR_2                      ...  0.013272 -0.009745 -0.000033 -0.038064   \n",
            "HR_3                      ...  0.006861 -0.007613 -0.001655 -0.016946   \n",
            "HR_4                      ...  0.013208 -0.006036  0.006011 -0.030614   \n",
            "HR_5                      ...  0.013623 -0.005419 -0.007097 -0.015419   \n",
            "HR_6                      ...  0.008979 -0.003370 -0.001005 -0.015054   \n",
            "HR_7                      ...  0.036471 -0.003840 -0.019051 -0.091599   \n",
            "HR_8                      ... -0.046515 -0.007302 -0.012960  0.219850   \n",
            "HR_9                      ...  0.028057  0.003113  0.027735 -0.091621   \n",
            "HR_10                     ...  0.022791 -0.009866  0.010738 -0.057212   \n",
            "HR_11                     ... -0.017745 -0.000358  0.005465 -0.034985   \n",
            "HR_12                     ... -0.008941 -0.002660  0.022238 -0.051550   \n",
            "HR_13                     ... -0.008320  0.001338  0.011345 -0.033234   \n",
            "HR_14                     ... -0.011173 -0.016865  0.013600 -0.031946   \n",
            "HR_15                     ...  0.009124 -0.007256  0.028954 -0.057942   \n",
            "HR_16                     ... -0.011537 -0.023328  0.035371 -0.047594   \n",
            "HR_17                     ... -0.012654 -0.007381  0.021491 -0.034099   \n",
            "HR_18                     ... -0.014025  0.009569  0.024711 -0.027512   \n",
            "HR_19                     ... -0.133211 -0.094163  0.192694 -0.310472   \n",
            "HR_20                     ...  0.121967  0.084938 -0.349559  0.648801   \n",
            "HR_21                     ... -0.025378 -0.003505  0.059068 -0.107271   \n",
            "HR_22                     ... -0.144262 -0.013150 -0.014951 -0.081484   \n",
            "HR_23                     ...  0.033943 -0.010071 -0.000790 -0.031126   \n",
            "Total_Spent               ...  0.159807  0.044542 -0.018189 -0.081208   \n",
            "order_count               ... -0.043326 -0.023397 -0.022345  0.082391   \n",
            "Diversity_Cuisine         ... -0.241530  0.163342  0.393931 -0.123264   \n",
            "costumer_time             ...  0.007145 -0.005215 -0.006680  0.001958   \n",
            "Intensity_of_Activity     ... -0.015334  0.009837  0.011749 -0.003020   \n",
            "Customer_loyalty          ... -0.004073 -0.000201  0.010257 -0.004097   \n",
            "product_intensity         ... -0.058197  0.008322 -0.004998  0.010272   \n",
            "Day_Week_Spread           ... -0.019253  0.045267 -0.009139 -0.000858   \n",
            "\n",
            "                              PC54      PC55          PC56          PC57  \\\n",
            "customer_age             -0.000402 -0.000416  0.000000e+00  0.000000e+00   \n",
            "vendor_count              0.032440 -0.015992  1.641284e-15  2.566546e-15   \n",
            "product_count             0.056411  0.899973 -4.426486e-14  1.079931e-14   \n",
            "is_chain                 -0.053726 -0.050163 -3.489637e-15 -5.287269e-15   \n",
            "first_order              -0.000532 -0.001904 -6.962885e-02 -5.531724e-02   \n",
            "last_order                0.000003  0.002401  7.041120e-02  5.593878e-02   \n",
            "CUI_American              0.008170  0.007872  1.079992e-01 -1.388448e-01   \n",
            "CUI_Asian                -0.009852  0.009218  2.071606e-01 -2.663278e-01   \n",
            "CUI_Beverages            -0.033798 -0.008241  8.834648e-02 -1.135791e-01   \n",
            "CUI_Cafe                 -0.064084 -0.007827  1.256862e-01 -1.615835e-01   \n",
            "CUI_Chicken Dishes        0.041314 -0.087939  8.466184e-02 -1.088421e-01   \n",
            "CUI_Chinese               0.127617 -0.125288  1.679053e-01 -2.158608e-01   \n",
            "CUI_Desserts             -0.025641  0.005334  8.867409e-02 -1.140003e-01   \n",
            "CUI_Healthy              -0.014910  0.009854  9.859486e-02 -1.267546e-01   \n",
            "CUI_Indian                0.018864 -0.034554  1.191224e-01 -1.531450e-01   \n",
            "CUI_Italian               0.008230 -0.023724  1.805048e-01 -2.320588e-01   \n",
            "CUI_Japanese             -0.033374 -0.012308  2.273991e-01 -2.923466e-01   \n",
            "CUI_Noodle Dishes        -0.027998 -0.170606  1.060335e-01 -1.363178e-01   \n",
            "CUI_OTHER                 0.014895 -0.043517  1.410954e-01 -1.813937e-01   \n",
            "CUI_Street Food / Snacks -0.015281  0.015553  1.473816e-01 -1.894753e-01   \n",
            "CUI_Thai                 -0.000719  0.005044  5.256388e-02 -6.757667e-02   \n",
            "DOW_0                     0.033610 -0.079251 -1.507149e-01 -9.608349e-02   \n",
            "DOW_1                     0.028720 -0.086688 -1.601346e-01 -1.020887e-01   \n",
            "DOW_2                     0.032286 -0.079166 -1.412952e-01 -9.007827e-02   \n",
            "DOW_3                     0.037969 -0.085746 -1.601346e-01 -1.020887e-01   \n",
            "DOW_4                     0.028853 -0.082943 -1.507149e-01 -9.608349e-02   \n",
            "DOW_5                     0.035206 -0.103532 -1.883937e-01 -1.201044e-01   \n",
            "DOW_6                     0.034170 -0.092749 -1.601346e-01 -1.020887e-01   \n",
            "HR_1                     -0.052343 -0.001478  3.830532e-02 -4.525395e-03   \n",
            "HR_2                     -0.060468  0.002554  3.283313e-02 -3.878910e-03   \n",
            "HR_3                     -0.032549  0.003490  3.009704e-02 -3.555667e-03   \n",
            "HR_4                     -0.046330  0.008883  3.830532e-02 -4.525395e-03   \n",
            "HR_5                     -0.016252  0.004924  1.915266e-02 -2.262697e-03   \n",
            "HR_6                     -0.015898  0.006285  1.915266e-02 -2.262697e-03   \n",
            "HR_7                     -0.175361 -0.001827  4.104142e-02 -4.848637e-03   \n",
            "HR_8                      0.834065 -0.056148  1.422769e-01 -1.680861e-02   \n",
            "HR_9                     -0.161735 -0.004806  6.293017e-02 -7.434577e-03   \n",
            "HR_10                    -0.067568  0.004852  6.840236e-02 -8.081062e-03   \n",
            "HR_11                    -0.079143 -0.024236  6.293017e-02 -7.434577e-03   \n",
            "HR_12                    -0.082555 -0.033964  7.113846e-02 -8.404305e-03   \n",
            "HR_13                    -0.034568 -0.016311  3.830532e-02 -4.525395e-03   \n",
            "HR_14                    -0.035364 -0.013116  3.556923e-02 -4.202152e-03   \n",
            "HR_15                    -0.072331 -0.012099  6.293017e-02 -7.434577e-03   \n",
            "HR_16                    -0.074797 -0.006972  6.019408e-02 -7.111335e-03   \n",
            "HR_17                    -0.067339 -0.011277  5.472189e-02 -6.464850e-03   \n",
            "HR_18                    -0.085017 -0.026171  6.566627e-02 -7.757820e-03   \n",
            "HR_19                    -0.075500 -0.053502  9.576331e-02 -1.131349e-02   \n",
            "HR_20                    -0.365379 -0.053988  9.849940e-02 -1.163673e-02   \n",
            "HR_21                     0.007308 -0.021608  3.009704e-02 -3.555667e-03   \n",
            "HR_22                    -0.064298 -0.027851  4.104142e-02 -4.848637e-03   \n",
            "HR_23                    -0.041123 -0.007271  3.009704e-02 -3.555667e-03   \n",
            "Total_Spent               0.007318 -0.218753 -2.690671e-01  3.459154e-01   \n",
            "order_count               0.043360 -0.115126  6.015229e-01  5.695615e-01   \n",
            "Diversity_Cuisine        -0.069857 -0.000219  6.080486e-15  5.051675e-15   \n",
            "costumer_time             0.000425  0.003442 -8.762282e-02 -6.961270e-02   \n",
            "Intensity_of_Activity    -0.002274 -0.007703  7.221265e-15  7.215252e-15   \n",
            "Customer_loyalty         -0.007502  0.000591  1.146543e-15  4.905430e-16   \n",
            "product_intensity        -0.004828 -0.041479  2.243612e-15 -9.918963e-16   \n",
            "Day_Week_Spread          -0.028056 -0.010910  1.867793e-15  1.715038e-15   \n",
            "\n",
            "                                  PC58          PC59  \n",
            "customer_age             -6.166192e-16 -0.000000e+00  \n",
            "vendor_count              8.638998e-15  9.032782e-15  \n",
            "product_count            -2.981257e-14 -1.423361e-13  \n",
            "is_chain                  1.667458e-14  4.495933e-14  \n",
            "first_order               1.626342e-01  4.928888e-01  \n",
            "last_order               -1.644615e-01 -4.984268e-01  \n",
            "CUI_American             -3.892172e-02  1.251671e-02  \n",
            "CUI_Asian                -7.465841e-02  2.400916e-02  \n",
            "CUI_Beverages            -3.183911e-02  1.023904e-02  \n",
            "CUI_Cafe                 -4.529593e-02  1.456657e-02  \n",
            "CUI_Chicken Dishes       -3.051120e-02  9.812002e-03  \n",
            "CUI_Chinese              -6.051125e-02  1.945962e-02  \n",
            "CUI_Desserts             -3.195717e-02  1.027701e-02  \n",
            "CUI_Healthy              -3.553251e-02  1.142679e-02  \n",
            "CUI_Indian               -4.293043e-02  1.380586e-02  \n",
            "CUI_Italian              -6.505195e-02  2.091985e-02  \n",
            "CUI_Japanese             -8.195215e-02  2.635473e-02  \n",
            "CUI_Noodle Dishes        -3.821332e-02  1.228890e-02  \n",
            "CUI_OTHER                -5.084923e-02  1.635244e-02  \n",
            "CUI_Street Food / Snacks -5.311472e-02  1.708099e-02  \n",
            "CUI_Thai                 -1.894345e-02  6.091964e-03  \n",
            "DOW_0                    -7.753125e-02 -6.492229e-03  \n",
            "DOW_1                    -8.237696e-02 -6.897994e-03  \n",
            "DOW_2                    -7.268555e-02 -6.086465e-03  \n",
            "DOW_3                    -8.237696e-02 -6.897994e-03  \n",
            "DOW_4                    -7.753125e-02 -6.492229e-03  \n",
            "DOW_5                    -9.691407e-02 -8.115287e-03  \n",
            "DOW_6                    -8.237696e-02 -6.897994e-03  \n",
            "HR_1                      1.121126e-01 -3.208944e-02  \n",
            "HR_2                      9.609654e-02 -2.750523e-02  \n",
            "HR_3                      8.808849e-02 -2.521313e-02  \n",
            "HR_4                      1.121126e-01 -3.208944e-02  \n",
            "HR_5                      5.605631e-02 -1.604472e-02  \n",
            "HR_6                      5.605631e-02 -1.604472e-02  \n",
            "HR_7                      1.201207e-01 -3.438154e-02  \n",
            "HR_8                      4.164183e-01 -1.191893e-01  \n",
            "HR_9                      1.841850e-01 -5.271836e-02  \n",
            "HR_10                     2.002011e-01 -5.730257e-02  \n",
            "HR_11                     1.841850e-01 -5.271836e-02  \n",
            "HR_12                     2.082092e-01 -5.959467e-02  \n",
            "HR_13                     1.121126e-01 -3.208944e-02  \n",
            "HR_14                     1.041046e-01 -2.979734e-02  \n",
            "HR_15                     1.841850e-01 -5.271836e-02  \n",
            "HR_16                     1.761770e-01 -5.042626e-02  \n",
            "HR_17                     1.601609e-01 -4.584205e-02  \n",
            "HR_18                     1.921931e-01 -5.501047e-02  \n",
            "HR_19                     2.802816e-01 -8.022360e-02  \n",
            "HR_20                     2.882896e-01 -8.251570e-02  \n",
            "HR_21                     8.808849e-02 -2.521313e-02  \n",
            "HR_22                     1.201207e-01 -3.438154e-02  \n",
            "HR_23                     8.808849e-02 -2.521313e-02  \n",
            "Total_Spent               9.696885e-02 -3.118390e-02  \n",
            "order_count              -2.846107e-01  2.428080e-01  \n",
            "Diversity_Cuisine        -1.180597e-14 -4.230645e-14  \n",
            "costumer_time             2.046633e-01  6.202645e-01  \n",
            "Intensity_of_Activity    -1.086340e-14 -3.468828e-14  \n",
            "Customer_loyalty         -3.688281e-15 -8.461247e-15  \n",
            "product_intensity         6.796534e-16  5.968699e-15  \n",
            "Day_Week_Spread          -2.895427e-15 -1.605051e-14  \n",
            "\n",
            "[59 rows x 59 columns]\n"
          ]
        }
      ]
    },
    {
      "cell_type": "code",
      "source": [
        "# figure and axes\n",
        "fig, (ax1, ax2) = plt.subplots(1, 2, figsize=(15, 5))\n",
        "\n",
        "# draw plots\n",
        "ax1.plot(pca.explained_variance_, marker=\".\", markersize=12)\n",
        "ax2.plot(pca.explained_variance_ratio_, marker=\".\", markersize=12, label=\"Proportion\")\n",
        "ax2.plot(np.cumsum(pca.explained_variance_ratio_), marker=\".\", markersize=12, linestyle=\"--\", label=\"Cumulative\")\n",
        "\n",
        "# customizations\n",
        "ax2.legend()\n",
        "ax1.set_title(\"Scree Plot\", fontsize=14)\n",
        "ax2.set_title(\"Variance Explained\", fontsize=14)\n",
        "ax1.set_ylabel(\"Eigenvalue\")\n",
        "ax2.set_ylabel(\"Proportion\")\n",
        "ax1.set_xlabel(\"Components\")\n",
        "ax2.set_xlabel(\"Components\")\n",
        "ax1.set_xticks(range(0, pca.n_components_, 2))\n",
        "ax1.set_xticklabels(range(1, pca.n_components_ + 1, 2))\n",
        "ax2.set_xticks(range(0, pca.n_components_, 2))\n",
        "ax2.set_xticklabels(range(1, pca.n_components_ + 1, 2))\n",
        "\n",
        "plt.show()"
      ],
      "metadata": {
        "id": "DzpTtqJ0rbGL",
        "outputId": "99479eef-281b-4358-a046-87a7b01f6437",
        "colab": {
          "base_uri": "https://localhost:8080/",
          "height": 508
        }
      },
      "id": "DzpTtqJ0rbGL",
      "execution_count": 112,
      "outputs": [
        {
          "output_type": "display_data",
          "data": {
            "text/plain": [
              "<Figure size 1500x500 with 2 Axes>"
            ],
            "image/png": "[encoded data removed]"
          },
          "metadata": {}
        }
      ]
    },
    {
      "cell_type": "markdown",
      "source": [
        "We decided to establish a threshold of 85% cumulative variance, so we will retain the first 6 components"
      ],
      "metadata": {
        "id": "hoCObxysOi9H"
      },
      "id": "hoCObxysOi9H"
    },
    {
      "cell_type": "code",
      "source": [
        "#Retain the first 6 components\n",
        "pca = PCA(n_components=6)\n",
        "pca_feat = pca.fit_transform(df[metric_features])\n",
        "pca_feat_names = [f\"PC{i}\" for i in range(pca.n_components_)]\n",
        "#Create the dataframe \"df_PCA\" with the PC`s and the normalized categorical features\n",
        "df_PCA = pd.DataFrame(pca_feat, index=df.index, columns=pca_feat_names)\n",
        "df_PCA=pd.concat([df_PCA,ohc_df],axis=1)\n",
        "#Normalize the PC features\n",
        "metric_features1 = df_PCA.select_dtypes(include=['number']).columns.tolist()\n",
        "scaled_feat = scaler.fit_transform(df_PCA[metric_features1])\n",
        "df_PCA = scaled_feat\n",
        "df_PCA = pd.DataFrame(df_PCA, index=df.index, columns=metric_features1)"
      ],
      "metadata": {
        "id": "SkUqfjwUrzuw"
      },
      "id": "SkUqfjwUrzuw",
      "execution_count": 114,
      "outputs": []
    },
    {
      "cell_type": "code",
      "source": [
        "df_PCA.to_csv('df_PCA.csv')"
      ],
      "metadata": {
        "id": "c4rR3Vg-PNO2"
      },
      "id": "c4rR3Vg-PNO2",
      "execution_count": 116,
      "outputs": []
    }
  ],
  "metadata": {
    "kernelspec": {
      "display_name": "Python 3 (ipykernel)",
      "language": "python",
      "name": "python3"
    },
    "language_info": {
      "codemirror_mode": {
        "name": "ipython",
        "version": 3
      },
      "file_extension": ".py",
      "mimetype": "text/x-python",
      "name": "python",
      "nbconvert_exporter": "python",
      "pygments_lexer": "ipython3",
      "version": "3.9.7"
    },
    "colab": {
      "provenance": []
    }
  },
  "nbformat": 4,
  "nbformat_minor": 5
}