{
  "cells": [
    {
      "cell_type": "code",
      "execution_count": 62,
      "id": "8db3ae52-47a4-4b00-8b30-277832f174e3",
      "metadata": {
        "id": "8db3ae52-47a4-4b00-8b30-277832f174e3"
      },
      "outputs": [],
      "source": [
        "import pandas as pd\n",
        "import numpy as np\n",
        "import matplotlib.pyplot as plt\n",
        "import seaborn as sns\n",
        "import math"
      ]
    },
    {
      "cell_type": "code",
      "source": [
        "df=pd.read_csv('DM2425_ABCDEats_DATASET.csv',delimiter=',')"
      ],
      "metadata": {
        "id": "Jwa5o5gK-Cu4"
      },
      "id": "Jwa5o5gK-Cu4",
      "execution_count": 63,
      "outputs": []
    },
    {
      "cell_type": "markdown",
      "source": [
        "#Drop Dublicates"
      ],
      "metadata": {
        "id": "40aAICTb-2fY"
      },
      "id": "40aAICTb-2fY"
    },
    {
      "cell_type": "code",
      "source": [
        "df.duplicated().sum()"
      ],
      "metadata": {
        "id": "Q791LW8I_KDA",
        "outputId": "da6f0bae-a6ee-4f28-e6ba-832a889e27b0",
        "colab": {
          "base_uri": "https://localhost:8080/"
        }
      },
      "id": "Q791LW8I_KDA",
      "execution_count": 64,
      "outputs": [
        {
          "output_type": "execute_result",
          "data": {
            "text/plain": [
              "13"
            ]
          },
          "metadata": {},
          "execution_count": 64
        }
      ]
    },
    {
      "cell_type": "code",
      "source": [
        "df=df.drop_duplicates()\n",
        "# Count the number of remaining duplicate rows in the DataFrame after dropping duplicates\n",
        "df.duplicated().sum()"
      ],
      "metadata": {
        "id": "LRsHlrrN-5yo",
        "outputId": "05e865e2-2dce-4bda-9ced-b323504f3b61",
        "colab": {
          "base_uri": "https://localhost:8080/"
        }
      },
      "id": "LRsHlrrN-5yo",
      "execution_count": 65,
      "outputs": [
        {
          "output_type": "execute_result",
          "data": {
            "text/plain": [
              "0"
            ]
          },
          "metadata": {},
          "execution_count": 65
        }
      ]
    },
    {
      "cell_type": "markdown",
      "source": [
        "# Set costumer_id as the index"
      ],
      "metadata": {
        "id": "HdfcdmshB8Ew"
      },
      "id": "HdfcdmshB8Ew"
    },
    {
      "cell_type": "code",
      "source": [
        "df.set_index('customer_id', inplace=True)"
      ],
      "metadata": {
        "id": "He30YSyXCAM9"
      },
      "id": "He30YSyXCAM9",
      "execution_count": 66,
      "outputs": []
    },
    {
      "cell_type": "markdown",
      "source": [
        "## Fixing variables"
      ],
      "metadata": {
        "id": "g5c9rRRu-v5i"
      },
      "id": "g5c9rRRu-v5i"
    },
    {
      "cell_type": "markdown",
      "source": [
        "**costumer_age**"
      ],
      "metadata": {
        "id": "oWSxYmKPBr9m"
      },
      "id": "oWSxYmKPBr9m"
    },
    {
      "cell_type": "markdown",
      "source": [
        "Fill missing values with median"
      ],
      "metadata": {
        "id": "ZBIgCxdUC2vx"
      },
      "id": "ZBIgCxdUC2vx"
    },
    {
      "cell_type": "code",
      "source": [
        "df['customer_age'].isna().sum()"
      ],
      "metadata": {
        "id": "cWplddAcaJWO",
        "outputId": "77e84d42-4a59-4e45-c2cb-7289a286ac8f",
        "colab": {
          "base_uri": "https://localhost:8080/"
        }
      },
      "id": "cWplddAcaJWO",
      "execution_count": 67,
      "outputs": [
        {
          "output_type": "execute_result",
          "data": {
            "text/plain": [
              "727"
            ]
          },
          "metadata": {},
          "execution_count": 67
        }
      ]
    },
    {
      "cell_type": "code",
      "source": [
        "df['customer_age'].fillna(df['customer_age'].median(),inplace=True)\n",
        "df['customer_age'].isna().sum()"
      ],
      "metadata": {
        "id": "7jpJOyLrBuKC",
        "outputId": "da984a9c-2f71-4172-eabc-2da61203f6a1",
        "colab": {
          "base_uri": "https://localhost:8080/"
        }
      },
      "id": "7jpJOyLrBuKC",
      "execution_count": 68,
      "outputs": [
        {
          "output_type": "stream",
          "name": "stderr",
          "text": [
            "<ipython-input-68-3ad8a2b86644>:1: FutureWarning: A value is trying to be set on a copy of a DataFrame or Series through chained assignment using an inplace method.\n",
            "The behavior will change in pandas 3.0. This inplace method will never work because the intermediate object on which we are setting values always behaves as a copy.\n",
            "\n",
            "For example, when doing 'df[col].method(value, inplace=True)', try using 'df.method({col: value}, inplace=True)' or df[col] = df[col].method(value) instead, to perform the operation inplace on the original object.\n",
            "\n",
            "\n",
            "  df['customer_age'].fillna(df['customer_age'].median(),inplace=True)\n",
            "<ipython-input-68-3ad8a2b86644>:1: SettingWithCopyWarning: \n",
            "A value is trying to be set on a copy of a slice from a DataFrame\n",
            "\n",
            "See the caveats in the documentation: https://pandas.pydata.org/pandas-docs/stable/user_guide/indexing.html#returning-a-view-versus-a-copy\n",
            "  df['customer_age'].fillna(df['customer_age'].median(),inplace=True)\n"
          ]
        },
        {
          "output_type": "execute_result",
          "data": {
            "text/plain": [
              "0"
            ]
          },
          "metadata": {},
          "execution_count": 68
        }
      ]
    },
    {
      "cell_type": "markdown",
      "source": [
        "**costumer_region**"
      ],
      "metadata": {
        "id": "5dz1pZFzC2Dz"
      },
      "id": "5dz1pZFzC2Dz"
    },
    {
      "cell_type": "code",
      "source": [
        "df['customer_region'] = df['customer_region'].replace('-', 'Unknown')"
      ],
      "metadata": {
        "id": "ksu3qKEjDPU1",
        "outputId": "6e781ba8-4a8a-480a-81c5-7655ce55fcf6",
        "colab": {
          "base_uri": "https://localhost:8080/"
        }
      },
      "id": "ksu3qKEjDPU1",
      "execution_count": 69,
      "outputs": [
        {
          "output_type": "stream",
          "name": "stderr",
          "text": [
            "<ipython-input-69-0bbbfade363b>:1: SettingWithCopyWarning: \n",
            "A value is trying to be set on a copy of a slice from a DataFrame.\n",
            "Try using .loc[row_indexer,col_indexer] = value instead\n",
            "\n",
            "See the caveats in the documentation: https://pandas.pydata.org/pandas-docs/stable/user_guide/indexing.html#returning-a-view-versus-a-copy\n",
            "  df['customer_region'] = df['customer_region'].replace('-', 'Unknown')\n"
          ]
        }
      ]
    },
    {
      "cell_type": "markdown",
      "source": [
        "**product_count**"
      ],
      "metadata": {
        "id": "m6vt63cKDQjv"
      },
      "id": "m6vt63cKDQjv"
    },
    {
      "cell_type": "code",
      "source": [
        "df.loc['92ced2dcb9','product_count']=100"
      ],
      "metadata": {
        "id": "kDFD_JZ4Db7u"
      },
      "id": "kDFD_JZ4Db7u",
      "execution_count": 70,
      "outputs": []
    },
    {
      "cell_type": "markdown",
      "source": [
        "**first_order**"
      ],
      "metadata": {
        "id": "PgoPbHWlDmGU"
      },
      "id": "PgoPbHWlDmGU"
    },
    {
      "cell_type": "code",
      "source": [
        "df['first_order'].fillna(df['first_order'].median(),inplace=True)"
      ],
      "metadata": {
        "id": "OPy9ew2bDpvM",
        "outputId": "6a599ffe-5bd9-45c2-f2a3-63814e456031",
        "colab": {
          "base_uri": "https://localhost:8080/"
        }
      },
      "id": "OPy9ew2bDpvM",
      "execution_count": 71,
      "outputs": [
        {
          "output_type": "stream",
          "name": "stderr",
          "text": [
            "<ipython-input-71-542326bf2f64>:1: FutureWarning: A value is trying to be set on a copy of a DataFrame or Series through chained assignment using an inplace method.\n",
            "The behavior will change in pandas 3.0. This inplace method will never work because the intermediate object on which we are setting values always behaves as a copy.\n",
            "\n",
            "For example, when doing 'df[col].method(value, inplace=True)', try using 'df.method({col: value}, inplace=True)' or df[col] = df[col].method(value) instead, to perform the operation inplace on the original object.\n",
            "\n",
            "\n",
            "  df['first_order'].fillna(df['first_order'].median(),inplace=True)\n"
          ]
        }
      ]
    },
    {
      "cell_type": "markdown",
      "source": [
        "**last_promo**"
      ],
      "metadata": {
        "id": "1DVMVvKND7EO"
      },
      "id": "1DVMVvKND7EO"
    },
    {
      "cell_type": "code",
      "source": [
        "df['last_promo'] = df['last_promo'].replace('-', 'no_promotion_used')"
      ],
      "metadata": {
        "id": "PkgQc8pQD-Xd"
      },
      "id": "PkgQc8pQD-Xd",
      "execution_count": 72,
      "outputs": []
    },
    {
      "cell_type": "markdown",
      "source": [
        "**HR_0**"
      ],
      "metadata": {
        "id": "pHtYVInrEMg0"
      },
      "id": "pHtYVInrEMg0"
    },
    {
      "cell_type": "code",
      "source": [
        "df.drop(columns=['HR_0'], inplace=True)"
      ],
      "metadata": {
        "id": "WLvodpbJERLz"
      },
      "id": "WLvodpbJERLz",
      "execution_count": 73,
      "outputs": []
    },
    {
      "cell_type": "markdown",
      "source": [
        "#Fixing inconsistencies"
      ],
      "metadata": {
        "id": "2kiPc39hE1-p"
      },
      "id": "2kiPc39hE1-p"
    },
    {
      "cell_type": "markdown",
      "source": [
        "Eliminate rows where there are inconsistencies"
      ],
      "metadata": {
        "id": "AzwOI1yBGamv"
      },
      "id": "AzwOI1yBGamv"
    },
    {
      "cell_type": "code",
      "source": [
        "df['sum_HR']=df['HR_1']+df['HR_2']+df['HR_3']+df['HR_4']+df['HR_5']+df['HR_6']+df['HR_7']+df['HR_8']+df['HR_9']+df['HR_10']+df['HR_11']+df['HR_12']+df['HR_13']+df['HR_14']+df['HR_15']+df['HR_16']+df['HR_17']+df['HR_18']+df['HR_19']+df['HR_20']+df['HR_21']+df['HR_22']+df['HR_23']\n",
        "df['sum_DOW']=df['DOW_0']+df['DOW_1']+df['DOW_2']+df['DOW_3']+df['DOW_4']+df['DOW_5']+df['DOW_6']\n",
        "df['inc_0']=(df['sum_HR']!=df['sum_DOW'])\n",
        "df['inc_2']=(df['product_count']==0)\n",
        "df = df.loc[~(df['inc_0'] | df['inc_2'])]\n",
        "df.drop(columns=['sum_HR', 'sum_DOW', 'inc_0', 'inc_2'], inplace=True)"
      ],
      "metadata": {
        "id": "pUPn6vpTFJNt",
        "outputId": "30604262-00df-4519-93ce-9ec5d537ef97",
        "colab": {
          "base_uri": "https://localhost:8080/"
        }
      },
      "id": "pUPn6vpTFJNt",
      "execution_count": 74,
      "outputs": [
        {
          "output_type": "stream",
          "name": "stderr",
          "text": [
            "<ipython-input-74-460a7041edd9>:6: SettingWithCopyWarning: \n",
            "A value is trying to be set on a copy of a slice from a DataFrame\n",
            "\n",
            "See the caveats in the documentation: https://pandas.pydata.org/pandas-docs/stable/user_guide/indexing.html#returning-a-view-versus-a-copy\n",
            "  df.drop(columns=['sum_HR', 'sum_DOW', 'inc_0', 'inc_2'], inplace=True)\n"
          ]
        }
      ]
    },
    {
      "cell_type": "markdown",
      "source": [
        "# New variables"
      ],
      "metadata": {
        "id": "z0T2d1erH3M8"
      },
      "id": "z0T2d1erH3M8"
    },
    {
      "cell_type": "markdown",
      "source": [
        "**Total_Spent**"
      ],
      "metadata": {
        "id": "5ADv3rbZIGBo"
      },
      "id": "5ADv3rbZIGBo"
    },
    {
      "cell_type": "code",
      "source": [
        "cuisine = [col for col in df.columns if col.startswith('CUI_')]"
      ],
      "metadata": {
        "id": "9pN7TXLzObAb"
      },
      "id": "9pN7TXLzObAb",
      "execution_count": 75,
      "outputs": []
    },
    {
      "cell_type": "code",
      "source": [
        "df['Total_Spent']=df[cuisine].sum(axis=1)"
      ],
      "metadata": {
        "id": "7z1SKhRNH580",
        "outputId": "93be8d62-2580-4f0c-a910-3a0bf6e69d64",
        "colab": {
          "base_uri": "https://localhost:8080/"
        }
      },
      "id": "7z1SKhRNH580",
      "execution_count": 76,
      "outputs": [
        {
          "output_type": "stream",
          "name": "stderr",
          "text": [
            "<ipython-input-76-e0b8285253ce>:1: SettingWithCopyWarning: \n",
            "A value is trying to be set on a copy of a slice from a DataFrame.\n",
            "Try using .loc[row_indexer,col_indexer] = value instead\n",
            "\n",
            "See the caveats in the documentation: https://pandas.pydata.org/pandas-docs/stable/user_guide/indexing.html#returning-a-view-versus-a-copy\n",
            "  df['Total_Spent']=df[cuisine].sum(axis=1)\n"
          ]
        }
      ]
    },
    {
      "cell_type": "markdown",
      "source": [
        "Deal with extreme outliers"
      ],
      "metadata": {
        "id": "hJFfuxU-SG83"
      },
      "id": "hJFfuxU-SG83"
    },
    {
      "cell_type": "code",
      "source": [
        "df = df.drop('92ced2dcb9', axis=0)\n",
        "df.loc['249ba584d3','CUI_Asian']=500\n",
        "df.loc['8d65421423','CUI_Japanese']=590\n",
        "df['Total_Spent']=df[cuisine].sum(axis=1)"
      ],
      "metadata": {
        "id": "n1JL9kunMvDr"
      },
      "id": "n1JL9kunMvDr",
      "execution_count": 77,
      "outputs": []
    },
    {
      "cell_type": "markdown",
      "source": [
        "**Order_Count**"
      ],
      "metadata": {
        "id": "bHTgk2OWIKXw"
      },
      "id": "bHTgk2OWIKXw"
    },
    {
      "cell_type": "code",
      "source": [
        "df['order_count']=df['DOW_0']+df['DOW_1']+df['DOW_2']+df['DOW_3']+df['DOW_4']+df['DOW_5']+df['DOW_6']"
      ],
      "metadata": {
        "id": "2FSilF83IaRI"
      },
      "id": "2FSilF83IaRI",
      "execution_count": 78,
      "outputs": []
    },
    {
      "cell_type": "markdown",
      "source": [
        "**Diversity_Cuisine**"
      ],
      "metadata": {
        "id": "mFRWalwlUeeY"
      },
      "id": "mFRWalwlUeeY"
    },
    {
      "cell_type": "code",
      "source": [
        "df['Diversity_Cuisine'] = (df[cuisine] > 0).sum(axis=1)\n",
        "df['Diversity_Cuisine'] = df['order_count']/df['Diversity_Cuisine']"
      ],
      "metadata": {
        "id": "XN_13jXlUerJ"
      },
      "id": "XN_13jXlUerJ",
      "execution_count": 79,
      "outputs": []
    },
    {
      "cell_type": "markdown",
      "source": [
        "**Costumer_time**"
      ],
      "metadata": {
        "id": "xCsQWmOiWg8R"
      },
      "id": "xCsQWmOiWg8R"
    },
    {
      "cell_type": "code",
      "source": [
        "df['costumer_time']=df['last_order']-df['first_order']"
      ],
      "metadata": {
        "id": "Do_Ym9HRWkcT"
      },
      "id": "Do_Ym9HRWkcT",
      "execution_count": 80,
      "outputs": []
    },
    {
      "cell_type": "markdown",
      "source": [
        "**Intensity_of_Activity**"
      ],
      "metadata": {
        "id": "51T04ERQWLym"
      },
      "id": "51T04ERQWLym"
    },
    {
      "cell_type": "code",
      "source": [
        "df['Intensity_of_Activity'] = df['costumer_time'] / df['order_count']"
      ],
      "metadata": {
        "id": "WMLet25-WOV6"
      },
      "id": "WMLet25-WOV6",
      "execution_count": 81,
      "outputs": []
    },
    {
      "cell_type": "markdown",
      "source": [
        "**Customer_Loyalty**"
      ],
      "metadata": {
        "id": "r4_vgo1HYcNV"
      },
      "id": "r4_vgo1HYcNV"
    },
    {
      "cell_type": "code",
      "source": [
        "df['Customer_loyalty'] = df['vendor_count'] / df['order_count']"
      ],
      "metadata": {
        "id": "I335t7sjYh0f"
      },
      "id": "I335t7sjYh0f",
      "execution_count": 82,
      "outputs": []
    },
    {
      "cell_type": "markdown",
      "source": [
        "**Product_Intensity**"
      ],
      "metadata": {
        "id": "sCuKdYQCZdiv"
      },
      "id": "sCuKdYQCZdiv"
    },
    {
      "cell_type": "code",
      "source": [
        "df['product_intensity'] = df['product_count'] / df['order_count']"
      ],
      "metadata": {
        "id": "RHil6I3CZjuq"
      },
      "id": "RHil6I3CZjuq",
      "execution_count": 85,
      "outputs": []
    }
  ],
  "metadata": {
    "kernelspec": {
      "display_name": "Python 3 (ipykernel)",
      "language": "python",
      "name": "python3"
    },
    "language_info": {
      "codemirror_mode": {
        "name": "ipython",
        "version": 3
      },
      "file_extension": ".py",
      "mimetype": "text/x-python",
      "name": "python",
      "nbconvert_exporter": "python",
      "pygments_lexer": "ipython3",
      "version": "3.9.7"
    },
    "colab": {
      "provenance": []
    }
  },
  "nbformat": 4,
  "nbformat_minor": 5
}