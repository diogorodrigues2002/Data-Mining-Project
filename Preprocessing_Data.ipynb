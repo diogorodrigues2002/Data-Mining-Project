{
  "cells": [
    {
      "cell_type": "code",
      "execution_count": 1,
      "id": "8db3ae52-47a4-4b00-8b30-277832f174e3",
      "metadata": {
        "id": "8db3ae52-47a4-4b00-8b30-277832f174e3"
      },
      "outputs": [],
      "source": [
        "import pandas as pd\n",
        "import numpy as np\n",
        "import matplotlib.pyplot as plt\n",
        "from sklearn.preprocessing import MinMaxScaler\n",
        "from sklearn.preprocessing import OneHotEncoder\n",
        "from sklearn.decomposition import PCA"
      ]
    },
    {
      "cell_type": "code",
      "execution_count": 2,
      "id": "Jwa5o5gK-Cu4",
      "metadata": {
        "id": "Jwa5o5gK-Cu4"
      },
      "outputs": [],
      "source": [
        "df=pd.read_csv('DM2425_ABCDEats_DATASET.csv',delimiter=',')"
      ]
    },
    {
      "cell_type": "markdown",
      "id": "40aAICTb-2fY",
      "metadata": {
        "id": "40aAICTb-2fY"
      },
      "source": [
        "# Drop Dublicates"
      ]
    },
    {
      "cell_type": "markdown",
      "id": "ND_cLsuXwu80",
      "metadata": {
        "id": "ND_cLsuXwu80"
      },
      "source": [
        "We need to eliminate duplicates to prevent further issues, especially with the index setting"
      ]
    },
    {
      "cell_type": "code",
      "execution_count": 3,
      "id": "Q791LW8I_KDA",
      "metadata": {
        "colab": {
          "base_uri": "https://localhost:8080/"
        },
        "id": "Q791LW8I_KDA",
        "outputId": "8351a951-b6e9-4aa5-93bf-4769dee63465"
      },
      "outputs": [
        {
          "data": {
            "text/plain": [
              "np.int64(13)"
            ]
          },
          "execution_count": 3,
          "metadata": {},
          "output_type": "execute_result"
        }
      ],
      "source": [
        "df.duplicated().sum()"
      ]
    },
    {
      "cell_type": "code",
      "execution_count": 4,
      "id": "LRsHlrrN-5yo",
      "metadata": {
        "colab": {
          "base_uri": "https://localhost:8080/"
        },
        "id": "LRsHlrrN-5yo",
        "outputId": "0b3ecf94-2c80-4bb6-f057-449bb05afad5"
      },
      "outputs": [
        {
          "data": {
            "text/plain": [
              "np.int64(0)"
            ]
          },
          "execution_count": 4,
          "metadata": {},
          "output_type": "execute_result"
        }
      ],
      "source": [
        "df=df.drop_duplicates()\n",
        "# Count the number of remaining duplicate rows in the DataFrame after dropping duplicates\n",
        "df.duplicated().sum()"
      ]
    },
    {
      "cell_type": "markdown",
      "id": "HdfcdmshB8Ew",
      "metadata": {
        "id": "HdfcdmshB8Ew"
      },
      "source": [
        "# Set costumer_id as the index"
      ]
    },
    {
      "cell_type": "code",
      "execution_count": 5,
      "id": "He30YSyXCAM9",
      "metadata": {
        "id": "He30YSyXCAM9"
      },
      "outputs": [],
      "source": [
        "df.set_index('customer_id', inplace=True)"
      ]
    },
    {
      "cell_type": "markdown",
      "id": "g5c9rRRu-v5i",
      "metadata": {
        "id": "g5c9rRRu-v5i"
      },
      "source": [
        "## Fixing variables"
      ]
    },
    {
      "cell_type": "markdown",
      "id": "oWSxYmKPBr9m",
      "metadata": {
        "id": "oWSxYmKPBr9m"
      },
      "source": [
        "**customer_age**"
      ]
    },
    {
      "cell_type": "markdown",
      "id": "ZBIgCxdUC2vx",
      "metadata": {
        "id": "ZBIgCxdUC2vx"
      },
      "source": [
        "Fill missing values with median"
      ]
    },
    {
      "cell_type": "code",
      "execution_count": 6,
      "id": "cWplddAcaJWO",
      "metadata": {
        "colab": {
          "base_uri": "https://localhost:8080/"
        },
        "id": "cWplddAcaJWO",
        "outputId": "b93628d6-473e-449e-94d6-674238dea8a4"
      },
      "outputs": [
        {
          "data": {
            "text/plain": [
              "np.int64(727)"
            ]
          },
          "execution_count": 6,
          "metadata": {},
          "output_type": "execute_result"
        }
      ],
      "source": [
        "df['customer_age'].isna().sum()"
      ]
    },
    {
      "cell_type": "code",
      "execution_count": 7,
      "id": "7jpJOyLrBuKC",
      "metadata": {
        "colab": {
          "base_uri": "https://localhost:8080/"
        },
        "id": "7jpJOyLrBuKC",
        "outputId": "dc0f02e8-ad0a-4e95-a5cc-a486e7f0e9f7"
      },
      "outputs": [
        {
          "data": {
            "text/plain": [
              "np.int64(0)"
            ]
          },
          "execution_count": 7,
          "metadata": {},
          "output_type": "execute_result"
        }
      ],
      "source": [
        "df['customer_age'] = df['customer_age'].fillna(df['customer_age'].median())\n",
        "df['customer_age'].isna().sum()"
      ]
    },
    {
      "cell_type": "markdown",
      "id": "5dz1pZFzC2Dz",
      "metadata": {
        "id": "5dz1pZFzC2Dz"
      },
      "source": [
        "**costumer_region**"
      ]
    },
    {
      "cell_type": "markdown",
      "id": "bBQO4mu506D2",
      "metadata": {
        "id": "bBQO4mu506D2"
      },
      "source": [
        "Replace the value of '-' with 'Unknown' to enhance the interpretation of the feature"
      ]
    },
    {
      "cell_type": "code",
      "execution_count": 8,
      "id": "23c0ef8c",
      "metadata": {},
      "outputs": [],
      "source": [
        "df.loc[:, 'customer_region'] = df['customer_region'].replace('8550', '-')"
      ]
    },
    {
      "cell_type": "code",
      "execution_count": 9,
      "id": "ksu3qKEjDPU1",
      "metadata": {
        "id": "ksu3qKEjDPU1"
      },
      "outputs": [],
      "source": [
        "df.loc[:, 'customer_region'] = df['customer_region'].replace('-', np.nan)"
      ]
    },
    {
      "cell_type": "code",
      "execution_count": 10,
      "id": "46f3385c",
      "metadata": {},
      "outputs": [],
      "source": [
        "mode_value = df['customer_region'].mode()[0]\n",
        "df['customer_region'] = df['customer_region'].fillna(mode_value)"
      ]
    },
    {
      "cell_type": "code",
      "execution_count": 11,
      "id": "3d59fe91",
      "metadata": {},
      "outputs": [
        {
          "data": {
            "text/plain": [
              "customer_region\n",
              "8670    10216\n",
              "4660     9550\n",
              "2360     8829\n",
              "2440     1483\n",
              "4140      857\n",
              "8370      495\n",
              "2490      445\n",
              "Name: count, dtype: int64"
            ]
          },
          "execution_count": 11,
          "metadata": {},
          "output_type": "execute_result"
        }
      ],
      "source": [
        "df['customer_region'].value_counts()"
      ]
    },
    {
      "cell_type": "markdown",
      "id": "4YI-NtpVzKTl",
      "metadata": {
        "id": "4YI-NtpVzKTl"
      },
      "source": [
        "**product_count**"
      ]
    },
    {
      "cell_type": "markdown",
      "id": "PzL-oIfIzN6h",
      "metadata": {
        "id": "PzL-oIfIzN6h"
      },
      "source": [
        "There is an extreme product count value with '92ced2dcb9' index, so we will transform it into a high value"
      ]
    },
    {
      "cell_type": "code",
      "execution_count": 12,
      "id": "kDFD_JZ4Db7u",
      "metadata": {
        "id": "kDFD_JZ4Db7u"
      },
      "outputs": [],
      "source": [
        "df.loc['92ced2dcb9','product_count']=100"
      ]
    },
    {
      "cell_type": "markdown",
      "id": "PgoPbHWlDmGU",
      "metadata": {
        "id": "PgoPbHWlDmGU"
      },
      "source": [
        "**first_order**"
      ]
    },
    {
      "cell_type": "markdown",
      "id": "rpaTezEn0rbV",
      "metadata": {
        "id": "rpaTezEn0rbV"
      },
      "source": [
        "Fill missing values with median"
      ]
    },
    {
      "cell_type": "code",
      "execution_count": 13,
      "id": "OPy9ew2bDpvM",
      "metadata": {
        "id": "OPy9ew2bDpvM"
      },
      "outputs": [],
      "source": [
        "df['first_order'] = df['first_order'].fillna(df['first_order'].median())"
      ]
    },
    {
      "cell_type": "markdown",
      "id": "1DVMVvKND7EO",
      "metadata": {
        "id": "1DVMVvKND7EO"
      },
      "source": [
        "**last_promo**"
      ]
    },
    {
      "cell_type": "markdown",
      "id": "0Rfb9_FF2hIx",
      "metadata": {
        "id": "0Rfb9_FF2hIx"
      },
      "source": [
        "Replace the value of '-' with 'no_promotion_used' to enhance the interpretation of the feature"
      ]
    },
    {
      "cell_type": "code",
      "execution_count": 14,
      "id": "PkgQc8pQD-Xd",
      "metadata": {
        "id": "PkgQc8pQD-Xd"
      },
      "outputs": [],
      "source": [
        "df['last_promo'] = df['last_promo'].replace('-', 'no_promotion_used')"
      ]
    },
    {
      "cell_type": "markdown",
      "id": "pHtYVInrEMg0",
      "metadata": {
        "id": "pHtYVInrEMg0"
      },
      "source": [
        "**HR_0**"
      ]
    },
    {
      "cell_type": "markdown",
      "id": "BpgcInRj2nCE",
      "metadata": {
        "id": "BpgcInRj2nCE"
      },
      "source": [
        "Drop the column labeled \"HR_0\" because it contains only zeros."
      ]
    },
    {
      "cell_type": "code",
      "execution_count": 15,
      "id": "WLvodpbJERLz",
      "metadata": {
        "id": "WLvodpbJERLz"
      },
      "outputs": [],
      "source": [
        "df.drop(columns=['HR_0'], inplace=True)"
      ]
    },
    {
      "cell_type": "markdown",
      "id": "2kiPc39hE1-p",
      "metadata": {
        "id": "2kiPc39hE1-p"
      },
      "source": [
        "#Fixing inconsistencies"
      ]
    },
    {
      "cell_type": "markdown",
      "id": "AzwOI1yBGamv",
      "metadata": {
        "id": "AzwOI1yBGamv"
      },
      "source": [
        "Eliminate rows where there are inconsistencies"
      ]
    },
    {
      "cell_type": "code",
      "execution_count": 16,
      "id": "pUPn6vpTFJNt",
      "metadata": {
        "id": "pUPn6vpTFJNt"
      },
      "outputs": [],
      "source": [
        "df['sum_HR']=df['HR_1']+df['HR_2']+df['HR_3']+df['HR_4']+df['HR_5']+df['HR_6']+df['HR_7']+df['HR_8']+df['HR_9']+df['HR_10']+df['HR_11']+df['HR_12']+df['HR_13']+df['HR_14']+df['HR_15']+df['HR_16']+df['HR_17']+df['HR_18']+df['HR_19']+df['HR_20']+df['HR_21']+df['HR_22']+df['HR_23']\n",
        "df['sum_DOW']=df['DOW_0']+df['DOW_1']+df['DOW_2']+df['DOW_3']+df['DOW_4']+df['DOW_5']+df['DOW_6']\n",
        "df['inc_0']=(df['sum_HR']!=df['sum_DOW'])\n",
        "df['inc_2']=(df['product_count']==0)\n",
        "df = df.loc[~(df['inc_0'] | df['inc_2'])]\n",
        "df = df.drop(columns=['sum_HR', 'sum_DOW', 'inc_0', 'inc_2'])"
      ]
    },
    {
      "cell_type": "markdown",
      "id": "z0T2d1erH3M8",
      "metadata": {
        "id": "z0T2d1erH3M8"
      },
      "source": [
        "# New variables"
      ]
    },
    {
      "cell_type": "markdown",
      "id": "5ADv3rbZIGBo",
      "metadata": {
        "id": "5ADv3rbZIGBo"
      },
      "source": [
        "**Total_Spent**"
      ]
    },
    {
      "cell_type": "code",
      "execution_count": 17,
      "id": "9pN7TXLzObAb",
      "metadata": {
        "id": "9pN7TXLzObAb"
      },
      "outputs": [],
      "source": [
        "cuisine = [col for col in df.columns if col.startswith('CUI_')]"
      ]
    },
    {
      "cell_type": "code",
      "execution_count": 18,
      "id": "7z1SKhRNH580",
      "metadata": {
        "id": "7z1SKhRNH580"
      },
      "outputs": [],
      "source": [
        "df['Total_Spent']=df[cuisine].sum(axis=1)"
      ]
    },
    {
      "cell_type": "markdown",
      "id": "hJFfuxU-SG83",
      "metadata": {
        "id": "hJFfuxU-SG83"
      },
      "source": [
        "Deal with extreme outliers"
      ]
    },
    {
      "cell_type": "code",
      "execution_count": 19,
      "id": "n1JL9kunMvDr",
      "metadata": {
        "id": "n1JL9kunMvDr"
      },
      "outputs": [],
      "source": [
        "df = df.drop('92ced2dcb9', axis=0)\n",
        "df.loc['249ba584d3','CUI_Asian']=500\n",
        "df.loc['8d65421423','CUI_Japanese']=590\n",
        "df['Total_Spent']=df[cuisine].sum(axis=1)"
      ]
    },
    {
      "cell_type": "markdown",
      "id": "bHTgk2OWIKXw",
      "metadata": {
        "id": "bHTgk2OWIKXw"
      },
      "source": [
        "**Order_Count**"
      ]
    },
    {
      "cell_type": "code",
      "execution_count": 20,
      "id": "2FSilF83IaRI",
      "metadata": {
        "id": "2FSilF83IaRI"
      },
      "outputs": [],
      "source": [
        "df['order_count']=df['DOW_0']+df['DOW_1']+df['DOW_2']+df['DOW_3']+df['DOW_4']+df['DOW_5']+df['DOW_6']"
      ]
    },
    {
      "cell_type": "markdown",
      "id": "mFRWalwlUeeY",
      "metadata": {
        "id": "mFRWalwlUeeY"
      },
      "source": [
        "**Diversity_Cuisine**"
      ]
    },
    {
      "cell_type": "code",
      "execution_count": 21,
      "id": "XN_13jXlUerJ",
      "metadata": {
        "id": "XN_13jXlUerJ"
      },
      "outputs": [],
      "source": [
        "df['Diversity_Cuisine'] = (df[cuisine] > 0).sum(axis=1)\n",
        "df['Diversity_Cuisine'] = df['order_count']/df['Diversity_Cuisine']"
      ]
    },
    {
      "cell_type": "markdown",
      "id": "xCsQWmOiWg8R",
      "metadata": {
        "id": "xCsQWmOiWg8R"
      },
      "source": [
        "**Costumer_time**"
      ]
    },
    {
      "cell_type": "code",
      "execution_count": 22,
      "id": "Do_Ym9HRWkcT",
      "metadata": {
        "id": "Do_Ym9HRWkcT"
      },
      "outputs": [],
      "source": [
        "df['costumer_time']=df['last_order']-df['first_order']"
      ]
    },
    {
      "cell_type": "markdown",
      "id": "51T04ERQWLym",
      "metadata": {
        "id": "51T04ERQWLym"
      },
      "source": [
        "**Intensity_of_Activity**"
      ]
    },
    {
      "cell_type": "code",
      "execution_count": 23,
      "id": "WMLet25-WOV6",
      "metadata": {
        "id": "WMLet25-WOV6"
      },
      "outputs": [],
      "source": [
        "df['Intensity_of_Activity'] = df['costumer_time'] / df['order_count']"
      ]
    },
    {
      "cell_type": "markdown",
      "id": "r4_vgo1HYcNV",
      "metadata": {
        "id": "r4_vgo1HYcNV"
      },
      "source": [
        "**Customer_Loyalty**"
      ]
    },
    {
      "cell_type": "code",
      "execution_count": 24,
      "id": "I335t7sjYh0f",
      "metadata": {
        "id": "I335t7sjYh0f"
      },
      "outputs": [],
      "source": [
        "df['Customer_loyalty'] = df['vendor_count'] / df['order_count']"
      ]
    },
    {
      "cell_type": "markdown",
      "id": "sCuKdYQCZdiv",
      "metadata": {
        "id": "sCuKdYQCZdiv"
      },
      "source": [
        "**Product_Intensity**"
      ]
    },
    {
      "cell_type": "code",
      "execution_count": 25,
      "id": "RHil6I3CZjuq",
      "metadata": {
        "id": "RHil6I3CZjuq"
      },
      "outputs": [],
      "source": [
        "df['product_intensity'] = df['product_count'] / df['order_count']"
      ]
    },
    {
      "cell_type": "markdown",
      "id": "N6fGsqWj3qe9",
      "metadata": {
        "id": "N6fGsqWj3qe9"
      },
      "source": [
        "**Day_Week_Spread**"
      ]
    },
    {
      "cell_type": "code",
      "execution_count": 26,
      "id": "PZlhd4uG6x9t",
      "metadata": {
        "id": "PZlhd4uG6x9t"
      },
      "outputs": [],
      "source": [
        "days = [col for col in df.columns if col.startswith('DOW_')]"
      ]
    },
    {
      "cell_type": "code",
      "execution_count": 27,
      "id": "ZsJoVRMm6oh2",
      "metadata": {
        "id": "ZsJoVRMm6oh2"
      },
      "outputs": [],
      "source": [
        "df['Day_Week_Spread'] = df.loc[:,days].var(axis=1)"
      ]
    },
    {
      "cell_type": "markdown",
      "id": "A0JJGlLN7ppg",
      "metadata": {
        "id": "A0JJGlLN7ppg"
      },
      "source": [
        "**hour_spread**"
      ]
    },
    {
      "cell_type": "code",
      "execution_count": 28,
      "id": "X6WUt0W-7wtu",
      "metadata": {
        "id": "X6WUt0W-7wtu"
      },
      "outputs": [],
      "source": [
        "hours=[col for col in df.columns if col.startswith('HR_')]"
      ]
    },
    {
      "cell_type": "code",
      "execution_count": 29,
      "id": "PyFgombB78Iq",
      "metadata": {
        "id": "PyFgombB78Iq"
      },
      "outputs": [],
      "source": [
        "df['hour_spread'] = df.loc[:,hours].var(axis=1)"
      ]
    },
    {
      "cell_type": "code",
      "execution_count": 30,
      "id": "8d5affc4",
      "metadata": {},
      "outputs": [
        {
          "data": {
            "text/plain": [
              "Index(['customer_region', 'customer_age', 'vendor_count', 'product_count',\n",
              "       'is_chain', 'first_order', 'last_order', 'last_promo', 'payment_method',\n",
              "       'CUI_American', 'CUI_Asian', 'CUI_Beverages', 'CUI_Cafe',\n",
              "       'CUI_Chicken Dishes', 'CUI_Chinese', 'CUI_Desserts', 'CUI_Healthy',\n",
              "       'CUI_Indian', 'CUI_Italian', 'CUI_Japanese', 'CUI_Noodle Dishes',\n",
              "       'CUI_OTHER', 'CUI_Street Food / Snacks', 'CUI_Thai', 'DOW_0', 'DOW_1',\n",
              "       'DOW_2', 'DOW_3', 'DOW_4', 'DOW_5', 'DOW_6', 'HR_1', 'HR_2', 'HR_3',\n",
              "       'HR_4', 'HR_5', 'HR_6', 'HR_7', 'HR_8', 'HR_9', 'HR_10', 'HR_11',\n",
              "       'HR_12', 'HR_13', 'HR_14', 'HR_15', 'HR_16', 'HR_17', 'HR_18', 'HR_19',\n",
              "       'HR_20', 'HR_21', 'HR_22', 'HR_23', 'Total_Spent', 'order_count',\n",
              "       'Diversity_Cuisine', 'costumer_time', 'Intensity_of_Activity',\n",
              "       'Customer_loyalty', 'product_intensity', 'Day_Week_Spread',\n",
              "       'hour_spread'],\n",
              "      dtype='object')"
            ]
          },
          "execution_count": 30,
          "metadata": {},
          "output_type": "execute_result"
        }
      ],
      "source": [
        "df.columns"
      ]
    },
    {
      "cell_type": "markdown",
      "id": "88tIVnyJDDfW",
      "metadata": {
        "id": "88tIVnyJDDfW"
      },
      "source": [
        "# Normalize data"
      ]
    },
    {
      "cell_type": "code",
      "execution_count": 31,
      "id": "-nI0DdK_DGbN",
      "metadata": {
        "id": "-nI0DdK_DGbN"
      },
      "outputs": [],
      "source": [
        "#Select numeric features\n",
        "metric_features = df.select_dtypes(include=['number']).columns.tolist()"
      ]
    },
    {
      "cell_type": "code",
      "execution_count": 32,
      "id": "RnIGC-YPFtZ2",
      "metadata": {
        "id": "RnIGC-YPFtZ2"
      },
      "outputs": [],
      "source": [
        "# Normalize numeric data with Min-Max scaler\n",
        "scaler = MinMaxScaler()\n",
        "scaled_feat = scaler.fit_transform(df[metric_features])\n",
        "df[metric_features] = scaled_feat"
      ]
    },
    {
      "cell_type": "markdown",
      "id": "85f942c7",
      "metadata": {},
      "source": [
        "# Separate data by  demographic,psychographic and behaviour-based segmentation"
      ]
    },
    {
      "cell_type": "code",
      "execution_count": 33,
      "id": "5d776075",
      "metadata": {},
      "outputs": [
        {
          "data": {
            "text/plain": [
              "Index(['customer_region', 'customer_age', 'vendor_count', 'product_count',\n",
              "       'is_chain', 'first_order', 'last_order', 'last_promo', 'payment_method',\n",
              "       'CUI_American', 'CUI_Asian', 'CUI_Beverages', 'CUI_Cafe',\n",
              "       'CUI_Chicken Dishes', 'CUI_Chinese', 'CUI_Desserts', 'CUI_Healthy',\n",
              "       'CUI_Indian', 'CUI_Italian', 'CUI_Japanese', 'CUI_Noodle Dishes',\n",
              "       'CUI_OTHER', 'CUI_Street Food / Snacks', 'CUI_Thai', 'DOW_0', 'DOW_1',\n",
              "       'DOW_2', 'DOW_3', 'DOW_4', 'DOW_5', 'DOW_6', 'HR_1', 'HR_2', 'HR_3',\n",
              "       'HR_4', 'HR_5', 'HR_6', 'HR_7', 'HR_8', 'HR_9', 'HR_10', 'HR_11',\n",
              "       'HR_12', 'HR_13', 'HR_14', 'HR_15', 'HR_16', 'HR_17', 'HR_18', 'HR_19',\n",
              "       'HR_20', 'HR_21', 'HR_22', 'HR_23', 'Total_Spent', 'order_count',\n",
              "       'Diversity_Cuisine', 'costumer_time', 'Intensity_of_Activity',\n",
              "       'Customer_loyalty', 'product_intensity', 'Day_Week_Spread',\n",
              "       'hour_spread'],\n",
              "      dtype='object')"
            ]
          },
          "execution_count": 33,
          "metadata": {},
          "output_type": "execute_result"
        }
      ],
      "source": [
        "df.columns"
      ]
    },
    {
      "cell_type": "code",
      "execution_count": 34,
      "id": "daf81e89",
      "metadata": {},
      "outputs": [],
      "source": [
        "df.drop('customer_region',axis=1,inplace=True)\n",
        "df.drop('payment_method',axis=1,inplace=True)\n",
        "df.drop('last_promo',axis=1,inplace=True)\n"
      ]
    },
    {
      "cell_type": "code",
      "execution_count": 35,
      "id": "4a0e5e9e",
      "metadata": {},
      "outputs": [],
      "source": [
        "df_demo=df['customer_age']"
      ]
    },
    {
      "cell_type": "code",
      "execution_count": 36,
      "id": "72b6236b",
      "metadata": {},
      "outputs": [],
      "source": [
        "df = df.drop('customer_age', axis=1)"
      ]
    },
    {
      "cell_type": "code",
      "execution_count": 37,
      "id": "6774d8d5",
      "metadata": {},
      "outputs": [],
      "source": [
        "cuisine_columns=[col for col in df.columns if col.startswith('CUI')]"
      ]
    },
    {
      "cell_type": "code",
      "execution_count": 38,
      "id": "ea01872c",
      "metadata": {},
      "outputs": [],
      "source": [
        "df_psy=df[cuisine_columns]"
      ]
    },
    {
      "cell_type": "code",
      "execution_count": 39,
      "id": "5bfa75c9",
      "metadata": {},
      "outputs": [],
      "source": [
        "df.drop(cuisine_columns,axis=1,inplace=True)"
      ]
    },
    {
      "cell_type": "code",
      "execution_count": 40,
      "id": "4516d009",
      "metadata": {},
      "outputs": [],
      "source": [
        "df_behavi=df.copy()"
      ]
    },
    {
      "cell_type": "markdown",
      "id": "D1sknH4ao9WU",
      "metadata": {
        "id": "D1sknH4ao9WU"
      },
      "source": [
        "# PCA analisys psychographic segmentation"
      ]
    },
    {
      "cell_type": "code",
      "execution_count": 41,
      "id": "WQ-aHfuAo8yJ",
      "metadata": {
        "id": "WQ-aHfuAo8yJ"
      },
      "outputs": [],
      "source": [
        "pca = PCA().fit(df_psy)"
      ]
    },
    {
      "cell_type": "code",
      "execution_count": 42,
      "id": "sp2d7s3fvDYH",
      "metadata": {
        "colab": {
          "base_uri": "https://localhost:8080/",
          "height": 677
        },
        "id": "sp2d7s3fvDYH",
        "outputId": "ac1059cb-e826-4b2b-e4cd-a77da9a60bca"
      },
      "outputs": [
        {
          "data": {
            "text/html": [
              "<div>\n",
              "<style scoped>\n",
              "    .dataframe tbody tr th:only-of-type {\n",
              "        vertical-align: middle;\n",
              "    }\n",
              "\n",
              "    .dataframe tbody tr th {\n",
              "        vertical-align: top;\n",
              "    }\n",
              "\n",
              "    .dataframe thead th {\n",
              "        text-align: right;\n",
              "    }\n",
              "</style>\n",
              "<table border=\"1\" class=\"dataframe\">\n",
              "  <thead>\n",
              "    <tr style=\"text-align: right;\">\n",
              "      <th></th>\n",
              "      <th>Eigenvalue</th>\n",
              "      <th>Difference</th>\n",
              "      <th>Proportion</th>\n",
              "      <th>Cumulative</th>\n",
              "    </tr>\n",
              "  </thead>\n",
              "  <tbody>\n",
              "    <tr>\n",
              "      <th>1</th>\n",
              "      <td>0.001935</td>\n",
              "      <td>0.000000</td>\n",
              "      <td>0.169510</td>\n",
              "      <td>0.169510</td>\n",
              "    </tr>\n",
              "    <tr>\n",
              "      <th>2</th>\n",
              "      <td>0.001672</td>\n",
              "      <td>-0.000263</td>\n",
              "      <td>0.146510</td>\n",
              "      <td>0.316020</td>\n",
              "    </tr>\n",
              "    <tr>\n",
              "      <th>3</th>\n",
              "      <td>0.001310</td>\n",
              "      <td>-0.000362</td>\n",
              "      <td>0.114816</td>\n",
              "      <td>0.430836</td>\n",
              "    </tr>\n",
              "    <tr>\n",
              "      <th>4</th>\n",
              "      <td>0.001254</td>\n",
              "      <td>-0.000056</td>\n",
              "      <td>0.109882</td>\n",
              "      <td>0.540718</td>\n",
              "    </tr>\n",
              "    <tr>\n",
              "      <th>5</th>\n",
              "      <td>0.001082</td>\n",
              "      <td>-0.000172</td>\n",
              "      <td>0.094807</td>\n",
              "      <td>0.635525</td>\n",
              "    </tr>\n",
              "    <tr>\n",
              "      <th>6</th>\n",
              "      <td>0.000714</td>\n",
              "      <td>-0.000369</td>\n",
              "      <td>0.062514</td>\n",
              "      <td>0.698039</td>\n",
              "    </tr>\n",
              "    <tr>\n",
              "      <th>7</th>\n",
              "      <td>0.000569</td>\n",
              "      <td>-0.000145</td>\n",
              "      <td>0.049844</td>\n",
              "      <td>0.747883</td>\n",
              "    </tr>\n",
              "    <tr>\n",
              "      <th>8</th>\n",
              "      <td>0.000553</td>\n",
              "      <td>-0.000016</td>\n",
              "      <td>0.048415</td>\n",
              "      <td>0.796298</td>\n",
              "    </tr>\n",
              "    <tr>\n",
              "      <th>9</th>\n",
              "      <td>0.000513</td>\n",
              "      <td>-0.000040</td>\n",
              "      <td>0.044922</td>\n",
              "      <td>0.841220</td>\n",
              "    </tr>\n",
              "    <tr>\n",
              "      <th>10</th>\n",
              "      <td>0.000476</td>\n",
              "      <td>-0.000037</td>\n",
              "      <td>0.041717</td>\n",
              "      <td>0.882937</td>\n",
              "    </tr>\n",
              "    <tr>\n",
              "      <th>11</th>\n",
              "      <td>0.000349</td>\n",
              "      <td>-0.000128</td>\n",
              "      <td>0.030546</td>\n",
              "      <td>0.913483</td>\n",
              "    </tr>\n",
              "    <tr>\n",
              "      <th>12</th>\n",
              "      <td>0.000277</td>\n",
              "      <td>-0.000072</td>\n",
              "      <td>0.024252</td>\n",
              "      <td>0.937735</td>\n",
              "    </tr>\n",
              "    <tr>\n",
              "      <th>13</th>\n",
              "      <td>0.000272</td>\n",
              "      <td>-0.000005</td>\n",
              "      <td>0.023825</td>\n",
              "      <td>0.961559</td>\n",
              "    </tr>\n",
              "    <tr>\n",
              "      <th>14</th>\n",
              "      <td>0.000229</td>\n",
              "      <td>-0.000043</td>\n",
              "      <td>0.020053</td>\n",
              "      <td>0.981612</td>\n",
              "    </tr>\n",
              "    <tr>\n",
              "      <th>15</th>\n",
              "      <td>0.000210</td>\n",
              "      <td>-0.000019</td>\n",
              "      <td>0.018388</td>\n",
              "      <td>1.000000</td>\n",
              "    </tr>\n",
              "  </tbody>\n",
              "</table>\n",
              "</div>"
            ],
            "text/plain": [
              "    Eigenvalue  Difference  Proportion  Cumulative\n",
              "1     0.001935    0.000000    0.169510    0.169510\n",
              "2     0.001672   -0.000263    0.146510    0.316020\n",
              "3     0.001310   -0.000362    0.114816    0.430836\n",
              "4     0.001254   -0.000056    0.109882    0.540718\n",
              "5     0.001082   -0.000172    0.094807    0.635525\n",
              "6     0.000714   -0.000369    0.062514    0.698039\n",
              "7     0.000569   -0.000145    0.049844    0.747883\n",
              "8     0.000553   -0.000016    0.048415    0.796298\n",
              "9     0.000513   -0.000040    0.044922    0.841220\n",
              "10    0.000476   -0.000037    0.041717    0.882937\n",
              "11    0.000349   -0.000128    0.030546    0.913483\n",
              "12    0.000277   -0.000072    0.024252    0.937735\n",
              "13    0.000272   -0.000005    0.023825    0.961559\n",
              "14    0.000229   -0.000043    0.020053    0.981612\n",
              "15    0.000210   -0.000019    0.018388    1.000000"
            ]
          },
          "execution_count": 42,
          "metadata": {},
          "output_type": "execute_result"
        }
      ],
      "source": [
        "PCA_s=pd.DataFrame(\n",
        "    {\"Eigenvalue\": pca.explained_variance_,\n",
        "     \"Difference\": np.insert(np.diff(pca.explained_variance_), 0, 0),\n",
        "     \"Proportion\": pca.explained_variance_ratio_,\n",
        "     \"Cumulative\": np.cumsum(pca.explained_variance_ratio_)},\n",
        "    index=range(1, pca.n_components_ + 1)\n",
        ")\n",
        "PCA_s.head(20)"
      ]
    },
    {
      "cell_type": "code",
      "execution_count": 43,
      "id": "j0BvDzCgKVjg",
      "metadata": {
        "colab": {
          "base_uri": "https://localhost:8080/"
        },
        "id": "j0BvDzCgKVjg",
        "outputId": "5e51c9d2-4b26-4d5f-a1f7-37a87d8e6b60"
      },
      "outputs": [
        {
          "name": "stdout",
          "output_type": "stream",
          "text": [
            "                               PC1       PC2       PC3       PC4       PC5  \\\n",
            "CUI_American              0.437491  0.836006  0.101510  0.171789 -0.227643   \n",
            "CUI_Asian                 0.697184 -0.182693 -0.452639 -0.512606  0.059351   \n",
            "CUI_Beverages             0.208897 -0.189561 -0.497612  0.810293  0.074062   \n",
            "CUI_Cafe                  0.011127  0.085022 -0.007428 -0.009926  0.103758   \n",
            "CUI_Chicken Dishes       -0.026392  0.017320 -0.011902  0.017425  0.057071   \n",
            "CUI_Chinese               0.006611  0.003435 -0.019056  0.010352  0.021889   \n",
            "CUI_Desserts              0.084087 -0.041656 -0.008958  0.037564 -0.007314   \n",
            "CUI_Healthy               0.020305  0.020618 -0.021976 -0.013095  0.070504   \n",
            "CUI_Indian               -0.028881  0.073464 -0.010317 -0.025291  0.117862   \n",
            "CUI_Italian              -0.035422  0.139572  0.034362 -0.027219  0.082847   \n",
            "CUI_Japanese              0.035974  0.021608 -0.011728 -0.018487  0.041476   \n",
            "CUI_Noodle Dishes        -0.021521  0.000631 -0.012879  0.019757  0.011890   \n",
            "CUI_OTHER                -0.021474  0.178158 -0.037684  0.027895  0.296723   \n",
            "CUI_Street Food / Snacks  0.514570 -0.345776  0.729625  0.212499  0.169806   \n",
            "CUI_Thai                 -0.038234  0.213159 -0.026636 -0.031777  0.883261   \n",
            "\n",
            "                               PC6       PC7       PC8       PC9      PC10  \\\n",
            "CUI_American             -0.115843 -0.031344 -0.047122 -0.003857 -0.019747   \n",
            "CUI_Asian                 0.037138  0.032369  0.036033 -0.034416 -0.045228   \n",
            "CUI_Beverages             0.007536  0.076536  0.039319  0.012158 -0.049598   \n",
            "CUI_Cafe                  0.217643 -0.032858  0.027136  0.053539  0.006532   \n",
            "CUI_Chicken Dishes        0.018217 -0.040000 -0.035544 -0.066216 -0.003577   \n",
            "CUI_Chinese               0.040193 -0.041880 -0.005798 -0.029065 -0.000475   \n",
            "CUI_Desserts             -0.030277 -0.101815 -0.069881 -0.003331  0.986429   \n",
            "CUI_Healthy               0.160588 -0.144283 -0.162083  0.950288 -0.019442   \n",
            "CUI_Indian                0.223105  0.704248 -0.653284 -0.056190  0.039846   \n",
            "CUI_Italian               0.253291  0.566498  0.730233  0.147826  0.128773   \n",
            "CUI_Japanese              0.042513  0.005290 -0.013365  0.056941  0.017997   \n",
            "CUI_Noodle Dishes         0.043113 -0.067247 -0.024555 -0.048203 -0.015754   \n",
            "CUI_OTHER                 0.787419 -0.365075 -0.022764 -0.238487 -0.005391   \n",
            "CUI_Street Food / Snacks  0.070768  0.031250  0.004813 -0.005394 -0.053190   \n",
            "CUI_Thai                 -0.408029 -0.028333  0.020109 -0.004111  0.005312   \n",
            "\n",
            "                              PC11      PC12      PC13      PC14      PC15  \n",
            "CUI_American             -0.029164  0.000896 -0.012607 -0.003042 -0.003382  \n",
            "CUI_Asian                -0.023802 -0.004965 -0.039236  0.004388 -0.016821  \n",
            "CUI_Beverages             0.013646 -0.016897  0.011257  0.006239 -0.006670  \n",
            "CUI_Cafe                  0.932651 -0.004070 -0.243753 -0.019075 -0.000390  \n",
            "CUI_Chicken Dishes       -0.105271  0.535704 -0.434869  0.703982 -0.070329  \n",
            "CUI_Chinese              -0.060104  0.378855 -0.166788 -0.324506  0.845270  \n",
            "CUI_Desserts             -0.001850 -0.007372 -0.016928 -0.005971 -0.007066  \n",
            "CUI_Healthy              -0.117463  0.000611 -0.057841  0.009267 -0.002117  \n",
            "CUI_Indian               -0.030074 -0.007728 -0.016933 -0.024555  0.003403  \n",
            "CUI_Italian              -0.100505  0.046558 -0.035379 -0.006746 -0.012725  \n",
            "CUI_Japanese              0.189546  0.571437  0.786610  0.075108 -0.059961  \n",
            "CUI_Noodle Dishes        -0.098720  0.473157 -0.298185 -0.624815 -0.525692  \n",
            "CUI_OTHER                -0.206999 -0.121536  0.092921  0.022992 -0.006405  \n",
            "CUI_Street Food / Snacks -0.004661  0.011305 -0.016875  0.000420 -0.003736  \n",
            "CUI_Thai                 -0.022665 -0.039536  0.008469 -0.036607 -0.001928  \n"
          ]
        }
      ],
      "source": [
        "loadings = pd.DataFrame(pca.components_.T, columns=[f'PC{i+1}' for i in range(pca.n_components_)], index=df_psy.columns)\n",
        "print(loadings)"
      ]
    },
    {
      "cell_type": "code",
      "execution_count": 44,
      "id": "DzpTtqJ0rbGL",
      "metadata": {
        "colab": {
          "base_uri": "https://localhost:8080/",
          "height": 508
        },
        "id": "DzpTtqJ0rbGL",
        "outputId": "99479eef-281b-4358-a046-87a7b01f6437"
      },
      "outputs": [
        {
          "data": {
            "image/png": "[encoded data removed]",
            "text/plain": [
              "<Figure size 1500x500 with 2 Axes>"
            ]
          },
          "metadata": {},
          "output_type": "display_data"
        }
      ],
      "source": [
        "# figure and axes\n",
        "fig, (ax1, ax2) = plt.subplots(1, 2, figsize=(15, 5))\n",
        "\n",
        "# draw plots\n",
        "ax1.plot(pca.explained_variance_, marker=\".\", markersize=12)\n",
        "ax2.plot(pca.explained_variance_ratio_, marker=\".\", markersize=12, label=\"Proportion\")\n",
        "ax2.plot(np.cumsum(pca.explained_variance_ratio_), marker=\".\", markersize=12, linestyle=\"--\", label=\"Cumulative\")\n",
        "\n",
        "# customizations\n",
        "ax2.legend()\n",
        "ax1.set_title(\"Scree Plot\", fontsize=14)\n",
        "ax2.set_title(\"Variance Explained\", fontsize=14)\n",
        "ax1.set_ylabel(\"Eigenvalue\")\n",
        "ax2.set_ylabel(\"Proportion\")\n",
        "ax1.set_xlabel(\"Components\")\n",
        "ax2.set_xlabel(\"Components\")\n",
        "ax1.set_xticks(range(0, pca.n_components_, 2))\n",
        "ax1.set_xticklabels(range(1, pca.n_components_ + 1, 2))\n",
        "ax2.set_xticks(range(0, pca.n_components_, 2))\n",
        "ax2.set_xticklabels(range(1, pca.n_components_ + 1, 2))\n",
        "\n",
        "plt.show()"
      ]
    },
    {
      "cell_type": "markdown",
      "id": "hoCObxysOi9H",
      "metadata": {
        "id": "hoCObxysOi9H"
      },
      "source": [
        "We decided to establish a threshold of 85% cumulative variance, so we will retain the first 10 components"
      ]
    },
    {
      "cell_type": "code",
      "execution_count": 45,
      "id": "SkUqfjwUrzuw",
      "metadata": {
        "id": "SkUqfjwUrzuw"
      },
      "outputs": [],
      "source": [
        "#Retain the first 8 components\n",
        "pca = PCA(n_components=10)\n",
        "pca_feat = pca.fit_transform(df_psy)\n",
        "pca_feat_names = [f\"PC{i}\" for i in range(pca.n_components_)]\n",
        "#Create the dataframe \"df_PCA\" with the PC`s and the normalized categorical features\n",
        "df_PCA = pd.DataFrame(pca_feat, index=df_psy.index, columns=pca_feat_names)\n",
        "#Normalize the PC features\n",
        "metric_features1 = df_PCA.select_dtypes(include=['number']).columns.tolist()\n",
        "scaled_feat = scaler.fit_transform(df_PCA)\n",
        "df_PCA = scaled_feat\n",
        "df_psy = pd.DataFrame(df_PCA, index=df_psy.index, columns=metric_features1)"
      ]
    },
    {
      "cell_type": "markdown",
      "id": "43262b01",
      "metadata": {},
      "source": [
        "# PCA Behavioral segmentation"
      ]
    },
    {
      "cell_type": "code",
      "execution_count": 46,
      "id": "2a0de76e",
      "metadata": {},
      "outputs": [],
      "source": [
        "pca = PCA().fit(df_behavi)"
      ]
    },
    {
      "cell_type": "code",
      "execution_count": 47,
      "id": "47a48f1b",
      "metadata": {},
      "outputs": [
        {
          "data": {
            "text/html": [
              "<div>\n",
              "<style scoped>\n",
              "    .dataframe tbody tr th:only-of-type {\n",
              "        vertical-align: middle;\n",
              "    }\n",
              "\n",
              "    .dataframe tbody tr th {\n",
              "        vertical-align: top;\n",
              "    }\n",
              "\n",
              "    .dataframe thead th {\n",
              "        text-align: right;\n",
              "    }\n",
              "</style>\n",
              "<table border=\"1\" class=\"dataframe\">\n",
              "  <thead>\n",
              "    <tr style=\"text-align: right;\">\n",
              "      <th></th>\n",
              "      <th>Eigenvalue</th>\n",
              "      <th>Difference</th>\n",
              "      <th>Proportion</th>\n",
              "      <th>Cumulative</th>\n",
              "    </tr>\n",
              "  </thead>\n",
              "  <tbody>\n",
              "    <tr>\n",
              "      <th>1</th>\n",
              "      <td>0.157822</td>\n",
              "      <td>0.000000</td>\n",
              "      <td>0.437967</td>\n",
              "      <td>0.437967</td>\n",
              "    </tr>\n",
              "    <tr>\n",
              "      <th>2</th>\n",
              "      <td>0.085731</td>\n",
              "      <td>-0.072092</td>\n",
              "      <td>0.237908</td>\n",
              "      <td>0.675874</td>\n",
              "    </tr>\n",
              "    <tr>\n",
              "      <th>3</th>\n",
              "      <td>0.043911</td>\n",
              "      <td>-0.041820</td>\n",
              "      <td>0.121855</td>\n",
              "      <td>0.797730</td>\n",
              "    </tr>\n",
              "    <tr>\n",
              "      <th>4</th>\n",
              "      <td>0.020427</td>\n",
              "      <td>-0.023484</td>\n",
              "      <td>0.056686</td>\n",
              "      <td>0.854416</td>\n",
              "    </tr>\n",
              "    <tr>\n",
              "      <th>5</th>\n",
              "      <td>0.007456</td>\n",
              "      <td>-0.012971</td>\n",
              "      <td>0.020690</td>\n",
              "      <td>0.875106</td>\n",
              "    </tr>\n",
              "    <tr>\n",
              "      <th>6</th>\n",
              "      <td>0.003983</td>\n",
              "      <td>-0.003473</td>\n",
              "      <td>0.011052</td>\n",
              "      <td>0.886158</td>\n",
              "    </tr>\n",
              "    <tr>\n",
              "      <th>7</th>\n",
              "      <td>0.003596</td>\n",
              "      <td>-0.000387</td>\n",
              "      <td>0.009978</td>\n",
              "      <td>0.896136</td>\n",
              "    </tr>\n",
              "    <tr>\n",
              "      <th>8</th>\n",
              "      <td>0.003113</td>\n",
              "      <td>-0.000483</td>\n",
              "      <td>0.008639</td>\n",
              "      <td>0.904775</td>\n",
              "    </tr>\n",
              "    <tr>\n",
              "      <th>9</th>\n",
              "      <td>0.002866</td>\n",
              "      <td>-0.000247</td>\n",
              "      <td>0.007953</td>\n",
              "      <td>0.912728</td>\n",
              "    </tr>\n",
              "    <tr>\n",
              "      <th>10</th>\n",
              "      <td>0.002490</td>\n",
              "      <td>-0.000376</td>\n",
              "      <td>0.006909</td>\n",
              "      <td>0.919637</td>\n",
              "    </tr>\n",
              "    <tr>\n",
              "      <th>11</th>\n",
              "      <td>0.002303</td>\n",
              "      <td>-0.000187</td>\n",
              "      <td>0.006392</td>\n",
              "      <td>0.926028</td>\n",
              "    </tr>\n",
              "    <tr>\n",
              "      <th>12</th>\n",
              "      <td>0.002188</td>\n",
              "      <td>-0.000116</td>\n",
              "      <td>0.006071</td>\n",
              "      <td>0.932099</td>\n",
              "    </tr>\n",
              "    <tr>\n",
              "      <th>13</th>\n",
              "      <td>0.002060</td>\n",
              "      <td>-0.000128</td>\n",
              "      <td>0.005716</td>\n",
              "      <td>0.937815</td>\n",
              "    </tr>\n",
              "    <tr>\n",
              "      <th>14</th>\n",
              "      <td>0.002015</td>\n",
              "      <td>-0.000044</td>\n",
              "      <td>0.005593</td>\n",
              "      <td>0.943408</td>\n",
              "    </tr>\n",
              "    <tr>\n",
              "      <th>15</th>\n",
              "      <td>0.002005</td>\n",
              "      <td>-0.000011</td>\n",
              "      <td>0.005564</td>\n",
              "      <td>0.948972</td>\n",
              "    </tr>\n",
              "    <tr>\n",
              "      <th>16</th>\n",
              "      <td>0.001955</td>\n",
              "      <td>-0.000050</td>\n",
              "      <td>0.005426</td>\n",
              "      <td>0.954398</td>\n",
              "    </tr>\n",
              "    <tr>\n",
              "      <th>17</th>\n",
              "      <td>0.001735</td>\n",
              "      <td>-0.000220</td>\n",
              "      <td>0.004815</td>\n",
              "      <td>0.959213</td>\n",
              "    </tr>\n",
              "    <tr>\n",
              "      <th>18</th>\n",
              "      <td>0.001606</td>\n",
              "      <td>-0.000129</td>\n",
              "      <td>0.004457</td>\n",
              "      <td>0.963670</td>\n",
              "    </tr>\n",
              "    <tr>\n",
              "      <th>19</th>\n",
              "      <td>0.001381</td>\n",
              "      <td>-0.000225</td>\n",
              "      <td>0.003832</td>\n",
              "      <td>0.967502</td>\n",
              "    </tr>\n",
              "    <tr>\n",
              "      <th>20</th>\n",
              "      <td>0.001192</td>\n",
              "      <td>-0.000189</td>\n",
              "      <td>0.003307</td>\n",
              "      <td>0.970808</td>\n",
              "    </tr>\n",
              "  </tbody>\n",
              "</table>\n",
              "</div>"
            ],
            "text/plain": [
              "    Eigenvalue  Difference  Proportion  Cumulative\n",
              "1     0.157822    0.000000    0.437967    0.437967\n",
              "2     0.085731   -0.072092    0.237908    0.675874\n",
              "3     0.043911   -0.041820    0.121855    0.797730\n",
              "4     0.020427   -0.023484    0.056686    0.854416\n",
              "5     0.007456   -0.012971    0.020690    0.875106\n",
              "6     0.003983   -0.003473    0.011052    0.886158\n",
              "7     0.003596   -0.000387    0.009978    0.896136\n",
              "8     0.003113   -0.000483    0.008639    0.904775\n",
              "9     0.002866   -0.000247    0.007953    0.912728\n",
              "10    0.002490   -0.000376    0.006909    0.919637\n",
              "11    0.002303   -0.000187    0.006392    0.926028\n",
              "12    0.002188   -0.000116    0.006071    0.932099\n",
              "13    0.002060   -0.000128    0.005716    0.937815\n",
              "14    0.002015   -0.000044    0.005593    0.943408\n",
              "15    0.002005   -0.000011    0.005564    0.948972\n",
              "16    0.001955   -0.000050    0.005426    0.954398\n",
              "17    0.001735   -0.000220    0.004815    0.959213\n",
              "18    0.001606   -0.000129    0.004457    0.963670\n",
              "19    0.001381   -0.000225    0.003832    0.967502\n",
              "20    0.001192   -0.000189    0.003307    0.970808"
            ]
          },
          "execution_count": 47,
          "metadata": {},
          "output_type": "execute_result"
        }
      ],
      "source": [
        "PCA_s=pd.DataFrame(\n",
        "    {\"Eigenvalue\": pca.explained_variance_,\n",
        "     \"Difference\": np.insert(np.diff(pca.explained_variance_), 0, 0),\n",
        "     \"Proportion\": pca.explained_variance_ratio_,\n",
        "     \"Cumulative\": np.cumsum(pca.explained_variance_ratio_)},\n",
        "    index=range(1, pca.n_components_ + 1)\n",
        ")\n",
        "PCA_s.head(20)"
      ]
    },
    {
      "cell_type": "code",
      "execution_count": 48,
      "id": "eb2ae077",
      "metadata": {},
      "outputs": [
        {
          "name": "stdout",
          "output_type": "stream",
          "text": [
            "                            PC1       PC2       PC3       PC4       PC5  \\\n",
            "vendor_count           0.103712  0.007055  0.034203 -0.322336 -0.058883   \n",
            "product_count          0.095506  0.009141 -0.065172 -0.263773  0.057768   \n",
            "is_chain               0.067807  0.003522 -0.039534 -0.193427 -0.073564   \n",
            "first_order           -0.447190  0.690492 -0.144535 -0.023662 -0.004327   \n",
            "last_order             0.359488  0.719627  0.201740  0.022304  0.000488   \n",
            "DOW_0                  0.071627  0.004180 -0.050118 -0.195270 -0.047383   \n",
            "DOW_1                  0.069781  0.005958 -0.051272 -0.191290 -0.040915   \n",
            "DOW_2                  0.082755  0.008709 -0.060925 -0.217131 -0.046452   \n",
            "DOW_3                  0.074900  0.011344 -0.054296 -0.190893 -0.044125   \n",
            "DOW_4                  0.080798  0.014964 -0.061556 -0.199671 -0.040790   \n",
            "DOW_5                  0.055800  0.004912 -0.034298 -0.144437 -0.023956   \n",
            "DOW_6                  0.075940 -0.000644 -0.046038 -0.191291 -0.023271   \n",
            "HR_1                   0.003505  0.000070  0.001418 -0.009718  0.009626   \n",
            "HR_2                   0.005675  0.000768  0.002386 -0.014154  0.025000   \n",
            "HR_3                   0.009864  0.004054  0.006110 -0.022109  0.051723   \n",
            "HR_4                   0.007302  0.002032  0.004067 -0.016989  0.025857   \n",
            "HR_5                   0.012924  0.002396  0.010208 -0.028876  0.046806   \n",
            "HR_6                   0.012485  0.001694  0.005068 -0.035656  0.028973   \n",
            "HR_7                   0.008632  0.001710 -0.001195 -0.028279  0.007115   \n",
            "HR_8                   0.005446  0.001032 -0.003803 -0.018962 -0.001773   \n",
            "HR_9                   0.021192  0.004524 -0.016881 -0.058353  0.002570   \n",
            "HR_10                  0.028639  0.003491 -0.021684 -0.078102 -0.003427   \n",
            "HR_11                  0.034268  0.002316 -0.022166 -0.102791 -0.028193   \n",
            "HR_12                  0.026072  0.000706 -0.015551 -0.077418 -0.030516   \n",
            "HR_13                  0.035194  0.001288 -0.024674 -0.099586 -0.029424   \n",
            "HR_14                  0.033600  0.004287 -0.030853 -0.085259 -0.012154   \n",
            "HR_15                  0.026009  0.005502 -0.028112 -0.046974 -0.006132   \n",
            "HR_16                  0.035135  0.004613 -0.037487 -0.060299 -0.018481   \n",
            "HR_17                  0.042708  0.003025 -0.041296 -0.092510 -0.048439   \n",
            "HR_18                  0.030253  0.000427 -0.023716 -0.078699 -0.043510   \n",
            "HR_19                  0.015166 -0.000190 -0.009867 -0.045922 -0.025979   \n",
            "HR_20                  0.008169 -0.000258 -0.004284 -0.025729 -0.014487   \n",
            "HR_21                  0.011849  0.000074 -0.005123 -0.032896 -0.022042   \n",
            "HR_22                  0.004852  0.000377 -0.000976 -0.013926 -0.004535   \n",
            "HR_23                  0.004541  0.000109  0.000012 -0.012771  0.000150   \n",
            "Total_Spent            0.084764  0.012403 -0.049431 -0.231008  0.245282   \n",
            "order_count            0.094963  0.009093 -0.066266 -0.246820 -0.049200   \n",
            "Diversity_Cuisine      0.041965  0.005997 -0.068569 -0.029247  0.004258   \n",
            "costumer_time          0.644231  0.029578  0.276967  0.036726  0.003831   \n",
            "Intensity_of_Activity  0.173621  0.005818  0.291476  0.460567  0.056346   \n",
            "Customer_loyalty      -0.364043 -0.057966  0.854727 -0.338211 -0.029931   \n",
            "product_intensity     -0.009629  0.000120 -0.003142 -0.084257  0.945505   \n",
            "Day_Week_Spread        0.036486  0.003187 -0.027605 -0.091628 -0.017615   \n",
            "hour_spread            0.010449  0.001074 -0.012143 -0.039191 -0.008370   \n",
            "\n",
            "                            PC6       PC7       PC8       PC9      PC10  ...  \\\n",
            "vendor_count           0.003732  0.040612  0.012668 -0.012827 -0.020227  ...   \n",
            "product_count         -0.032907 -0.067027  0.150968  0.004255 -0.009543  ...   \n",
            "is_chain              -0.096309 -0.089317  0.076793 -0.039625 -0.056741  ...   \n",
            "first_order           -0.014842 -0.063337  0.133765 -0.004574 -0.001474  ...   \n",
            "last_order             0.005132  0.072923 -0.140863 -0.008606 -0.001033  ...   \n",
            "DOW_0                  0.132046 -0.208076  0.059123 -0.172875 -0.493604  ...   \n",
            "DOW_1                  0.138705 -0.229289  0.056749 -0.113061 -0.237849  ...   \n",
            "DOW_2                  0.180690 -0.390456 -0.029619 -0.338261  0.744055  ...   \n",
            "DOW_3                  0.080481 -0.199335 -0.008489 -0.044760 -0.270206  ...   \n",
            "DOW_4                 -0.090315 -0.161878  0.063334  0.862839  0.142027  ...   \n",
            "DOW_5                 -0.168931  0.182138  0.132696  0.019202 -0.033761  ...   \n",
            "DOW_6                 -0.379686  0.537147  0.425245 -0.220484  0.130907  ...   \n",
            "HR_1                   0.040188  0.021305  0.006476  0.004445 -0.002662  ...   \n",
            "HR_2                   0.099876  0.046843  0.021488  0.011137  0.001487  ...   \n",
            "HR_3                   0.321196  0.105751  0.056895  0.039308  0.017331  ...   \n",
            "HR_4                   0.193877  0.094538  0.060131  0.010688  0.021979  ...   \n",
            "HR_5                   0.478257  0.273312  0.226035  0.066118  0.048509  ...   \n",
            "HR_6                   0.335795  0.171233  0.177023  0.062845  0.005083  ...   \n",
            "HR_7                   0.081286  0.022881  0.054294  0.012588 -0.000278  ...   \n",
            "HR_8                   0.015302 -0.007925  0.025311  0.005910 -0.003681  ...   \n",
            "HR_9                   0.072156 -0.038236  0.048710  0.026463  0.001324  ...   \n",
            "HR_10                  0.079103 -0.050428  0.058353  0.011945 -0.013597  ...   \n",
            "HR_11                 -0.021649 -0.080488  0.048351 -0.050046 -0.083352  ...   \n",
            "HR_12                 -0.050228 -0.060096  0.016582 -0.055427 -0.053359  ...   \n",
            "HR_13                 -0.098477 -0.070372  0.067498 -0.093334 -0.050565  ...   \n",
            "HR_14                 -0.114999 -0.032736  0.096493 -0.032737 -0.008388  ...   \n",
            "HR_15                 -0.075542 -0.024299  0.022780  0.036083  0.030465  ...   \n",
            "HR_16                 -0.129154 -0.043897 -0.002367  0.063805  0.076752  ...   \n",
            "HR_17                 -0.232955 -0.077376 -0.029993  0.047113  0.063466  ...   \n",
            "HR_18                 -0.163616 -0.050233 -0.020785 -0.016569 -0.009309  ...   \n",
            "HR_19                 -0.073350 -0.023476 -0.000912 -0.014775 -0.017245  ...   \n",
            "HR_20                 -0.031494 -0.015958  0.000295 -0.014795 -0.009172  ...   \n",
            "HR_21                 -0.047782 -0.014311 -0.011635 -0.027517 -0.021654  ...   \n",
            "HR_22                 -0.003477  0.003607 -0.004348 -0.009954 -0.003456  ...   \n",
            "HR_23                  0.002988  0.005747 -0.002733 -0.010700  0.000900  ...   \n",
            "Total_Spent            0.219767  0.056850  0.207978  0.087407  0.046076  ...   \n",
            "order_count           -0.030323 -0.069872  0.135761 -0.000907 -0.017235  ...   \n",
            "Diversity_Cuisine      0.046410 -0.009399  0.060093  0.007128  0.009174  ...   \n",
            "costumer_time          0.015918  0.108930 -0.219489 -0.003281  0.000341  ...   \n",
            "Intensity_of_Activity -0.084995 -0.391172  0.691053  0.002561 -0.006698  ...   \n",
            "Customer_loyalty      -0.016073 -0.008272 -0.023695  0.012249  0.010900  ...   \n",
            "product_intensity     -0.146103 -0.078809 -0.087924 -0.039133 -0.026524  ...   \n",
            "Day_Week_Spread       -0.045441  0.011843  0.062291  0.019759  0.001595  ...   \n",
            "hour_spread           -0.007162 -0.038790  0.049491  0.003393 -0.004188  ...   \n",
            "\n",
            "                           PC35      PC36      PC37      PC38      PC39  \\\n",
            "vendor_count          -0.011953  0.027376  0.354669 -0.048163  0.068847   \n",
            "product_count         -0.007832  0.018619 -0.049436  0.073759  0.007790   \n",
            "is_chain              -0.159458  0.087961  0.310453 -0.116669 -0.086909   \n",
            "first_order            0.000657  0.000960  0.012764 -0.002756 -0.001072   \n",
            "last_order            -0.000580 -0.001259 -0.013477  0.003092  0.000504   \n",
            "DOW_0                  0.015339 -0.008845 -0.094054  0.040369  0.031834   \n",
            "DOW_1                 -0.006909 -0.005384 -0.097268  0.040422  0.027404   \n",
            "DOW_2                  0.005797 -0.006577 -0.090385  0.035214  0.031056   \n",
            "DOW_3                 -0.021932 -0.006093 -0.097045  0.041469  0.037760   \n",
            "DOW_4                 -0.032022 -0.002467 -0.097714  0.039547  0.027985   \n",
            "DOW_5                 -0.050568 -0.009897 -0.140468  0.057805  0.035252   \n",
            "DOW_6                 -0.056777 -0.001363 -0.109945  0.042207  0.034768   \n",
            "HR_1                   0.039498  0.028826 -0.078368 -0.043394 -0.056278   \n",
            "HR_2                  -0.024030 -0.048674 -0.060451 -0.027597 -0.062253   \n",
            "HR_3                  -0.007548 -0.008592 -0.052703 -0.014125 -0.034525   \n",
            "HR_4                   0.002419 -0.017751 -0.069414 -0.024169 -0.049409   \n",
            "HR_5                   0.002927 -0.004662 -0.033250 -0.008740 -0.019781   \n",
            "HR_6                  -0.005192 -0.005341 -0.015881 -0.011550 -0.018884   \n",
            "HR_7                  -0.041959 -0.033392 -0.099311 -0.068292 -0.200398   \n",
            "HR_8                  -0.012181  0.021856  0.073654  0.152001  0.817149   \n",
            "HR_9                  -0.029400 -0.031538 -0.069208 -0.078943 -0.166467   \n",
            "HR_10                 -0.018621 -0.010494 -0.033911 -0.054422 -0.070608   \n",
            "HR_11                 -0.014843 -0.016271 -0.056138 -0.040047 -0.077449   \n",
            "HR_12                 -0.028302 -0.042111 -0.056416 -0.063825 -0.079765   \n",
            "HR_13                  0.008581 -0.003630 -0.014370 -0.031421 -0.030760   \n",
            "HR_14                  0.005016 -0.010472 -0.015038 -0.035335 -0.029760   \n",
            "HR_15                 -0.008378 -0.008571 -0.032380 -0.057374 -0.069533   \n",
            "HR_16                 -0.039446 -0.017732 -0.008988 -0.054216 -0.068150   \n",
            "HR_17                 -0.033219 -0.008273 -0.018361 -0.040549 -0.061907   \n",
            "HR_18                 -0.003257 -0.006054  0.004233 -0.035690 -0.077309   \n",
            "HR_19                  0.069624 -0.107779 -0.190688 -0.424908 -0.075262   \n",
            "HR_20                 -0.024278  0.016533  0.154517  0.796161 -0.346826   \n",
            "HR_21                  0.007437 -0.144711 -0.014699 -0.141103  0.013941   \n",
            "HR_22                  0.089806  0.847745 -0.160568 -0.092189 -0.061667   \n",
            "HR_23                 -0.067160 -0.467587 -0.049467 -0.022888 -0.039230   \n",
            "Total_Spent            0.009812  0.012172  0.116205 -0.019774 -0.008700   \n",
            "order_count           -0.029409 -0.007732 -0.137842  0.056362  0.042520   \n",
            "Diversity_Cuisine     -0.165019  0.064809  0.703477 -0.232346 -0.068123   \n",
            "costumer_time         -0.000988 -0.001775 -0.020973  0.004675  0.001257   \n",
            "Intensity_of_Activity  0.005174  0.003389  0.035988 -0.009198 -0.005200   \n",
            "Customer_loyalty      -0.005372 -0.000294  0.003392 -0.009562 -0.011002   \n",
            "product_intensity     -0.003785 -0.002290 -0.017495 -0.003708  0.000520   \n",
            "Day_Week_Spread        0.954487 -0.085188  0.174471  0.000240 -0.029210   \n",
            "hour_spread           -0.013117  0.007433 -0.031481  0.083207  0.236107   \n",
            "\n",
            "                           PC40      PC41          PC42          PC43  \\\n",
            "vendor_count          -0.024835  0.090980 -0.000000e+00 -0.000000e+00   \n",
            "product_count          0.920906  0.040127  4.226685e-14  9.629902e-15   \n",
            "is_chain              -0.054709  0.009525 -3.456711e-15  5.639948e-15   \n",
            "first_order           -0.002031 -0.003029 -3.318884e-02  1.255403e-02   \n",
            "last_order             0.002594  0.003310  3.356175e-02 -1.269509e-02   \n",
            "DOW_0                 -0.083124 -0.055256 -1.430081e-01 -1.323422e-01   \n",
            "DOW_1                 -0.090527 -0.059071 -1.519461e-01 -1.406136e-01   \n",
            "DOW_2                 -0.082947 -0.052661 -1.340701e-01 -1.240708e-01   \n",
            "DOW_3                 -0.089789 -0.058182 -1.519461e-01 -1.406136e-01   \n",
            "DOW_4                 -0.087321 -0.055319 -1.430081e-01 -1.323422e-01   \n",
            "DOW_5                 -0.107962 -0.065250 -1.787602e-01 -1.654278e-01   \n",
            "DOW_6                 -0.097735 -0.053281 -1.519461e-01 -1.406136e-01   \n",
            "HR_1                   0.004962  0.012372 -1.584519e-02  1.217390e-01   \n",
            "HR_2                   0.007538  0.017345 -1.358159e-02  1.043477e-01   \n",
            "HR_3                   0.006869  0.003913 -1.244979e-02  9.565210e-02   \n",
            "HR_4                   0.014714  0.010923 -1.584519e-02  1.217390e-01   \n",
            "HR_5                   0.007738  0.006571 -7.922595e-03  6.086952e-02   \n",
            "HR_6                   0.008248  0.012724 -7.922595e-03  6.086952e-02   \n",
            "HR_7                  -0.001307  0.018306 -1.697699e-02  1.304347e-01   \n",
            "HR_8                  -0.019067 -0.237588 -5.885356e-02  4.521736e-01   \n",
            "HR_9                  -0.003856  0.045086 -2.603138e-02  1.999998e-01   \n",
            "HR_10                  0.006358  0.020367 -2.829498e-02  2.173911e-01   \n",
            "HR_11                 -0.031929  0.012685 -2.603138e-02  1.999998e-01   \n",
            "HR_12                 -0.040391  0.017399 -2.942678e-02  2.260868e-01   \n",
            "HR_13                 -0.017791  0.025808 -1.584519e-02  1.217390e-01   \n",
            "HR_14                 -0.014867  0.026035 -1.471339e-02  1.130434e-01   \n",
            "HR_15                 -0.014631  0.020635 -2.603138e-02  1.999998e-01   \n",
            "HR_16                 -0.010092  0.020677 -2.489958e-02  1.913042e-01   \n",
            "HR_17                 -0.017698  0.012846 -2.263598e-02  1.739129e-01   \n",
            "HR_18                 -0.035822  0.012878 -2.716318e-02  2.086955e-01   \n",
            "HR_19                 -0.061900 -0.000839 -3.961297e-02  3.043476e-01   \n",
            "HR_20                 -0.093652 -0.010469 -4.074477e-02  3.130432e-01   \n",
            "HR_21                 -0.027621  0.019020 -1.244979e-02  9.565210e-02   \n",
            "HR_22                 -0.035818  0.009794 -1.697699e-02  1.304347e-01   \n",
            "HR_23                 -0.008348  0.015365 -1.244979e-02  9.565210e-02   \n",
            "Total_Spent           -0.208730 -0.001129 -1.083419e-14  1.182284e-15   \n",
            "order_count           -0.120638 -0.075146  9.062827e-01 -3.818304e-02   \n",
            "Diversity_Cuisine      0.008529 -0.029606  9.416933e-16 -2.615795e-15   \n",
            "costumer_time          0.003699  0.005067 -4.176573e-02  1.579833e-02   \n",
            "Intensity_of_Activity -0.008183 -0.014507  4.810304e-15  6.111129e-16   \n",
            "Customer_loyalty       0.001749 -0.011612  9.347496e-17 -6.163522e-16   \n",
            "product_intensity     -0.051505 -0.004924 -2.051876e-15 -1.072402e-15   \n",
            "Day_Week_Spread       -0.016549  0.000826 -4.512841e-15  1.327693e-15   \n",
            "hour_spread           -0.086694  0.946786 -1.792459e-15  3.977131e-15   \n",
            "\n",
            "                               PC44  \n",
            "vendor_count          -1.391256e-13  \n",
            "product_count         -9.388133e-14  \n",
            "is_chain               7.249875e-14  \n",
            "first_order            5.253935e-01  \n",
            "last_order            -5.312968e-01  \n",
            "DOW_0                 -5.871496e-03  \n",
            "DOW_1                 -6.238464e-03  \n",
            "DOW_2                 -5.504527e-03  \n",
            "DOW_3                 -6.238464e-03  \n",
            "DOW_4                 -5.871496e-03  \n",
            "DOW_5                 -7.339370e-03  \n",
            "DOW_6                 -6.238464e-03  \n",
            "HR_1                  -3.909830e-03  \n",
            "HR_2                  -3.351283e-03  \n",
            "HR_3                  -3.072009e-03  \n",
            "HR_4                  -3.909830e-03  \n",
            "HR_5                  -1.954915e-03  \n",
            "HR_6                  -1.954915e-03  \n",
            "HR_7                  -4.189104e-03  \n",
            "HR_8                  -1.452223e-02  \n",
            "HR_9                  -6.423292e-03  \n",
            "HR_10                 -6.981839e-03  \n",
            "HR_11                 -6.423292e-03  \n",
            "HR_12                 -7.261113e-03  \n",
            "HR_13                 -3.909830e-03  \n",
            "HR_14                 -3.630556e-03  \n",
            "HR_15                 -6.423292e-03  \n",
            "HR_16                 -6.144019e-03  \n",
            "HR_17                 -5.585471e-03  \n",
            "HR_18                 -6.702566e-03  \n",
            "HR_19                 -9.774575e-03  \n",
            "HR_20                 -1.005385e-02  \n",
            "HR_21                 -3.072009e-03  \n",
            "HR_22                 -4.189104e-03  \n",
            "HR_23                 -3.072009e-03  \n",
            "Total_Spent            4.285184e-14  \n",
            "order_count            5.816179e-02  \n",
            "Diversity_Cuisine     -7.061410e-14  \n",
            "costumer_time          6.611693e-01  \n",
            "Intensity_of_Activity -5.182564e-14  \n",
            "Customer_loyalty       1.253514e-14  \n",
            "product_intensity     -5.060679e-16  \n",
            "Day_Week_Spread       -3.467091e-15  \n",
            "hour_spread           -1.137762e-13  \n",
            "\n",
            "[44 rows x 44 columns]\n"
          ]
        }
      ],
      "source": [
        "loadings = pd.DataFrame(pca.components_.T, columns=[f'PC{i+1}' for i in range(pca.n_components_)], index=df_behavi.columns)\n",
        "print(loadings)"
      ]
    },
    {
      "cell_type": "code",
      "execution_count": 49,
      "id": "3f80f750",
      "metadata": {},
      "outputs": [
        {
          "data": {
            "image/png": "[encoded data removed]",
            "text/plain": [
              "<Figure size 1500x500 with 2 Axes>"
            ]
          },
          "metadata": {},
          "output_type": "display_data"
        }
      ],
      "source": [
        "# figure and axes\n",
        "fig, (ax1, ax2) = plt.subplots(1, 2, figsize=(15, 5))\n",
        "\n",
        "# draw plots\n",
        "ax1.plot(pca.explained_variance_, marker=\".\", markersize=12)\n",
        "ax2.plot(pca.explained_variance_ratio_, marker=\".\", markersize=12, label=\"Proportion\")\n",
        "ax2.plot(np.cumsum(pca.explained_variance_ratio_), marker=\".\", markersize=12, linestyle=\"--\", label=\"Cumulative\")\n",
        "\n",
        "# customizations\n",
        "ax2.legend()\n",
        "ax1.set_title(\"Scree Plot\", fontsize=14)\n",
        "ax2.set_title(\"Variance Explained\", fontsize=14)\n",
        "ax1.set_ylabel(\"Eigenvalue\")\n",
        "ax2.set_ylabel(\"Proportion\")\n",
        "ax1.set_xlabel(\"Components\")\n",
        "ax2.set_xlabel(\"Components\")\n",
        "ax1.set_xticks(range(0, pca.n_components_, 2))\n",
        "ax1.set_xticklabels(range(1, pca.n_components_ + 1, 2))\n",
        "ax2.set_xticks(range(0, pca.n_components_, 2))\n",
        "ax2.set_xticklabels(range(1, pca.n_components_ + 1, 2))\n",
        "\n",
        "plt.show()"
      ]
    },
    {
      "cell_type": "markdown",
      "id": "ae8d54c3",
      "metadata": {},
      "source": [
        "We decided to establish a threshold of 85% cumulative variance, so we will retain the first 5 components"
      ]
    },
    {
      "cell_type": "code",
      "execution_count": 50,
      "id": "ad63dcfa",
      "metadata": {},
      "outputs": [],
      "source": [
        "#Retain the first 5 components\n",
        "pca = PCA(n_components=5)\n",
        "pca_feat = pca.fit_transform(df_behavi)\n",
        "pca_feat_names = [f\"PC{i}\" for i in range(pca.n_components_)]\n",
        "#Create the dataframe \"df_PCA\" with the PC`s and the normalized categorical features\n",
        "df_PCA = pd.DataFrame(pca_feat, index=df_behavi.index, columns=pca_feat_names)\n",
        "#Normalize the PC features\n",
        "metric_features1 = df_PCA.select_dtypes(include=['number']).columns.tolist()\n",
        "scaled_feat = scaler.fit_transform(df_PCA)\n",
        "df_PCA = scaled_feat\n",
        "df_behavi = pd.DataFrame(df_PCA, index=df_behavi.index, columns=metric_features1)"
      ]
    },
    {
      "cell_type": "markdown",
      "id": "87402cde",
      "metadata": {},
      "source": [
        "# Outlier removing using DBSCAN"
      ]
    },
    {
      "cell_type": "markdown",
      "id": "01cad6b5",
      "metadata": {},
      "source": [
        "In psychographic segmentation"
      ]
    },
    {
      "cell_type": "code",
      "execution_count": 51,
      "id": "b5c74e3a",
      "metadata": {},
      "outputs": [
        {
          "data": {
            "image/png": "[encoded data removed]",
            "text/plain": [
              "<Figure size 800x800 with 1 Axes>"
            ]
          },
          "metadata": {},
          "output_type": "display_data"
        }
      ],
      "source": [
        "from sklearn.neighbors import NearestNeighbors\n",
        "def get_kdist_plot(X=None, k=None, radius_nbrs=1.0):\n",
        "\n",
        "    nbrs = NearestNeighbors(n_neighbors=k, radius=radius_nbrs).fit(X)\n",
        "\n",
        "    # For each point, compute distances to its k-nearest neighbors\n",
        "    distances, indices = nbrs.kneighbors(X) \n",
        "                                       \n",
        "    distances = np.sort(distances, axis=0)\n",
        "    distances = distances[:, k-1]\n",
        "\n",
        "    # Plot the sorted K-nearest neighbor distance for each point in the dataset\n",
        "    plt.figure(figsize=(8,8))\n",
        "    plt.plot(distances)\n",
        "    plt.xlabel('Points/Objects in the dataset', fontsize=12)\n",
        "    plt.ylabel('Sorted {}-nearest neighbor distance'.format(k), fontsize=12)\n",
        "    plt.grid(True, linestyle=\"--\", color='black', alpha=0.4)\n",
        "    plt.show()\n",
        "    plt.close()\n",
        "\n",
        "\n",
        "k = 2 * df_psy.shape[-1] - 1 # k=2*{dim(dataset)} - 1\n",
        "get_kdist_plot(X=df_psy, k=k)"
      ]
    },
    {
      "cell_type": "code",
      "execution_count": 52,
      "id": "f96a0e4e",
      "metadata": {},
      "outputs": [
        {
          "data": {
            "text/plain": [
              "Cluster\n",
              " 0    29489\n",
              "-1     1065\n",
              "Name: count, dtype: int64"
            ]
          },
          "execution_count": 52,
          "metadata": {},
          "output_type": "execute_result"
        }
      ],
      "source": [
        "from sklearn.cluster import DBSCAN\n",
        "epsilon = 0.05  \n",
        "min_samples = 21  \n",
        "dbscan = DBSCAN(eps=epsilon, min_samples=min_samples)\n",
        "clusters = dbscan.fit_predict(df_psy)\n",
        "df_psy['Cluster'] = clusters\n",
        "df_psy['Cluster'].value_counts()"
      ]
    },
    {
      "cell_type": "code",
      "execution_count": 53,
      "id": "02ddc967",
      "metadata": {},
      "outputs": [],
      "source": [
        "df_psy = df_psy[df_psy['Cluster'] != -1].reset_index(drop=True)\n",
        "df_psy=df_psy.drop('Cluster',axis=1)"
      ]
    },
    {
      "cell_type": "code",
      "execution_count": 54,
      "id": "200ba41d",
      "metadata": {},
      "outputs": [
        {
          "data": {
            "image/png": "[encoded data removed]",
            "text/plain": [
              "<Figure size 800x800 with 1 Axes>"
            ]
          },
          "metadata": {},
          "output_type": "display_data"
        }
      ],
      "source": [
        "from sklearn.neighbors import NearestNeighbors\n",
        "def get_kdist_plot(X=None, k=None, radius_nbrs=1.0):\n",
        "\n",
        "    nbrs = NearestNeighbors(n_neighbors=k, radius=radius_nbrs).fit(X)\n",
        "\n",
        "    # For each point, compute distances to its k-nearest neighbors\n",
        "    distances, indices = nbrs.kneighbors(X) \n",
        "                                       \n",
        "    distances = np.sort(distances, axis=0)\n",
        "    distances = distances[:, k-1]\n",
        "\n",
        "    # Plot the sorted K-nearest neighbor distance for each point in the dataset\n",
        "    plt.figure(figsize=(8,8))\n",
        "    plt.plot(distances)\n",
        "    plt.xlabel('Points/Objects in the dataset', fontsize=12)\n",
        "    plt.ylabel('Sorted {}-nearest neighbor distance'.format(k), fontsize=12)\n",
        "    plt.grid(True, linestyle=\"--\", color='black', alpha=0.4)\n",
        "    plt.show()\n",
        "    plt.close()\n",
        "\n",
        "\n",
        "k = 2 * df_behavi.shape[-1] - 1 # k=2*{dim(dataset)} - 1\n",
        "get_kdist_plot(X=df_behavi, k=k)"
      ]
    },
    {
      "cell_type": "code",
      "execution_count": 55,
      "id": "beba0379",
      "metadata": {},
      "outputs": [
        {
          "data": {
            "text/plain": [
              "Cluster\n",
              " 0    28491\n",
              "-1     1651\n",
              " 1      247\n",
              " 8       80\n",
              " 9       23\n",
              " 6       12\n",
              " 7       12\n",
              " 5       11\n",
              " 3       11\n",
              " 4        9\n",
              " 2        7\n",
              "Name: count, dtype: int64"
            ]
          },
          "execution_count": 55,
          "metadata": {},
          "output_type": "execute_result"
        }
      ],
      "source": [
        "from sklearn.cluster import DBSCAN\n",
        "epsilon = 0.06  \n",
        "min_samples = 11  \n",
        "dbscan = DBSCAN(eps=epsilon, min_samples=min_samples)\n",
        "clusters = dbscan.fit_predict(df_behavi)\n",
        "df_behavi['Cluster'] = clusters\n",
        "df_behavi['Cluster'].value_counts()"
      ]
    },
    {
      "cell_type": "code",
      "execution_count": 56,
      "id": "e331bb88",
      "metadata": {},
      "outputs": [],
      "source": [
        "df_behavi = df_behavi[df_behavi['Cluster'] != -1].reset_index(drop=True)\n",
        "df_behavi=df_behavi.drop('Cluster',axis=1)"
      ]
    },
    {
      "cell_type": "markdown",
      "id": "1e4a3ce8",
      "metadata": {},
      "source": [
        "# Output data"
      ]
    },
    {
      "cell_type": "code",
      "execution_count": 57,
      "id": "89b60430",
      "metadata": {},
      "outputs": [],
      "source": [
        "df_behavi.to_csv('df_behaviour.csv')"
      ]
    },
    {
      "cell_type": "code",
      "execution_count": 58,
      "id": "b8ec80ca",
      "metadata": {},
      "outputs": [],
      "source": [
        "df_psy.to_csv('df_psy.csv')"
      ]
    },
    {
      "cell_type": "code",
      "execution_count": 59,
      "id": "6ebb6629",
      "metadata": {},
      "outputs": [],
      "source": [
        "df_demo.to_csv('df_demo.csv')"
      ]
    }
  ],
  "metadata": {
    "colab": {
      "provenance": []
    },
    "kernelspec": {
      "display_name": "Python 3",
      "language": "python",
      "name": "python3"
    },
    "language_info": {
      "codemirror_mode": {
        "name": "ipython",
        "version": 3
      },
      "file_extension": ".py",
      "mimetype": "text/x-python",
      "name": "python",
      "nbconvert_exporter": "python",
      "pygments_lexer": "ipython3",
      "version": "3.10.11"
    }
  },
  "nbformat": 4,
  "nbformat_minor": 5
}
