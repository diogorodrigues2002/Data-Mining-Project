{
  "cells": [
    {
      "cell_type": "code",
      "execution_count": 664,
      "id": "8db3ae52-47a4-4b00-8b30-277832f174e3",
      "metadata": {
        "id": "8db3ae52-47a4-4b00-8b30-277832f174e3"
      },
      "outputs": [],
      "source": [
        "import pandas as pd\n",
        "import numpy as np\n",
        "import matplotlib.pyplot as plt\n",
        "from sklearn.preprocessing import MinMaxScaler\n",
        "from sklearn.preprocessing import OneHotEncoder\n",
        "from sklearn.decomposition import PCA"
      ]
    },
    {
      "cell_type": "code",
      "execution_count": 665,
      "id": "Jwa5o5gK-Cu4",
      "metadata": {
        "id": "Jwa5o5gK-Cu4"
      },
      "outputs": [],
      "source": [
        "df=pd.read_csv('DM2425_ABCDEats_DATASET.csv',delimiter=',')"
      ]
    },
    {
      "cell_type": "code",
      "execution_count": 666,
      "id": "1a98d482",
      "metadata": {},
      "outputs": [
        {
          "name": "stdout",
          "output_type": "stream",
          "text": [
            "<class 'pandas.core.frame.DataFrame'>\n",
            "RangeIndex: 31888 entries, 0 to 31887\n",
            "Data columns (total 56 columns):\n",
            " #   Column                    Non-Null Count  Dtype  \n",
            "---  ------                    --------------  -----  \n",
            " 0   customer_id               31888 non-null  object \n",
            " 1   customer_region           31888 non-null  object \n",
            " 2   customer_age              31161 non-null  float64\n",
            " 3   vendor_count              31888 non-null  int64  \n",
            " 4   product_count             31888 non-null  int64  \n",
            " 5   is_chain                  31888 non-null  int64  \n",
            " 6   first_order               31782 non-null  float64\n",
            " 7   last_order                31888 non-null  int64  \n",
            " 8   last_promo                31888 non-null  object \n",
            " 9   payment_method            31888 non-null  object \n",
            " 10  CUI_American              31888 non-null  float64\n",
            " 11  CUI_Asian                 31888 non-null  float64\n",
            " 12  CUI_Beverages             31888 non-null  float64\n",
            " 13  CUI_Cafe                  31888 non-null  float64\n",
            " 14  CUI_Chicken Dishes        31888 non-null  float64\n",
            " 15  CUI_Chinese               31888 non-null  float64\n",
            " 16  CUI_Desserts              31888 non-null  float64\n",
            " 17  CUI_Healthy               31888 non-null  float64\n",
            " 18  CUI_Indian                31888 non-null  float64\n",
            " 19  CUI_Italian               31888 non-null  float64\n",
            " 20  CUI_Japanese              31888 non-null  float64\n",
            " 21  CUI_Noodle Dishes         31888 non-null  float64\n",
            " 22  CUI_OTHER                 31888 non-null  float64\n",
            " 23  CUI_Street Food / Snacks  31888 non-null  float64\n",
            " 24  CUI_Thai                  31888 non-null  float64\n",
            " 25  DOW_0                     31888 non-null  int64  \n",
            " 26  DOW_1                     31888 non-null  int64  \n",
            " 27  DOW_2                     31888 non-null  int64  \n",
            " 28  DOW_3                     31888 non-null  int64  \n",
            " 29  DOW_4                     31888 non-null  int64  \n",
            " 30  DOW_5                     31888 non-null  int64  \n",
            " 31  DOW_6                     31888 non-null  int64  \n",
            " 32  HR_0                      30723 non-null  float64\n",
            " 33  HR_1                      31888 non-null  int64  \n",
            " 34  HR_2                      31888 non-null  int64  \n",
            " 35  HR_3                      31888 non-null  int64  \n",
            " 36  HR_4                      31888 non-null  int64  \n",
            " 37  HR_5                      31888 non-null  int64  \n",
            " 38  HR_6                      31888 non-null  int64  \n",
            " 39  HR_7                      31888 non-null  int64  \n",
            " 40  HR_8                      31888 non-null  int64  \n",
            " 41  HR_9                      31888 non-null  int64  \n",
            " 42  HR_10                     31888 non-null  int64  \n",
            " 43  HR_11                     31888 non-null  int64  \n",
            " 44  HR_12                     31888 non-null  int64  \n",
            " 45  HR_13                     31888 non-null  int64  \n",
            " 46  HR_14                     31888 non-null  int64  \n",
            " 47  HR_15                     31888 non-null  int64  \n",
            " 48  HR_16                     31888 non-null  int64  \n",
            " 49  HR_17                     31888 non-null  int64  \n",
            " 50  HR_18                     31888 non-null  int64  \n",
            " 51  HR_19                     31888 non-null  int64  \n",
            " 52  HR_20                     31888 non-null  int64  \n",
            " 53  HR_21                     31888 non-null  int64  \n",
            " 54  HR_22                     31888 non-null  int64  \n",
            " 55  HR_23                     31888 non-null  int64  \n",
            "dtypes: float64(18), int64(34), object(4)\n",
            "memory usage: 13.6+ MB\n"
          ]
        }
      ],
      "source": [
        "df.info()"
      ]
    },
    {
      "cell_type": "markdown",
      "id": "40aAICTb-2fY",
      "metadata": {
        "id": "40aAICTb-2fY"
      },
      "source": [
        "# Drop Dublicates"
      ]
    },
    {
      "cell_type": "markdown",
      "id": "ND_cLsuXwu80",
      "metadata": {
        "id": "ND_cLsuXwu80"
      },
      "source": [
        "We need to eliminate duplicates to prevent further issues, especially with the index setting"
      ]
    },
    {
      "cell_type": "code",
      "execution_count": 667,
      "id": "Q791LW8I_KDA",
      "metadata": {
        "colab": {
          "base_uri": "https://localhost:8080/"
        },
        "id": "Q791LW8I_KDA",
        "outputId": "8351a951-b6e9-4aa5-93bf-4769dee63465"
      },
      "outputs": [
        {
          "data": {
            "text/plain": [
              "np.int64(13)"
            ]
          },
          "execution_count": 667,
          "metadata": {},
          "output_type": "execute_result"
        }
      ],
      "source": [
        "df.duplicated().sum()"
      ]
    },
    {
      "cell_type": "code",
      "execution_count": 668,
      "id": "LRsHlrrN-5yo",
      "metadata": {
        "colab": {
          "base_uri": "https://localhost:8080/"
        },
        "id": "LRsHlrrN-5yo",
        "outputId": "0b3ecf94-2c80-4bb6-f057-449bb05afad5"
      },
      "outputs": [
        {
          "data": {
            "text/plain": [
              "np.int64(0)"
            ]
          },
          "execution_count": 668,
          "metadata": {},
          "output_type": "execute_result"
        }
      ],
      "source": [
        "df=df.drop_duplicates()\n",
        "# Count the number of remaining duplicate rows in the DataFrame after dropping duplicates\n",
        "df.duplicated().sum()"
      ]
    },
    {
      "cell_type": "markdown",
      "id": "HdfcdmshB8Ew",
      "metadata": {
        "id": "HdfcdmshB8Ew"
      },
      "source": [
        "# Set costumer_id as the index"
      ]
    },
    {
      "cell_type": "code",
      "execution_count": 669,
      "id": "He30YSyXCAM9",
      "metadata": {
        "id": "He30YSyXCAM9"
      },
      "outputs": [],
      "source": [
        "df.set_index('customer_id', inplace=True)"
      ]
    },
    {
      "cell_type": "markdown",
      "id": "g5c9rRRu-v5i",
      "metadata": {
        "id": "g5c9rRRu-v5i"
      },
      "source": [
        "## Fixing variables"
      ]
    },
    {
      "cell_type": "markdown",
      "id": "oWSxYmKPBr9m",
      "metadata": {
        "id": "oWSxYmKPBr9m"
      },
      "source": [
        "**customer_age**"
      ]
    },
    {
      "cell_type": "markdown",
      "id": "ZBIgCxdUC2vx",
      "metadata": {
        "id": "ZBIgCxdUC2vx"
      },
      "source": [
        "Fill missing values with median"
      ]
    },
    {
      "cell_type": "code",
      "execution_count": 670,
      "id": "cWplddAcaJWO",
      "metadata": {
        "colab": {
          "base_uri": "https://localhost:8080/"
        },
        "id": "cWplddAcaJWO",
        "outputId": "b93628d6-473e-449e-94d6-674238dea8a4"
      },
      "outputs": [
        {
          "data": {
            "text/plain": [
              "np.int64(727)"
            ]
          },
          "execution_count": 670,
          "metadata": {},
          "output_type": "execute_result"
        }
      ],
      "source": [
        "df['customer_age'].isna().sum()"
      ]
    },
    {
      "cell_type": "code",
      "execution_count": 671,
      "id": "7jpJOyLrBuKC",
      "metadata": {
        "colab": {
          "base_uri": "https://localhost:8080/"
        },
        "id": "7jpJOyLrBuKC",
        "outputId": "dc0f02e8-ad0a-4e95-a5cc-a486e7f0e9f7"
      },
      "outputs": [
        {
          "data": {
            "text/plain": [
              "np.int64(0)"
            ]
          },
          "execution_count": 671,
          "metadata": {},
          "output_type": "execute_result"
        }
      ],
      "source": [
        "df['customer_age'] = df['customer_age'].fillna(df['customer_age'].median())\n",
        "df['customer_age'].isna().sum()"
      ]
    },
    {
      "cell_type": "markdown",
      "id": "5dz1pZFzC2Dz",
      "metadata": {
        "id": "5dz1pZFzC2Dz"
      },
      "source": [
        "**costumer_region**"
      ]
    },
    {
      "cell_type": "markdown",
      "id": "bBQO4mu506D2",
      "metadata": {
        "id": "bBQO4mu506D2"
      },
      "source": [
        "Replace the value of '-' with 'Unknown' to enhance the interpretation of the feature"
      ]
    },
    {
      "cell_type": "code",
      "execution_count": 672,
      "id": "ksu3qKEjDPU1",
      "metadata": {
        "id": "ksu3qKEjDPU1"
      },
      "outputs": [],
      "source": [
        "df.loc[:, 'customer_region'] = df['customer_region'].replace('-', np.nan)"
      ]
    },
    {
      "cell_type": "code",
      "execution_count": 673,
      "id": "46f3385c",
      "metadata": {},
      "outputs": [],
      "source": [
        "mode_value = df['customer_region'].mode()[0]\n",
        "df['customer_region'] = df['customer_region'].fillna(mode_value)"
      ]
    },
    {
      "cell_type": "code",
      "execution_count": 674,
      "id": "23c0ef8c",
      "metadata": {},
      "outputs": [],
      "source": [
        "df.loc[:, 'customer_region'] = df['customer_region'].replace('8550', 'Others')"
      ]
    },
    {
      "cell_type": "code",
      "execution_count": 675,
      "id": "0a860902",
      "metadata": {},
      "outputs": [],
      "source": [
        "df.loc[:, 'customer_region'] = df['customer_region'].replace('2440', 'Others')"
      ]
    },
    {
      "cell_type": "code",
      "execution_count": 676,
      "id": "d25146b4",
      "metadata": {},
      "outputs": [],
      "source": [
        "df.loc[:, 'customer_region'] = df['customer_region'].replace('4140', 'Others')"
      ]
    },
    {
      "cell_type": "code",
      "execution_count": 677,
      "id": "e7cae2d0",
      "metadata": {},
      "outputs": [],
      "source": [
        "df.loc[:, 'customer_region'] = df['customer_region'].replace('8370', 'Others')"
      ]
    },
    {
      "cell_type": "code",
      "execution_count": 678,
      "id": "14cdd659",
      "metadata": {},
      "outputs": [],
      "source": [
        "df.loc[:, 'customer_region'] = df['customer_region'].replace('2490', 'Others')"
      ]
    },
    {
      "cell_type": "code",
      "execution_count": 679,
      "id": "3d59fe91",
      "metadata": {},
      "outputs": [
        {
          "data": {
            "text/plain": [
              "customer_region\n",
              "8670      10203\n",
              "4660       9550\n",
              "2360       8829\n",
              "Others     3293\n",
              "Name: count, dtype: int64"
            ]
          },
          "execution_count": 679,
          "metadata": {},
          "output_type": "execute_result"
        }
      ],
      "source": [
        "df['customer_region'].value_counts()"
      ]
    },
    {
      "cell_type": "markdown",
      "id": "4YI-NtpVzKTl",
      "metadata": {
        "id": "4YI-NtpVzKTl"
      },
      "source": [
        "**product_count**"
      ]
    },
    {
      "cell_type": "markdown",
      "id": "PzL-oIfIzN6h",
      "metadata": {
        "id": "PzL-oIfIzN6h"
      },
      "source": [
        "There is an extreme product count value with '92ced2dcb9' index, so we will transform it into a high value"
      ]
    },
    {
      "cell_type": "code",
      "execution_count": 680,
      "id": "kDFD_JZ4Db7u",
      "metadata": {
        "id": "kDFD_JZ4Db7u"
      },
      "outputs": [],
      "source": [
        "df.loc['92ced2dcb9','product_count']=100"
      ]
    },
    {
      "cell_type": "markdown",
      "id": "PgoPbHWlDmGU",
      "metadata": {
        "id": "PgoPbHWlDmGU"
      },
      "source": [
        "**first_order**"
      ]
    },
    {
      "cell_type": "markdown",
      "id": "rpaTezEn0rbV",
      "metadata": {
        "id": "rpaTezEn0rbV"
      },
      "source": [
        "Fill missing values with median"
      ]
    },
    {
      "cell_type": "code",
      "execution_count": 681,
      "id": "OPy9ew2bDpvM",
      "metadata": {
        "id": "OPy9ew2bDpvM"
      },
      "outputs": [],
      "source": [
        "df['first_order'] = df['first_order'].fillna(df['first_order'].median())"
      ]
    },
    {
      "cell_type": "markdown",
      "id": "1DVMVvKND7EO",
      "metadata": {
        "id": "1DVMVvKND7EO"
      },
      "source": [
        "**last_promo**"
      ]
    },
    {
      "cell_type": "markdown",
      "id": "0Rfb9_FF2hIx",
      "metadata": {
        "id": "0Rfb9_FF2hIx"
      },
      "source": [
        "Replace the value of '-' with 'no_promotion_used' to enhance the interpretation of the feature"
      ]
    },
    {
      "cell_type": "code",
      "execution_count": 682,
      "id": "PkgQc8pQD-Xd",
      "metadata": {
        "id": "PkgQc8pQD-Xd"
      },
      "outputs": [],
      "source": [
        "df['last_promo'] = df['last_promo'].replace('-', 'no_promotion_used')"
      ]
    },
    {
      "cell_type": "markdown",
      "id": "pHtYVInrEMg0",
      "metadata": {
        "id": "pHtYVInrEMg0"
      },
      "source": [
        "**HR_0**"
      ]
    },
    {
      "cell_type": "markdown",
      "id": "BpgcInRj2nCE",
      "metadata": {
        "id": "BpgcInRj2nCE"
      },
      "source": [
        "Drop the column labeled \"HR_0\" because it contains only zeros."
      ]
    },
    {
      "cell_type": "code",
      "execution_count": 683,
      "id": "WLvodpbJERLz",
      "metadata": {
        "id": "WLvodpbJERLz"
      },
      "outputs": [],
      "source": [
        "df.drop(columns=['HR_0'], inplace=True)"
      ]
    },
    {
      "cell_type": "markdown",
      "id": "2kiPc39hE1-p",
      "metadata": {
        "id": "2kiPc39hE1-p"
      },
      "source": [
        "#Fixing inconsistencies"
      ]
    },
    {
      "cell_type": "markdown",
      "id": "AzwOI1yBGamv",
      "metadata": {
        "id": "AzwOI1yBGamv"
      },
      "source": [
        "Eliminate rows where there are inconsistencies"
      ]
    },
    {
      "cell_type": "code",
      "execution_count": 684,
      "id": "pUPn6vpTFJNt",
      "metadata": {
        "id": "pUPn6vpTFJNt"
      },
      "outputs": [],
      "source": [
        "df['sum_HR']=df['HR_1']+df['HR_2']+df['HR_3']+df['HR_4']+df['HR_5']+df['HR_6']+df['HR_7']+df['HR_8']+df['HR_9']+df['HR_10']+df['HR_11']+df['HR_12']+df['HR_13']+df['HR_14']+df['HR_15']+df['HR_16']+df['HR_17']+df['HR_18']+df['HR_19']+df['HR_20']+df['HR_21']+df['HR_22']+df['HR_23']\n",
        "df['sum_DOW']=df['DOW_0']+df['DOW_1']+df['DOW_2']+df['DOW_3']+df['DOW_4']+df['DOW_5']+df['DOW_6']\n",
        "df['inc_0']=(df['sum_HR']!=df['sum_DOW'])\n",
        "df['inc_2']=(df['product_count']==0)\n",
        "df = df.loc[~(df['inc_0'] | df['inc_2'])]\n",
        "df = df.drop(columns=['sum_HR', 'sum_DOW', 'inc_0', 'inc_2'])"
      ]
    },
    {
      "cell_type": "markdown",
      "id": "z0T2d1erH3M8",
      "metadata": {
        "id": "z0T2d1erH3M8"
      },
      "source": [
        "# New variables"
      ]
    },
    {
      "cell_type": "markdown",
      "id": "5ADv3rbZIGBo",
      "metadata": {
        "id": "5ADv3rbZIGBo"
      },
      "source": [
        "**Total_Spent**"
      ]
    },
    {
      "cell_type": "code",
      "execution_count": 685,
      "id": "9pN7TXLzObAb",
      "metadata": {
        "id": "9pN7TXLzObAb"
      },
      "outputs": [],
      "source": [
        "cuisine = [col for col in df.columns if col.startswith('CUI_')]"
      ]
    },
    {
      "cell_type": "code",
      "execution_count": 686,
      "id": "7z1SKhRNH580",
      "metadata": {
        "id": "7z1SKhRNH580"
      },
      "outputs": [],
      "source": [
        "df['Total_Spent']=df[cuisine].sum(axis=1)"
      ]
    },
    {
      "cell_type": "markdown",
      "id": "hJFfuxU-SG83",
      "metadata": {
        "id": "hJFfuxU-SG83"
      },
      "source": [
        "Deal with extreme outliers"
      ]
    },
    {
      "cell_type": "code",
      "execution_count": 687,
      "id": "n1JL9kunMvDr",
      "metadata": {
        "id": "n1JL9kunMvDr"
      },
      "outputs": [],
      "source": [
        "df = df.drop('92ced2dcb9', axis=0)\n",
        "df.loc['249ba584d3','CUI_Asian']=500\n",
        "df.loc['8d65421423','CUI_Japanese']=590\n",
        "df['Total_Spent']=df[cuisine].sum(axis=1)"
      ]
    },
    {
      "cell_type": "markdown",
      "id": "bHTgk2OWIKXw",
      "metadata": {
        "id": "bHTgk2OWIKXw"
      },
      "source": [
        "**Order_Count**"
      ]
    },
    {
      "cell_type": "code",
      "execution_count": 606,
      "id": "2FSilF83IaRI",
      "metadata": {
        "id": "2FSilF83IaRI"
      },
      "outputs": [],
      "source": [
        "df['order_count']=df['DOW_0']+df['DOW_1']+df['DOW_2']+df['DOW_3']+df['DOW_4']+df['DOW_5']+df['DOW_6']"
      ]
    },
    {
      "cell_type": "markdown",
      "id": "mFRWalwlUeeY",
      "metadata": {
        "id": "mFRWalwlUeeY"
      },
      "source": [
        "**Diversity_Cuisine**"
      ]
    },
    {
      "cell_type": "code",
      "execution_count": 607,
      "id": "XN_13jXlUerJ",
      "metadata": {
        "id": "XN_13jXlUerJ"
      },
      "outputs": [],
      "source": [
        "df['Diversity_Cuisine'] = (df[cuisine] > 0).sum(axis=1)\n",
        "df['Diversity_Cuisine'] = df['order_count']/df['Diversity_Cuisine']"
      ]
    },
    {
      "cell_type": "markdown",
      "id": "xCsQWmOiWg8R",
      "metadata": {
        "id": "xCsQWmOiWg8R"
      },
      "source": [
        "**Costumer_time**"
      ]
    },
    {
      "cell_type": "code",
      "execution_count": 608,
      "id": "Do_Ym9HRWkcT",
      "metadata": {
        "id": "Do_Ym9HRWkcT"
      },
      "outputs": [],
      "source": [
        "df['costumer_time']=df['last_order']-df['first_order']"
      ]
    },
    {
      "cell_type": "markdown",
      "id": "51T04ERQWLym",
      "metadata": {
        "id": "51T04ERQWLym"
      },
      "source": [
        "**Intensity_of_Activity**"
      ]
    },
    {
      "cell_type": "code",
      "execution_count": 609,
      "id": "WMLet25-WOV6",
      "metadata": {
        "id": "WMLet25-WOV6"
      },
      "outputs": [],
      "source": [
        "df['Intensity_of_Activity'] = df['costumer_time'] / df['order_count']"
      ]
    },
    {
      "cell_type": "markdown",
      "id": "r4_vgo1HYcNV",
      "metadata": {
        "id": "r4_vgo1HYcNV"
      },
      "source": [
        "**Customer_Loyalty**"
      ]
    },
    {
      "cell_type": "code",
      "execution_count": 610,
      "id": "I335t7sjYh0f",
      "metadata": {
        "id": "I335t7sjYh0f"
      },
      "outputs": [],
      "source": [
        "df['Customer_loyalty'] = df['vendor_count'] / df['order_count']"
      ]
    },
    {
      "cell_type": "markdown",
      "id": "sCuKdYQCZdiv",
      "metadata": {
        "id": "sCuKdYQCZdiv"
      },
      "source": [
        "**Product_Intensity**"
      ]
    },
    {
      "cell_type": "code",
      "execution_count": 611,
      "id": "RHil6I3CZjuq",
      "metadata": {
        "id": "RHil6I3CZjuq"
      },
      "outputs": [],
      "source": [
        "df['product_intensity'] = df['product_count'] / df['order_count']"
      ]
    },
    {
      "cell_type": "markdown",
      "id": "N6fGsqWj3qe9",
      "metadata": {
        "id": "N6fGsqWj3qe9"
      },
      "source": [
        "**Day_Week_Spread**"
      ]
    },
    {
      "cell_type": "code",
      "execution_count": 612,
      "id": "PZlhd4uG6x9t",
      "metadata": {
        "id": "PZlhd4uG6x9t"
      },
      "outputs": [],
      "source": [
        "days = [col for col in df.columns if col.startswith('DOW_')]"
      ]
    },
    {
      "cell_type": "code",
      "execution_count": 613,
      "id": "ZsJoVRMm6oh2",
      "metadata": {
        "id": "ZsJoVRMm6oh2"
      },
      "outputs": [],
      "source": [
        "df['Day_Week_Spread'] = df.loc[:,days].var(axis=1)"
      ]
    },
    {
      "cell_type": "markdown",
      "id": "A0JJGlLN7ppg",
      "metadata": {
        "id": "A0JJGlLN7ppg"
      },
      "source": [
        "**hour_spread**"
      ]
    },
    {
      "cell_type": "code",
      "execution_count": 614,
      "id": "X6WUt0W-7wtu",
      "metadata": {
        "id": "X6WUt0W-7wtu"
      },
      "outputs": [],
      "source": [
        "hours=[col for col in df.columns if col.startswith('HR_')]"
      ]
    },
    {
      "cell_type": "code",
      "execution_count": 615,
      "id": "PyFgombB78Iq",
      "metadata": {
        "id": "PyFgombB78Iq"
      },
      "outputs": [],
      "source": [
        "df['hour_spread'] = df.loc[:,hours].var(axis=1)"
      ]
    },
    {
      "cell_type": "code",
      "execution_count": 616,
      "id": "01UITIar4SIp",
      "metadata": {
        "id": "01UITIar4SIp"
      },
      "outputs": [],
      "source": [
        "df.to_csv('df_Clean.csv')"
      ]
    },
    {
      "cell_type": "markdown",
      "id": "88tIVnyJDDfW",
      "metadata": {
        "id": "88tIVnyJDDfW"
      },
      "source": [
        "# Normalize data"
      ]
    },
    {
      "cell_type": "code",
      "execution_count": 617,
      "id": "-nI0DdK_DGbN",
      "metadata": {
        "id": "-nI0DdK_DGbN"
      },
      "outputs": [],
      "source": [
        "#Select numeric features\n",
        "metric_features = df.select_dtypes(include=['number']).columns.tolist()"
      ]
    },
    {
      "cell_type": "code",
      "execution_count": 618,
      "id": "RnIGC-YPFtZ2",
      "metadata": {
        "id": "RnIGC-YPFtZ2"
      },
      "outputs": [],
      "source": [
        "# Normalize numeric data with Min-Max scaler\n",
        "scaler = MinMaxScaler()\n",
        "scaled_feat = scaler.fit_transform(df[metric_features])\n",
        "df[metric_features] = scaled_feat"
      ]
    },
    {
      "cell_type": "code",
      "execution_count": 619,
      "id": "wTC9SwzMG_nA",
      "metadata": {
        "id": "wTC9SwzMG_nA"
      },
      "outputs": [],
      "source": [
        "#Select categorical features\n",
        "categorical_features = df.select_dtypes(include=['object', 'category']).columns.tolist()"
      ]
    },
    {
      "cell_type": "code",
      "execution_count": 620,
      "id": "b540dce0",
      "metadata": {},
      "outputs": [],
      "source": [
        "def encode_by_proportion(df,column_name):\n",
        "    category_proportions = df[column_name].value_counts(normalize=True)\n",
        "\n",
        "    df[column_name] = df[column_name].map(category_proportions)\n",
        "    \n",
        "    return df"
      ]
    },
    {
      "cell_type": "code",
      "execution_count": 621,
      "id": "x6pN72UYHxjJ",
      "metadata": {
        "colab": {
          "base_uri": "https://localhost:8080/",
          "height": 475
        },
        "id": "x6pN72UYHxjJ",
        "outputId": "f3a2a492-9f5f-433c-9f36-ed02614f8a24"
      },
      "outputs": [],
      "source": [
        "ohc_df = df.copy()\n",
        "ohc_df=ohc_df[categorical_features]\n",
        "for i in ohc_df.columns:\n",
        "    ohc_df=encode_by_proportion(ohc_df,i)\n",
        "df[categorical_features]=ohc_df"
      ]
    },
    {
      "cell_type": "markdown",
      "id": "85f942c7",
      "metadata": {},
      "source": [
        "# Separate data by  demographic segmentation and behaviour-based segmentation"
      ]
    },
    {
      "cell_type": "code",
      "execution_count": 622,
      "id": "4a0e5e9e",
      "metadata": {},
      "outputs": [],
      "source": [
        "df_demo=df[['customer_age','customer_region']]"
      ]
    },
    {
      "cell_type": "code",
      "execution_count": 623,
      "id": "72b6236b",
      "metadata": {},
      "outputs": [],
      "source": [
        "df = df.drop(['customer_age', 'customer_region'], axis=1)"
      ]
    },
    {
      "cell_type": "code",
      "execution_count": 624,
      "id": "6b51b112",
      "metadata": {},
      "outputs": [
        {
          "data": {
            "image/png": "[encoded data removed]",
            "text/plain": [
              "<Figure size 800x600 with 1 Axes>"
            ]
          },
          "metadata": {},
          "output_type": "display_data"
        }
      ],
      "source": [
        "plt.figure(figsize=(8, 6))\n",
        "plt.scatter(df_demo['customer_age'], df_demo['customer_region'], alpha=0.7, edgecolor='k')\n",
        "plt.title('Scatter Plot: Customer Age vs Customer Region')\n",
        "plt.xlabel('Customer Age')\n",
        "plt.ylabel('Customer Region')\n",
        "plt.grid(True)\n",
        "plt.show()"
      ]
    },
    {
      "cell_type": "code",
      "execution_count": 625,
      "id": "ec840865",
      "metadata": {},
      "outputs": [],
      "source": [
        "df_demo.to_csv('df_demo.csv')"
      ]
    },
    {
      "cell_type": "markdown",
      "id": "D1sknH4ao9WU",
      "metadata": {
        "id": "D1sknH4ao9WU"
      },
      "source": [
        "# PCA analisys"
      ]
    },
    {
      "cell_type": "code",
      "execution_count": 626,
      "id": "b24c19de",
      "metadata": {},
      "outputs": [
        {
          "name": "stdout",
          "output_type": "stream",
          "text": [
            "<class 'pandas.core.frame.DataFrame'>\n",
            "Index: 30554 entries, 1b8f824d5e to fd40d3b0e0\n",
            "Data columns (total 61 columns):\n",
            " #   Column                    Non-Null Count  Dtype  \n",
            "---  ------                    --------------  -----  \n",
            " 0   vendor_count              30554 non-null  float64\n",
            " 1   product_count             30554 non-null  float64\n",
            " 2   is_chain                  30554 non-null  float64\n",
            " 3   first_order               30554 non-null  float64\n",
            " 4   last_order                30554 non-null  float64\n",
            " 5   last_promo                30554 non-null  float64\n",
            " 6   payment_method            30554 non-null  float64\n",
            " 7   CUI_American              30554 non-null  float64\n",
            " 8   CUI_Asian                 30554 non-null  float64\n",
            " 9   CUI_Beverages             30554 non-null  float64\n",
            " 10  CUI_Cafe                  30554 non-null  float64\n",
            " 11  CUI_Chicken Dishes        30554 non-null  float64\n",
            " 12  CUI_Chinese               30554 non-null  float64\n",
            " 13  CUI_Desserts              30554 non-null  float64\n",
            " 14  CUI_Healthy               30554 non-null  float64\n",
            " 15  CUI_Indian                30554 non-null  float64\n",
            " 16  CUI_Italian               30554 non-null  float64\n",
            " 17  CUI_Japanese              30554 non-null  float64\n",
            " 18  CUI_Noodle Dishes         30554 non-null  float64\n",
            " 19  CUI_OTHER                 30554 non-null  float64\n",
            " 20  CUI_Street Food / Snacks  30554 non-null  float64\n",
            " 21  CUI_Thai                  30554 non-null  float64\n",
            " 22  DOW_0                     30554 non-null  float64\n",
            " 23  DOW_1                     30554 non-null  float64\n",
            " 24  DOW_2                     30554 non-null  float64\n",
            " 25  DOW_3                     30554 non-null  float64\n",
            " 26  DOW_4                     30554 non-null  float64\n",
            " 27  DOW_5                     30554 non-null  float64\n",
            " 28  DOW_6                     30554 non-null  float64\n",
            " 29  HR_1                      30554 non-null  float64\n",
            " 30  HR_2                      30554 non-null  float64\n",
            " 31  HR_3                      30554 non-null  float64\n",
            " 32  HR_4                      30554 non-null  float64\n",
            " 33  HR_5                      30554 non-null  float64\n",
            " 34  HR_6                      30554 non-null  float64\n",
            " 35  HR_7                      30554 non-null  float64\n",
            " 36  HR_8                      30554 non-null  float64\n",
            " 37  HR_9                      30554 non-null  float64\n",
            " 38  HR_10                     30554 non-null  float64\n",
            " 39  HR_11                     30554 non-null  float64\n",
            " 40  HR_12                     30554 non-null  float64\n",
            " 41  HR_13                     30554 non-null  float64\n",
            " 42  HR_14                     30554 non-null  float64\n",
            " 43  HR_15                     30554 non-null  float64\n",
            " 44  HR_16                     30554 non-null  float64\n",
            " 45  HR_17                     30554 non-null  float64\n",
            " 46  HR_18                     30554 non-null  float64\n",
            " 47  HR_19                     30554 non-null  float64\n",
            " 48  HR_20                     30554 non-null  float64\n",
            " 49  HR_21                     30554 non-null  float64\n",
            " 50  HR_22                     30554 non-null  float64\n",
            " 51  HR_23                     30554 non-null  float64\n",
            " 52  Total_Spent               30554 non-null  float64\n",
            " 53  order_count               30554 non-null  float64\n",
            " 54  Diversity_Cuisine         30554 non-null  float64\n",
            " 55  costumer_time             30554 non-null  float64\n",
            " 56  Intensity_of_Activity     30554 non-null  float64\n",
            " 57  Customer_loyalty          30554 non-null  float64\n",
            " 58  product_intensity         30554 non-null  float64\n",
            " 59  Day_Week_Spread           30554 non-null  float64\n",
            " 60  hour_spread               30554 non-null  float64\n",
            "dtypes: float64(61)\n",
            "memory usage: 15.5+ MB\n"
          ]
        }
      ],
      "source": [
        "df.info()"
      ]
    },
    {
      "cell_type": "code",
      "execution_count": 627,
      "id": "WQ-aHfuAo8yJ",
      "metadata": {
        "id": "WQ-aHfuAo8yJ"
      },
      "outputs": [],
      "source": [
        "metric_features = df.select_dtypes(include=['number']).columns.tolist()\n",
        "X = df[metric_features]\n",
        "pca = PCA().fit(X)"
      ]
    },
    {
      "cell_type": "code",
      "execution_count": 628,
      "id": "sp2d7s3fvDYH",
      "metadata": {
        "colab": {
          "base_uri": "https://localhost:8080/",
          "height": 677
        },
        "id": "sp2d7s3fvDYH",
        "outputId": "ac1059cb-e826-4b2b-e4cd-a77da9a60bca"
      },
      "outputs": [
        {
          "data": {
            "text/html": [
              "<div>\n",
              "<style scoped>\n",
              "    .dataframe tbody tr th:only-of-type {\n",
              "        vertical-align: middle;\n",
              "    }\n",
              "\n",
              "    .dataframe tbody tr th {\n",
              "        vertical-align: top;\n",
              "    }\n",
              "\n",
              "    .dataframe thead th {\n",
              "        text-align: right;\n",
              "    }\n",
              "</style>\n",
              "<table border=\"1\" class=\"dataframe\">\n",
              "  <thead>\n",
              "    <tr style=\"text-align: right;\">\n",
              "      <th></th>\n",
              "      <th>Eigenvalue</th>\n",
              "      <th>Difference</th>\n",
              "      <th>Proportion</th>\n",
              "      <th>Cumulative</th>\n",
              "    </tr>\n",
              "  </thead>\n",
              "  <tbody>\n",
              "    <tr>\n",
              "      <th>1</th>\n",
              "      <td>0.163602</td>\n",
              "      <td>0.000000</td>\n",
              "      <td>0.362983</td>\n",
              "      <td>0.362983</td>\n",
              "    </tr>\n",
              "    <tr>\n",
              "      <th>2</th>\n",
              "      <td>0.085767</td>\n",
              "      <td>-0.077836</td>\n",
              "      <td>0.190289</td>\n",
              "      <td>0.553273</td>\n",
              "    </tr>\n",
              "    <tr>\n",
              "      <th>3</th>\n",
              "      <td>0.044428</td>\n",
              "      <td>-0.041339</td>\n",
              "      <td>0.098572</td>\n",
              "      <td>0.651844</td>\n",
              "    </tr>\n",
              "    <tr>\n",
              "      <th>4</th>\n",
              "      <td>0.042361</td>\n",
              "      <td>-0.002067</td>\n",
              "      <td>0.093987</td>\n",
              "      <td>0.745831</td>\n",
              "    </tr>\n",
              "    <tr>\n",
              "      <th>5</th>\n",
              "      <td>0.030877</td>\n",
              "      <td>-0.011484</td>\n",
              "      <td>0.068507</td>\n",
              "      <td>0.814339</td>\n",
              "    </tr>\n",
              "    <tr>\n",
              "      <th>6</th>\n",
              "      <td>0.020730</td>\n",
              "      <td>-0.010147</td>\n",
              "      <td>0.045994</td>\n",
              "      <td>0.860333</td>\n",
              "    </tr>\n",
              "    <tr>\n",
              "      <th>7</th>\n",
              "      <td>0.007854</td>\n",
              "      <td>-0.012876</td>\n",
              "      <td>0.017426</td>\n",
              "      <td>0.877758</td>\n",
              "    </tr>\n",
              "    <tr>\n",
              "      <th>8</th>\n",
              "      <td>0.004534</td>\n",
              "      <td>-0.003320</td>\n",
              "      <td>0.010060</td>\n",
              "      <td>0.887818</td>\n",
              "    </tr>\n",
              "    <tr>\n",
              "      <th>9</th>\n",
              "      <td>0.003644</td>\n",
              "      <td>-0.000890</td>\n",
              "      <td>0.008086</td>\n",
              "      <td>0.895904</td>\n",
              "    </tr>\n",
              "    <tr>\n",
              "      <th>10</th>\n",
              "      <td>0.003169</td>\n",
              "      <td>-0.000475</td>\n",
              "      <td>0.007032</td>\n",
              "      <td>0.902936</td>\n",
              "    </tr>\n",
              "    <tr>\n",
              "      <th>11</th>\n",
              "      <td>0.002889</td>\n",
              "      <td>-0.000281</td>\n",
              "      <td>0.006409</td>\n",
              "      <td>0.909345</td>\n",
              "    </tr>\n",
              "    <tr>\n",
              "      <th>12</th>\n",
              "      <td>0.002524</td>\n",
              "      <td>-0.000364</td>\n",
              "      <td>0.005600</td>\n",
              "      <td>0.914945</td>\n",
              "    </tr>\n",
              "    <tr>\n",
              "      <th>13</th>\n",
              "      <td>0.002422</td>\n",
              "      <td>-0.000102</td>\n",
              "      <td>0.005375</td>\n",
              "      <td>0.920320</td>\n",
              "    </tr>\n",
              "    <tr>\n",
              "      <th>14</th>\n",
              "      <td>0.002214</td>\n",
              "      <td>-0.000208</td>\n",
              "      <td>0.004913</td>\n",
              "      <td>0.925232</td>\n",
              "    </tr>\n",
              "    <tr>\n",
              "      <th>15</th>\n",
              "      <td>0.002179</td>\n",
              "      <td>-0.000035</td>\n",
              "      <td>0.004835</td>\n",
              "      <td>0.930067</td>\n",
              "    </tr>\n",
              "    <tr>\n",
              "      <th>16</th>\n",
              "      <td>0.002079</td>\n",
              "      <td>-0.000100</td>\n",
              "      <td>0.004612</td>\n",
              "      <td>0.934679</td>\n",
              "    </tr>\n",
              "    <tr>\n",
              "      <th>17</th>\n",
              "      <td>0.002038</td>\n",
              "      <td>-0.000041</td>\n",
              "      <td>0.004521</td>\n",
              "      <td>0.939200</td>\n",
              "    </tr>\n",
              "    <tr>\n",
              "      <th>18</th>\n",
              "      <td>0.001959</td>\n",
              "      <td>-0.000078</td>\n",
              "      <td>0.004347</td>\n",
              "      <td>0.943547</td>\n",
              "    </tr>\n",
              "    <tr>\n",
              "      <th>19</th>\n",
              "      <td>0.001750</td>\n",
              "      <td>-0.000209</td>\n",
              "      <td>0.003884</td>\n",
              "      <td>0.947431</td>\n",
              "    </tr>\n",
              "    <tr>\n",
              "      <th>20</th>\n",
              "      <td>0.001650</td>\n",
              "      <td>-0.000101</td>\n",
              "      <td>0.003660</td>\n",
              "      <td>0.951091</td>\n",
              "    </tr>\n",
              "  </tbody>\n",
              "</table>\n",
              "</div>"
            ],
            "text/plain": [
              "    Eigenvalue  Difference  Proportion  Cumulative\n",
              "1     0.163602    0.000000    0.362983    0.362983\n",
              "2     0.085767   -0.077836    0.190289    0.553273\n",
              "3     0.044428   -0.041339    0.098572    0.651844\n",
              "4     0.042361   -0.002067    0.093987    0.745831\n",
              "5     0.030877   -0.011484    0.068507    0.814339\n",
              "6     0.020730   -0.010147    0.045994    0.860333\n",
              "7     0.007854   -0.012876    0.017426    0.877758\n",
              "8     0.004534   -0.003320    0.010060    0.887818\n",
              "9     0.003644   -0.000890    0.008086    0.895904\n",
              "10    0.003169   -0.000475    0.007032    0.902936\n",
              "11    0.002889   -0.000281    0.006409    0.909345\n",
              "12    0.002524   -0.000364    0.005600    0.914945\n",
              "13    0.002422   -0.000102    0.005375    0.920320\n",
              "14    0.002214   -0.000208    0.004913    0.925232\n",
              "15    0.002179   -0.000035    0.004835    0.930067\n",
              "16    0.002079   -0.000100    0.004612    0.934679\n",
              "17    0.002038   -0.000041    0.004521    0.939200\n",
              "18    0.001959   -0.000078    0.004347    0.943547\n",
              "19    0.001750   -0.000209    0.003884    0.947431\n",
              "20    0.001650   -0.000101    0.003660    0.951091"
            ]
          },
          "execution_count": 628,
          "metadata": {},
          "output_type": "execute_result"
        }
      ],
      "source": [
        "PCA_s=pd.DataFrame(\n",
        "    {\"Eigenvalue\": pca.explained_variance_,\n",
        "     \"Difference\": np.insert(np.diff(pca.explained_variance_), 0, 0),\n",
        "     \"Proportion\": pca.explained_variance_ratio_,\n",
        "     \"Cumulative\": np.cumsum(pca.explained_variance_ratio_)},\n",
        "    index=range(1, pca.n_components_ + 1)\n",
        ")\n",
        "PCA_s.head(20)"
      ]
    },
    {
      "cell_type": "code",
      "execution_count": 629,
      "id": "j0BvDzCgKVjg",
      "metadata": {
        "colab": {
          "base_uri": "https://localhost:8080/"
        },
        "id": "j0BvDzCgKVjg",
        "outputId": "5e51c9d2-4b26-4d5f-a1f7-37a87d8e6b60"
      },
      "outputs": [
        {
          "name": "stdout",
          "output_type": "stream",
          "text": [
            "                            PC1       PC2       PC3       PC4       PC5  \\\n",
            "vendor_count           0.101373  0.006093  0.015066 -0.045140 -0.011691   \n",
            "product_count          0.093133  0.008199 -0.073074  0.000678 -0.012347   \n",
            "is_chain               0.065745  0.002753 -0.047603 -0.006434 -0.014317   \n",
            "first_order           -0.434215  0.694413 -0.097060  0.128335  0.029070   \n",
            "last_order             0.353736  0.715997  0.140449 -0.168733 -0.039453   \n",
            "...                         ...       ...       ...       ...       ...   \n",
            "Intensity_of_Activity  0.170928  0.004517  0.261429 -0.128765  0.004402   \n",
            "Customer_loyalty      -0.355626 -0.054439  0.778579 -0.351653  0.035988   \n",
            "product_intensity     -0.008966  0.000342 -0.002536  0.002391  0.011059   \n",
            "Day_Week_Spread        0.035513  0.002809 -0.030343  0.001391 -0.005646   \n",
            "hour_spread            0.010133  0.000956 -0.012959  0.001362 -0.002337   \n",
            "\n",
            "                            PC6       PC7       PC8       PC9      PC10  ...  \\\n",
            "vendor_count          -0.316607 -0.067242  0.013593  0.037864 -0.002935  ...   \n",
            "product_count         -0.259738  0.045851 -0.042631 -0.052878  0.150459  ...   \n",
            "is_chain              -0.187342 -0.088602 -0.094934 -0.063609  0.085431  ...   \n",
            "first_order           -0.030397 -0.003958 -0.009605 -0.052772  0.136972  ...   \n",
            "last_order             0.030655 -0.001729 -0.000017  0.063671 -0.144596  ...   \n",
            "...                         ...       ...       ...       ...       ...  ...   \n",
            "Intensity_of_Activity  0.453541  0.066276 -0.078970 -0.333350  0.722101  ...   \n",
            "Customer_loyalty      -0.344104 -0.040896 -0.024498 -0.004275 -0.020721  ...   \n",
            "product_intensity     -0.092782  0.890528 -0.307931 -0.066508 -0.100836  ...   \n",
            "Day_Week_Spread       -0.089321 -0.022753 -0.033488  0.024298  0.065136  ...   \n",
            "hour_spread           -0.038325 -0.010291 -0.009548 -0.034294  0.051613  ...   \n",
            "\n",
            "                           PC52      PC53      PC54      PC55      PC56  \\\n",
            "vendor_count           0.070746  0.119937 -0.015469  0.067061 -0.042850   \n",
            "product_count         -0.040417  0.014823  0.004126  0.041024  0.876200   \n",
            "is_chain              -0.001219 -0.230086 -0.182096 -0.033515 -0.054615   \n",
            "first_order            0.002977  0.004040 -0.001269 -0.000859 -0.001058   \n",
            "last_order            -0.003523 -0.004479  0.001392  0.000354  0.001455   \n",
            "...                         ...       ...       ...       ...       ...   \n",
            "Intensity_of_Activity  0.009775  0.012533 -0.004054 -0.004564 -0.003726   \n",
            "Customer_loyalty       0.000160  0.011172 -0.005931 -0.011078  0.003947   \n",
            "product_intensity      0.008720 -0.004512  0.009593 -0.005752 -0.040060   \n",
            "Day_Week_Spread        0.044482 -0.009849 -0.001555 -0.025998 -0.011139   \n",
            "hour_spread           -0.009652 -0.039498  0.080325  0.229750 -0.268995   \n",
            "\n",
            "                           PC57          PC58          PC59          PC60  \\\n",
            "vendor_count           0.086361 -0.000000e+00  0.000000e+00 -0.000000e+00   \n",
            "product_count          0.212005 -1.622079e-14 -1.165767e-14  6.818466e-14   \n",
            "is_chain               0.005203 -2.244965e-15  6.327409e-15 -1.439338e-14   \n",
            "first_order           -0.003192 -3.360098e-03  1.211348e-02 -5.483032e-02   \n",
            "last_order             0.003591  3.397852e-03 -1.224959e-02  5.544639e-02   \n",
            "...                         ...           ...           ...           ...   \n",
            "Intensity_of_Activity -0.015029  5.684947e-17  1.814904e-15  6.114770e-15   \n",
            "Customer_loyalty      -0.011087 -7.620250e-16 -2.789443e-16  5.999379e-17   \n",
            "product_intensity     -0.010751  1.302307e-15  2.100936e-16 -2.819858e-15   \n",
            "Day_Week_Spread       -0.001660 -2.157695e-15 -8.722034e-16 -4.414372e-15   \n",
            "hour_spread            0.908852  1.816157e-14  1.101431e-14 -1.523250e-14   \n",
            "\n",
            "                               PC61  \n",
            "vendor_count          -1.227433e-13  \n",
            "product_count         -4.195013e-13  \n",
            "is_chain               6.393342e-14  \n",
            "first_order            5.235771e-01  \n",
            "last_order            -5.294600e-01  \n",
            "...                             ...  \n",
            "Intensity_of_Activity -4.807372e-14  \n",
            "Customer_loyalty       1.134093e-14  \n",
            "product_intensity      1.832620e-14  \n",
            "Day_Week_Spread        6.005827e-18  \n",
            "hour_spread           -7.770219e-14  \n",
            "\n",
            "[61 rows x 61 columns]\n"
          ]
        }
      ],
      "source": [
        "loadings = pd.DataFrame(pca.components_.T, columns=[f'PC{i+1}' for i in range(pca.n_components_)], index=X.columns)\n",
        "print(loadings)"
      ]
    },
    {
      "cell_type": "code",
      "execution_count": 630,
      "id": "DzpTtqJ0rbGL",
      "metadata": {
        "colab": {
          "base_uri": "https://localhost:8080/",
          "height": 508
        },
        "id": "DzpTtqJ0rbGL",
        "outputId": "99479eef-281b-4358-a046-87a7b01f6437"
      },
      "outputs": [
        {
          "data": {
            "image/png": "[encoded data removed]",
            "text/plain": [
              "<Figure size 1500x500 with 2 Axes>"
            ]
          },
          "metadata": {},
          "output_type": "display_data"
        }
      ],
      "source": [
        "# figure and axes\n",
        "fig, (ax1, ax2) = plt.subplots(1, 2, figsize=(15, 5))\n",
        "\n",
        "# draw plots\n",
        "ax1.plot(pca.explained_variance_, marker=\".\", markersize=12)\n",
        "ax2.plot(pca.explained_variance_ratio_, marker=\".\", markersize=12, label=\"Proportion\")\n",
        "ax2.plot(np.cumsum(pca.explained_variance_ratio_), marker=\".\", markersize=12, linestyle=\"--\", label=\"Cumulative\")\n",
        "\n",
        "# customizations\n",
        "ax2.legend()\n",
        "ax1.set_title(\"Scree Plot\", fontsize=14)\n",
        "ax2.set_title(\"Variance Explained\", fontsize=14)\n",
        "ax1.set_ylabel(\"Eigenvalue\")\n",
        "ax2.set_ylabel(\"Proportion\")\n",
        "ax1.set_xlabel(\"Components\")\n",
        "ax2.set_xlabel(\"Components\")\n",
        "ax1.set_xticks(range(0, pca.n_components_, 2))\n",
        "ax1.set_xticklabels(range(1, pca.n_components_ + 1, 2))\n",
        "ax2.set_xticks(range(0, pca.n_components_, 2))\n",
        "ax2.set_xticklabels(range(1, pca.n_components_ + 1, 2))\n",
        "\n",
        "plt.show()"
      ]
    },
    {
      "cell_type": "markdown",
      "id": "hoCObxysOi9H",
      "metadata": {
        "id": "hoCObxysOi9H"
      },
      "source": [
        "We decided to establish a threshold of 85% cumulative variance, so we will retain the first 6 components"
      ]
    },
    {
      "cell_type": "code",
      "execution_count": 631,
      "id": "SkUqfjwUrzuw",
      "metadata": {
        "id": "SkUqfjwUrzuw"
      },
      "outputs": [],
      "source": [
        "#Retain the first 6 components\n",
        "pca = PCA(n_components=6)\n",
        "pca_feat = pca.fit_transform(df[metric_features])\n",
        "pca_feat_names = [f\"PC{i}\" for i in range(pca.n_components_)]\n",
        "#Create the dataframe \"df_PCA\" with the PC`s and the normalized categorical features\n",
        "df_PCA = pd.DataFrame(pca_feat, index=df.index, columns=pca_feat_names)\n",
        "df_PCA=pd.concat([df_PCA,ohc_df],axis=1)\n",
        "#Normalize the PC features\n",
        "metric_features1 = df_PCA.select_dtypes(include=['number']).columns.tolist()\n",
        "scaled_feat = scaler.fit_transform(df_PCA[metric_features1])\n",
        "df_PCA = scaled_feat\n",
        "df_PCA = pd.DataFrame(df_PCA, index=df.index, columns=metric_features1)"
      ]
    },
    {
      "cell_type": "markdown",
      "id": "87402cde",
      "metadata": {},
      "source": [
        "# Outlier removing using DBSCAN"
      ]
    },
    {
      "cell_type": "code",
      "execution_count": 632,
      "id": "200ba41d",
      "metadata": {},
      "outputs": [
        {
          "data": {
            "image/png": "[encoded data removed]",
            "text/plain": [
              "<Figure size 800x800 with 1 Axes>"
            ]
          },
          "metadata": {},
          "output_type": "display_data"
        }
      ],
      "source": [
        "from sklearn.neighbors import NearestNeighbors\n",
        "def get_kdist_plot(X=None, k=None, radius_nbrs=1.0):\n",
        "\n",
        "    nbrs = NearestNeighbors(n_neighbors=k, radius=radius_nbrs).fit(X)\n",
        "\n",
        "    # For each point, compute distances to its k-nearest neighbors\n",
        "    distances, indices = nbrs.kneighbors(X) \n",
        "                                       \n",
        "    distances = np.sort(distances, axis=0)\n",
        "    distances = distances[:, k-1]\n",
        "\n",
        "    # Plot the sorted K-nearest neighbor distance for each point in the dataset\n",
        "    plt.figure(figsize=(8,8))\n",
        "    plt.plot(distances)\n",
        "    plt.xlabel('Points/Objects in the dataset', fontsize=12)\n",
        "    plt.ylabel('Sorted {}-nearest neighbor distance'.format(k), fontsize=12)\n",
        "    plt.grid(True, linestyle=\"--\", color='black', alpha=0.4)\n",
        "    plt.show()\n",
        "    plt.close()\n",
        "\n",
        "\n",
        "k = 2 * df_PCA.shape[-1] - 1 # k=2*{dim(dataset)} - 1\n",
        "get_kdist_plot(X=df_PCA, k=k)"
      ]
    },
    {
      "cell_type": "code",
      "execution_count": 660,
      "id": "beba0379",
      "metadata": {},
      "outputs": [],
      "source": [
        "from sklearn.cluster import DBSCAN\n",
        "epsilon = 0.15  \n",
        "min_samples = 14  \n",
        "dbscan = DBSCAN(eps=epsilon, min_samples=min_samples)\n",
        "clusters = dbscan.fit_predict(df_PCA)"
      ]
    },
    {
      "cell_type": "code",
      "execution_count": 661,
      "id": "e00c2384",
      "metadata": {},
      "outputs": [],
      "source": [
        "df_PCA['Cluster'] = clusters"
      ]
    },
    {
      "cell_type": "code",
      "execution_count": 662,
      "id": "9e72b59d",
      "metadata": {},
      "outputs": [
        {
          "data": {
            "text/plain": [
              "Cluster\n",
              " 11    7049\n",
              " 8     3160\n",
              " 3     3043\n",
              " 14    2697\n",
              " 1     1938\n",
              " 6     1835\n",
              " 2     1724\n",
              " 7     1461\n",
              " 10    1450\n",
              " 4     1100\n",
              " 13     958\n",
              " 5      945\n",
              " 0      747\n",
              "-1      547\n",
              " 9      484\n",
              " 15     474\n",
              " 12     313\n",
              " 16     295\n",
              " 17     201\n",
              " 19      28\n",
              " 24      17\n",
              " 20      16\n",
              " 18      15\n",
              " 23      15\n",
              " 21      14\n",
              " 22      14\n",
              " 25      14\n",
              "Name: count, dtype: int64"
            ]
          },
          "execution_count": 662,
          "metadata": {},
          "output_type": "execute_result"
        }
      ],
      "source": [
        "df_PCA['Cluster'].value_counts()"
      ]
    },
    {
      "cell_type": "code",
      "execution_count": 194,
      "id": "e331bb88",
      "metadata": {},
      "outputs": [],
      "source": [
        "df_PCA = df_PCA[df_PCA['Cluster'] != -1].reset_index(drop=True)"
      ]
    },
    {
      "cell_type": "code",
      "execution_count": 195,
      "id": "5eb1be23",
      "metadata": {},
      "outputs": [
        {
          "name": "stdout",
          "output_type": "stream",
          "text": [
            "<class 'pandas.core.frame.DataFrame'>\n",
            "RangeIndex: 30041 entries, 0 to 30040\n",
            "Data columns (total 10 columns):\n",
            " #   Column           Non-Null Count  Dtype  \n",
            "---  ------           --------------  -----  \n",
            " 0   PC0              30041 non-null  float64\n",
            " 1   PC1              30041 non-null  float64\n",
            " 2   PC2              30041 non-null  float64\n",
            " 3   PC3              30041 non-null  float64\n",
            " 4   PC4              30041 non-null  float64\n",
            " 5   PC5              30041 non-null  float64\n",
            " 6   customer_region  30041 non-null  float64\n",
            " 7   last_promo       30041 non-null  float64\n",
            " 8   payment_method   30041 non-null  float64\n",
            " 9   Cluster          30041 non-null  int64  \n",
            "dtypes: float64(9), int64(1)\n",
            "memory usage: 2.3 MB\n"
          ]
        }
      ],
      "source": [
        "df_PCA.info()"
      ]
    },
    {
      "cell_type": "code",
      "execution_count": 196,
      "id": "c4rR3Vg-PNO2",
      "metadata": {
        "id": "c4rR3Vg-PNO2"
      },
      "outputs": [],
      "source": [
        "df_PCA.to_csv('df_PCA.csv')"
      ]
    }
  ],
  "metadata": {
    "colab": {
      "provenance": []
    },
    "kernelspec": {
      "display_name": "Python 3",
      "language": "python",
      "name": "python3"
    },
    "language_info": {
      "codemirror_mode": {
        "name": "ipython",
        "version": 3
      },
      "file_extension": ".py",
      "mimetype": "text/x-python",
      "name": "python",
      "nbconvert_exporter": "python",
      "pygments_lexer": "ipython3",
      "version": "3.10.11"
    }
  },
  "nbformat": 4,
  "nbformat_minor": 5
}
