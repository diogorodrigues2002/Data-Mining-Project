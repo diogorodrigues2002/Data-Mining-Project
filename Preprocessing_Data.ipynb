{
  "cells": [
    {
      "cell_type": "code",
      "execution_count": 62,
      "id": "8db3ae52-47a4-4b00-8b30-277832f174e3",
      "metadata": {
        "id": "8db3ae52-47a4-4b00-8b30-277832f174e3"
      },
      "outputs": [],
      "source": [
        "import pandas as pd\n",
        "import numpy as np\n",
        "import matplotlib.pyplot as plt\n",
        "import seaborn as sns\n",
        "import math\n",
        "from sklearn.preprocessing import MinMaxScaler\n",
        "from sklearn.preprocessing import OneHotEncoder\n"
      ]
    },
    {
      "cell_type": "code",
      "source": [
        "df=pd.read_csv('DM2425_ABCDEats_DATASET.csv',delimiter=',')"
      ],
      "metadata": {
        "id": "Jwa5o5gK-Cu4"
      },
      "id": "Jwa5o5gK-Cu4",
      "execution_count": 2,
      "outputs": []
    },
    {
      "cell_type": "markdown",
      "source": [
        "#Drop Dublicates"
      ],
      "metadata": {
        "id": "40aAICTb-2fY"
      },
      "id": "40aAICTb-2fY"
    },
    {
      "cell_type": "code",
      "source": [
        "df.duplicated().sum()"
      ],
      "metadata": {
        "colab": {
          "base_uri": "https://localhost:8080/"
        },
        "id": "Q791LW8I_KDA",
        "outputId": "f2fbe2ee-67b2-471e-c330-744b35f11f75"
      },
      "id": "Q791LW8I_KDA",
      "execution_count": 3,
      "outputs": [
        {
          "output_type": "execute_result",
          "data": {
            "text/plain": [
              "13"
            ]
          },
          "metadata": {},
          "execution_count": 3
        }
      ]
    },
    {
      "cell_type": "code",
      "source": [
        "df=df.drop_duplicates()\n",
        "# Count the number of remaining duplicate rows in the DataFrame after dropping duplicates\n",
        "df.duplicated().sum()"
      ],
      "metadata": {
        "colab": {
          "base_uri": "https://localhost:8080/"
        },
        "id": "LRsHlrrN-5yo",
        "outputId": "d9c7bea1-760d-488a-837b-01dc448436ea"
      },
      "id": "LRsHlrrN-5yo",
      "execution_count": 4,
      "outputs": [
        {
          "output_type": "execute_result",
          "data": {
            "text/plain": [
              "0"
            ]
          },
          "metadata": {},
          "execution_count": 4
        }
      ]
    },
    {
      "cell_type": "markdown",
      "source": [
        "# Set costumer_id as the index"
      ],
      "metadata": {
        "id": "HdfcdmshB8Ew"
      },
      "id": "HdfcdmshB8Ew"
    },
    {
      "cell_type": "code",
      "source": [
        "df.set_index('customer_id', inplace=True)"
      ],
      "metadata": {
        "id": "He30YSyXCAM9"
      },
      "id": "He30YSyXCAM9",
      "execution_count": 5,
      "outputs": []
    },
    {
      "cell_type": "markdown",
      "source": [
        "## Fixing variables"
      ],
      "metadata": {
        "id": "g5c9rRRu-v5i"
      },
      "id": "g5c9rRRu-v5i"
    },
    {
      "cell_type": "markdown",
      "source": [
        "**costumer_age**"
      ],
      "metadata": {
        "id": "oWSxYmKPBr9m"
      },
      "id": "oWSxYmKPBr9m"
    },
    {
      "cell_type": "markdown",
      "source": [
        "Fill missing values with median"
      ],
      "metadata": {
        "id": "ZBIgCxdUC2vx"
      },
      "id": "ZBIgCxdUC2vx"
    },
    {
      "cell_type": "code",
      "source": [
        "df['customer_age'].isna().sum()"
      ],
      "metadata": {
        "colab": {
          "base_uri": "https://localhost:8080/"
        },
        "id": "cWplddAcaJWO",
        "outputId": "1ed7b4ac-584e-41ac-bed8-cc23c0172797"
      },
      "id": "cWplddAcaJWO",
      "execution_count": 6,
      "outputs": [
        {
          "output_type": "execute_result",
          "data": {
            "text/plain": [
              "727"
            ]
          },
          "metadata": {},
          "execution_count": 6
        }
      ]
    },
    {
      "cell_type": "code",
      "source": [
        "df['customer_age'].fillna(df['customer_age'].median(),inplace=True)\n",
        "df['customer_age'].isna().sum()"
      ],
      "metadata": {
        "colab": {
          "base_uri": "https://localhost:8080/"
        },
        "id": "7jpJOyLrBuKC",
        "outputId": "0a975624-d64c-4ea4-b26f-558a994906a0"
      },
      "id": "7jpJOyLrBuKC",
      "execution_count": 7,
      "outputs": [
        {
          "output_type": "stream",
          "name": "stderr",
          "text": [
            "<ipython-input-7-3ad8a2b86644>:1: FutureWarning: A value is trying to be set on a copy of a DataFrame or Series through chained assignment using an inplace method.\n",
            "The behavior will change in pandas 3.0. This inplace method will never work because the intermediate object on which we are setting values always behaves as a copy.\n",
            "\n",
            "For example, when doing 'df[col].method(value, inplace=True)', try using 'df.method({col: value}, inplace=True)' or df[col] = df[col].method(value) instead, to perform the operation inplace on the original object.\n",
            "\n",
            "\n",
            "  df['customer_age'].fillna(df['customer_age'].median(),inplace=True)\n",
            "<ipython-input-7-3ad8a2b86644>:1: SettingWithCopyWarning: \n",
            "A value is trying to be set on a copy of a slice from a DataFrame\n",
            "\n",
            "See the caveats in the documentation: https://pandas.pydata.org/pandas-docs/stable/user_guide/indexing.html#returning-a-view-versus-a-copy\n",
            "  df['customer_age'].fillna(df['customer_age'].median(),inplace=True)\n"
          ]
        },
        {
          "output_type": "execute_result",
          "data": {
            "text/plain": [
              "0"
            ]
          },
          "metadata": {},
          "execution_count": 7
        }
      ]
    },
    {
      "cell_type": "markdown",
      "source": [
        "**costumer_region**"
      ],
      "metadata": {
        "id": "5dz1pZFzC2Dz"
      },
      "id": "5dz1pZFzC2Dz"
    },
    {
      "cell_type": "code",
      "source": [
        "df['customer_region'] = df['customer_region'].replace('-', 'Unknown')"
      ],
      "metadata": {
        "id": "ksu3qKEjDPU1"
      },
      "id": "ksu3qKEjDPU1",
      "execution_count": 8,
      "outputs": []
    },
    {
      "cell_type": "markdown",
      "source": [
        "**product_count**"
      ],
      "metadata": {
        "id": "m6vt63cKDQjv"
      },
      "id": "m6vt63cKDQjv"
    },
    {
      "cell_type": "code",
      "source": [
        "df.loc['92ced2dcb9','product_count']=100"
      ],
      "metadata": {
        "id": "kDFD_JZ4Db7u"
      },
      "id": "kDFD_JZ4Db7u",
      "execution_count": 9,
      "outputs": []
    },
    {
      "cell_type": "markdown",
      "source": [
        "**first_order**"
      ],
      "metadata": {
        "id": "PgoPbHWlDmGU"
      },
      "id": "PgoPbHWlDmGU"
    },
    {
      "cell_type": "code",
      "source": [
        "df['first_order'].fillna(df['first_order'].median(),inplace=True)"
      ],
      "metadata": {
        "colab": {
          "base_uri": "https://localhost:8080/"
        },
        "id": "OPy9ew2bDpvM",
        "outputId": "7957a945-3bf3-4a68-c84e-e445ecb9aa4a"
      },
      "id": "OPy9ew2bDpvM",
      "execution_count": 10,
      "outputs": [
        {
          "output_type": "stream",
          "name": "stderr",
          "text": [
            "<ipython-input-10-542326bf2f64>:1: FutureWarning: A value is trying to be set on a copy of a DataFrame or Series through chained assignment using an inplace method.\n",
            "The behavior will change in pandas 3.0. This inplace method will never work because the intermediate object on which we are setting values always behaves as a copy.\n",
            "\n",
            "For example, when doing 'df[col].method(value, inplace=True)', try using 'df.method({col: value}, inplace=True)' or df[col] = df[col].method(value) instead, to perform the operation inplace on the original object.\n",
            "\n",
            "\n",
            "  df['first_order'].fillna(df['first_order'].median(),inplace=True)\n"
          ]
        }
      ]
    },
    {
      "cell_type": "markdown",
      "source": [
        "**last_promo**"
      ],
      "metadata": {
        "id": "1DVMVvKND7EO"
      },
      "id": "1DVMVvKND7EO"
    },
    {
      "cell_type": "code",
      "source": [
        "df['last_promo'] = df['last_promo'].replace('-', 'no_promotion_used')"
      ],
      "metadata": {
        "id": "PkgQc8pQD-Xd"
      },
      "id": "PkgQc8pQD-Xd",
      "execution_count": 11,
      "outputs": []
    },
    {
      "cell_type": "markdown",
      "source": [
        "**HR_0**"
      ],
      "metadata": {
        "id": "pHtYVInrEMg0"
      },
      "id": "pHtYVInrEMg0"
    },
    {
      "cell_type": "code",
      "source": [
        "df.drop(columns=['HR_0'], inplace=True)"
      ],
      "metadata": {
        "id": "WLvodpbJERLz"
      },
      "id": "WLvodpbJERLz",
      "execution_count": 12,
      "outputs": []
    },
    {
      "cell_type": "markdown",
      "source": [
        "#Fixing inconsistencies"
      ],
      "metadata": {
        "id": "2kiPc39hE1-p"
      },
      "id": "2kiPc39hE1-p"
    },
    {
      "cell_type": "markdown",
      "source": [
        "Eliminate rows where there are inconsistencies"
      ],
      "metadata": {
        "id": "AzwOI1yBGamv"
      },
      "id": "AzwOI1yBGamv"
    },
    {
      "cell_type": "code",
      "source": [
        "df['sum_HR']=df['HR_1']+df['HR_2']+df['HR_3']+df['HR_4']+df['HR_5']+df['HR_6']+df['HR_7']+df['HR_8']+df['HR_9']+df['HR_10']+df['HR_11']+df['HR_12']+df['HR_13']+df['HR_14']+df['HR_15']+df['HR_16']+df['HR_17']+df['HR_18']+df['HR_19']+df['HR_20']+df['HR_21']+df['HR_22']+df['HR_23']\n",
        "df['sum_DOW']=df['DOW_0']+df['DOW_1']+df['DOW_2']+df['DOW_3']+df['DOW_4']+df['DOW_5']+df['DOW_6']\n",
        "df['inc_0']=(df['sum_HR']!=df['sum_DOW'])\n",
        "df['inc_2']=(df['product_count']==0)\n",
        "df = df.loc[~(df['inc_0'] | df['inc_2'])]\n",
        "df.drop(columns=['sum_HR', 'sum_DOW', 'inc_0', 'inc_2'], inplace=True)"
      ],
      "metadata": {
        "colab": {
          "base_uri": "https://localhost:8080/"
        },
        "id": "pUPn6vpTFJNt",
        "outputId": "14528634-f869-4d35-a107-c55f4e08a52e"
      },
      "id": "pUPn6vpTFJNt",
      "execution_count": 13,
      "outputs": [
        {
          "output_type": "stream",
          "name": "stderr",
          "text": [
            "<ipython-input-13-460a7041edd9>:6: SettingWithCopyWarning: \n",
            "A value is trying to be set on a copy of a slice from a DataFrame\n",
            "\n",
            "See the caveats in the documentation: https://pandas.pydata.org/pandas-docs/stable/user_guide/indexing.html#returning-a-view-versus-a-copy\n",
            "  df.drop(columns=['sum_HR', 'sum_DOW', 'inc_0', 'inc_2'], inplace=True)\n"
          ]
        }
      ]
    },
    {
      "cell_type": "markdown",
      "source": [
        "# New variables"
      ],
      "metadata": {
        "id": "z0T2d1erH3M8"
      },
      "id": "z0T2d1erH3M8"
    },
    {
      "cell_type": "markdown",
      "source": [
        "**Total_Spent**"
      ],
      "metadata": {
        "id": "5ADv3rbZIGBo"
      },
      "id": "5ADv3rbZIGBo"
    },
    {
      "cell_type": "code",
      "source": [
        "cuisine = [col for col in df.columns if col.startswith('CUI_')]"
      ],
      "metadata": {
        "id": "9pN7TXLzObAb"
      },
      "id": "9pN7TXLzObAb",
      "execution_count": 14,
      "outputs": []
    },
    {
      "cell_type": "code",
      "source": [
        "df['Total_Spent']=df[cuisine].sum(axis=1)"
      ],
      "metadata": {
        "id": "7z1SKhRNH580"
      },
      "id": "7z1SKhRNH580",
      "execution_count": 15,
      "outputs": []
    },
    {
      "cell_type": "markdown",
      "source": [
        "Deal with extreme outliers"
      ],
      "metadata": {
        "id": "hJFfuxU-SG83"
      },
      "id": "hJFfuxU-SG83"
    },
    {
      "cell_type": "code",
      "source": [
        "df = df.drop('92ced2dcb9', axis=0)\n",
        "df.loc['249ba584d3','CUI_Asian']=500\n",
        "df.loc['8d65421423','CUI_Japanese']=590\n",
        "df['Total_Spent']=df[cuisine].sum(axis=1)"
      ],
      "metadata": {
        "id": "n1JL9kunMvDr"
      },
      "id": "n1JL9kunMvDr",
      "execution_count": 16,
      "outputs": []
    },
    {
      "cell_type": "markdown",
      "source": [
        "**Order_Count**"
      ],
      "metadata": {
        "id": "bHTgk2OWIKXw"
      },
      "id": "bHTgk2OWIKXw"
    },
    {
      "cell_type": "code",
      "source": [
        "df['order_count']=df['DOW_0']+df['DOW_1']+df['DOW_2']+df['DOW_3']+df['DOW_4']+df['DOW_5']+df['DOW_6']"
      ],
      "metadata": {
        "id": "2FSilF83IaRI"
      },
      "id": "2FSilF83IaRI",
      "execution_count": 17,
      "outputs": []
    },
    {
      "cell_type": "markdown",
      "source": [
        "**Diversity_Cuisine**"
      ],
      "metadata": {
        "id": "mFRWalwlUeeY"
      },
      "id": "mFRWalwlUeeY"
    },
    {
      "cell_type": "code",
      "source": [
        "df['Diversity_Cuisine'] = (df[cuisine] > 0).sum(axis=1)\n",
        "df['Diversity_Cuisine'] = df['order_count']/df['Diversity_Cuisine']"
      ],
      "metadata": {
        "id": "XN_13jXlUerJ"
      },
      "id": "XN_13jXlUerJ",
      "execution_count": 18,
      "outputs": []
    },
    {
      "cell_type": "markdown",
      "source": [
        "**Costumer_time**"
      ],
      "metadata": {
        "id": "xCsQWmOiWg8R"
      },
      "id": "xCsQWmOiWg8R"
    },
    {
      "cell_type": "code",
      "source": [
        "df['costumer_time']=df['last_order']-df['first_order']"
      ],
      "metadata": {
        "id": "Do_Ym9HRWkcT"
      },
      "id": "Do_Ym9HRWkcT",
      "execution_count": 19,
      "outputs": []
    },
    {
      "cell_type": "markdown",
      "source": [
        "**Intensity_of_Activity**"
      ],
      "metadata": {
        "id": "51T04ERQWLym"
      },
      "id": "51T04ERQWLym"
    },
    {
      "cell_type": "code",
      "source": [
        "df['Intensity_of_Activity'] = df['costumer_time'] / df['order_count']"
      ],
      "metadata": {
        "id": "WMLet25-WOV6"
      },
      "id": "WMLet25-WOV6",
      "execution_count": 20,
      "outputs": []
    },
    {
      "cell_type": "markdown",
      "source": [
        "**Customer_Loyalty**"
      ],
      "metadata": {
        "id": "r4_vgo1HYcNV"
      },
      "id": "r4_vgo1HYcNV"
    },
    {
      "cell_type": "code",
      "source": [
        "df['Customer_loyalty'] = df['vendor_count'] / df['order_count']"
      ],
      "metadata": {
        "id": "I335t7sjYh0f"
      },
      "id": "I335t7sjYh0f",
      "execution_count": 21,
      "outputs": []
    },
    {
      "cell_type": "markdown",
      "source": [
        "**Product_Intensity**"
      ],
      "metadata": {
        "id": "sCuKdYQCZdiv"
      },
      "id": "sCuKdYQCZdiv"
    },
    {
      "cell_type": "code",
      "source": [
        "df['product_intensity'] = df['product_count'] / df['order_count']"
      ],
      "metadata": {
        "id": "RHil6I3CZjuq"
      },
      "id": "RHil6I3CZjuq",
      "execution_count": 85,
      "outputs": []
    },
    {
      "cell_type": "markdown",
      "source": [
        "**Day_Week_Spread**"
      ],
      "metadata": {
        "id": "N6fGsqWj3qe9"
      },
      "id": "N6fGsqWj3qe9"
    },
    {
      "cell_type": "code",
      "source": [
        "days = [col for col in df.columns if col.startswith('DOW_')]"
      ],
      "metadata": {
        "id": "PZlhd4uG6x9t"
      },
      "id": "PZlhd4uG6x9t",
      "execution_count": 24,
      "outputs": []
    },
    {
      "cell_type": "code",
      "source": [
        "df['Day_Week_Spread'] = df.loc[:,days].var(axis=1)"
      ],
      "metadata": {
        "id": "ZsJoVRMm6oh2"
      },
      "id": "ZsJoVRMm6oh2",
      "execution_count": 25,
      "outputs": []
    },
    {
      "cell_type": "markdown",
      "source": [
        "**Day_week_highest**"
      ],
      "metadata": {
        "id": "JHmZC1c566fq"
      },
      "id": "JHmZC1c566fq"
    },
    {
      "cell_type": "code",
      "source": [
        "df['week_highest']=df.loc[:,days].idxmax(axis=1)\n",
        "df['week_highest']=df['week_highest'].str.replace('DOW_', '')\n",
        "df['week_highest']=df['week_highest'].astype(int)\n",
        "df['week_highest']=df['week_highest']+1"
      ],
      "metadata": {
        "id": "DXQXpLqd7Ary"
      },
      "id": "DXQXpLqd7Ary",
      "execution_count": 33,
      "outputs": []
    },
    {
      "cell_type": "markdown",
      "source": [
        "**hour_spread**"
      ],
      "metadata": {
        "id": "A0JJGlLN7ppg"
      },
      "id": "A0JJGlLN7ppg"
    },
    {
      "cell_type": "code",
      "source": [
        "hours=[col for col in df.columns if col.startswith('HR_')]"
      ],
      "metadata": {
        "id": "X6WUt0W-7wtu"
      },
      "id": "X6WUt0W-7wtu",
      "execution_count": 35,
      "outputs": []
    },
    {
      "cell_type": "code",
      "source": [
        "df['hour_spread'] = df.loc[:,hours].var(axis=1)"
      ],
      "metadata": {
        "id": "PyFgombB78Iq"
      },
      "id": "PyFgombB78Iq",
      "execution_count": 36,
      "outputs": []
    },
    {
      "cell_type": "markdown",
      "source": [
        "**hour_highest**"
      ],
      "metadata": {
        "id": "d0LEEySw8Aps"
      },
      "id": "d0LEEySw8Aps"
    },
    {
      "cell_type": "code",
      "source": [
        "df['hour_highest']=df.loc[:,hours].idxmax(axis=1)\n",
        "df['hour_highest']=df['hour_highest'].str.replace('HR_', '')\n",
        "df['hour_highest']=df['hour_highest'].astype(int)"
      ],
      "metadata": {
        "id": "S3nbCbJs8EUx"
      },
      "id": "S3nbCbJs8EUx",
      "execution_count": 42,
      "outputs": []
    },
    {
      "cell_type": "markdown",
      "source": [
        "# Normalize data"
      ],
      "metadata": {
        "id": "88tIVnyJDDfW"
      },
      "id": "88tIVnyJDDfW"
    },
    {
      "cell_type": "code",
      "source": [
        "metric_features = df.select_dtypes(include=['number']).columns.tolist()"
      ],
      "metadata": {
        "id": "-nI0DdK_DGbN"
      },
      "id": "-nI0DdK_DGbN",
      "execution_count": 57,
      "outputs": []
    },
    {
      "cell_type": "code",
      "source": [
        "scaler = MinMaxScaler()\n",
        "scaled_feat = scaler.fit_transform(df[metric_features])\n",
        "df[metric_features] = scaled_feat"
      ],
      "metadata": {
        "id": "RnIGC-YPFtZ2"
      },
      "id": "RnIGC-YPFtZ2",
      "execution_count": 60,
      "outputs": []
    },
    {
      "cell_type": "code",
      "source": [
        "categorical_features = df.select_dtypes(include=['object', 'category']).columns.tolist()"
      ],
      "metadata": {
        "id": "wTC9SwzMG_nA"
      },
      "id": "wTC9SwzMG_nA",
      "execution_count": 59,
      "outputs": []
    },
    {
      "cell_type": "code",
      "source": [
        "ohc = OneHotEncoder(sparse_output=False, drop=\"first\")\n",
        "ohc_feat = ohc.fit_transform(df[categorical_features])\n",
        "ohc_feat_names = ohc.get_feature_names_out()\n",
        "ohc_df = pd.DataFrame(ohc_feat, index=df.index, columns=ohc_feat_names)  # Why the index=df_ohc.index?\n",
        "ohc_df"
      ],
      "metadata": {
        "id": "x6pN72UYHxjJ",
        "outputId": "6e0126cc-1af9-49e3-fce8-88b41da505c5",
        "colab": {
          "base_uri": "https://localhost:8080/",
          "height": 475
        }
      },
      "id": "x6pN72UYHxjJ",
      "execution_count": 64,
      "outputs": [
        {
          "output_type": "execute_result",
          "data": {
            "text/plain": [
              "             customer_region_2440  customer_region_2490  customer_region_4140  \\\n",
              "customer_id                                                                     \n",
              "1b8f824d5e                    0.0                   0.0                   0.0   \n",
              "5d272b9dcb                    0.0                   0.0                   0.0   \n",
              "f6d1b2ba63                    0.0                   0.0                   0.0   \n",
              "180c632ed8                    0.0                   0.0                   0.0   \n",
              "4eb37a6705                    0.0                   0.0                   0.0   \n",
              "...                           ...                   ...                   ...   \n",
              "f4e366c281                    0.0                   0.0                   0.0   \n",
              "f6b6709018                    0.0                   0.0                   0.0   \n",
              "f74ad8ce3f                    0.0                   0.0                   0.0   \n",
              "f7b19c0241                    0.0                   0.0                   0.0   \n",
              "fd40d3b0e0                    0.0                   0.0                   0.0   \n",
              "\n",
              "             customer_region_4660  customer_region_8370  customer_region_8550  \\\n",
              "customer_id                                                                     \n",
              "1b8f824d5e                    0.0                   0.0                   0.0   \n",
              "5d272b9dcb                    0.0                   0.0                   0.0   \n",
              "f6d1b2ba63                    1.0                   0.0                   0.0   \n",
              "180c632ed8                    1.0                   0.0                   0.0   \n",
              "4eb37a6705                    1.0                   0.0                   0.0   \n",
              "...                           ...                   ...                   ...   \n",
              "f4e366c281                    0.0                   0.0                   0.0   \n",
              "f6b6709018                    0.0                   0.0                   0.0   \n",
              "f74ad8ce3f                    0.0                   0.0                   0.0   \n",
              "f7b19c0241                    0.0                   0.0                   0.0   \n",
              "fd40d3b0e0                    1.0                   0.0                   0.0   \n",
              "\n",
              "             customer_region_8670  customer_region_Unknown  \\\n",
              "customer_id                                                  \n",
              "1b8f824d5e                    0.0                      0.0   \n",
              "5d272b9dcb                    1.0                      0.0   \n",
              "f6d1b2ba63                    0.0                      0.0   \n",
              "180c632ed8                    0.0                      0.0   \n",
              "4eb37a6705                    0.0                      0.0   \n",
              "...                           ...                      ...   \n",
              "f4e366c281                    1.0                      0.0   \n",
              "f6b6709018                    1.0                      0.0   \n",
              "f74ad8ce3f                    1.0                      0.0   \n",
              "f7b19c0241                    1.0                      0.0   \n",
              "fd40d3b0e0                    0.0                      0.0   \n",
              "\n",
              "             last_promo_DISCOUNT  last_promo_FREEBIE  \\\n",
              "customer_id                                            \n",
              "1b8f824d5e                   0.0                 0.0   \n",
              "5d272b9dcb                   1.0                 0.0   \n",
              "f6d1b2ba63                   1.0                 0.0   \n",
              "180c632ed8                   0.0                 0.0   \n",
              "4eb37a6705                   0.0                 0.0   \n",
              "...                          ...                 ...   \n",
              "f4e366c281                   0.0                 1.0   \n",
              "f6b6709018                   0.0                 0.0   \n",
              "f74ad8ce3f                   0.0                 0.0   \n",
              "f7b19c0241                   1.0                 0.0   \n",
              "fd40d3b0e0                   0.0                 0.0   \n",
              "\n",
              "             last_promo_no_promotion_used  payment_method_CASH  \\\n",
              "customer_id                                                      \n",
              "1b8f824d5e                            0.0                  0.0   \n",
              "5d272b9dcb                            0.0                  0.0   \n",
              "f6d1b2ba63                            0.0                  1.0   \n",
              "180c632ed8                            0.0                  0.0   \n",
              "4eb37a6705                            1.0                  0.0   \n",
              "...                                   ...                  ...   \n",
              "f4e366c281                            0.0                  0.0   \n",
              "f6b6709018                            0.0                  0.0   \n",
              "f74ad8ce3f                            1.0                  0.0   \n",
              "f7b19c0241                            0.0                  0.0   \n",
              "fd40d3b0e0                            1.0                  1.0   \n",
              "\n",
              "             payment_method_DIGI  week_highest_DOW_1  week_highest_DOW_2  \\\n",
              "customer_id                                                                \n",
              "1b8f824d5e                   1.0                 0.0                 0.0   \n",
              "5d272b9dcb                   1.0                 0.0                 0.0   \n",
              "f6d1b2ba63                   0.0                 0.0                 0.0   \n",
              "180c632ed8                   1.0                 1.0                 0.0   \n",
              "4eb37a6705                   1.0                 1.0                 0.0   \n",
              "...                          ...                 ...                 ...   \n",
              "f4e366c281                   1.0                 0.0                 0.0   \n",
              "f6b6709018                   1.0                 0.0                 0.0   \n",
              "f74ad8ce3f                   1.0                 0.0                 0.0   \n",
              "f7b19c0241                   1.0                 0.0                 0.0   \n",
              "fd40d3b0e0                   0.0                 0.0                 0.0   \n",
              "\n",
              "             week_highest_DOW_3  week_highest_DOW_4  week_highest_DOW_5  \\\n",
              "customer_id                                                               \n",
              "1b8f824d5e                  0.0                 0.0                 0.0   \n",
              "5d272b9dcb                  0.0                 0.0                 0.0   \n",
              "f6d1b2ba63                  0.0                 0.0                 0.0   \n",
              "180c632ed8                  0.0                 0.0                 0.0   \n",
              "4eb37a6705                  0.0                 0.0                 0.0   \n",
              "...                         ...                 ...                 ...   \n",
              "f4e366c281                  0.0                 0.0                 0.0   \n",
              "f6b6709018                  0.0                 0.0                 0.0   \n",
              "f74ad8ce3f                  0.0                 0.0                 0.0   \n",
              "f7b19c0241                  0.0                 0.0                 0.0   \n",
              "fd40d3b0e0                  0.0                 0.0                 0.0   \n",
              "\n",
              "             week_highest_DOW_6  \n",
              "customer_id                      \n",
              "1b8f824d5e                  0.0  \n",
              "5d272b9dcb                  0.0  \n",
              "f6d1b2ba63                  0.0  \n",
              "180c632ed8                  0.0  \n",
              "4eb37a6705                  0.0  \n",
              "...                         ...  \n",
              "f4e366c281                  1.0  \n",
              "f6b6709018                  1.0  \n",
              "f74ad8ce3f                  1.0  \n",
              "f7b19c0241                  1.0  \n",
              "fd40d3b0e0                  1.0  \n",
              "\n",
              "[30554 rows x 19 columns]"
            ],
            "text/html": [
              "\n",
              "  <div id=\"df-a2eb59ca-1a76-469b-8463-408a4a40188a\" class=\"colab-df-container\">\n",
              "    <div>\n",
              "<style scoped>\n",
              "    .dataframe tbody tr th:only-of-type {\n",
              "        vertical-align: middle;\n",
              "    }\n",
              "\n",
              "    .dataframe tbody tr th {\n",
              "        vertical-align: top;\n",
              "    }\n",
              "\n",
              "    .dataframe thead th {\n",
              "        text-align: right;\n",
              "    }\n",
              "</style>\n",
              "<table border=\"1\" class=\"dataframe\">\n",
              "  <thead>\n",
              "    <tr style=\"text-align: right;\">\n",
              "      <th></th>\n",
              "      <th>customer_region_2440</th>\n",
              "      <th>customer_region_2490</th>\n",
              "      <th>customer_region_4140</th>\n",
              "      <th>customer_region_4660</th>\n",
              "      <th>customer_region_8370</th>\n",
              "      <th>customer_region_8550</th>\n",
              "      <th>customer_region_8670</th>\n",
              "      <th>customer_region_Unknown</th>\n",
              "      <th>last_promo_DISCOUNT</th>\n",
              "      <th>last_promo_FREEBIE</th>\n",
              "      <th>last_promo_no_promotion_used</th>\n",
              "      <th>payment_method_CASH</th>\n",
              "      <th>payment_method_DIGI</th>\n",
              "      <th>week_highest_DOW_1</th>\n",
              "      <th>week_highest_DOW_2</th>\n",
              "      <th>week_highest_DOW_3</th>\n",
              "      <th>week_highest_DOW_4</th>\n",
              "      <th>week_highest_DOW_5</th>\n",
              "      <th>week_highest_DOW_6</th>\n",
              "    </tr>\n",
              "    <tr>\n",
              "      <th>customer_id</th>\n",
              "      <th></th>\n",
              "      <th></th>\n",
              "      <th></th>\n",
              "      <th></th>\n",
              "      <th></th>\n",
              "      <th></th>\n",
              "      <th></th>\n",
              "      <th></th>\n",
              "      <th></th>\n",
              "      <th></th>\n",
              "      <th></th>\n",
              "      <th></th>\n",
              "      <th></th>\n",
              "      <th></th>\n",
              "      <th></th>\n",
              "      <th></th>\n",
              "      <th></th>\n",
              "      <th></th>\n",
              "      <th></th>\n",
              "    </tr>\n",
              "  </thead>\n",
              "  <tbody>\n",
              "    <tr>\n",
              "      <th>1b8f824d5e</th>\n",
              "      <td>0.0</td>\n",
              "      <td>0.0</td>\n",
              "      <td>0.0</td>\n",
              "      <td>0.0</td>\n",
              "      <td>0.0</td>\n",
              "      <td>0.0</td>\n",
              "      <td>0.0</td>\n",
              "      <td>0.0</td>\n",
              "      <td>0.0</td>\n",
              "      <td>0.0</td>\n",
              "      <td>0.0</td>\n",
              "      <td>0.0</td>\n",
              "      <td>1.0</td>\n",
              "      <td>0.0</td>\n",
              "      <td>0.0</td>\n",
              "      <td>0.0</td>\n",
              "      <td>0.0</td>\n",
              "      <td>0.0</td>\n",
              "      <td>0.0</td>\n",
              "    </tr>\n",
              "    <tr>\n",
              "      <th>5d272b9dcb</th>\n",
              "      <td>0.0</td>\n",
              "      <td>0.0</td>\n",
              "      <td>0.0</td>\n",
              "      <td>0.0</td>\n",
              "      <td>0.0</td>\n",
              "      <td>0.0</td>\n",
              "      <td>1.0</td>\n",
              "      <td>0.0</td>\n",
              "      <td>1.0</td>\n",
              "      <td>0.0</td>\n",
              "      <td>0.0</td>\n",
              "      <td>0.0</td>\n",
              "      <td>1.0</td>\n",
              "      <td>0.0</td>\n",
              "      <td>0.0</td>\n",
              "      <td>0.0</td>\n",
              "      <td>0.0</td>\n",
              "      <td>0.0</td>\n",
              "      <td>0.0</td>\n",
              "    </tr>\n",
              "    <tr>\n",
              "      <th>f6d1b2ba63</th>\n",
              "      <td>0.0</td>\n",
              "      <td>0.0</td>\n",
              "      <td>0.0</td>\n",
              "      <td>1.0</td>\n",
              "      <td>0.0</td>\n",
              "      <td>0.0</td>\n",
              "      <td>0.0</td>\n",
              "      <td>0.0</td>\n",
              "      <td>1.0</td>\n",
              "      <td>0.0</td>\n",
              "      <td>0.0</td>\n",
              "      <td>1.0</td>\n",
              "      <td>0.0</td>\n",
              "      <td>0.0</td>\n",
              "      <td>0.0</td>\n",
              "      <td>0.0</td>\n",
              "      <td>0.0</td>\n",
              "      <td>0.0</td>\n",
              "      <td>0.0</td>\n",
              "    </tr>\n",
              "    <tr>\n",
              "      <th>180c632ed8</th>\n",
              "      <td>0.0</td>\n",
              "      <td>0.0</td>\n",
              "      <td>0.0</td>\n",
              "      <td>1.0</td>\n",
              "      <td>0.0</td>\n",
              "      <td>0.0</td>\n",
              "      <td>0.0</td>\n",
              "      <td>0.0</td>\n",
              "      <td>0.0</td>\n",
              "      <td>0.0</td>\n",
              "      <td>0.0</td>\n",
              "      <td>0.0</td>\n",
              "      <td>1.0</td>\n",
              "      <td>1.0</td>\n",
              "      <td>0.0</td>\n",
              "      <td>0.0</td>\n",
              "      <td>0.0</td>\n",
              "      <td>0.0</td>\n",
              "      <td>0.0</td>\n",
              "    </tr>\n",
              "    <tr>\n",
              "      <th>4eb37a6705</th>\n",
              "      <td>0.0</td>\n",
              "      <td>0.0</td>\n",
              "      <td>0.0</td>\n",
              "      <td>1.0</td>\n",
              "      <td>0.0</td>\n",
              "      <td>0.0</td>\n",
              "      <td>0.0</td>\n",
              "      <td>0.0</td>\n",
              "      <td>0.0</td>\n",
              "      <td>0.0</td>\n",
              "      <td>1.0</td>\n",
              "      <td>0.0</td>\n",
              "      <td>1.0</td>\n",
              "      <td>1.0</td>\n",
              "      <td>0.0</td>\n",
              "      <td>0.0</td>\n",
              "      <td>0.0</td>\n",
              "      <td>0.0</td>\n",
              "      <td>0.0</td>\n",
              "    </tr>\n",
              "    <tr>\n",
              "      <th>...</th>\n",
              "      <td>...</td>\n",
              "      <td>...</td>\n",
              "      <td>...</td>\n",
              "      <td>...</td>\n",
              "      <td>...</td>\n",
              "      <td>...</td>\n",
              "      <td>...</td>\n",
              "      <td>...</td>\n",
              "      <td>...</td>\n",
              "      <td>...</td>\n",
              "      <td>...</td>\n",
              "      <td>...</td>\n",
              "      <td>...</td>\n",
              "      <td>...</td>\n",
              "      <td>...</td>\n",
              "      <td>...</td>\n",
              "      <td>...</td>\n",
              "      <td>...</td>\n",
              "      <td>...</td>\n",
              "    </tr>\n",
              "    <tr>\n",
              "      <th>f4e366c281</th>\n",
              "      <td>0.0</td>\n",
              "      <td>0.0</td>\n",
              "      <td>0.0</td>\n",
              "      <td>0.0</td>\n",
              "      <td>0.0</td>\n",
              "      <td>0.0</td>\n",
              "      <td>1.0</td>\n",
              "      <td>0.0</td>\n",
              "      <td>0.0</td>\n",
              "      <td>1.0</td>\n",
              "      <td>0.0</td>\n",
              "      <td>0.0</td>\n",
              "      <td>1.0</td>\n",
              "      <td>0.0</td>\n",
              "      <td>0.0</td>\n",
              "      <td>0.0</td>\n",
              "      <td>0.0</td>\n",
              "      <td>0.0</td>\n",
              "      <td>1.0</td>\n",
              "    </tr>\n",
              "    <tr>\n",
              "      <th>f6b6709018</th>\n",
              "      <td>0.0</td>\n",
              "      <td>0.0</td>\n",
              "      <td>0.0</td>\n",
              "      <td>0.0</td>\n",
              "      <td>0.0</td>\n",
              "      <td>0.0</td>\n",
              "      <td>1.0</td>\n",
              "      <td>0.0</td>\n",
              "      <td>0.0</td>\n",
              "      <td>0.0</td>\n",
              "      <td>0.0</td>\n",
              "      <td>0.0</td>\n",
              "      <td>1.0</td>\n",
              "      <td>0.0</td>\n",
              "      <td>0.0</td>\n",
              "      <td>0.0</td>\n",
              "      <td>0.0</td>\n",
              "      <td>0.0</td>\n",
              "      <td>1.0</td>\n",
              "    </tr>\n",
              "    <tr>\n",
              "      <th>f74ad8ce3f</th>\n",
              "      <td>0.0</td>\n",
              "      <td>0.0</td>\n",
              "      <td>0.0</td>\n",
              "      <td>0.0</td>\n",
              "      <td>0.0</td>\n",
              "      <td>0.0</td>\n",
              "      <td>1.0</td>\n",
              "      <td>0.0</td>\n",
              "      <td>0.0</td>\n",
              "      <td>0.0</td>\n",
              "      <td>1.0</td>\n",
              "      <td>0.0</td>\n",
              "      <td>1.0</td>\n",
              "      <td>0.0</td>\n",
              "      <td>0.0</td>\n",
              "      <td>0.0</td>\n",
              "      <td>0.0</td>\n",
              "      <td>0.0</td>\n",
              "      <td>1.0</td>\n",
              "    </tr>\n",
              "    <tr>\n",
              "      <th>f7b19c0241</th>\n",
              "      <td>0.0</td>\n",
              "      <td>0.0</td>\n",
              "      <td>0.0</td>\n",
              "      <td>0.0</td>\n",
              "      <td>0.0</td>\n",
              "      <td>0.0</td>\n",
              "      <td>1.0</td>\n",
              "      <td>0.0</td>\n",
              "      <td>1.0</td>\n",
              "      <td>0.0</td>\n",
              "      <td>0.0</td>\n",
              "      <td>0.0</td>\n",
              "      <td>1.0</td>\n",
              "      <td>0.0</td>\n",
              "      <td>0.0</td>\n",
              "      <td>0.0</td>\n",
              "      <td>0.0</td>\n",
              "      <td>0.0</td>\n",
              "      <td>1.0</td>\n",
              "    </tr>\n",
              "    <tr>\n",
              "      <th>fd40d3b0e0</th>\n",
              "      <td>0.0</td>\n",
              "      <td>0.0</td>\n",
              "      <td>0.0</td>\n",
              "      <td>1.0</td>\n",
              "      <td>0.0</td>\n",
              "      <td>0.0</td>\n",
              "      <td>0.0</td>\n",
              "      <td>0.0</td>\n",
              "      <td>0.0</td>\n",
              "      <td>0.0</td>\n",
              "      <td>1.0</td>\n",
              "      <td>1.0</td>\n",
              "      <td>0.0</td>\n",
              "      <td>0.0</td>\n",
              "      <td>0.0</td>\n",
              "      <td>0.0</td>\n",
              "      <td>0.0</td>\n",
              "      <td>0.0</td>\n",
              "      <td>1.0</td>\n",
              "    </tr>\n",
              "  </tbody>\n",
              "</table>\n",
              "<p>30554 rows × 19 columns</p>\n",
              "</div>\n",
              "    <div class=\"colab-df-buttons\">\n",
              "\n",
              "  <div class=\"colab-df-container\">\n",
              "    <button class=\"colab-df-convert\" onclick=\"convertToInteractive('df-a2eb59ca-1a76-469b-8463-408a4a40188a')\"\n",
              "            title=\"Convert this dataframe to an interactive table.\"\n",
              "            style=\"display:none;\">\n",
              "\n",
              "  <svg xmlns=\"http://www.w3.org/2000/svg\" height=\"24px\" viewBox=\"0 -960 960 960\">\n",
              "    <path d=\"M120-120v-720h720v720H120Zm60-500h600v-160H180v160Zm220 220h160v-160H400v160Zm0 220h160v-160H400v160ZM180-400h160v-160H180v160Zm440 0h160v-160H620v160ZM180-180h160v-160H180v160Zm440 0h160v-160H620v160Z\"/>\n",
              "  </svg>\n",
              "    </button>\n",
              "\n",
              "  <style>\n",
              "    .colab-df-container {\n",
              "      display:flex;\n",
              "      gap: 12px;\n",
              "    }\n",
              "\n",
              "    .colab-df-convert {\n",
              "      background-color: #E8F0FE;\n",
              "      border: none;\n",
              "      border-radius: 50%;\n",
              "      cursor: pointer;\n",
              "      display: none;\n",
              "      fill: #1967D2;\n",
              "      height: 32px;\n",
              "      padding: 0 0 0 0;\n",
              "      width: 32px;\n",
              "    }\n",
              "\n",
              "    .colab-df-convert:hover {\n",
              "      background-color: #E2EBFA;\n",
              "      box-shadow: 0px 1px 2px rgba(60, 64, 67, 0.3), 0px 1px 3px 1px rgba(60, 64, 67, 0.15);\n",
              "      fill: #174EA6;\n",
              "    }\n",
              "\n",
              "    .colab-df-buttons div {\n",
              "      margin-bottom: 4px;\n",
              "    }\n",
              "\n",
              "    [theme=dark] .colab-df-convert {\n",
              "      background-color: #3B4455;\n",
              "      fill: #D2E3FC;\n",
              "    }\n",
              "\n",
              "    [theme=dark] .colab-df-convert:hover {\n",
              "      background-color: #434B5C;\n",
              "      box-shadow: 0px 1px 3px 1px rgba(0, 0, 0, 0.15);\n",
              "      filter: drop-shadow(0px 1px 2px rgba(0, 0, 0, 0.3));\n",
              "      fill: #FFFFFF;\n",
              "    }\n",
              "  </style>\n",
              "\n",
              "    <script>\n",
              "      const buttonEl =\n",
              "        document.querySelector('#df-a2eb59ca-1a76-469b-8463-408a4a40188a button.colab-df-convert');\n",
              "      buttonEl.style.display =\n",
              "        google.colab.kernel.accessAllowed ? 'block' : 'none';\n",
              "\n",
              "      async function convertToInteractive(key) {\n",
              "        const element = document.querySelector('#df-a2eb59ca-1a76-469b-8463-408a4a40188a');\n",
              "        const dataTable =\n",
              "          await google.colab.kernel.invokeFunction('convertToInteractive',\n",
              "                                                    [key], {});\n",
              "        if (!dataTable) return;\n",
              "\n",
              "        const docLinkHtml = 'Like what you see? Visit the ' +\n",
              "          '<a target=\"_blank\" href=https://colab.research.google.com/notebooks/data_table.ipynb>data table notebook</a>'\n",
              "          + ' to learn more about interactive tables.';\n",
              "        element.innerHTML = '';\n",
              "        dataTable['output_type'] = 'display_data';\n",
              "        await google.colab.output.renderOutput(dataTable, element);\n",
              "        const docLink = document.createElement('div');\n",
              "        docLink.innerHTML = docLinkHtml;\n",
              "        element.appendChild(docLink);\n",
              "      }\n",
              "    </script>\n",
              "  </div>\n",
              "\n",
              "\n",
              "<div id=\"df-8f4aaf82-11d7-46df-8c54-20e4f178afe1\">\n",
              "  <button class=\"colab-df-quickchart\" onclick=\"quickchart('df-8f4aaf82-11d7-46df-8c54-20e4f178afe1')\"\n",
              "            title=\"Suggest charts\"\n",
              "            style=\"display:none;\">\n",
              "\n",
              "<svg xmlns=\"http://www.w3.org/2000/svg\" height=\"24px\"viewBox=\"0 0 24 24\"\n",
              "     width=\"24px\">\n",
              "    <g>\n",
              "        <path d=\"M19 3H5c-1.1 0-2 .9-2 2v14c0 1.1.9 2 2 2h14c1.1 0 2-.9 2-2V5c0-1.1-.9-2-2-2zM9 17H7v-7h2v7zm4 0h-2V7h2v10zm4 0h-2v-4h2v4z\"/>\n",
              "    </g>\n",
              "</svg>\n",
              "  </button>\n",
              "\n",
              "<style>\n",
              "  .colab-df-quickchart {\n",
              "      --bg-color: #E8F0FE;\n",
              "      --fill-color: #1967D2;\n",
              "      --hover-bg-color: #E2EBFA;\n",
              "      --hover-fill-color: #174EA6;\n",
              "      --disabled-fill-color: #AAA;\n",
              "      --disabled-bg-color: #DDD;\n",
              "  }\n",
              "\n",
              "  [theme=dark] .colab-df-quickchart {\n",
              "      --bg-color: #3B4455;\n",
              "      --fill-color: #D2E3FC;\n",
              "      --hover-bg-color: #434B5C;\n",
              "      --hover-fill-color: #FFFFFF;\n",
              "      --disabled-bg-color: #3B4455;\n",
              "      --disabled-fill-color: #666;\n",
              "  }\n",
              "\n",
              "  .colab-df-quickchart {\n",
              "    background-color: var(--bg-color);\n",
              "    border: none;\n",
              "    border-radius: 50%;\n",
              "    cursor: pointer;\n",
              "    display: none;\n",
              "    fill: var(--fill-color);\n",
              "    height: 32px;\n",
              "    padding: 0;\n",
              "    width: 32px;\n",
              "  }\n",
              "\n",
              "  .colab-df-quickchart:hover {\n",
              "    background-color: var(--hover-bg-color);\n",
              "    box-shadow: 0 1px 2px rgba(60, 64, 67, 0.3), 0 1px 3px 1px rgba(60, 64, 67, 0.15);\n",
              "    fill: var(--button-hover-fill-color);\n",
              "  }\n",
              "\n",
              "  .colab-df-quickchart-complete:disabled,\n",
              "  .colab-df-quickchart-complete:disabled:hover {\n",
              "    background-color: var(--disabled-bg-color);\n",
              "    fill: var(--disabled-fill-color);\n",
              "    box-shadow: none;\n",
              "  }\n",
              "\n",
              "  .colab-df-spinner {\n",
              "    border: 2px solid var(--fill-color);\n",
              "    border-color: transparent;\n",
              "    border-bottom-color: var(--fill-color);\n",
              "    animation:\n",
              "      spin 1s steps(1) infinite;\n",
              "  }\n",
              "\n",
              "  @keyframes spin {\n",
              "    0% {\n",
              "      border-color: transparent;\n",
              "      border-bottom-color: var(--fill-color);\n",
              "      border-left-color: var(--fill-color);\n",
              "    }\n",
              "    20% {\n",
              "      border-color: transparent;\n",
              "      border-left-color: var(--fill-color);\n",
              "      border-top-color: var(--fill-color);\n",
              "    }\n",
              "    30% {\n",
              "      border-color: transparent;\n",
              "      border-left-color: var(--fill-color);\n",
              "      border-top-color: var(--fill-color);\n",
              "      border-right-color: var(--fill-color);\n",
              "    }\n",
              "    40% {\n",
              "      border-color: transparent;\n",
              "      border-right-color: var(--fill-color);\n",
              "      border-top-color: var(--fill-color);\n",
              "    }\n",
              "    60% {\n",
              "      border-color: transparent;\n",
              "      border-right-color: var(--fill-color);\n",
              "    }\n",
              "    80% {\n",
              "      border-color: transparent;\n",
              "      border-right-color: var(--fill-color);\n",
              "      border-bottom-color: var(--fill-color);\n",
              "    }\n",
              "    90% {\n",
              "      border-color: transparent;\n",
              "      border-bottom-color: var(--fill-color);\n",
              "    }\n",
              "  }\n",
              "</style>\n",
              "\n",
              "  <script>\n",
              "    async function quickchart(key) {\n",
              "      const quickchartButtonEl =\n",
              "        document.querySelector('#' + key + ' button');\n",
              "      quickchartButtonEl.disabled = true;  // To prevent multiple clicks.\n",
              "      quickchartButtonEl.classList.add('colab-df-spinner');\n",
              "      try {\n",
              "        const charts = await google.colab.kernel.invokeFunction(\n",
              "            'suggestCharts', [key], {});\n",
              "      } catch (error) {\n",
              "        console.error('Error during call to suggestCharts:', error);\n",
              "      }\n",
              "      quickchartButtonEl.classList.remove('colab-df-spinner');\n",
              "      quickchartButtonEl.classList.add('colab-df-quickchart-complete');\n",
              "    }\n",
              "    (() => {\n",
              "      let quickchartButtonEl =\n",
              "        document.querySelector('#df-8f4aaf82-11d7-46df-8c54-20e4f178afe1 button');\n",
              "      quickchartButtonEl.style.display =\n",
              "        google.colab.kernel.accessAllowed ? 'block' : 'none';\n",
              "    })();\n",
              "  </script>\n",
              "</div>\n",
              "\n",
              "  <div id=\"id_409edf60-66df-4f1d-8a73-35fb4c0a77ae\">\n",
              "    <style>\n",
              "      .colab-df-generate {\n",
              "        background-color: #E8F0FE;\n",
              "        border: none;\n",
              "        border-radius: 50%;\n",
              "        cursor: pointer;\n",
              "        display: none;\n",
              "        fill: #1967D2;\n",
              "        height: 32px;\n",
              "        padding: 0 0 0 0;\n",
              "        width: 32px;\n",
              "      }\n",
              "\n",
              "      .colab-df-generate:hover {\n",
              "        background-color: #E2EBFA;\n",
              "        box-shadow: 0px 1px 2px rgba(60, 64, 67, 0.3), 0px 1px 3px 1px rgba(60, 64, 67, 0.15);\n",
              "        fill: #174EA6;\n",
              "      }\n",
              "\n",
              "      [theme=dark] .colab-df-generate {\n",
              "        background-color: #3B4455;\n",
              "        fill: #D2E3FC;\n",
              "      }\n",
              "\n",
              "      [theme=dark] .colab-df-generate:hover {\n",
              "        background-color: #434B5C;\n",
              "        box-shadow: 0px 1px 3px 1px rgba(0, 0, 0, 0.15);\n",
              "        filter: drop-shadow(0px 1px 2px rgba(0, 0, 0, 0.3));\n",
              "        fill: #FFFFFF;\n",
              "      }\n",
              "    </style>\n",
              "    <button class=\"colab-df-generate\" onclick=\"generateWithVariable('ohc_df')\"\n",
              "            title=\"Generate code using this dataframe.\"\n",
              "            style=\"display:none;\">\n",
              "\n",
              "  <svg xmlns=\"http://www.w3.org/2000/svg\" height=\"24px\"viewBox=\"0 0 24 24\"\n",
              "       width=\"24px\">\n",
              "    <path d=\"M7,19H8.4L18.45,9,17,7.55,7,17.6ZM5,21V16.75L18.45,3.32a2,2,0,0,1,2.83,0l1.4,1.43a1.91,1.91,0,0,1,.58,1.4,1.91,1.91,0,0,1-.58,1.4L9.25,21ZM18.45,9,17,7.55Zm-12,3A5.31,5.31,0,0,0,4.9,8.1,5.31,5.31,0,0,0,1,6.5,5.31,5.31,0,0,0,4.9,4.9,5.31,5.31,0,0,0,6.5,1,5.31,5.31,0,0,0,8.1,4.9,5.31,5.31,0,0,0,12,6.5,5.46,5.46,0,0,0,6.5,12Z\"/>\n",
              "  </svg>\n",
              "    </button>\n",
              "    <script>\n",
              "      (() => {\n",
              "      const buttonEl =\n",
              "        document.querySelector('#id_409edf60-66df-4f1d-8a73-35fb4c0a77ae button.colab-df-generate');\n",
              "      buttonEl.style.display =\n",
              "        google.colab.kernel.accessAllowed ? 'block' : 'none';\n",
              "\n",
              "      buttonEl.onclick = () => {\n",
              "        google.colab.notebook.generateWithVariable('ohc_df');\n",
              "      }\n",
              "      })();\n",
              "    </script>\n",
              "  </div>\n",
              "\n",
              "    </div>\n",
              "  </div>\n"
            ],
            "application/vnd.google.colaboratory.intrinsic+json": {
              "type": "dataframe",
              "variable_name": "ohc_df",
              "summary": "{\n  \"name\": \"ohc_df\",\n  \"rows\": 30554,\n  \"fields\": [\n    {\n      \"column\": \"customer_id\",\n      \"properties\": {\n        \"dtype\": \"string\",\n        \"num_unique_values\": 30554,\n        \"samples\": [\n          \"afb56ca16f\",\n          \"6a5f6be04a\",\n          \"da41776eaa\"\n        ],\n        \"semantic_type\": \"\",\n        \"description\": \"\"\n      }\n    },\n    {\n      \"column\": \"customer_region_2440\",\n      \"properties\": {\n        \"dtype\": \"number\",\n        \"std\": 0.21198957463076695,\n        \"min\": 0.0,\n        \"max\": 1.0,\n        \"num_unique_values\": 2,\n        \"samples\": [\n          1.0,\n          0.0\n        ],\n        \"semantic_type\": \"\",\n        \"description\": \"\"\n      }\n    },\n    {\n      \"column\": \"customer_region_2490\",\n      \"properties\": {\n        \"dtype\": \"number\",\n        \"std\": 0.11684657562943086,\n        \"min\": 0.0,\n        \"max\": 1.0,\n        \"num_unique_values\": 2,\n        \"samples\": [\n          1.0,\n          0.0\n        ],\n        \"semantic_type\": \"\",\n        \"description\": \"\"\n      }\n    },\n    {\n      \"column\": \"customer_region_4140\",\n      \"properties\": {\n        \"dtype\": \"number\",\n        \"std\": 0.1625667431998351,\n        \"min\": 0.0,\n        \"max\": 1.0,\n        \"num_unique_values\": 2,\n        \"samples\": [\n          1.0,\n          0.0\n        ],\n        \"semantic_type\": \"\",\n        \"description\": \"\"\n      }\n    },\n    {\n      \"column\": \"customer_region_4660\",\n      \"properties\": {\n        \"dtype\": \"number\",\n        \"std\": 0.4620726767247971,\n        \"min\": 0.0,\n        \"max\": 1.0,\n        \"num_unique_values\": 2,\n        \"samples\": [\n          1.0,\n          0.0\n        ],\n        \"semantic_type\": \"\",\n        \"description\": \"\"\n      }\n    },\n    {\n      \"column\": \"customer_region_8370\",\n      \"properties\": {\n        \"dtype\": \"number\",\n        \"std\": 0.12294205328297177,\n        \"min\": 0.0,\n        \"max\": 1.0,\n        \"num_unique_values\": 2,\n        \"samples\": [\n          1.0,\n          0.0\n        ],\n        \"semantic_type\": \"\",\n        \"description\": \"\"\n      }\n    },\n    {\n      \"column\": \"customer_region_8550\",\n      \"properties\": {\n        \"dtype\": \"number\",\n        \"std\": 0.019814284400179176,\n        \"min\": 0.0,\n        \"max\": 1.0,\n        \"num_unique_values\": 2,\n        \"samples\": [\n          1.0,\n          0.0\n        ],\n        \"semantic_type\": \"\",\n        \"description\": \"\"\n      }\n    },\n    {\n      \"column\": \"customer_region_8670\",\n      \"properties\": {\n        \"dtype\": \"number\",\n        \"std\": 0.4565279152543526,\n        \"min\": 0.0,\n        \"max\": 1.0,\n        \"num_unique_values\": 2,\n        \"samples\": [\n          1.0,\n          0.0\n        ],\n        \"semantic_type\": \"\",\n        \"description\": \"\"\n      }\n    },\n    {\n      \"column\": \"customer_region_Unknown\",\n      \"properties\": {\n        \"dtype\": \"number\",\n        \"std\": 0.11464583662614818,\n        \"min\": 0.0,\n        \"max\": 1.0,\n        \"num_unique_values\": 2,\n        \"samples\": [\n          1.0,\n          0.0\n        ],\n        \"semantic_type\": \"\",\n        \"description\": \"\"\n      }\n    },\n    {\n      \"column\": \"last_promo_DISCOUNT\",\n      \"properties\": {\n        \"dtype\": \"number\",\n        \"std\": 0.34846177587977173,\n        \"min\": 0.0,\n        \"max\": 1.0,\n        \"num_unique_values\": 2,\n        \"samples\": [\n          1.0,\n          0.0\n        ],\n        \"semantic_type\": \"\",\n        \"description\": \"\"\n      }\n    },\n    {\n      \"column\": \"last_promo_FREEBIE\",\n      \"properties\": {\n        \"dtype\": \"number\",\n        \"std\": 0.3434067695644051,\n        \"min\": 0.0,\n        \"max\": 1.0,\n        \"num_unique_values\": 2,\n        \"samples\": [\n          1.0,\n          0.0\n        ],\n        \"semantic_type\": \"\",\n        \"description\": \"\"\n      }\n    },\n    {\n      \"column\": \"last_promo_no_promotion_used\",\n      \"properties\": {\n        \"dtype\": \"number\",\n        \"std\": 0.4994479207340086,\n        \"min\": 0.0,\n        \"max\": 1.0,\n        \"num_unique_values\": 2,\n        \"samples\": [\n          1.0,\n          0.0\n        ],\n        \"semantic_type\": \"\",\n        \"description\": \"\"\n      }\n    },\n    {\n      \"column\": \"payment_method_CASH\",\n      \"properties\": {\n        \"dtype\": \"number\",\n        \"std\": 0.3822815515426458,\n        \"min\": 0.0,\n        \"max\": 1.0,\n        \"num_unique_values\": 2,\n        \"samples\": [\n          1.0,\n          0.0\n        ],\n        \"semantic_type\": \"\",\n        \"description\": \"\"\n      }\n    },\n    {\n      \"column\": \"payment_method_DIGI\",\n      \"properties\": {\n        \"dtype\": \"number\",\n        \"std\": 0.39379329716519174,\n        \"min\": 0.0,\n        \"max\": 1.0,\n        \"num_unique_values\": 2,\n        \"samples\": [\n          0.0,\n          1.0\n        ],\n        \"semantic_type\": \"\",\n        \"description\": \"\"\n      }\n    },\n    {\n      \"column\": \"week_highest_DOW_1\",\n      \"properties\": {\n        \"dtype\": \"number\",\n        \"std\": 0.3680435567071665,\n        \"min\": 0.0,\n        \"max\": 1.0,\n        \"num_unique_values\": 2,\n        \"samples\": [\n          1.0,\n          0.0\n        ],\n        \"semantic_type\": \"\",\n        \"description\": \"\"\n      }\n    },\n    {\n      \"column\": \"week_highest_DOW_2\",\n      \"properties\": {\n        \"dtype\": \"number\",\n        \"std\": 0.34683779962612077,\n        \"min\": 0.0,\n        \"max\": 1.0,\n        \"num_unique_values\": 2,\n        \"samples\": [\n          1.0,\n          0.0\n        ],\n        \"semantic_type\": \"\",\n        \"description\": \"\"\n      }\n    },\n    {\n      \"column\": \"week_highest_DOW_3\",\n      \"properties\": {\n        \"dtype\": \"number\",\n        \"std\": 0.3338432072409084,\n        \"min\": 0.0,\n        \"max\": 1.0,\n        \"num_unique_values\": 2,\n        \"samples\": [\n          1.0,\n          0.0\n        ],\n        \"semantic_type\": \"\",\n        \"description\": \"\"\n      }\n    },\n    {\n      \"column\": \"week_highest_DOW_4\",\n      \"properties\": {\n        \"dtype\": \"number\",\n        \"std\": 0.3444084892722484,\n        \"min\": 0.0,\n        \"max\": 1.0,\n        \"num_unique_values\": 2,\n        \"samples\": [\n          1.0,\n          0.0\n        ],\n        \"semantic_type\": \"\",\n        \"description\": \"\"\n      }\n    },\n    {\n      \"column\": \"week_highest_DOW_5\",\n      \"properties\": {\n        \"dtype\": \"number\",\n        \"std\": 0.33008304498137503,\n        \"min\": 0.0,\n        \"max\": 1.0,\n        \"num_unique_values\": 2,\n        \"samples\": [\n          1.0,\n          0.0\n        ],\n        \"semantic_type\": \"\",\n        \"description\": \"\"\n      }\n    },\n    {\n      \"column\": \"week_highest_DOW_6\",\n      \"properties\": {\n        \"dtype\": \"number\",\n        \"std\": 0.31903861775331627,\n        \"min\": 0.0,\n        \"max\": 1.0,\n        \"num_unique_values\": 2,\n        \"samples\": [\n          1.0,\n          0.0\n        ],\n        \"semantic_type\": \"\",\n        \"description\": \"\"\n      }\n    }\n  ]\n}"
            }
          },
          "metadata": {},
          "execution_count": 64
        }
      ]
    }
  ],
  "metadata": {
    "kernelspec": {
      "display_name": "Python 3 (ipykernel)",
      "language": "python",
      "name": "python3"
    },
    "language_info": {
      "codemirror_mode": {
        "name": "ipython",
        "version": 3
      },
      "file_extension": ".py",
      "mimetype": "text/x-python",
      "name": "python",
      "nbconvert_exporter": "python",
      "pygments_lexer": "ipython3",
      "version": "3.9.7"
    },
    "colab": {
      "provenance": []
    }
  },
  "nbformat": 4,
  "nbformat_minor": 5
}