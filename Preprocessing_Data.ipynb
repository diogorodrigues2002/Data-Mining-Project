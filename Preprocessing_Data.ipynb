{
  "cells": [
    {
      "cell_type": "code",
      "execution_count": 35,
      "id": "8db3ae52-47a4-4b00-8b30-277832f174e3",
      "metadata": {
        "id": "8db3ae52-47a4-4b00-8b30-277832f174e3"
      },
      "outputs": [],
      "source": [
        "import pandas as pd\n",
        "import numpy as np\n",
        "import matplotlib.pyplot as plt\n",
        "import seaborn as sns\n",
        "import math\n",
        "from sklearn.preprocessing import MinMaxScaler\n",
        "from sklearn.preprocessing import OneHotEncoder\n",
        "from sklearn.decomposition import PCA"
      ]
    },
    {
      "cell_type": "code",
      "source": [
        "df=pd.read_csv('DM2425_ABCDEats_DATASET.csv',delimiter=',')"
      ],
      "metadata": {
        "id": "Jwa5o5gK-Cu4"
      },
      "id": "Jwa5o5gK-Cu4",
      "execution_count": 2,
      "outputs": []
    },
    {
      "cell_type": "markdown",
      "source": [
        "#Drop Dublicates"
      ],
      "metadata": {
        "id": "40aAICTb-2fY"
      },
      "id": "40aAICTb-2fY"
    },
    {
      "cell_type": "code",
      "source": [
        "df.duplicated().sum()"
      ],
      "metadata": {
        "colab": {
          "base_uri": "https://localhost:8080/"
        },
        "id": "Q791LW8I_KDA",
        "outputId": "896200d0-6b3a-4633-d899-58c260800880"
      },
      "id": "Q791LW8I_KDA",
      "execution_count": 3,
      "outputs": [
        {
          "output_type": "execute_result",
          "data": {
            "text/plain": [
              "13"
            ]
          },
          "metadata": {},
          "execution_count": 3
        }
      ]
    },
    {
      "cell_type": "code",
      "source": [
        "df=df.drop_duplicates()\n",
        "# Count the number of remaining duplicate rows in the DataFrame after dropping duplicates\n",
        "df.duplicated().sum()"
      ],
      "metadata": {
        "colab": {
          "base_uri": "https://localhost:8080/"
        },
        "id": "LRsHlrrN-5yo",
        "outputId": "9fe4d719-394b-44ea-f0b0-c06e61a4598c"
      },
      "id": "LRsHlrrN-5yo",
      "execution_count": 4,
      "outputs": [
        {
          "output_type": "execute_result",
          "data": {
            "text/plain": [
              "0"
            ]
          },
          "metadata": {},
          "execution_count": 4
        }
      ]
    },
    {
      "cell_type": "markdown",
      "source": [
        "# Set costumer_id as the index"
      ],
      "metadata": {
        "id": "HdfcdmshB8Ew"
      },
      "id": "HdfcdmshB8Ew"
    },
    {
      "cell_type": "code",
      "source": [
        "df.set_index('customer_id', inplace=True)"
      ],
      "metadata": {
        "id": "He30YSyXCAM9"
      },
      "id": "He30YSyXCAM9",
      "execution_count": 5,
      "outputs": []
    },
    {
      "cell_type": "markdown",
      "source": [
        "## Fixing variables"
      ],
      "metadata": {
        "id": "g5c9rRRu-v5i"
      },
      "id": "g5c9rRRu-v5i"
    },
    {
      "cell_type": "markdown",
      "source": [
        "**costumer_age**"
      ],
      "metadata": {
        "id": "oWSxYmKPBr9m"
      },
      "id": "oWSxYmKPBr9m"
    },
    {
      "cell_type": "markdown",
      "source": [
        "Fill missing values with median"
      ],
      "metadata": {
        "id": "ZBIgCxdUC2vx"
      },
      "id": "ZBIgCxdUC2vx"
    },
    {
      "cell_type": "code",
      "source": [
        "df['customer_age'].isna().sum()"
      ],
      "metadata": {
        "colab": {
          "base_uri": "https://localhost:8080/"
        },
        "id": "cWplddAcaJWO",
        "outputId": "853f6d43-512a-49c3-9980-655f730e489e"
      },
      "id": "cWplddAcaJWO",
      "execution_count": 6,
      "outputs": [
        {
          "output_type": "execute_result",
          "data": {
            "text/plain": [
              "727"
            ]
          },
          "metadata": {},
          "execution_count": 6
        }
      ]
    },
    {
      "cell_type": "code",
      "source": [
        "df['customer_age'].fillna(df['customer_age'].median(),inplace=True)\n",
        "df['customer_age'].isna().sum()"
      ],
      "metadata": {
        "colab": {
          "base_uri": "https://localhost:8080/"
        },
        "id": "7jpJOyLrBuKC",
        "outputId": "74e60b9c-a52b-4036-9585-e31d61b6c7a9"
      },
      "id": "7jpJOyLrBuKC",
      "execution_count": 7,
      "outputs": [
        {
          "output_type": "stream",
          "name": "stderr",
          "text": [
            "<ipython-input-7-3ad8a2b86644>:1: FutureWarning: A value is trying to be set on a copy of a DataFrame or Series through chained assignment using an inplace method.\n",
            "The behavior will change in pandas 3.0. This inplace method will never work because the intermediate object on which we are setting values always behaves as a copy.\n",
            "\n",
            "For example, when doing 'df[col].method(value, inplace=True)', try using 'df.method({col: value}, inplace=True)' or df[col] = df[col].method(value) instead, to perform the operation inplace on the original object.\n",
            "\n",
            "\n",
            "  df['customer_age'].fillna(df['customer_age'].median(),inplace=True)\n"
          ]
        },
        {
          "output_type": "execute_result",
          "data": {
            "text/plain": [
              "0"
            ]
          },
          "metadata": {},
          "execution_count": 7
        }
      ]
    },
    {
      "cell_type": "markdown",
      "source": [
        "**costumer_region**"
      ],
      "metadata": {
        "id": "5dz1pZFzC2Dz"
      },
      "id": "5dz1pZFzC2Dz"
    },
    {
      "cell_type": "code",
      "source": [
        "df['customer_region'] = df['customer_region'].replace('-', 'Unknown')"
      ],
      "metadata": {
        "id": "ksu3qKEjDPU1"
      },
      "id": "ksu3qKEjDPU1",
      "execution_count": 8,
      "outputs": []
    },
    {
      "cell_type": "markdown",
      "source": [
        "**product_count**"
      ],
      "metadata": {
        "id": "m6vt63cKDQjv"
      },
      "id": "m6vt63cKDQjv"
    },
    {
      "cell_type": "code",
      "source": [
        "df.loc['92ced2dcb9','product_count']=100"
      ],
      "metadata": {
        "id": "kDFD_JZ4Db7u"
      },
      "id": "kDFD_JZ4Db7u",
      "execution_count": 9,
      "outputs": []
    },
    {
      "cell_type": "markdown",
      "source": [
        "**first_order**"
      ],
      "metadata": {
        "id": "PgoPbHWlDmGU"
      },
      "id": "PgoPbHWlDmGU"
    },
    {
      "cell_type": "code",
      "source": [
        "df['first_order'].fillna(df['first_order'].median(),inplace=True)"
      ],
      "metadata": {
        "colab": {
          "base_uri": "https://localhost:8080/"
        },
        "id": "OPy9ew2bDpvM",
        "outputId": "7c7dc0ad-4747-41ee-ebe4-3b4d8b7872a0"
      },
      "id": "OPy9ew2bDpvM",
      "execution_count": 10,
      "outputs": [
        {
          "output_type": "stream",
          "name": "stderr",
          "text": [
            "<ipython-input-10-542326bf2f64>:1: FutureWarning: A value is trying to be set on a copy of a DataFrame or Series through chained assignment using an inplace method.\n",
            "The behavior will change in pandas 3.0. This inplace method will never work because the intermediate object on which we are setting values always behaves as a copy.\n",
            "\n",
            "For example, when doing 'df[col].method(value, inplace=True)', try using 'df.method({col: value}, inplace=True)' or df[col] = df[col].method(value) instead, to perform the operation inplace on the original object.\n",
            "\n",
            "\n",
            "  df['first_order'].fillna(df['first_order'].median(),inplace=True)\n"
          ]
        }
      ]
    },
    {
      "cell_type": "markdown",
      "source": [
        "**last_promo**"
      ],
      "metadata": {
        "id": "1DVMVvKND7EO"
      },
      "id": "1DVMVvKND7EO"
    },
    {
      "cell_type": "code",
      "source": [
        "df['last_promo'] = df['last_promo'].replace('-', 'no_promotion_used')"
      ],
      "metadata": {
        "id": "PkgQc8pQD-Xd"
      },
      "id": "PkgQc8pQD-Xd",
      "execution_count": 11,
      "outputs": []
    },
    {
      "cell_type": "markdown",
      "source": [
        "**HR_0**"
      ],
      "metadata": {
        "id": "pHtYVInrEMg0"
      },
      "id": "pHtYVInrEMg0"
    },
    {
      "cell_type": "code",
      "source": [
        "df.drop(columns=['HR_0'], inplace=True)"
      ],
      "metadata": {
        "id": "WLvodpbJERLz"
      },
      "id": "WLvodpbJERLz",
      "execution_count": 12,
      "outputs": []
    },
    {
      "cell_type": "markdown",
      "source": [
        "#Fixing inconsistencies"
      ],
      "metadata": {
        "id": "2kiPc39hE1-p"
      },
      "id": "2kiPc39hE1-p"
    },
    {
      "cell_type": "markdown",
      "source": [
        "Eliminate rows where there are inconsistencies"
      ],
      "metadata": {
        "id": "AzwOI1yBGamv"
      },
      "id": "AzwOI1yBGamv"
    },
    {
      "cell_type": "code",
      "source": [
        "df['sum_HR']=df['HR_1']+df['HR_2']+df['HR_3']+df['HR_4']+df['HR_5']+df['HR_6']+df['HR_7']+df['HR_8']+df['HR_9']+df['HR_10']+df['HR_11']+df['HR_12']+df['HR_13']+df['HR_14']+df['HR_15']+df['HR_16']+df['HR_17']+df['HR_18']+df['HR_19']+df['HR_20']+df['HR_21']+df['HR_22']+df['HR_23']\n",
        "df['sum_DOW']=df['DOW_0']+df['DOW_1']+df['DOW_2']+df['DOW_3']+df['DOW_4']+df['DOW_5']+df['DOW_6']\n",
        "df['inc_0']=(df['sum_HR']!=df['sum_DOW'])\n",
        "df['inc_2']=(df['product_count']==0)\n",
        "df = df.loc[~(df['inc_0'] | df['inc_2'])]\n",
        "df.drop(columns=['sum_HR', 'sum_DOW', 'inc_0', 'inc_2'], inplace=True)"
      ],
      "metadata": {
        "colab": {
          "base_uri": "https://localhost:8080/"
        },
        "id": "pUPn6vpTFJNt",
        "outputId": "837e6a25-e4f5-4aff-b67a-a29197449499"
      },
      "id": "pUPn6vpTFJNt",
      "execution_count": 13,
      "outputs": [
        {
          "output_type": "stream",
          "name": "stderr",
          "text": [
            "<ipython-input-13-460a7041edd9>:6: SettingWithCopyWarning: \n",
            "A value is trying to be set on a copy of a slice from a DataFrame\n",
            "\n",
            "See the caveats in the documentation: https://pandas.pydata.org/pandas-docs/stable/user_guide/indexing.html#returning-a-view-versus-a-copy\n",
            "  df.drop(columns=['sum_HR', 'sum_DOW', 'inc_0', 'inc_2'], inplace=True)\n"
          ]
        }
      ]
    },
    {
      "cell_type": "markdown",
      "source": [
        "# New variables"
      ],
      "metadata": {
        "id": "z0T2d1erH3M8"
      },
      "id": "z0T2d1erH3M8"
    },
    {
      "cell_type": "markdown",
      "source": [
        "**Total_Spent**"
      ],
      "metadata": {
        "id": "5ADv3rbZIGBo"
      },
      "id": "5ADv3rbZIGBo"
    },
    {
      "cell_type": "code",
      "source": [
        "cuisine = [col for col in df.columns if col.startswith('CUI_')]"
      ],
      "metadata": {
        "id": "9pN7TXLzObAb"
      },
      "id": "9pN7TXLzObAb",
      "execution_count": 14,
      "outputs": []
    },
    {
      "cell_type": "code",
      "source": [
        "df['Total_Spent']=df[cuisine].sum(axis=1)"
      ],
      "metadata": {
        "id": "7z1SKhRNH580",
        "outputId": "65b717d3-9219-4b19-da26-1ea15ac194b5",
        "colab": {
          "base_uri": "https://localhost:8080/"
        }
      },
      "id": "7z1SKhRNH580",
      "execution_count": 15,
      "outputs": [
        {
          "output_type": "stream",
          "name": "stderr",
          "text": [
            "<ipython-input-15-e0b8285253ce>:1: SettingWithCopyWarning: \n",
            "A value is trying to be set on a copy of a slice from a DataFrame.\n",
            "Try using .loc[row_indexer,col_indexer] = value instead\n",
            "\n",
            "See the caveats in the documentation: https://pandas.pydata.org/pandas-docs/stable/user_guide/indexing.html#returning-a-view-versus-a-copy\n",
            "  df['Total_Spent']=df[cuisine].sum(axis=1)\n"
          ]
        }
      ]
    },
    {
      "cell_type": "markdown",
      "source": [
        "Deal with extreme outliers"
      ],
      "metadata": {
        "id": "hJFfuxU-SG83"
      },
      "id": "hJFfuxU-SG83"
    },
    {
      "cell_type": "code",
      "source": [
        "df = df.drop('92ced2dcb9', axis=0)\n",
        "df.loc['249ba584d3','CUI_Asian']=500\n",
        "df.loc['8d65421423','CUI_Japanese']=590\n",
        "df['Total_Spent']=df[cuisine].sum(axis=1)"
      ],
      "metadata": {
        "id": "n1JL9kunMvDr"
      },
      "id": "n1JL9kunMvDr",
      "execution_count": 16,
      "outputs": []
    },
    {
      "cell_type": "markdown",
      "source": [
        "**Order_Count**"
      ],
      "metadata": {
        "id": "bHTgk2OWIKXw"
      },
      "id": "bHTgk2OWIKXw"
    },
    {
      "cell_type": "code",
      "source": [
        "df['order_count']=df['DOW_0']+df['DOW_1']+df['DOW_2']+df['DOW_3']+df['DOW_4']+df['DOW_5']+df['DOW_6']"
      ],
      "metadata": {
        "id": "2FSilF83IaRI"
      },
      "id": "2FSilF83IaRI",
      "execution_count": 17,
      "outputs": []
    },
    {
      "cell_type": "markdown",
      "source": [
        "**Diversity_Cuisine**"
      ],
      "metadata": {
        "id": "mFRWalwlUeeY"
      },
      "id": "mFRWalwlUeeY"
    },
    {
      "cell_type": "code",
      "source": [
        "df['Diversity_Cuisine'] = (df[cuisine] > 0).sum(axis=1)\n",
        "df['Diversity_Cuisine'] = df['order_count']/df['Diversity_Cuisine']"
      ],
      "metadata": {
        "id": "XN_13jXlUerJ"
      },
      "id": "XN_13jXlUerJ",
      "execution_count": 18,
      "outputs": []
    },
    {
      "cell_type": "markdown",
      "source": [
        "**Costumer_time**"
      ],
      "metadata": {
        "id": "xCsQWmOiWg8R"
      },
      "id": "xCsQWmOiWg8R"
    },
    {
      "cell_type": "code",
      "source": [
        "df['costumer_time']=df['last_order']-df['first_order']"
      ],
      "metadata": {
        "id": "Do_Ym9HRWkcT"
      },
      "id": "Do_Ym9HRWkcT",
      "execution_count": 19,
      "outputs": []
    },
    {
      "cell_type": "markdown",
      "source": [
        "**Intensity_of_Activity**"
      ],
      "metadata": {
        "id": "51T04ERQWLym"
      },
      "id": "51T04ERQWLym"
    },
    {
      "cell_type": "code",
      "source": [
        "df['Intensity_of_Activity'] = df['costumer_time'] / df['order_count']"
      ],
      "metadata": {
        "id": "WMLet25-WOV6"
      },
      "id": "WMLet25-WOV6",
      "execution_count": 20,
      "outputs": []
    },
    {
      "cell_type": "markdown",
      "source": [
        "**Customer_Loyalty**"
      ],
      "metadata": {
        "id": "r4_vgo1HYcNV"
      },
      "id": "r4_vgo1HYcNV"
    },
    {
      "cell_type": "code",
      "source": [
        "df['Customer_loyalty'] = df['vendor_count'] / df['order_count']"
      ],
      "metadata": {
        "id": "I335t7sjYh0f"
      },
      "id": "I335t7sjYh0f",
      "execution_count": 21,
      "outputs": []
    },
    {
      "cell_type": "markdown",
      "source": [
        "**Product_Intensity**"
      ],
      "metadata": {
        "id": "sCuKdYQCZdiv"
      },
      "id": "sCuKdYQCZdiv"
    },
    {
      "cell_type": "code",
      "source": [
        "df['product_intensity'] = df['product_count'] / df['order_count']"
      ],
      "metadata": {
        "id": "RHil6I3CZjuq"
      },
      "id": "RHil6I3CZjuq",
      "execution_count": 22,
      "outputs": []
    },
    {
      "cell_type": "markdown",
      "source": [
        "**Day_Week_Spread**"
      ],
      "metadata": {
        "id": "N6fGsqWj3qe9"
      },
      "id": "N6fGsqWj3qe9"
    },
    {
      "cell_type": "code",
      "source": [
        "days = [col for col in df.columns if col.startswith('DOW_')]"
      ],
      "metadata": {
        "id": "PZlhd4uG6x9t"
      },
      "id": "PZlhd4uG6x9t",
      "execution_count": 23,
      "outputs": []
    },
    {
      "cell_type": "code",
      "source": [
        "df['Day_Week_Spread'] = df.loc[:,days].var(axis=1)"
      ],
      "metadata": {
        "id": "ZsJoVRMm6oh2"
      },
      "id": "ZsJoVRMm6oh2",
      "execution_count": 24,
      "outputs": []
    },
    {
      "cell_type": "markdown",
      "source": [
        "**Day_week_highest**"
      ],
      "metadata": {
        "id": "JHmZC1c566fq"
      },
      "id": "JHmZC1c566fq"
    },
    {
      "cell_type": "code",
      "source": [
        "df['week_highest']=df.loc[:,days].idxmax(axis=1)\n",
        "df['week_highest']=df['week_highest'].str.replace('DOW_', '')\n",
        "df['week_highest']=df['week_highest'].astype(int)\n",
        "df['week_highest']=df['week_highest']+1"
      ],
      "metadata": {
        "id": "DXQXpLqd7Ary"
      },
      "id": "DXQXpLqd7Ary",
      "execution_count": 25,
      "outputs": []
    },
    {
      "cell_type": "markdown",
      "source": [
        "**hour_spread**"
      ],
      "metadata": {
        "id": "A0JJGlLN7ppg"
      },
      "id": "A0JJGlLN7ppg"
    },
    {
      "cell_type": "code",
      "source": [
        "hours=[col for col in df.columns if col.startswith('HR_')]"
      ],
      "metadata": {
        "id": "X6WUt0W-7wtu"
      },
      "id": "X6WUt0W-7wtu",
      "execution_count": 26,
      "outputs": []
    },
    {
      "cell_type": "code",
      "source": [
        "df['hour_spread'] = df.loc[:,hours].var(axis=1)"
      ],
      "metadata": {
        "id": "PyFgombB78Iq"
      },
      "id": "PyFgombB78Iq",
      "execution_count": 27,
      "outputs": []
    },
    {
      "cell_type": "markdown",
      "source": [
        "**hour_highest**"
      ],
      "metadata": {
        "id": "d0LEEySw8Aps"
      },
      "id": "d0LEEySw8Aps"
    },
    {
      "cell_type": "code",
      "source": [
        "df['hour_highest']=df.loc[:,hours].idxmax(axis=1)\n",
        "df['hour_highest']=df['hour_highest'].str.replace('HR_', '')\n",
        "df['hour_highest']=df['hour_highest'].astype(int)"
      ],
      "metadata": {
        "id": "S3nbCbJs8EUx"
      },
      "id": "S3nbCbJs8EUx",
      "execution_count": 28,
      "outputs": []
    },
    {
      "cell_type": "markdown",
      "source": [
        "# Normalize data"
      ],
      "metadata": {
        "id": "88tIVnyJDDfW"
      },
      "id": "88tIVnyJDDfW"
    },
    {
      "cell_type": "code",
      "source": [
        "metric_features = df.select_dtypes(include=['number']).columns.tolist()"
      ],
      "metadata": {
        "id": "-nI0DdK_DGbN"
      },
      "id": "-nI0DdK_DGbN",
      "execution_count": 29,
      "outputs": []
    },
    {
      "cell_type": "code",
      "source": [
        "scaler = MinMaxScaler()\n",
        "scaled_feat = scaler.fit_transform(df[metric_features])\n",
        "df[metric_features] = scaled_feat"
      ],
      "metadata": {
        "id": "RnIGC-YPFtZ2"
      },
      "id": "RnIGC-YPFtZ2",
      "execution_count": 30,
      "outputs": []
    },
    {
      "cell_type": "code",
      "source": [
        "categorical_features = df.select_dtypes(include=['object', 'category']).columns.tolist()"
      ],
      "metadata": {
        "id": "wTC9SwzMG_nA"
      },
      "id": "wTC9SwzMG_nA",
      "execution_count": 31,
      "outputs": []
    },
    {
      "cell_type": "code",
      "source": [
        "ohc = OneHotEncoder(sparse_output=False, drop=\"first\")\n",
        "ohc_feat = ohc.fit_transform(df[categorical_features])\n",
        "ohc_feat_names = ohc.get_feature_names_out()\n",
        "ohc_df = pd.DataFrame(ohc_feat, index=df.index, columns=ohc_feat_names)  # Why the index=df_ohc.index?\n",
        "ohc_df"
      ],
      "metadata": {
        "id": "x6pN72UYHxjJ",
        "outputId": "fc61c166-0593-4504-d215-1e13ee4d9fdf",
        "colab": {
          "base_uri": "https://localhost:8080/",
          "height": 475
        }
      },
      "id": "x6pN72UYHxjJ",
      "execution_count": 32,
      "outputs": [
        {
          "output_type": "execute_result",
          "data": {
            "text/plain": [
              "             customer_region_2440  customer_region_2490  customer_region_4140  \\\n",
              "customer_id                                                                     \n",
              "1b8f824d5e                    0.0                   0.0                   0.0   \n",
              "5d272b9dcb                    0.0                   0.0                   0.0   \n",
              "f6d1b2ba63                    0.0                   0.0                   0.0   \n",
              "180c632ed8                    0.0                   0.0                   0.0   \n",
              "4eb37a6705                    0.0                   0.0                   0.0   \n",
              "...                           ...                   ...                   ...   \n",
              "f4e366c281                    0.0                   0.0                   0.0   \n",
              "f6b6709018                    0.0                   0.0                   0.0   \n",
              "f74ad8ce3f                    0.0                   0.0                   0.0   \n",
              "f7b19c0241                    0.0                   0.0                   0.0   \n",
              "fd40d3b0e0                    0.0                   0.0                   0.0   \n",
              "\n",
              "             customer_region_4660  customer_region_8370  customer_region_8550  \\\n",
              "customer_id                                                                     \n",
              "1b8f824d5e                    0.0                   0.0                   0.0   \n",
              "5d272b9dcb                    0.0                   0.0                   0.0   \n",
              "f6d1b2ba63                    1.0                   0.0                   0.0   \n",
              "180c632ed8                    1.0                   0.0                   0.0   \n",
              "4eb37a6705                    1.0                   0.0                   0.0   \n",
              "...                           ...                   ...                   ...   \n",
              "f4e366c281                    0.0                   0.0                   0.0   \n",
              "f6b6709018                    0.0                   0.0                   0.0   \n",
              "f74ad8ce3f                    0.0                   0.0                   0.0   \n",
              "f7b19c0241                    0.0                   0.0                   0.0   \n",
              "fd40d3b0e0                    1.0                   0.0                   0.0   \n",
              "\n",
              "             customer_region_8670  customer_region_Unknown  \\\n",
              "customer_id                                                  \n",
              "1b8f824d5e                    0.0                      0.0   \n",
              "5d272b9dcb                    1.0                      0.0   \n",
              "f6d1b2ba63                    0.0                      0.0   \n",
              "180c632ed8                    0.0                      0.0   \n",
              "4eb37a6705                    0.0                      0.0   \n",
              "...                           ...                      ...   \n",
              "f4e366c281                    1.0                      0.0   \n",
              "f6b6709018                    1.0                      0.0   \n",
              "f74ad8ce3f                    1.0                      0.0   \n",
              "f7b19c0241                    1.0                      0.0   \n",
              "fd40d3b0e0                    0.0                      0.0   \n",
              "\n",
              "             last_promo_DISCOUNT  last_promo_FREEBIE  \\\n",
              "customer_id                                            \n",
              "1b8f824d5e                   0.0                 0.0   \n",
              "5d272b9dcb                   1.0                 0.0   \n",
              "f6d1b2ba63                   1.0                 0.0   \n",
              "180c632ed8                   0.0                 0.0   \n",
              "4eb37a6705                   0.0                 0.0   \n",
              "...                          ...                 ...   \n",
              "f4e366c281                   0.0                 1.0   \n",
              "f6b6709018                   0.0                 0.0   \n",
              "f74ad8ce3f                   0.0                 0.0   \n",
              "f7b19c0241                   1.0                 0.0   \n",
              "fd40d3b0e0                   0.0                 0.0   \n",
              "\n",
              "             last_promo_no_promotion_used  payment_method_CASH  \\\n",
              "customer_id                                                      \n",
              "1b8f824d5e                            0.0                  0.0   \n",
              "5d272b9dcb                            0.0                  0.0   \n",
              "f6d1b2ba63                            0.0                  1.0   \n",
              "180c632ed8                            0.0                  0.0   \n",
              "4eb37a6705                            1.0                  0.0   \n",
              "...                                   ...                  ...   \n",
              "f4e366c281                            0.0                  0.0   \n",
              "f6b6709018                            0.0                  0.0   \n",
              "f74ad8ce3f                            1.0                  0.0   \n",
              "f7b19c0241                            0.0                  0.0   \n",
              "fd40d3b0e0                            1.0                  1.0   \n",
              "\n",
              "             payment_method_DIGI  \n",
              "customer_id                       \n",
              "1b8f824d5e                   1.0  \n",
              "5d272b9dcb                   1.0  \n",
              "f6d1b2ba63                   0.0  \n",
              "180c632ed8                   1.0  \n",
              "4eb37a6705                   1.0  \n",
              "...                          ...  \n",
              "f4e366c281                   1.0  \n",
              "f6b6709018                   1.0  \n",
              "f74ad8ce3f                   1.0  \n",
              "f7b19c0241                   1.0  \n",
              "fd40d3b0e0                   0.0  \n",
              "\n",
              "[30554 rows x 13 columns]"
            ],
            "text/html": [
              "\n",
              "  <div id=\"df-fb5a7b0f-8674-4e6a-bbc0-edd42eca3191\" class=\"colab-df-container\">\n",
              "    <div>\n",
              "<style scoped>\n",
              "    .dataframe tbody tr th:only-of-type {\n",
              "        vertical-align: middle;\n",
              "    }\n",
              "\n",
              "    .dataframe tbody tr th {\n",
              "        vertical-align: top;\n",
              "    }\n",
              "\n",
              "    .dataframe thead th {\n",
              "        text-align: right;\n",
              "    }\n",
              "</style>\n",
              "<table border=\"1\" class=\"dataframe\">\n",
              "  <thead>\n",
              "    <tr style=\"text-align: right;\">\n",
              "      <th></th>\n",
              "      <th>customer_region_2440</th>\n",
              "      <th>customer_region_2490</th>\n",
              "      <th>customer_region_4140</th>\n",
              "      <th>customer_region_4660</th>\n",
              "      <th>customer_region_8370</th>\n",
              "      <th>customer_region_8550</th>\n",
              "      <th>customer_region_8670</th>\n",
              "      <th>customer_region_Unknown</th>\n",
              "      <th>last_promo_DISCOUNT</th>\n",
              "      <th>last_promo_FREEBIE</th>\n",
              "      <th>last_promo_no_promotion_used</th>\n",
              "      <th>payment_method_CASH</th>\n",
              "      <th>payment_method_DIGI</th>\n",
              "    </tr>\n",
              "    <tr>\n",
              "      <th>customer_id</th>\n",
              "      <th></th>\n",
              "      <th></th>\n",
              "      <th></th>\n",
              "      <th></th>\n",
              "      <th></th>\n",
              "      <th></th>\n",
              "      <th></th>\n",
              "      <th></th>\n",
              "      <th></th>\n",
              "      <th></th>\n",
              "      <th></th>\n",
              "      <th></th>\n",
              "      <th></th>\n",
              "    </tr>\n",
              "  </thead>\n",
              "  <tbody>\n",
              "    <tr>\n",
              "      <th>1b8f824d5e</th>\n",
              "      <td>0.0</td>\n",
              "      <td>0.0</td>\n",
              "      <td>0.0</td>\n",
              "      <td>0.0</td>\n",
              "      <td>0.0</td>\n",
              "      <td>0.0</td>\n",
              "      <td>0.0</td>\n",
              "      <td>0.0</td>\n",
              "      <td>0.0</td>\n",
              "      <td>0.0</td>\n",
              "      <td>0.0</td>\n",
              "      <td>0.0</td>\n",
              "      <td>1.0</td>\n",
              "    </tr>\n",
              "    <tr>\n",
              "      <th>5d272b9dcb</th>\n",
              "      <td>0.0</td>\n",
              "      <td>0.0</td>\n",
              "      <td>0.0</td>\n",
              "      <td>0.0</td>\n",
              "      <td>0.0</td>\n",
              "      <td>0.0</td>\n",
              "      <td>1.0</td>\n",
              "      <td>0.0</td>\n",
              "      <td>1.0</td>\n",
              "      <td>0.0</td>\n",
              "      <td>0.0</td>\n",
              "      <td>0.0</td>\n",
              "      <td>1.0</td>\n",
              "    </tr>\n",
              "    <tr>\n",
              "      <th>f6d1b2ba63</th>\n",
              "      <td>0.0</td>\n",
              "      <td>0.0</td>\n",
              "      <td>0.0</td>\n",
              "      <td>1.0</td>\n",
              "      <td>0.0</td>\n",
              "      <td>0.0</td>\n",
              "      <td>0.0</td>\n",
              "      <td>0.0</td>\n",
              "      <td>1.0</td>\n",
              "      <td>0.0</td>\n",
              "      <td>0.0</td>\n",
              "      <td>1.0</td>\n",
              "      <td>0.0</td>\n",
              "    </tr>\n",
              "    <tr>\n",
              "      <th>180c632ed8</th>\n",
              "      <td>0.0</td>\n",
              "      <td>0.0</td>\n",
              "      <td>0.0</td>\n",
              "      <td>1.0</td>\n",
              "      <td>0.0</td>\n",
              "      <td>0.0</td>\n",
              "      <td>0.0</td>\n",
              "      <td>0.0</td>\n",
              "      <td>0.0</td>\n",
              "      <td>0.0</td>\n",
              "      <td>0.0</td>\n",
              "      <td>0.0</td>\n",
              "      <td>1.0</td>\n",
              "    </tr>\n",
              "    <tr>\n",
              "      <th>4eb37a6705</th>\n",
              "      <td>0.0</td>\n",
              "      <td>0.0</td>\n",
              "      <td>0.0</td>\n",
              "      <td>1.0</td>\n",
              "      <td>0.0</td>\n",
              "      <td>0.0</td>\n",
              "      <td>0.0</td>\n",
              "      <td>0.0</td>\n",
              "      <td>0.0</td>\n",
              "      <td>0.0</td>\n",
              "      <td>1.0</td>\n",
              "      <td>0.0</td>\n",
              "      <td>1.0</td>\n",
              "    </tr>\n",
              "    <tr>\n",
              "      <th>...</th>\n",
              "      <td>...</td>\n",
              "      <td>...</td>\n",
              "      <td>...</td>\n",
              "      <td>...</td>\n",
              "      <td>...</td>\n",
              "      <td>...</td>\n",
              "      <td>...</td>\n",
              "      <td>...</td>\n",
              "      <td>...</td>\n",
              "      <td>...</td>\n",
              "      <td>...</td>\n",
              "      <td>...</td>\n",
              "      <td>...</td>\n",
              "    </tr>\n",
              "    <tr>\n",
              "      <th>f4e366c281</th>\n",
              "      <td>0.0</td>\n",
              "      <td>0.0</td>\n",
              "      <td>0.0</td>\n",
              "      <td>0.0</td>\n",
              "      <td>0.0</td>\n",
              "      <td>0.0</td>\n",
              "      <td>1.0</td>\n",
              "      <td>0.0</td>\n",
              "      <td>0.0</td>\n",
              "      <td>1.0</td>\n",
              "      <td>0.0</td>\n",
              "      <td>0.0</td>\n",
              "      <td>1.0</td>\n",
              "    </tr>\n",
              "    <tr>\n",
              "      <th>f6b6709018</th>\n",
              "      <td>0.0</td>\n",
              "      <td>0.0</td>\n",
              "      <td>0.0</td>\n",
              "      <td>0.0</td>\n",
              "      <td>0.0</td>\n",
              "      <td>0.0</td>\n",
              "      <td>1.0</td>\n",
              "      <td>0.0</td>\n",
              "      <td>0.0</td>\n",
              "      <td>0.0</td>\n",
              "      <td>0.0</td>\n",
              "      <td>0.0</td>\n",
              "      <td>1.0</td>\n",
              "    </tr>\n",
              "    <tr>\n",
              "      <th>f74ad8ce3f</th>\n",
              "      <td>0.0</td>\n",
              "      <td>0.0</td>\n",
              "      <td>0.0</td>\n",
              "      <td>0.0</td>\n",
              "      <td>0.0</td>\n",
              "      <td>0.0</td>\n",
              "      <td>1.0</td>\n",
              "      <td>0.0</td>\n",
              "      <td>0.0</td>\n",
              "      <td>0.0</td>\n",
              "      <td>1.0</td>\n",
              "      <td>0.0</td>\n",
              "      <td>1.0</td>\n",
              "    </tr>\n",
              "    <tr>\n",
              "      <th>f7b19c0241</th>\n",
              "      <td>0.0</td>\n",
              "      <td>0.0</td>\n",
              "      <td>0.0</td>\n",
              "      <td>0.0</td>\n",
              "      <td>0.0</td>\n",
              "      <td>0.0</td>\n",
              "      <td>1.0</td>\n",
              "      <td>0.0</td>\n",
              "      <td>1.0</td>\n",
              "      <td>0.0</td>\n",
              "      <td>0.0</td>\n",
              "      <td>0.0</td>\n",
              "      <td>1.0</td>\n",
              "    </tr>\n",
              "    <tr>\n",
              "      <th>fd40d3b0e0</th>\n",
              "      <td>0.0</td>\n",
              "      <td>0.0</td>\n",
              "      <td>0.0</td>\n",
              "      <td>1.0</td>\n",
              "      <td>0.0</td>\n",
              "      <td>0.0</td>\n",
              "      <td>0.0</td>\n",
              "      <td>0.0</td>\n",
              "      <td>0.0</td>\n",
              "      <td>0.0</td>\n",
              "      <td>1.0</td>\n",
              "      <td>1.0</td>\n",
              "      <td>0.0</td>\n",
              "    </tr>\n",
              "  </tbody>\n",
              "</table>\n",
              "<p>30554 rows × 13 columns</p>\n",
              "</div>\n",
              "    <div class=\"colab-df-buttons\">\n",
              "\n",
              "  <div class=\"colab-df-container\">\n",
              "    <button class=\"colab-df-convert\" onclick=\"convertToInteractive('df-fb5a7b0f-8674-4e6a-bbc0-edd42eca3191')\"\n",
              "            title=\"Convert this dataframe to an interactive table.\"\n",
              "            style=\"display:none;\">\n",
              "\n",
              "  <svg xmlns=\"http://www.w3.org/2000/svg\" height=\"24px\" viewBox=\"0 -960 960 960\">\n",
              "    <path d=\"M120-120v-720h720v720H120Zm60-500h600v-160H180v160Zm220 220h160v-160H400v160Zm0 220h160v-160H400v160ZM180-400h160v-160H180v160Zm440 0h160v-160H620v160ZM180-180h160v-160H180v160Zm440 0h160v-160H620v160Z\"/>\n",
              "  </svg>\n",
              "    </button>\n",
              "\n",
              "  <style>\n",
              "    .colab-df-container {\n",
              "      display:flex;\n",
              "      gap: 12px;\n",
              "    }\n",
              "\n",
              "    .colab-df-convert {\n",
              "      background-color: #E8F0FE;\n",
              "      border: none;\n",
              "      border-radius: 50%;\n",
              "      cursor: pointer;\n",
              "      display: none;\n",
              "      fill: #1967D2;\n",
              "      height: 32px;\n",
              "      padding: 0 0 0 0;\n",
              "      width: 32px;\n",
              "    }\n",
              "\n",
              "    .colab-df-convert:hover {\n",
              "      background-color: #E2EBFA;\n",
              "      box-shadow: 0px 1px 2px rgba(60, 64, 67, 0.3), 0px 1px 3px 1px rgba(60, 64, 67, 0.15);\n",
              "      fill: #174EA6;\n",
              "    }\n",
              "\n",
              "    .colab-df-buttons div {\n",
              "      margin-bottom: 4px;\n",
              "    }\n",
              "\n",
              "    [theme=dark] .colab-df-convert {\n",
              "      background-color: #3B4455;\n",
              "      fill: #D2E3FC;\n",
              "    }\n",
              "\n",
              "    [theme=dark] .colab-df-convert:hover {\n",
              "      background-color: #434B5C;\n",
              "      box-shadow: 0px 1px 3px 1px rgba(0, 0, 0, 0.15);\n",
              "      filter: drop-shadow(0px 1px 2px rgba(0, 0, 0, 0.3));\n",
              "      fill: #FFFFFF;\n",
              "    }\n",
              "  </style>\n",
              "\n",
              "    <script>\n",
              "      const buttonEl =\n",
              "        document.querySelector('#df-fb5a7b0f-8674-4e6a-bbc0-edd42eca3191 button.colab-df-convert');\n",
              "      buttonEl.style.display =\n",
              "        google.colab.kernel.accessAllowed ? 'block' : 'none';\n",
              "\n",
              "      async function convertToInteractive(key) {\n",
              "        const element = document.querySelector('#df-fb5a7b0f-8674-4e6a-bbc0-edd42eca3191');\n",
              "        const dataTable =\n",
              "          await google.colab.kernel.invokeFunction('convertToInteractive',\n",
              "                                                    [key], {});\n",
              "        if (!dataTable) return;\n",
              "\n",
              "        const docLinkHtml = 'Like what you see? Visit the ' +\n",
              "          '<a target=\"_blank\" href=https://colab.research.google.com/notebooks/data_table.ipynb>data table notebook</a>'\n",
              "          + ' to learn more about interactive tables.';\n",
              "        element.innerHTML = '';\n",
              "        dataTable['output_type'] = 'display_data';\n",
              "        await google.colab.output.renderOutput(dataTable, element);\n",
              "        const docLink = document.createElement('div');\n",
              "        docLink.innerHTML = docLinkHtml;\n",
              "        element.appendChild(docLink);\n",
              "      }\n",
              "    </script>\n",
              "  </div>\n",
              "\n",
              "\n",
              "<div id=\"df-40b85a64-6ac2-4ecd-841f-f57da27805ef\">\n",
              "  <button class=\"colab-df-quickchart\" onclick=\"quickchart('df-40b85a64-6ac2-4ecd-841f-f57da27805ef')\"\n",
              "            title=\"Suggest charts\"\n",
              "            style=\"display:none;\">\n",
              "\n",
              "<svg xmlns=\"http://www.w3.org/2000/svg\" height=\"24px\"viewBox=\"0 0 24 24\"\n",
              "     width=\"24px\">\n",
              "    <g>\n",
              "        <path d=\"M19 3H5c-1.1 0-2 .9-2 2v14c0 1.1.9 2 2 2h14c1.1 0 2-.9 2-2V5c0-1.1-.9-2-2-2zM9 17H7v-7h2v7zm4 0h-2V7h2v10zm4 0h-2v-4h2v4z\"/>\n",
              "    </g>\n",
              "</svg>\n",
              "  </button>\n",
              "\n",
              "<style>\n",
              "  .colab-df-quickchart {\n",
              "      --bg-color: #E8F0FE;\n",
              "      --fill-color: #1967D2;\n",
              "      --hover-bg-color: #E2EBFA;\n",
              "      --hover-fill-color: #174EA6;\n",
              "      --disabled-fill-color: #AAA;\n",
              "      --disabled-bg-color: #DDD;\n",
              "  }\n",
              "\n",
              "  [theme=dark] .colab-df-quickchart {\n",
              "      --bg-color: #3B4455;\n",
              "      --fill-color: #D2E3FC;\n",
              "      --hover-bg-color: #434B5C;\n",
              "      --hover-fill-color: #FFFFFF;\n",
              "      --disabled-bg-color: #3B4455;\n",
              "      --disabled-fill-color: #666;\n",
              "  }\n",
              "\n",
              "  .colab-df-quickchart {\n",
              "    background-color: var(--bg-color);\n",
              "    border: none;\n",
              "    border-radius: 50%;\n",
              "    cursor: pointer;\n",
              "    display: none;\n",
              "    fill: var(--fill-color);\n",
              "    height: 32px;\n",
              "    padding: 0;\n",
              "    width: 32px;\n",
              "  }\n",
              "\n",
              "  .colab-df-quickchart:hover {\n",
              "    background-color: var(--hover-bg-color);\n",
              "    box-shadow: 0 1px 2px rgba(60, 64, 67, 0.3), 0 1px 3px 1px rgba(60, 64, 67, 0.15);\n",
              "    fill: var(--button-hover-fill-color);\n",
              "  }\n",
              "\n",
              "  .colab-df-quickchart-complete:disabled,\n",
              "  .colab-df-quickchart-complete:disabled:hover {\n",
              "    background-color: var(--disabled-bg-color);\n",
              "    fill: var(--disabled-fill-color);\n",
              "    box-shadow: none;\n",
              "  }\n",
              "\n",
              "  .colab-df-spinner {\n",
              "    border: 2px solid var(--fill-color);\n",
              "    border-color: transparent;\n",
              "    border-bottom-color: var(--fill-color);\n",
              "    animation:\n",
              "      spin 1s steps(1) infinite;\n",
              "  }\n",
              "\n",
              "  @keyframes spin {\n",
              "    0% {\n",
              "      border-color: transparent;\n",
              "      border-bottom-color: var(--fill-color);\n",
              "      border-left-color: var(--fill-color);\n",
              "    }\n",
              "    20% {\n",
              "      border-color: transparent;\n",
              "      border-left-color: var(--fill-color);\n",
              "      border-top-color: var(--fill-color);\n",
              "    }\n",
              "    30% {\n",
              "      border-color: transparent;\n",
              "      border-left-color: var(--fill-color);\n",
              "      border-top-color: var(--fill-color);\n",
              "      border-right-color: var(--fill-color);\n",
              "    }\n",
              "    40% {\n",
              "      border-color: transparent;\n",
              "      border-right-color: var(--fill-color);\n",
              "      border-top-color: var(--fill-color);\n",
              "    }\n",
              "    60% {\n",
              "      border-color: transparent;\n",
              "      border-right-color: var(--fill-color);\n",
              "    }\n",
              "    80% {\n",
              "      border-color: transparent;\n",
              "      border-right-color: var(--fill-color);\n",
              "      border-bottom-color: var(--fill-color);\n",
              "    }\n",
              "    90% {\n",
              "      border-color: transparent;\n",
              "      border-bottom-color: var(--fill-color);\n",
              "    }\n",
              "  }\n",
              "</style>\n",
              "\n",
              "  <script>\n",
              "    async function quickchart(key) {\n",
              "      const quickchartButtonEl =\n",
              "        document.querySelector('#' + key + ' button');\n",
              "      quickchartButtonEl.disabled = true;  // To prevent multiple clicks.\n",
              "      quickchartButtonEl.classList.add('colab-df-spinner');\n",
              "      try {\n",
              "        const charts = await google.colab.kernel.invokeFunction(\n",
              "            'suggestCharts', [key], {});\n",
              "      } catch (error) {\n",
              "        console.error('Error during call to suggestCharts:', error);\n",
              "      }\n",
              "      quickchartButtonEl.classList.remove('colab-df-spinner');\n",
              "      quickchartButtonEl.classList.add('colab-df-quickchart-complete');\n",
              "    }\n",
              "    (() => {\n",
              "      let quickchartButtonEl =\n",
              "        document.querySelector('#df-40b85a64-6ac2-4ecd-841f-f57da27805ef button');\n",
              "      quickchartButtonEl.style.display =\n",
              "        google.colab.kernel.accessAllowed ? 'block' : 'none';\n",
              "    })();\n",
              "  </script>\n",
              "</div>\n",
              "\n",
              "  <div id=\"id_674e988c-b85a-4e14-bc38-f89d2d57898a\">\n",
              "    <style>\n",
              "      .colab-df-generate {\n",
              "        background-color: #E8F0FE;\n",
              "        border: none;\n",
              "        border-radius: 50%;\n",
              "        cursor: pointer;\n",
              "        display: none;\n",
              "        fill: #1967D2;\n",
              "        height: 32px;\n",
              "        padding: 0 0 0 0;\n",
              "        width: 32px;\n",
              "      }\n",
              "\n",
              "      .colab-df-generate:hover {\n",
              "        background-color: #E2EBFA;\n",
              "        box-shadow: 0px 1px 2px rgba(60, 64, 67, 0.3), 0px 1px 3px 1px rgba(60, 64, 67, 0.15);\n",
              "        fill: #174EA6;\n",
              "      }\n",
              "\n",
              "      [theme=dark] .colab-df-generate {\n",
              "        background-color: #3B4455;\n",
              "        fill: #D2E3FC;\n",
              "      }\n",
              "\n",
              "      [theme=dark] .colab-df-generate:hover {\n",
              "        background-color: #434B5C;\n",
              "        box-shadow: 0px 1px 3px 1px rgba(0, 0, 0, 0.15);\n",
              "        filter: drop-shadow(0px 1px 2px rgba(0, 0, 0, 0.3));\n",
              "        fill: #FFFFFF;\n",
              "      }\n",
              "    </style>\n",
              "    <button class=\"colab-df-generate\" onclick=\"generateWithVariable('ohc_df')\"\n",
              "            title=\"Generate code using this dataframe.\"\n",
              "            style=\"display:none;\">\n",
              "\n",
              "  <svg xmlns=\"http://www.w3.org/2000/svg\" height=\"24px\"viewBox=\"0 0 24 24\"\n",
              "       width=\"24px\">\n",
              "    <path d=\"M7,19H8.4L18.45,9,17,7.55,7,17.6ZM5,21V16.75L18.45,3.32a2,2,0,0,1,2.83,0l1.4,1.43a1.91,1.91,0,0,1,.58,1.4,1.91,1.91,0,0,1-.58,1.4L9.25,21ZM18.45,9,17,7.55Zm-12,3A5.31,5.31,0,0,0,4.9,8.1,5.31,5.31,0,0,0,1,6.5,5.31,5.31,0,0,0,4.9,4.9,5.31,5.31,0,0,0,6.5,1,5.31,5.31,0,0,0,8.1,4.9,5.31,5.31,0,0,0,12,6.5,5.46,5.46,0,0,0,6.5,12Z\"/>\n",
              "  </svg>\n",
              "    </button>\n",
              "    <script>\n",
              "      (() => {\n",
              "      const buttonEl =\n",
              "        document.querySelector('#id_674e988c-b85a-4e14-bc38-f89d2d57898a button.colab-df-generate');\n",
              "      buttonEl.style.display =\n",
              "        google.colab.kernel.accessAllowed ? 'block' : 'none';\n",
              "\n",
              "      buttonEl.onclick = () => {\n",
              "        google.colab.notebook.generateWithVariable('ohc_df');\n",
              "      }\n",
              "      })();\n",
              "    </script>\n",
              "  </div>\n",
              "\n",
              "    </div>\n",
              "  </div>\n"
            ],
            "application/vnd.google.colaboratory.intrinsic+json": {
              "type": "dataframe",
              "variable_name": "ohc_df",
              "summary": "{\n  \"name\": \"ohc_df\",\n  \"rows\": 30554,\n  \"fields\": [\n    {\n      \"column\": \"customer_id\",\n      \"properties\": {\n        \"dtype\": \"string\",\n        \"num_unique_values\": 30554,\n        \"samples\": [\n          \"afb56ca16f\",\n          \"6a5f6be04a\",\n          \"da41776eaa\"\n        ],\n        \"semantic_type\": \"\",\n        \"description\": \"\"\n      }\n    },\n    {\n      \"column\": \"customer_region_2440\",\n      \"properties\": {\n        \"dtype\": \"number\",\n        \"std\": 0.21198957463076695,\n        \"min\": 0.0,\n        \"max\": 1.0,\n        \"num_unique_values\": 2,\n        \"samples\": [\n          1.0,\n          0.0\n        ],\n        \"semantic_type\": \"\",\n        \"description\": \"\"\n      }\n    },\n    {\n      \"column\": \"customer_region_2490\",\n      \"properties\": {\n        \"dtype\": \"number\",\n        \"std\": 0.11684657562943086,\n        \"min\": 0.0,\n        \"max\": 1.0,\n        \"num_unique_values\": 2,\n        \"samples\": [\n          1.0,\n          0.0\n        ],\n        \"semantic_type\": \"\",\n        \"description\": \"\"\n      }\n    },\n    {\n      \"column\": \"customer_region_4140\",\n      \"properties\": {\n        \"dtype\": \"number\",\n        \"std\": 0.1625667431998351,\n        \"min\": 0.0,\n        \"max\": 1.0,\n        \"num_unique_values\": 2,\n        \"samples\": [\n          1.0,\n          0.0\n        ],\n        \"semantic_type\": \"\",\n        \"description\": \"\"\n      }\n    },\n    {\n      \"column\": \"customer_region_4660\",\n      \"properties\": {\n        \"dtype\": \"number\",\n        \"std\": 0.4620726767247971,\n        \"min\": 0.0,\n        \"max\": 1.0,\n        \"num_unique_values\": 2,\n        \"samples\": [\n          1.0,\n          0.0\n        ],\n        \"semantic_type\": \"\",\n        \"description\": \"\"\n      }\n    },\n    {\n      \"column\": \"customer_region_8370\",\n      \"properties\": {\n        \"dtype\": \"number\",\n        \"std\": 0.12294205328297177,\n        \"min\": 0.0,\n        \"max\": 1.0,\n        \"num_unique_values\": 2,\n        \"samples\": [\n          1.0,\n          0.0\n        ],\n        \"semantic_type\": \"\",\n        \"description\": \"\"\n      }\n    },\n    {\n      \"column\": \"customer_region_8550\",\n      \"properties\": {\n        \"dtype\": \"number\",\n        \"std\": 0.019814284400179176,\n        \"min\": 0.0,\n        \"max\": 1.0,\n        \"num_unique_values\": 2,\n        \"samples\": [\n          1.0,\n          0.0\n        ],\n        \"semantic_type\": \"\",\n        \"description\": \"\"\n      }\n    },\n    {\n      \"column\": \"customer_region_8670\",\n      \"properties\": {\n        \"dtype\": \"number\",\n        \"std\": 0.4565279152543526,\n        \"min\": 0.0,\n        \"max\": 1.0,\n        \"num_unique_values\": 2,\n        \"samples\": [\n          1.0,\n          0.0\n        ],\n        \"semantic_type\": \"\",\n        \"description\": \"\"\n      }\n    },\n    {\n      \"column\": \"customer_region_Unknown\",\n      \"properties\": {\n        \"dtype\": \"number\",\n        \"std\": 0.11464583662614818,\n        \"min\": 0.0,\n        \"max\": 1.0,\n        \"num_unique_values\": 2,\n        \"samples\": [\n          1.0,\n          0.0\n        ],\n        \"semantic_type\": \"\",\n        \"description\": \"\"\n      }\n    },\n    {\n      \"column\": \"last_promo_DISCOUNT\",\n      \"properties\": {\n        \"dtype\": \"number\",\n        \"std\": 0.34846177587977173,\n        \"min\": 0.0,\n        \"max\": 1.0,\n        \"num_unique_values\": 2,\n        \"samples\": [\n          1.0,\n          0.0\n        ],\n        \"semantic_type\": \"\",\n        \"description\": \"\"\n      }\n    },\n    {\n      \"column\": \"last_promo_FREEBIE\",\n      \"properties\": {\n        \"dtype\": \"number\",\n        \"std\": 0.3434067695644051,\n        \"min\": 0.0,\n        \"max\": 1.0,\n        \"num_unique_values\": 2,\n        \"samples\": [\n          1.0,\n          0.0\n        ],\n        \"semantic_type\": \"\",\n        \"description\": \"\"\n      }\n    },\n    {\n      \"column\": \"last_promo_no_promotion_used\",\n      \"properties\": {\n        \"dtype\": \"number\",\n        \"std\": 0.4994479207340086,\n        \"min\": 0.0,\n        \"max\": 1.0,\n        \"num_unique_values\": 2,\n        \"samples\": [\n          1.0,\n          0.0\n        ],\n        \"semantic_type\": \"\",\n        \"description\": \"\"\n      }\n    },\n    {\n      \"column\": \"payment_method_CASH\",\n      \"properties\": {\n        \"dtype\": \"number\",\n        \"std\": 0.3822815515426458,\n        \"min\": 0.0,\n        \"max\": 1.0,\n        \"num_unique_values\": 2,\n        \"samples\": [\n          1.0,\n          0.0\n        ],\n        \"semantic_type\": \"\",\n        \"description\": \"\"\n      }\n    },\n    {\n      \"column\": \"payment_method_DIGI\",\n      \"properties\": {\n        \"dtype\": \"number\",\n        \"std\": 0.39379329716519174,\n        \"min\": 0.0,\n        \"max\": 1.0,\n        \"num_unique_values\": 2,\n        \"samples\": [\n          0.0,\n          1.0\n        ],\n        \"semantic_type\": \"\",\n        \"description\": \"\"\n      }\n    }\n  ]\n}"
            }
          },
          "metadata": {},
          "execution_count": 32
        }
      ]
    },
    {
      "cell_type": "markdown",
      "source": [
        "#PCA for CUIS`s"
      ],
      "metadata": {
        "id": "D1sknH4ao9WU"
      },
      "id": "D1sknH4ao9WU"
    },
    {
      "cell_type": "code",
      "source": [
        "X = df[metric_features]\n",
        "pca = PCA().fit(X)\n",
        "# Plot cumulative explained variance\n",
        "plt.plot(np.cumsum(pca.explained_variance_ratio_))\n",
        "plt.xlabel('Number of Components')\n",
        "plt.ylabel('Cumulative Explained Variance')\n",
        "plt.title('Choosing the Number of Components')\n",
        "plt.axhline(y=0.95, color='r', linestyle='--')  # For 95% explained variance\n",
        "plt.show()\n",
        "eigenvalues = pca.explained_variance_\n",
        "n_components = np.sum(eigenvalues > 1)"
      ],
      "metadata": {
        "id": "WQ-aHfuAo8yJ",
        "outputId": "02ee6fec-6325-4b90-bd89-5b30ff09a5f7",
        "colab": {
          "base_uri": "https://localhost:8080/",
          "height": 472
        }
      },
      "id": "WQ-aHfuAo8yJ",
      "execution_count": 41,
      "outputs": [
        {
          "output_type": "display_data",
          "data": {
            "text/plain": [
              "<Figure size 640x480 with 1 Axes>"
            ],
            "image/png": "[encoded data removed]"
          },
          "metadata": {}
        }
      ]
    },
    {
      "cell_type": "code",
      "source": [
        "pd.DataFrame(\n",
        "    {\"Eigenvalue\": pca.explained_variance_,\n",
        "     \"Difference\": np.insert(np.diff(pca.explained_variance_), 0, 0),\n",
        "     \"Proportion\": pca.explained_variance_ratio_,\n",
        "     \"Cumulative\": np.cumsum(pca.explained_variance_ratio_)},\n",
        "    index=range(1, pca.n_components_ + 1)\n",
        ")"
      ],
      "metadata": {
        "id": "sp2d7s3fvDYH",
        "outputId": "5d2ef88d-2ef8-451c-d91c-784d9214b9ea",
        "colab": {
          "base_uri": "https://localhost:8080/",
          "height": 1473
        }
      },
      "id": "sp2d7s3fvDYH",
      "execution_count": 46,
      "outputs": [
        {
          "output_type": "execute_result",
          "data": {
            "text/plain": [
              "      Eigenvalue    Difference    Proportion  Cumulative\n",
              "1   1.606676e-01  0.000000e+00  2.913753e-01    0.291375\n",
              "2   1.144447e-01 -4.622282e-02  2.075489e-01    0.498924\n",
              "3   8.578907e-02 -2.865567e-02  1.555810e-01    0.654505\n",
              "4   5.718179e-02 -2.860728e-02  1.037008e-01    0.758206\n",
              "5   4.080141e-02 -1.638038e-02  7.399455e-02    0.832201\n",
              "..           ...           ...           ...         ...\n",
              "58  3.773896e-05 -7.905953e-06  6.844070e-05    1.000000\n",
              "59  3.884130e-18 -3.773896e-05  7.043984e-18    1.000000\n",
              "60  0.000000e+00 -3.884130e-18  0.000000e+00    1.000000\n",
              "61  0.000000e+00  0.000000e+00  0.000000e+00    1.000000\n",
              "62  0.000000e+00  0.000000e+00  0.000000e+00    1.000000\n",
              "\n",
              "[62 rows x 4 columns]"
            ],
            "text/html": [
              "\n",
              "  <div id=\"df-74778735-3414-46e1-8adb-fa6efed6f863\" class=\"colab-df-container\">\n",
              "    <div>\n",
              "<style scoped>\n",
              "    .dataframe tbody tr th:only-of-type {\n",
              "        vertical-align: middle;\n",
              "    }\n",
              "\n",
              "    .dataframe tbody tr th {\n",
              "        vertical-align: top;\n",
              "    }\n",
              "\n",
              "    .dataframe thead th {\n",
              "        text-align: right;\n",
              "    }\n",
              "</style>\n",
              "<table border=\"1\" class=\"dataframe\">\n",
              "  <thead>\n",
              "    <tr style=\"text-align: right;\">\n",
              "      <th></th>\n",
              "      <th>Eigenvalue</th>\n",
              "      <th>Difference</th>\n",
              "      <th>Proportion</th>\n",
              "      <th>Cumulative</th>\n",
              "    </tr>\n",
              "  </thead>\n",
              "  <tbody>\n",
              "    <tr>\n",
              "      <th>1</th>\n",
              "      <td>1.606676e-01</td>\n",
              "      <td>0.000000e+00</td>\n",
              "      <td>2.913753e-01</td>\n",
              "      <td>0.291375</td>\n",
              "    </tr>\n",
              "    <tr>\n",
              "      <th>2</th>\n",
              "      <td>1.144447e-01</td>\n",
              "      <td>-4.622282e-02</td>\n",
              "      <td>2.075489e-01</td>\n",
              "      <td>0.498924</td>\n",
              "    </tr>\n",
              "    <tr>\n",
              "      <th>3</th>\n",
              "      <td>8.578907e-02</td>\n",
              "      <td>-2.865567e-02</td>\n",
              "      <td>1.555810e-01</td>\n",
              "      <td>0.654505</td>\n",
              "    </tr>\n",
              "    <tr>\n",
              "      <th>4</th>\n",
              "      <td>5.718179e-02</td>\n",
              "      <td>-2.860728e-02</td>\n",
              "      <td>1.037008e-01</td>\n",
              "      <td>0.758206</td>\n",
              "    </tr>\n",
              "    <tr>\n",
              "      <th>5</th>\n",
              "      <td>4.080141e-02</td>\n",
              "      <td>-1.638038e-02</td>\n",
              "      <td>7.399455e-02</td>\n",
              "      <td>0.832201</td>\n",
              "    </tr>\n",
              "    <tr>\n",
              "      <th>...</th>\n",
              "      <td>...</td>\n",
              "      <td>...</td>\n",
              "      <td>...</td>\n",
              "      <td>...</td>\n",
              "    </tr>\n",
              "    <tr>\n",
              "      <th>58</th>\n",
              "      <td>3.773896e-05</td>\n",
              "      <td>-7.905953e-06</td>\n",
              "      <td>6.844070e-05</td>\n",
              "      <td>1.000000</td>\n",
              "    </tr>\n",
              "    <tr>\n",
              "      <th>59</th>\n",
              "      <td>3.884130e-18</td>\n",
              "      <td>-3.773896e-05</td>\n",
              "      <td>7.043984e-18</td>\n",
              "      <td>1.000000</td>\n",
              "    </tr>\n",
              "    <tr>\n",
              "      <th>60</th>\n",
              "      <td>0.000000e+00</td>\n",
              "      <td>-3.884130e-18</td>\n",
              "      <td>0.000000e+00</td>\n",
              "      <td>1.000000</td>\n",
              "    </tr>\n",
              "    <tr>\n",
              "      <th>61</th>\n",
              "      <td>0.000000e+00</td>\n",
              "      <td>0.000000e+00</td>\n",
              "      <td>0.000000e+00</td>\n",
              "      <td>1.000000</td>\n",
              "    </tr>\n",
              "    <tr>\n",
              "      <th>62</th>\n",
              "      <td>0.000000e+00</td>\n",
              "      <td>0.000000e+00</td>\n",
              "      <td>0.000000e+00</td>\n",
              "      <td>1.000000</td>\n",
              "    </tr>\n",
              "  </tbody>\n",
              "</table>\n",
              "<p>62 rows × 4 columns</p>\n",
              "</div>\n",
              "    <div class=\"colab-df-buttons\">\n",
              "\n",
              "  <div class=\"colab-df-container\">\n",
              "    <button class=\"colab-df-convert\" onclick=\"convertToInteractive('df-74778735-3414-46e1-8adb-fa6efed6f863')\"\n",
              "            title=\"Convert this dataframe to an interactive table.\"\n",
              "            style=\"display:none;\">\n",
              "\n",
              "  <svg xmlns=\"http://www.w3.org/2000/svg\" height=\"24px\" viewBox=\"0 -960 960 960\">\n",
              "    <path d=\"M120-120v-720h720v720H120Zm60-500h600v-160H180v160Zm220 220h160v-160H400v160Zm0 220h160v-160H400v160ZM180-400h160v-160H180v160Zm440 0h160v-160H620v160ZM180-180h160v-160H180v160Zm440 0h160v-160H620v160Z\"/>\n",
              "  </svg>\n",
              "    </button>\n",
              "\n",
              "  <style>\n",
              "    .colab-df-container {\n",
              "      display:flex;\n",
              "      gap: 12px;\n",
              "    }\n",
              "\n",
              "    .colab-df-convert {\n",
              "      background-color: #E8F0FE;\n",
              "      border: none;\n",
              "      border-radius: 50%;\n",
              "      cursor: pointer;\n",
              "      display: none;\n",
              "      fill: #1967D2;\n",
              "      height: 32px;\n",
              "      padding: 0 0 0 0;\n",
              "      width: 32px;\n",
              "    }\n",
              "\n",
              "    .colab-df-convert:hover {\n",
              "      background-color: #E2EBFA;\n",
              "      box-shadow: 0px 1px 2px rgba(60, 64, 67, 0.3), 0px 1px 3px 1px rgba(60, 64, 67, 0.15);\n",
              "      fill: #174EA6;\n",
              "    }\n",
              "\n",
              "    .colab-df-buttons div {\n",
              "      margin-bottom: 4px;\n",
              "    }\n",
              "\n",
              "    [theme=dark] .colab-df-convert {\n",
              "      background-color: #3B4455;\n",
              "      fill: #D2E3FC;\n",
              "    }\n",
              "\n",
              "    [theme=dark] .colab-df-convert:hover {\n",
              "      background-color: #434B5C;\n",
              "      box-shadow: 0px 1px 3px 1px rgba(0, 0, 0, 0.15);\n",
              "      filter: drop-shadow(0px 1px 2px rgba(0, 0, 0, 0.3));\n",
              "      fill: #FFFFFF;\n",
              "    }\n",
              "  </style>\n",
              "\n",
              "    <script>\n",
              "      const buttonEl =\n",
              "        document.querySelector('#df-74778735-3414-46e1-8adb-fa6efed6f863 button.colab-df-convert');\n",
              "      buttonEl.style.display =\n",
              "        google.colab.kernel.accessAllowed ? 'block' : 'none';\n",
              "\n",
              "      async function convertToInteractive(key) {\n",
              "        const element = document.querySelector('#df-74778735-3414-46e1-8adb-fa6efed6f863');\n",
              "        const dataTable =\n",
              "          await google.colab.kernel.invokeFunction('convertToInteractive',\n",
              "                                                    [key], {});\n",
              "        if (!dataTable) return;\n",
              "\n",
              "        const docLinkHtml = 'Like what you see? Visit the ' +\n",
              "          '<a target=\"_blank\" href=https://colab.research.google.com/notebooks/data_table.ipynb>data table notebook</a>'\n",
              "          + ' to learn more about interactive tables.';\n",
              "        element.innerHTML = '';\n",
              "        dataTable['output_type'] = 'display_data';\n",
              "        await google.colab.output.renderOutput(dataTable, element);\n",
              "        const docLink = document.createElement('div');\n",
              "        docLink.innerHTML = docLinkHtml;\n",
              "        element.appendChild(docLink);\n",
              "      }\n",
              "    </script>\n",
              "  </div>\n",
              "\n",
              "\n",
              "<div id=\"df-d8223a9c-71aa-4a39-804e-ac1319519df2\">\n",
              "  <button class=\"colab-df-quickchart\" onclick=\"quickchart('df-d8223a9c-71aa-4a39-804e-ac1319519df2')\"\n",
              "            title=\"Suggest charts\"\n",
              "            style=\"display:none;\">\n",
              "\n",
              "<svg xmlns=\"http://www.w3.org/2000/svg\" height=\"24px\"viewBox=\"0 0 24 24\"\n",
              "     width=\"24px\">\n",
              "    <g>\n",
              "        <path d=\"M19 3H5c-1.1 0-2 .9-2 2v14c0 1.1.9 2 2 2h14c1.1 0 2-.9 2-2V5c0-1.1-.9-2-2-2zM9 17H7v-7h2v7zm4 0h-2V7h2v10zm4 0h-2v-4h2v4z\"/>\n",
              "    </g>\n",
              "</svg>\n",
              "  </button>\n",
              "\n",
              "<style>\n",
              "  .colab-df-quickchart {\n",
              "      --bg-color: #E8F0FE;\n",
              "      --fill-color: #1967D2;\n",
              "      --hover-bg-color: #E2EBFA;\n",
              "      --hover-fill-color: #174EA6;\n",
              "      --disabled-fill-color: #AAA;\n",
              "      --disabled-bg-color: #DDD;\n",
              "  }\n",
              "\n",
              "  [theme=dark] .colab-df-quickchart {\n",
              "      --bg-color: #3B4455;\n",
              "      --fill-color: #D2E3FC;\n",
              "      --hover-bg-color: #434B5C;\n",
              "      --hover-fill-color: #FFFFFF;\n",
              "      --disabled-bg-color: #3B4455;\n",
              "      --disabled-fill-color: #666;\n",
              "  }\n",
              "\n",
              "  .colab-df-quickchart {\n",
              "    background-color: var(--bg-color);\n",
              "    border: none;\n",
              "    border-radius: 50%;\n",
              "    cursor: pointer;\n",
              "    display: none;\n",
              "    fill: var(--fill-color);\n",
              "    height: 32px;\n",
              "    padding: 0;\n",
              "    width: 32px;\n",
              "  }\n",
              "\n",
              "  .colab-df-quickchart:hover {\n",
              "    background-color: var(--hover-bg-color);\n",
              "    box-shadow: 0 1px 2px rgba(60, 64, 67, 0.3), 0 1px 3px 1px rgba(60, 64, 67, 0.15);\n",
              "    fill: var(--button-hover-fill-color);\n",
              "  }\n",
              "\n",
              "  .colab-df-quickchart-complete:disabled,\n",
              "  .colab-df-quickchart-complete:disabled:hover {\n",
              "    background-color: var(--disabled-bg-color);\n",
              "    fill: var(--disabled-fill-color);\n",
              "    box-shadow: none;\n",
              "  }\n",
              "\n",
              "  .colab-df-spinner {\n",
              "    border: 2px solid var(--fill-color);\n",
              "    border-color: transparent;\n",
              "    border-bottom-color: var(--fill-color);\n",
              "    animation:\n",
              "      spin 1s steps(1) infinite;\n",
              "  }\n",
              "\n",
              "  @keyframes spin {\n",
              "    0% {\n",
              "      border-color: transparent;\n",
              "      border-bottom-color: var(--fill-color);\n",
              "      border-left-color: var(--fill-color);\n",
              "    }\n",
              "    20% {\n",
              "      border-color: transparent;\n",
              "      border-left-color: var(--fill-color);\n",
              "      border-top-color: var(--fill-color);\n",
              "    }\n",
              "    30% {\n",
              "      border-color: transparent;\n",
              "      border-left-color: var(--fill-color);\n",
              "      border-top-color: var(--fill-color);\n",
              "      border-right-color: var(--fill-color);\n",
              "    }\n",
              "    40% {\n",
              "      border-color: transparent;\n",
              "      border-right-color: var(--fill-color);\n",
              "      border-top-color: var(--fill-color);\n",
              "    }\n",
              "    60% {\n",
              "      border-color: transparent;\n",
              "      border-right-color: var(--fill-color);\n",
              "    }\n",
              "    80% {\n",
              "      border-color: transparent;\n",
              "      border-right-color: var(--fill-color);\n",
              "      border-bottom-color: var(--fill-color);\n",
              "    }\n",
              "    90% {\n",
              "      border-color: transparent;\n",
              "      border-bottom-color: var(--fill-color);\n",
              "    }\n",
              "  }\n",
              "</style>\n",
              "\n",
              "  <script>\n",
              "    async function quickchart(key) {\n",
              "      const quickchartButtonEl =\n",
              "        document.querySelector('#' + key + ' button');\n",
              "      quickchartButtonEl.disabled = true;  // To prevent multiple clicks.\n",
              "      quickchartButtonEl.classList.add('colab-df-spinner');\n",
              "      try {\n",
              "        const charts = await google.colab.kernel.invokeFunction(\n",
              "            'suggestCharts', [key], {});\n",
              "      } catch (error) {\n",
              "        console.error('Error during call to suggestCharts:', error);\n",
              "      }\n",
              "      quickchartButtonEl.classList.remove('colab-df-spinner');\n",
              "      quickchartButtonEl.classList.add('colab-df-quickchart-complete');\n",
              "    }\n",
              "    (() => {\n",
              "      let quickchartButtonEl =\n",
              "        document.querySelector('#df-d8223a9c-71aa-4a39-804e-ac1319519df2 button');\n",
              "      quickchartButtonEl.style.display =\n",
              "        google.colab.kernel.accessAllowed ? 'block' : 'none';\n",
              "    })();\n",
              "  </script>\n",
              "</div>\n",
              "\n",
              "    </div>\n",
              "  </div>\n"
            ],
            "application/vnd.google.colaboratory.intrinsic+json": {
              "type": "dataframe",
              "summary": "{\n  \"name\": \")\",\n  \"rows\": 62,\n  \"fields\": [\n    {\n      \"column\": \"Eigenvalue\",\n      \"properties\": {\n        \"dtype\": \"number\",\n        \"std\": 0.027765433488568327,\n        \"min\": 0.0,\n        \"max\": 0.1606675601914538,\n        \"num_unique_values\": 60,\n        \"samples\": [\n          0.1606675601914538,\n          0.020739369836080206,\n          0.0005944921407353947\n        ],\n        \"semantic_type\": \"\",\n        \"description\": \"\"\n      }\n    },\n    {\n      \"column\": \"Difference\",\n      \"properties\": {\n        \"dtype\": \"number\",\n        \"std\": 0.008242153328321369,\n        \"min\": -0.046222823050265524,\n        \"max\": 0.0,\n        \"num_unique_values\": 60,\n        \"samples\": [\n          0.0,\n          -0.02006203974531766,\n          -1.3972602926921613e-05\n        ],\n        \"semantic_type\": \"\",\n        \"description\": \"\"\n      }\n    },\n    {\n      \"column\": \"Proportion\",\n      \"properties\": {\n        \"dtype\": \"number\",\n        \"std\": 0.05035342303120594,\n        \"min\": 0.0,\n        \"max\": 0.2913753040824275,\n        \"num_unique_values\": 60,\n        \"samples\": [\n          0.2913753040824275,\n          0.03761145177822417,\n          0.001078128827468202\n        ],\n        \"semantic_type\": \"\",\n        \"description\": \"\"\n      }\n    },\n    {\n      \"column\": \"Cumulative\",\n      \"properties\": {\n        \"dtype\": \"number\",\n        \"std\": 0.11846706198792188,\n        \"min\": 0.2913753040824275,\n        \"max\": 1.0,\n        \"num_unique_values\": 58,\n        \"samples\": [\n          0.2913753040824275,\n          0.8698119902220669,\n          0.9859058285149033\n        ],\n        \"semantic_type\": \"\",\n        \"description\": \"\"\n      }\n    }\n  ]\n}"
            }
          },
          "metadata": {},
          "execution_count": 46
        }
      ]
    },
    {
      "cell_type": "code",
      "source": [
        "# figure and axes\n",
        "fig, (ax1, ax2) = plt.subplots(1, 2, figsize=(15, 5))\n",
        "\n",
        "# draw plots\n",
        "ax1.plot(pca.explained_variance_, marker=\".\", markersize=12)\n",
        "ax2.plot(pca.explained_variance_ratio_, marker=\".\", markersize=12, label=\"Proportion\")\n",
        "ax2.plot(np.cumsum(pca.explained_variance_ratio_), marker=\".\", markersize=12, linestyle=\"--\", label=\"Cumulative\")\n",
        "\n",
        "# customizations\n",
        "ax2.legend()\n",
        "ax1.set_title(\"Scree Plot\", fontsize=14)\n",
        "ax2.set_title(\"Variance Explained\", fontsize=14)\n",
        "ax1.set_ylabel(\"Eigenvalue\")\n",
        "ax2.set_ylabel(\"Proportion\")\n",
        "ax1.set_xlabel(\"Components\")\n",
        "ax2.set_xlabel(\"Components\")\n",
        "ax1.set_xticks(range(0, pca.n_components_, 2))\n",
        "ax1.set_xticklabels(range(1, pca.n_components_ + 1, 2))\n",
        "ax2.set_xticks(range(0, pca.n_components_, 2))\n",
        "ax2.set_xticklabels(range(1, pca.n_components_ + 1, 2))\n",
        "\n",
        "plt.show()"
      ],
      "metadata": {
        "id": "DzpTtqJ0rbGL",
        "outputId": "0d50be85-edba-4e98-8f31-333d5e654011",
        "colab": {
          "base_uri": "https://localhost:8080/",
          "height": 488
        }
      },
      "id": "DzpTtqJ0rbGL",
      "execution_count": 44,
      "outputs": [
        {
          "output_type": "display_data",
          "data": {
            "text/plain": [
              "<Figure size 1500x500 with 2 Axes>"
            ],
            "image/png": "[encoded data removed]"
          },
          "metadata": {}
        }
      ]
    },
    {
      "cell_type": "code",
      "source": [
        "plt.bar(range(1, len(pca.explained_variance_ratio_) + 1), pca.explained_variance_ratio_)\n",
        "plt.xlabel('Principal Component')\n",
        "plt.ylabel('Variance Explained')\n",
        "plt.title('Scree Plot')\n",
        "plt.show()"
      ],
      "metadata": {
        "id": "TpkadiLNqRGM",
        "outputId": "bff1284e-8ae5-4f96-bb84-a99e1bb6a082",
        "colab": {
          "base_uri": "https://localhost:8080/",
          "height": 472
        }
      },
      "id": "TpkadiLNqRGM",
      "execution_count": 42,
      "outputs": [
        {
          "output_type": "display_data",
          "data": {
            "text/plain": [
              "<Figure size 640x480 with 1 Axes>"
            ],
            "image/png": "[encoded data removed]"
          },
          "metadata": {}
        }
      ]
    },
    {
      "cell_type": "code",
      "source": [
        "print(f\"Number of components with eigenvalues > 1: {n_components}\")"
      ],
      "metadata": {
        "id": "42XF2pFYqZnw",
        "outputId": "f6e246a5-8d38-4086-9eeb-74b4924f947e",
        "colab": {
          "base_uri": "https://localhost:8080/"
        }
      },
      "id": "42XF2pFYqZnw",
      "execution_count": 43,
      "outputs": [
        {
          "output_type": "stream",
          "name": "stdout",
          "text": [
            "Number of components with eigenvalues > 1: 0\n"
          ]
        }
      ]
    },
    {
      "cell_type": "code",
      "source": [
        "pca = PCA(n_components=4)\n",
        "pca_feat = pca.fit_transform(df[metric_features])\n",
        "pca_feat_names = [f\"PC{i}\" for i in range(pca.n_components_)]\n",
        "df = pd.DataFrame(pca_feat, index=df.index, columns=pca_feat_names)  # remember index=df_pca.index\n",
        "df"
      ],
      "metadata": {
        "id": "SkUqfjwUrzuw"
      },
      "id": "SkUqfjwUrzuw",
      "execution_count": null,
      "outputs": []
    }
  ],
  "metadata": {
    "kernelspec": {
      "display_name": "Python 3 (ipykernel)",
      "language": "python",
      "name": "python3"
    },
    "language_info": {
      "codemirror_mode": {
        "name": "ipython",
        "version": 3
      },
      "file_extension": ".py",
      "mimetype": "text/x-python",
      "name": "python",
      "nbconvert_exporter": "python",
      "pygments_lexer": "ipython3",
      "version": "3.9.7"
    },
    "colab": {
      "provenance": []
    }
  },
  "nbformat": 4,
  "nbformat_minor": 5
}